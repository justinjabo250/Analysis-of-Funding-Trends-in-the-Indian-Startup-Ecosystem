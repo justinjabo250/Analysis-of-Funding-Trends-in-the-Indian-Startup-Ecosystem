{
 "cells": [
  {
   "cell_type": "markdown",
   "id": "27513264",
   "metadata": {},
   "source": [
    "<H1 style=\"text-align: center;font-size:30px ; font-family: 'Times New Roman'; color:#00008B\"> Project Title</H1><br>"
   ]
  },
  {
   "cell_type": "markdown",
   "id": "9bcfae7a",
   "metadata": {},
   "source": [
    "<p style=\"text-align: center;font-size:25px ;font-weight: bold ; font-family: 'Times New Roman'\"> Analysis of Funding Trends in the Indian Startup Ecosystem</p> <br>"
   ]
  },
  {
   "cell_type": "markdown",
   "id": "107dc886",
   "metadata": {},
   "source": [
    "<H1 style=\"text-align: center;font-size:30px ; font-family: 'Times New Roman'; color: #00008B\"> Project Description</H1> <br><br>"
   ]
  },
  {
   "cell_type": "markdown",
   "id": "c77cf0ce",
   "metadata": {},
   "source": [
    "<p style=\"font-size:20px ;font-weight: bold; font-family: 'Times New Roman'\"> The goal of this initiative is to provide information to important players who are considering entering the Indian startup ecosystem. <br> In order to do this, we will examine important indicators of investment received by startups in India from 2018 to 2021. Management will make strategic business decisions using these information. </p>"
   ]
  },
  {
   "cell_type": "markdown",
   "id": "ba376905",
   "metadata": {},
   "source": [
    "<p style=\"font-size:20px;font-weight: bold; font-family: 'Times New Roman'\"> I created a hypothesis to test the dataset so that I might get a valid conclusion. In order to determine which industry is more likely to attract investment from investors, the data were analyzed in terms of technical and non-technology industries.</p> <br>"
   ]
  },
  {
   "cell_type": "markdown",
   "id": "08c70768",
   "metadata": {},
   "source": [
    "<H1 style=\"text-align: center;font-size:30px ; font-family: 'Times New Roman'; color: #00008B\"> Questions :</H1> <br><br>"
   ]
  },
  {
   "cell_type": "markdown",
   "id": "818f5900",
   "metadata": {},
   "source": [
    "\n",
    "<ol type=\"1\"style=\"font-size:20px;font-weight: bold;font-family: 'Times New Roman'\"> \n",
    "    <li>what are the top five sectors where funding is maximum?</li>\n",
    "    <li>what is the location with most starstup funded?</li>\n",
    "    <li>what is the maximum amount of funding recieved by a startup?</li>\n",
    "    <li>what is the most startups which has a potential or can attract more investor's to invest in?</li>\n",
    "    <li>what is the total amount of funds each year?</li>\n",
    "    <li>In which year did a startup recieve the highest amount of funding?</li>\n",
    "    <li>Which stage receives more investment from investors for start-ups?</li>\n",
    "    <li>Who makes the biggest investments among investors?</li>\n",
    "    <li>Can the startup's age effect the amount of funding it receives from investors?</li>\n",
    "</ol><br><br>\n"
   ]
  },
  {
   "cell_type": "markdown",
   "id": "12c30ecb",
   "metadata": {},
   "source": [
    "<H1 style=\"text-align: center;font-size:30px ; font-family: 'Times New Roman'; color: #00008B\"> Hypothesis :</H1> <br><br>"
   ]
  },
  {
   "cell_type": "markdown",
   "id": "ba56a693",
   "metadata": {},
   "source": [
    "<p style=\"font-size:20px;font-weight: bold; font-family: 'Times New Roman'\"> I created the null and alternate hypotheses to concentrate on two groups: companies that are technology-biased and startups that are not technology-biased, in order to further evaluate and analyze the data. Hence, the following two hypotheses are presented:</p> <br> "
   ]
  },
  {
   "cell_type": "markdown",
   "id": "f9071a96",
   "metadata": {},
   "source": [
    "<p style=\"font-size:20px;font-weight: bold; font-family: 'Times New Roman'\"> NULL: It is unlikely that Indian startups in the technology industries will get funded.</p> <br> "
   ]
  },
  {
   "cell_type": "markdown",
   "id": "0fc0e5c8",
   "metadata": {},
   "source": [
    "<p style=\"font-size:20px;font-weight: bold; font-family: 'Times New Roman'\"> ALTERNATE: : Indian startups in the technology industries are likely to receive investment.</p> <br>"
   ]
  },
  {
   "cell_type": "markdown",
   "id": "7f6020a7",
   "metadata": {},
   "source": [
    "<H1 style=\"text-align: center;font-size:30px ; font-family: 'Times New Roman'; color: #00008B\"> Data preparation :</H1> <br><br>"
   ]
  },
  {
   "cell_type": "markdown",
   "id": "27497b82",
   "metadata": {},
   "source": [
    "<H1 style=\"text-align: center;font-size:30px ; font-family: 'Times New Roman'; color: #00008B\"> Importing all Libraries :</H1> <br><br>"
   ]
  },
  {
   "cell_type": "code",
   "execution_count": 1,
   "id": "fd7ff51c",
   "metadata": {},
   "outputs": [],
   "source": [
    "# import numpy as np\n",
    "# import pandas as pd\n",
    "# import seaborn as sns\n",
    "# from summarytools import dfSummary\n",
    "# import matplotlib.pyplot as plt\n",
    "# import re\n",
    "# from decimal import Decimal\n",
    "\n",
    "# import warnings\n",
    "# warnings.filterwarnings(\"ignore\")\n",
    "\n",
    "# import scipy.stats \n",
    "# import os\n",
    "\n",
    "# # numpy and pandas will be used for data handling\n",
    "# # seaborn and matplotlib will be used for data visualization\n",
    "\n",
    "import numpy as np\n",
    "import pandas as pd\n",
    "import seaborn as sns\n",
    "import matplotlib.pyplot as plt\n",
    "import scipy\n",
    "from scipy import stats\n",
    "from summarytools import dfSummary\n",
    "import warnings\n",
    "warnings.filterwarnings(\"ignore\")\n",
    "\n",
    "sns.set_theme(style=\"whitegrid\")\n",
    "\n",
    "import os\n",
    "\n",
    "# numpy and pandas will be used for data handling\n",
    "# seaborn and matplotlib will be used for data visualization"
   ]
  },
  {
   "cell_type": "markdown",
   "id": "a1df7ec0",
   "metadata": {},
   "source": [
    "<H1 style=\"text-align: center;font-size:30px ; font-family: 'Times New Roman'; color: #00008B\"> Data Loading :</H1> <br><br>"
   ]
  },
  {
   "cell_type": "code",
   "execution_count": 2,
   "id": "5657d6e1",
   "metadata": {},
   "outputs": [],
   "source": [
    "# For CSV, use pandas.read_csv, this helps you to load the CSV file or data and to hande the dataframe\n",
    "data_2018 = pd.read_csv('startup_funding2018.csv')\n",
    "data_2019 = pd.read_csv('startup_funding2019.csv')\n",
    "data_2020 = pd.read_csv('startup_funding2020.csv')\n",
    "data_2021 = pd.read_csv('startup_funding2021.csv')"
   ]
  },
  {
   "cell_type": "markdown",
   "id": "5391797c",
   "metadata": {},
   "source": [
    "<H1 style=\"text-align: center;font-size:30px ; font-family: 'Times New Roman'; color: #00008B\"> Exploratory Data Analysis: EDA :</H1> <br><br>"
   ]
  },
  {
   "cell_type": "markdown",
   "id": "20c70c28",
   "metadata": {},
   "source": [
    "<p style=\"font-size:20px; font-family: 'Times New Roman'\"> Here,in this section, the datasets will be examined in-depth, presented, make hupotheses and thought about for cleaning, processing, and feature creation.</p> <br>"
   ]
  },
  {
   "cell_type": "markdown",
   "id": "52b62e07",
   "metadata": {},
   "source": [
    "<H1 style=\"text-align: center;font-size:30px ; font-family: 'Times New Roman'; color: #00008B\"> DATA CLEANING :</H1> <br><br>\n",
    "\n",
    "<p style=\"text-align: center;font-size:20px ; font-family: 'Times New Roman';\">\n",
    "    In this section, the following properties of the data loaded will be analysed:<br><br>\n",
    "</p>  \n",
    "<ul style=\"font-size:20px ; font-family: 'Times New Roman';\">\n",
    "    <li> Data Types </li>\n",
    "    <li> Missing Data </li>\n",
    "    <li> Categorical data values </li>\n",
    "    <li> Continous data values </li>\n",
    "    <li> Duplicated data </li>\n",
    "    <li> Standard rule base check, that is, checks relating to industry standards, example email, dates, websites, currencies etc</li> \n",
    "</ul>"
   ]
  },
  {
   "cell_type": "markdown",
   "id": "8f59fc24",
   "metadata": {},
   "source": [
    "<H1 style=\"text-align: center;font-size:30px ; font-family: 'Times New Roman'; color: #00008B\"> Dataset overview :</H1> <br><br>\n"
   ]
  },
  {
   "cell_type": "markdown",
   "id": "de9e8d7b",
   "metadata": {},
   "source": [
    "<p style=\"font-size:20px;font-weight: bold; font-family: 'Times New Roman'\"> Previewing Data sets and Providing Summary Information.</p> <br>"
   ]
  },
  {
   "cell_type": "markdown",
   "id": "28f04ab6",
   "metadata": {},
   "source": [
    "<H1 style=\"text-align: center;font-size:30px ; font-family: 'Times New Roman'; color: #00008B\"> Analysis Of The 2018 Data</H1> <br><br>"
   ]
  },
  {
   "cell_type": "markdown",
   "id": "71184607",
   "metadata": {},
   "source": [
    "<H1 style=\"text-align: center;font-size:30px ; font-family: 'Times New Roman'; color: #00008B\"> Column names and description: For the year 2018 :</H1> <br><br>"
   ]
  },
  {
   "cell_type": "markdown",
   "id": "676c0bd0",
   "metadata": {},
   "source": [
    "<p style=\"font-size:20px ; font-weight: bold; font-family: 'Times New Roman'; color: #00008B\"> 2018 Dataset.</p> <br>"
   ]
  },
  {
   "cell_type": "code",
   "execution_count": 3,
   "id": "5cd392ec",
   "metadata": {},
   "outputs": [
    {
     "data": {
      "text/html": [
       "<div>\n",
       "<style scoped>\n",
       "    .dataframe tbody tr th:only-of-type {\n",
       "        vertical-align: middle;\n",
       "    }\n",
       "\n",
       "    .dataframe tbody tr th {\n",
       "        vertical-align: top;\n",
       "    }\n",
       "\n",
       "    .dataframe thead th {\n",
       "        text-align: right;\n",
       "    }\n",
       "</style>\n",
       "<table border=\"1\" class=\"dataframe\">\n",
       "  <thead>\n",
       "    <tr style=\"text-align: right;\">\n",
       "      <th></th>\n",
       "      <th>Company Name</th>\n",
       "      <th>Industry</th>\n",
       "      <th>Round/Series</th>\n",
       "      <th>Amount</th>\n",
       "      <th>Location</th>\n",
       "      <th>About Company</th>\n",
       "    </tr>\n",
       "  </thead>\n",
       "  <tbody>\n",
       "    <tr>\n",
       "      <th>0</th>\n",
       "      <td>TheCollegeFever</td>\n",
       "      <td>Brand Marketing, Event Promotion, Marketing, S...</td>\n",
       "      <td>Seed</td>\n",
       "      <td>250000</td>\n",
       "      <td>Bangalore, Karnataka, India</td>\n",
       "      <td>TheCollegeFever is a hub for fun, fiesta and f...</td>\n",
       "    </tr>\n",
       "    <tr>\n",
       "      <th>1</th>\n",
       "      <td>Happy Cow Dairy</td>\n",
       "      <td>Agriculture, Farming</td>\n",
       "      <td>Seed</td>\n",
       "      <td>₹40,000,000</td>\n",
       "      <td>Mumbai, Maharashtra, India</td>\n",
       "      <td>A startup which aggregates milk from dairy far...</td>\n",
       "    </tr>\n",
       "    <tr>\n",
       "      <th>2</th>\n",
       "      <td>MyLoanCare</td>\n",
       "      <td>Credit, Financial Services, Lending, Marketplace</td>\n",
       "      <td>Series A</td>\n",
       "      <td>₹65,000,000</td>\n",
       "      <td>Gurgaon, Haryana, India</td>\n",
       "      <td>Leading Online Loans Marketplace in India</td>\n",
       "    </tr>\n",
       "    <tr>\n",
       "      <th>3</th>\n",
       "      <td>PayMe India</td>\n",
       "      <td>Financial Services, FinTech</td>\n",
       "      <td>Angel</td>\n",
       "      <td>2000000</td>\n",
       "      <td>Noida, Uttar Pradesh, India</td>\n",
       "      <td>PayMe India is an innovative FinTech organizat...</td>\n",
       "    </tr>\n",
       "    <tr>\n",
       "      <th>4</th>\n",
       "      <td>Eunimart</td>\n",
       "      <td>E-Commerce Platforms, Retail, SaaS</td>\n",
       "      <td>Seed</td>\n",
       "      <td>—</td>\n",
       "      <td>Hyderabad, Andhra Pradesh, India</td>\n",
       "      <td>Eunimart is a one stop solution for merchants ...</td>\n",
       "    </tr>\n",
       "    <tr>\n",
       "      <th>...</th>\n",
       "      <td>...</td>\n",
       "      <td>...</td>\n",
       "      <td>...</td>\n",
       "      <td>...</td>\n",
       "      <td>...</td>\n",
       "      <td>...</td>\n",
       "    </tr>\n",
       "    <tr>\n",
       "      <th>521</th>\n",
       "      <td>Udaan</td>\n",
       "      <td>B2B, Business Development, Internet, Marketplace</td>\n",
       "      <td>Series C</td>\n",
       "      <td>225000000</td>\n",
       "      <td>Bangalore, Karnataka, India</td>\n",
       "      <td>Udaan is a B2B trade platform, designed specif...</td>\n",
       "    </tr>\n",
       "    <tr>\n",
       "      <th>522</th>\n",
       "      <td>Happyeasygo Group</td>\n",
       "      <td>Tourism, Travel</td>\n",
       "      <td>Series A</td>\n",
       "      <td>—</td>\n",
       "      <td>Haryana, Haryana, India</td>\n",
       "      <td>HappyEasyGo is an online travel domain.</td>\n",
       "    </tr>\n",
       "    <tr>\n",
       "      <th>523</th>\n",
       "      <td>Mombay</td>\n",
       "      <td>Food and Beverage, Food Delivery, Internet</td>\n",
       "      <td>Seed</td>\n",
       "      <td>7500</td>\n",
       "      <td>Mumbai, Maharashtra, India</td>\n",
       "      <td>Mombay is a unique opportunity for housewives ...</td>\n",
       "    </tr>\n",
       "    <tr>\n",
       "      <th>524</th>\n",
       "      <td>Droni Tech</td>\n",
       "      <td>Information Technology</td>\n",
       "      <td>Seed</td>\n",
       "      <td>₹35,000,000</td>\n",
       "      <td>Mumbai, Maharashtra, India</td>\n",
       "      <td>Droni Tech manufacture UAVs and develop softwa...</td>\n",
       "    </tr>\n",
       "    <tr>\n",
       "      <th>525</th>\n",
       "      <td>Netmeds</td>\n",
       "      <td>Biotechnology, Health Care, Pharmaceutical</td>\n",
       "      <td>Series C</td>\n",
       "      <td>35000000</td>\n",
       "      <td>Chennai, Tamil Nadu, India</td>\n",
       "      <td>Welcome to India's most convenient pharmacy!</td>\n",
       "    </tr>\n",
       "  </tbody>\n",
       "</table>\n",
       "<p>526 rows × 6 columns</p>\n",
       "</div>"
      ],
      "text/plain": [
       "          Company Name                                           Industry  \\\n",
       "0      TheCollegeFever  Brand Marketing, Event Promotion, Marketing, S...   \n",
       "1      Happy Cow Dairy                               Agriculture, Farming   \n",
       "2           MyLoanCare   Credit, Financial Services, Lending, Marketplace   \n",
       "3          PayMe India                        Financial Services, FinTech   \n",
       "4             Eunimart                 E-Commerce Platforms, Retail, SaaS   \n",
       "..                 ...                                                ...   \n",
       "521              Udaan   B2B, Business Development, Internet, Marketplace   \n",
       "522  Happyeasygo Group                                    Tourism, Travel   \n",
       "523             Mombay         Food and Beverage, Food Delivery, Internet   \n",
       "524         Droni Tech                             Information Technology   \n",
       "525            Netmeds         Biotechnology, Health Care, Pharmaceutical   \n",
       "\n",
       "    Round/Series       Amount                          Location  \\\n",
       "0           Seed       250000       Bangalore, Karnataka, India   \n",
       "1           Seed  ₹40,000,000        Mumbai, Maharashtra, India   \n",
       "2       Series A  ₹65,000,000           Gurgaon, Haryana, India   \n",
       "3          Angel      2000000       Noida, Uttar Pradesh, India   \n",
       "4           Seed            —  Hyderabad, Andhra Pradesh, India   \n",
       "..           ...          ...                               ...   \n",
       "521     Series C    225000000       Bangalore, Karnataka, India   \n",
       "522     Series A            —           Haryana, Haryana, India   \n",
       "523         Seed         7500        Mumbai, Maharashtra, India   \n",
       "524         Seed  ₹35,000,000        Mumbai, Maharashtra, India   \n",
       "525     Series C     35000000        Chennai, Tamil Nadu, India   \n",
       "\n",
       "                                         About Company  \n",
       "0    TheCollegeFever is a hub for fun, fiesta and f...  \n",
       "1    A startup which aggregates milk from dairy far...  \n",
       "2            Leading Online Loans Marketplace in India  \n",
       "3    PayMe India is an innovative FinTech organizat...  \n",
       "4    Eunimart is a one stop solution for merchants ...  \n",
       "..                                                 ...  \n",
       "521  Udaan is a B2B trade platform, designed specif...  \n",
       "522            HappyEasyGo is an online travel domain.  \n",
       "523  Mombay is a unique opportunity for housewives ...  \n",
       "524  Droni Tech manufacture UAVs and develop softwa...  \n",
       "525       Welcome to India's most convenient pharmacy!  \n",
       "\n",
       "[526 rows x 6 columns]"
      ]
     },
     "execution_count": 3,
     "metadata": {},
     "output_type": "execute_result"
    }
   ],
   "source": [
    "# to have a visial view of the dataset records\n",
    "\n",
    "data_2018 "
   ]
  },
  {
   "cell_type": "code",
   "execution_count": 4,
   "id": "0426b4a5",
   "metadata": {},
   "outputs": [
    {
     "data": {
      "text/plain": [
       "Index(['Company Name', 'Industry', 'Round/Series', 'Amount', 'Location',\n",
       "       'About Company'],\n",
       "      dtype='object')"
      ]
     },
     "execution_count": 4,
     "metadata": {},
     "output_type": "execute_result"
    }
   ],
   "source": [
    "# to see the names of the columns in the dataset \n",
    "\n",
    "data_2018.columns   "
   ]
  },
  {
   "cell_type": "markdown",
   "id": "e54fbe8f",
   "metadata": {},
   "source": [
    "<p style=\"font-size:20px ; font-weight: bold; font-family: 'Times New Roman'; color: #00008B\"> Observation:</p>"
   ]
  },
  {
   "cell_type": "markdown",
   "id": "b2c5f502",
   "metadata": {},
   "source": [
    "\n",
    "<ol style=\"font-size:20px ; font-family: 'Times New Roman';\"> \n",
    "The following is observed about the columns in the data set with respect to the valiable columns and their order:\n",
    "    <li>Company Name</li>\n",
    "    <li>Industry</li>\n",
    "    <li>Round/Series</li>\n",
    "    <li>Amount</li>\n",
    "    <li>Location</li>\n",
    "    <li>About Company</li>\n",
    "</ol>"
   ]
  },
  {
   "cell_type": "code",
   "execution_count": 5,
   "id": "93d5ff83",
   "metadata": {},
   "outputs": [
    {
     "data": {
      "text/plain": [
       "(526, 6)"
      ]
     },
     "execution_count": 5,
     "metadata": {},
     "output_type": "execute_result"
    }
   ],
   "source": [
    "# to know the total number of rows and columns repectively in the dataset\n",
    "\n",
    "data_2018.shape    "
   ]
  },
  {
   "cell_type": "code",
   "execution_count": 6,
   "id": "b3a9f747",
   "metadata": {},
   "outputs": [
    {
     "name": "stdout",
     "output_type": "stream",
     "text": [
      "<class 'pandas.core.frame.DataFrame'>\n",
      "RangeIndex: 526 entries, 0 to 525\n",
      "Data columns (total 6 columns):\n",
      " #   Column         Non-Null Count  Dtype \n",
      "---  ------         --------------  ----- \n",
      " 0   Company Name   526 non-null    object\n",
      " 1   Industry       526 non-null    object\n",
      " 2   Round/Series   526 non-null    object\n",
      " 3   Amount         526 non-null    object\n",
      " 4   Location       526 non-null    object\n",
      " 5   About Company  526 non-null    object\n",
      "dtypes: object(6)\n",
      "memory usage: 24.8+ KB\n",
      "None \n",
      "\n"
     ]
    }
   ],
   "source": [
    "# to invetsigate the datatypes of the available fields or columns\n",
    "\n",
    "print(data_2018.info(),'\\n')    "
   ]
  },
  {
   "cell_type": "markdown",
   "id": "ff20092c",
   "metadata": {},
   "source": [
    "<p style=\"font-size:20px ; font-weight: bold; font-family: 'Times New Roman'; color: #00008B\"> Observation:</p>"
   ]
  },
  {
   "cell_type": "markdown",
   "id": "8ad72c15",
   "metadata": {},
   "source": [
    "\n",
    "<p style=\"font-size:20px ; font-family: 'Times New Roman';\"> It is observed that the \"Amount\" field which is supposed to be a continous data type is rather a string or an object, this has to be corrected</p>"
   ]
  },
  {
   "cell_type": "code",
   "execution_count": 7,
   "id": "edfd2d49",
   "metadata": {},
   "outputs": [
    {
     "data": {
      "text/plain": [
       "Company Name     0\n",
       "Industry         0\n",
       "Round/Series     0\n",
       "Amount           0\n",
       "Location         0\n",
       "About Company    0\n",
       "dtype: int64"
      ]
     },
     "execution_count": 7,
     "metadata": {},
     "output_type": "execute_result"
    }
   ],
   "source": [
    "#Dealing with Null Values\n",
    "\n",
    "pd.isnull(data_2018).sum()"
   ]
  },
  {
   "cell_type": "markdown",
   "id": "b1e9ca38",
   "metadata": {},
   "source": [
    "<p style=\"font-size:20px ; font-weight: bold; font-family: 'Times New Roman'; color: #00008B\"> Observation:</p>"
   ]
  },
  {
   "cell_type": "markdown",
   "id": "09d54841",
   "metadata": {},
   "source": [
    "<p style=\"font-size:20px ; font-family: 'Times New Roman';\"> Initial check indicates there is no null value in the data set</p>"
   ]
  },
  {
   "cell_type": "markdown",
   "id": "c7fb1875",
   "metadata": {},
   "source": [
    "<H1 style=\"text-align: center;font-size:30px ; font-family: 'Times New Roman'; color: #00008B\">Deep Dive Into the Data  Set :</H1> <br><br>"
   ]
  },
  {
   "cell_type": "code",
   "execution_count": 8,
   "id": "96356cd9",
   "metadata": {},
   "outputs": [
    {
     "data": {
      "text/html": [
       "<style type=\"text/css\">\n",
       "#T_94c42 thead>tr>th {\n",
       "  text-align: left;\n",
       "}\n",
       "#T_94c42_row0_col0, #T_94c42_row1_col0, #T_94c42_row2_col0, #T_94c42_row3_col0, #T_94c42_row4_col0, #T_94c42_row5_col0 {\n",
       "  text-align: left;\n",
       "  font-size: 12px;\n",
       "  vertical-align: middle;\n",
       "  width: 5%;\n",
       "  max-width: 50px;\n",
       "  min-width: 20px;\n",
       "}\n",
       "#T_94c42_row0_col1, #T_94c42_row1_col1, #T_94c42_row2_col1, #T_94c42_row3_col1, #T_94c42_row4_col1, #T_94c42_row5_col1 {\n",
       "  text-align: left;\n",
       "  font-size: 12px;\n",
       "  vertical-align: middle;\n",
       "  width: 15%;\n",
       "  max-width: 200px;\n",
       "  min-width: 100px;\n",
       "  word-break: break-word;\n",
       "}\n",
       "#T_94c42_row0_col2, #T_94c42_row1_col2, #T_94c42_row2_col2, #T_94c42_row3_col2, #T_94c42_row4_col2, #T_94c42_row5_col2 {\n",
       "  text-align: left;\n",
       "  font-size: 12px;\n",
       "  vertical-align: middle;\n",
       "  width: 30%;\n",
       "  min-width: 100px;\n",
       "}\n",
       "#T_94c42_row0_col3, #T_94c42_row1_col3, #T_94c42_row2_col3, #T_94c42_row3_col3, #T_94c42_row4_col3, #T_94c42_row5_col3 {\n",
       "  text-align: left;\n",
       "  font-size: 12px;\n",
       "  vertical-align: middle;\n",
       "  width: 25%;\n",
       "  min-width: 100px;\n",
       "}\n",
       "#T_94c42_row0_col4, #T_94c42_row1_col4, #T_94c42_row2_col4, #T_94c42_row3_col4, #T_94c42_row4_col4, #T_94c42_row5_col4 {\n",
       "  text-align: left;\n",
       "  font-size: 12px;\n",
       "  vertical-align: middle;\n",
       "  width: 20%;\n",
       "  min-width: 150px;\n",
       "}\n",
       "#T_94c42_row0_col5, #T_94c42_row1_col5, #T_94c42_row2_col5, #T_94c42_row3_col5, #T_94c42_row4_col5, #T_94c42_row5_col5 {\n",
       "  text-align: left;\n",
       "  font-size: 12px;\n",
       "  vertical-align: middle;\n",
       "  width: 10%;\n",
       "}\n",
       "</style>\n",
       "<table id=\"T_94c42\">\n",
       "  <caption><strong>Data Frame Summary</strong><br>data_2018<br>Dimensions: 526 x 6<br>Duplicates: 1</caption>\n",
       "  <thead>\n",
       "    <tr>\n",
       "      <th id=\"T_94c42_level0_col0\" class=\"col_heading level0 col0\" >No</th>\n",
       "      <th id=\"T_94c42_level0_col1\" class=\"col_heading level0 col1\" >Variable</th>\n",
       "      <th id=\"T_94c42_level0_col2\" class=\"col_heading level0 col2\" >Stats / Values</th>\n",
       "      <th id=\"T_94c42_level0_col3\" class=\"col_heading level0 col3\" >Freqs / (% of Valid)</th>\n",
       "      <th id=\"T_94c42_level0_col4\" class=\"col_heading level0 col4\" >Graph</th>\n",
       "      <th id=\"T_94c42_level0_col5\" class=\"col_heading level0 col5\" >Missing</th>\n",
       "    </tr>\n",
       "  </thead>\n",
       "  <tbody>\n",
       "    <tr>\n",
       "      <td id=\"T_94c42_row0_col0\" class=\"data row0 col0\" >1</td>\n",
       "      <td id=\"T_94c42_row0_col1\" class=\"data row0 col1\" ><strong>Company Name</strong><br>[object]</td>\n",
       "      <td id=\"T_94c42_row0_col2\" class=\"data row0 col2\" >1. TheCollegeFever<br>2. NIRAMAI Health Analytix<br>3. Drivezy<br>4. Hush - Speak Up. Make Work Bet<br>5. The Souled Store<br>6. Perspectico<br>7. Kogta Financial India Limited<br>8. Hospals<br>9. UrbanClap<br>10. Square Off<br>11. other</td>\n",
       "      <td id=\"T_94c42_row0_col3\" class=\"data row0 col3\" >2 (0.4%)<br>1 (0.2%)<br>1 (0.2%)<br>1 (0.2%)<br>1 (0.2%)<br>1 (0.2%)<br>1 (0.2%)<br>1 (0.2%)<br>1 (0.2%)<br>1 (0.2%)<br>515 (97.9%)</td>\n",
       "      <td id=\"T_94c42_row0_col4\" class=\"data row0 col4\" ><img src = \"data:image/png;base64, iVBORw0KGgoAAAANSUhEUgAAAJsAAAD+CAYAAAAtWHdlAAAAOXRFWHRTb2Z0d2FyZQBNYXRwbG90bGliIHZlcnNpb24zLjUuMiwgaHR0cHM6Ly9tYXRwbG90bGliLm9yZy8qNh9FAAAACXBIWXMAAA9hAAAPYQGoP6dpAAADlklEQVR4nO3cQWojZxRG0VdGOO1JCSHwEpI9eBG92F6EFpE9GOMaxJ2eVAadhJBx+hYo54w0/AcXngz6vOz7PlB4OPoB/H+IjYzYyIiNjNjIiI2M2MiIjYzYyCwz8zQzs+/7x8Fv4c6drtfr55mZZVm+CI4f6WFd18u6rpeZeTz6Mdw339nIiI2M2MiIjYzYyIiNjNjIiI2M2MiIjYzYyIiNjNjIiI2M2MiIjcxp27a3Pz9/O/Ql3D0bBDKLf5lFxXc2Mg/LsvyyLMunox/C/XuYmZ9n5qejH8L9c0bJiI2M2MiIjYzYyIiNjNjIiI2M2MiIjYzYyIiNjNjIiI2M2Mg8zMyvM/P70Q/h/tkgkHFGyYiNjMELGYMXMs4oGbGRERsZsZERGxmxkREbGbGRERsZsZERGxmxkREbGbGRERsZgxcyBi9knFEyYiMjNjLWVWSsq8g4o2TERkZsZMRGRmxkxEZGbGTERkZsZMRGRmxkxEZGbGTERkZsZKyryFhXkXFGyYiNjMELGYMXMs4oGbGRERsZsZERGxmxkREbGbGRERsZsZERGxmxkREbGbGRERsZgxcyBi9knFEyYiNj8ELG4IWMM0pGbGTERkZsZMRGRmxkxEZGbGTERkZsZMRGRmxkxEZGbGTERkZsZKyryFhXkXFGyYiNjHUVGesqMs4oGbGRERsZsZERGxmxkREbGbGRERsZsZERGxmxkREbGbGRERsZgxcyBi9knFEyYiNj8ELG4IWMM0pGbGTERkZsZMRGRmxkxEZGbGTERkZsZMRGRmxkxEZGbGTERsbghYzBCxlnlIzYyIiNjHUVGesqMs4oGbGRERsZsZERGxmxkREbGbGRERsZsZERGxmxkREbGbGRERsZ6yoy1lVknFEyYiNj8ELG4IWMM0pGbGTERkZsZMRGRmxkxEZGbGTERkZsZMRGRmxkxEZGbGTERsbghYzBCxlnlMwyM08z83j0Q7hb3/Z9/5iZOV2v18/rul6OfhH3adu2t2VZvuz7/nFa1/Xy8vLycT6fvx79MO7L+/v7p9vtdnl9fX2cmY/TzMz5fP76/Pz828Fv4z49/fXBHwhkxEZGbGTERkZsZMRGRmxkxEZGbGTERkZsZMRGRmxkTjPffwpy9EO4P//u6rRt29vtdrvMP34KAv+VbdveZubbjJ+F8+P9/bNw6yoy/kAgIzYyYiMjNjJiIyM2MmIjIzYyYiPzBzYDflba1o3nAAAAAElFTkSuQmCC\"></img></td>\n",
       "      <td id=\"T_94c42_row0_col5\" class=\"data row0 col5\" >0<br>(0.0%)</td>\n",
       "    </tr>\n",
       "    <tr>\n",
       "      <td id=\"T_94c42_row1_col0\" class=\"data row1 col0\" >2</td>\n",
       "      <td id=\"T_94c42_row1_col1\" class=\"data row1 col1\" ><strong>Industry</strong><br>[object]</td>\n",
       "      <td id=\"T_94c42_row1_col2\" class=\"data row1 col2\" >1. —<br>2. Financial Services<br>3. Education<br>4. Information Technology<br>5. Health Care, Hospital<br>6. Finance, Financial Services<br>7. Fitness, Health Care, Wellness<br>8. Internet<br>9. Artificial Intelligence<br>10. Health Care<br>11. other</td>\n",
       "      <td id=\"T_94c42_row1_col3\" class=\"data row1 col3\" >30 (5.7%)<br>15 (2.9%)<br>8 (1.5%)<br>7 (1.3%)<br>5 (1.0%)<br>5 (1.0%)<br>4 (0.8%)<br>4 (0.8%)<br>4 (0.8%)<br>4 (0.8%)<br>440 (83.7%)</td>\n",
       "      <td id=\"T_94c42_row1_col4\" class=\"data row1 col4\" ><img src = \"data:image/png;base64, iVBORw0KGgoAAAANSUhEUgAAAJsAAAD+CAYAAAAtWHdlAAAAOXRFWHRTb2Z0d2FyZQBNYXRwbG90bGliIHZlcnNpb24zLjUuMiwgaHR0cHM6Ly9tYXRwbG90bGliLm9yZy8qNh9FAAAACXBIWXMAAA9hAAAPYQGoP6dpAAAEIElEQVR4nO3cQU4bZwCG4d/IovFmLMsSx+AAHILD9hA+APewLM8iUDZ0EagahRI11byk5Hm2WPJIvBrj0f+xenp6GlC4eO8L4NchNjJiIyM2MmIjIzYyYiMjNjJiI7MaY2zGGJffed3j09PTfXA9fGDr/X5/O03T7q0XzfN8Wq1WvwuO/2I9TdPu5ubmfrvdPrz2gvP5/OlwOOyOx+PlGENs/LD1GGNst9uHq6urz2+8bhNdDx+YLwhkxEZGbGTERkZsZMRGRmxkxEZGbGTERkZsZMRGRmxkxEZmPcaXM2v/9IK3fgb/xnqe59PhcNiNN86szfN8GmM8dpfFR2SDQGblX2ZRee3O5i7GIr5ZV1lSsZSv1lWWVCzptXWVJRWL8FCXjNjIiI2M2MiIjYzYyIiNjNjIiI2M2MiIjYzYyIiNzFeDF+MWlvTN4MW4haU4Fk7G4IXM3+9s7mgs6q/Bi6ELS7uYpml3fX09nhdW3xsrww+7GGOMzWbzx3tfCB+fh7pkxEZGbGTERkZsZMRGRmxkxEZGbGTERkZsZMRGRmxkLsYY4/7+/rf3vhA+vot5nk93d3eGLizOsXAyBi9kfEEg42OUjHUVGesqMtZVZHxBICM2MmIjIzYyYiMjNjJiIyM2MmIjIzYyYiMjNjJiI2NdRca6ioxj4WSsq8i83NmGuxpLW+/3+9sxxjB2YWkX0zTtjF0oeM5GRmxkxEZGbGTERkZsZMRGRmxkxEZGbGTERkZsZMRGRmxkxEZm/Tx0GcPYhYU5Fk7G4IWMOxsZgxcyBi9kPPogIzYyYiMjNjJiIyM2MmIjIzYyYiMjNjJiIyM2MmIjIzYyYiMjNjLWVWRsEMhYV5FxZyNjXUXGuoqMRx9kxEZGbGTERkZsZMRGRmxkxEZGbGTERkZsZMRGRmxkxEZGbGQMXsg4Fk7G4IWMOxsZgxcyBi9kPPogIzYyYiMjNjJiIyM2MmIjIzYyYiMjNjJiIyM2MmIjIzYyYiNj8ELGsXAyBi9k/M1GxscoGesqMtZVZPzNRkZsZMRGRmxkxEZGbGTERkZsZMRGRmxkxEZGbGTERkZsZMRGxrqKjGPhZKyryLizkTF4IWPwQsajDzJiIyM2MmIjIzYyYiMjNjJiIyM2MmIjIzYyYiMjNjJiIyM2MgYvZBwLJ2PwQublzuZIOI9Lf7qt9/v97fMGgV/YPM+npUdP62madjc3N/fb7fZhqTfh53Y+nz8dDofd8Xi8HGMsF9sYY2y324erq6vPS70J/wubpd/AczYyYiMjNjJiIyM2MmIjIzYyYiMjNjJiIyM2MmIjIzYy6zG+HDF57wvh/VS///U8z6fD4bAbwRETfl7Pw6dFR0+OhfNi8WPhBi9kfEEgIzYyYiMjNjJiIyM2MmIjIzYyYiPzJysFcWnmc/wRAAAAAElFTkSuQmCC\"></img></td>\n",
       "      <td id=\"T_94c42_row1_col5\" class=\"data row1 col5\" >0<br>(0.0%)</td>\n",
       "    </tr>\n",
       "    <tr>\n",
       "      <td id=\"T_94c42_row2_col0\" class=\"data row2 col0\" >3</td>\n",
       "      <td id=\"T_94c42_row2_col1\" class=\"data row2 col1\" ><strong>Round/Series</strong><br>[object]</td>\n",
       "      <td id=\"T_94c42_row2_col2\" class=\"data row2 col2\" >1. Seed<br>2. Series A<br>3. Angel<br>4. Venture - Series Unknown<br>5. Series B<br>6. Series C<br>7. Debt Financing<br>8. Private Equity<br>9. Corporate Round<br>10. Pre-Seed<br>11. other</td>\n",
       "      <td id=\"T_94c42_row2_col3\" class=\"data row2 col3\" >280 (53.2%)<br>73 (13.9%)<br>37 (7.0%)<br>37 (7.0%)<br>20 (3.8%)<br>16 (3.0%)<br>13 (2.5%)<br>10 (1.9%)<br>8 (1.5%)<br>6 (1.1%)<br>26 (4.9%)</td>\n",
       "      <td id=\"T_94c42_row2_col4\" class=\"data row2 col4\" ><img src = \"data:image/png;base64, iVBORw0KGgoAAAANSUhEUgAAAJsAAAD+CAYAAAAtWHdlAAAAOXRFWHRTb2Z0d2FyZQBNYXRwbG90bGliIHZlcnNpb24zLjUuMiwgaHR0cHM6Ly9tYXRwbG90bGliLm9yZy8qNh9FAAAACXBIWXMAAA9hAAAPYQGoP6dpAAAEhklEQVR4nO3dQW4TZwCG4T+RRcnGloWUY3AAH6KH7SF8AO4RRZkFTtmkCygiiU0J9ryG9Hl2kCxG6OW3ZjRfcvHw8DCgcHnuC+D/Q2xkxEZGbGTERkZsZMRGRmxkxEbmYoxxNcZ4c+4LeSU+PTw87M59Eb+qxbt37/5cLpfrc1/IazBN0+3FxcVfgttvsVwu15vNZrdare7PfTG/s7u7u7fb7XZ9c3PzZowhtj0WY4yxWq3ur6+vP577Yl6Bq3NfwK/MDQIZsZERGxmxkREbGbGRERsZsZERGxmxkREbGbGRERsZsZFZjPH5XaxzX8jvzr/hf1tM03S73W7Xw7tYR5um6XaM8enc1/GrskE4LRuE77jwI7OozHmy+V/OI7OtqyyNeGqWdZWlEfvMua5yd8sjHuqSERsZsZERGxmxkREbGbGRERsZsZERGxmxkREbGbGRmWXwYvzBPrMNXow/eMpr4WQMXsi89GRzWvHTXjR4MWLhGD88eDFi4VgvHbwYsfDTPNQlIzYyYiMjNjJiIyM2MmIjIzYyYiMjNjJiIyM2MmIj88ODFyMWjvWiwYsRC8fwWjgZgxcybhDI+BglY11FxrqKjHUVGTcIZMRGRmxkxEZGbGTERkZsZMRGRmxkxEZGbGTERkZsZKyryFhXkfFaOBnrKjLfO9mcYpzUwcGLcQuntnfwYtzCHL43eDFu4aQ81CUjNjJiIyM2MmIjIzYyYiMjNjJiIyM2MmIjIzYyYiOzd/Bi3MIcDg5ejFs4Na+FkzF4IXPoZHOqcXJ7By/GLszh2eDF2IW5HBq8GLtwch7qkhEbGbGRERsZsZERGxmxkREbGbGRERsZsZERGxmxkREbmWfrKssq5rJ3XWVZxRxsEMhYV5HZd7I51ZjFs3WVZRVzebSusqxiTvvWVZZVzMJDXTJiIyM2MmIjIzYyYiMjNjJiIyM2MmIjIzYyYiMjNjKPBi/GLszp2eDF2IW5eC2cjMELmacnm1ON2TwavBi7MKfLfwcvm81m9yW6fb8OEo72dfDy5c/GLszGQ10yYiMjNjJiIyM2MmIjIzYyYiMjNjJiIyM2MmIjIzYyz37DC8zl28GLsQuz8lo4GYMXMm4QyHz7MeojlFl9XVdZVjG3y+VyuX7//v2wrGJul2OMcXV19fe5L4TXzw0CGbGRERsZsZERGxmxkREbGbGRERsZsZERGxmxkREbmcsxxtjtdn+c+0J4/S6nabr98OGDZRWz81o4GesqMk42MgYvZAxeyBi8kPFQl4zYyIiNjNjIiI2M2MiIjYzYyIiNjNjIiI2M2MiIjYzBCxmDFzJeCydj8ELm6S9K28eJx0l8Hbwc+gZDGE5lsVwu15vNZrdare6ffvHu7u7tdrtd39zcvBljiI2jLMYYY7Va3V9fX3888D1X4fXwinmoS0ZsZMRGRmxkxEZGbGTERkZsZMRGRmxkxEZGbGTERmYxxudXifZ98dDfw89YTNN0u91u1+PAq0SGMJyK18LJGLyQcYNARmxkxEZGbGTERkZsZMRGRmxkxEbmH1EIJE21n61vAAAAAElFTkSuQmCC\"></img></td>\n",
       "      <td id=\"T_94c42_row2_col5\" class=\"data row2 col5\" >0<br>(0.0%)</td>\n",
       "    </tr>\n",
       "    <tr>\n",
       "      <td id=\"T_94c42_row3_col0\" class=\"data row3 col0\" >4</td>\n",
       "      <td id=\"T_94c42_row3_col1\" class=\"data row3 col1\" ><strong>Amount</strong><br>[object]</td>\n",
       "      <td id=\"T_94c42_row3_col2\" class=\"data row3 col2\" >1. —<br>2. 1000000<br>3. 500000<br>4. 2000000<br>5. ₹50,000,000<br>6. ₹20,000,000<br>7. 4000000<br>8. 5000000<br>9. 250000<br>10. ₹40,000,000<br>11. other</td>\n",
       "      <td id=\"T_94c42_row3_col3\" class=\"data row3 col3\" >148 (28.1%)<br>24 (4.6%)<br>13 (2.5%)<br>12 (2.3%)<br>9 (1.7%)<br>8 (1.5%)<br>7 (1.3%)<br>7 (1.3%)<br>6 (1.1%)<br>6 (1.1%)<br>286 (54.4%)</td>\n",
       "      <td id=\"T_94c42_row3_col4\" class=\"data row3 col4\" ><img src = \"data:image/png;base64, iVBORw0KGgoAAAANSUhEUgAAAJsAAAD+CAYAAAAtWHdlAAAAOXRFWHRTb2Z0d2FyZQBNYXRwbG90bGliIHZlcnNpb24zLjUuMiwgaHR0cHM6Ly9tYXRwbG90bGliLm9yZy8qNh9FAAAACXBIWXMAAA9hAAAPYQGoP6dpAAAESUlEQVR4nO3dzW0bVwBG0SeBcKwNCcKAynABLCLFpggWoD4EQbMwFW+UhR1Bsk3/JJw7oXLOzrsH42KIGbzPvnh8fBxQuFz6APx/iI2M2MiIjYzYyIiNjNjIiI2M2MhcjDGuxhhvlj7IL/j4+Ph4WPoQ/LrVu3fvfl+v19ulD/Kzpmm6u7i4+ENw52e1Xq+3u93usNlsHpY+zI/c39+/3e/329vb2zdjDLGdmdUYY2w2m4fr6+sPSx/mJ10tfQD+GS8IZMRGRmxkxEZGbGTERkZsZMRGRmxkxEZGbGTERkZsZMRGZjXGp3tiSx/kZ5zLOfm21TRNd/v9fjvO5J7YNE13Y4yPS5+DX2eDQObCP5lF5UdPNk8RTua76ypLJk7p6LrKkolT+9G66izeUDkPPuqSERsZsZERGxmxkREbGbGRERsZsZERGxmxkREbGbGROTp4MS7h1L47eDEu4ZRcCydj8ELmW082TzNm8dXgxciFubwYvBi5MKdvDV6MXJiFj7pkxEZGbGTERkZsZMRGRmxkxEZGbGTERkZsZMRGRmxkXgxejFyY01eDFyMX5uJaOBmDFzJeEMj4GSVjXUXGuoqMdRUZLwhkxEZGbGTERkZsZMRGRmxkxEZGbGTERkZsZMRGRmxkrKvIWFeRcS2cjHUVmS+fbJ5qzObF4MXYhTld/j142e12h8/RHfvvIOFfeRq8fP6zsQuz8VGXjNjIiI2M2MiIjYzYyIiNjNjIiI2M2MiIjYzYyIiNzIvBC8zp+eDF2IVZuRZOxuCFzPMnm6cas3oavBi7MLfL9Xq9ff/+/TB2YW6XY4xxdXX159IH4fXzUZeM2MiIjYzYyIiNjNjIiI2M2MiIjYzYyIiNjNjIiI2M2MhcjjHG4XD4bemD8PpdTtN0d3NzY1nF7GwQyFhXkfFkI2NdRca6iox1FRkfdcmIjYzYyIiNjNjIiI2M2MiIjYzYyIiNjNjIiI2M2MgYvJAxeCHjWjgZgxcynmxkDF7IGLyQMXgh46MuGbGRERsZsZERGxmxkREbGbGRERsZsZERGxmxkREbGYMXMgYvZFwLJ2PwQsYLAhk/o2Ssq8hYV5GxriLjBYGM2MiIjYzYyIiNjNjIiI2M2MiIjYzYyIiNjNjIiI2MdRUZ6yoyroWTsa4i48lGxuCFjMELGYMXMj7qkhEbGbGRERsZsZERGxmxkREbGbGRERsZsZERGxmxkTF4IWPwQsa1cDIGL2SeP9k4Db8QRzwNXpY+yGthOHTcar1eb3e73WGz2TwsfZhzd39//3a/329vb2/fjDHE9oXVGGNsNpuH6+vrD0sf5pW4WvoA/1U+6pIRGxmxkREbGbGRERsZsZERGxmxkREbGbGRERsZsZFZjfHpaszSB3kN/D1+32qaprv9fr8drsachOHQca6Fn55r4UcYvJDxgkBGbGTERkZsZMRGRmxkxEZGbGTERuYvXnr27XDwsLMAAAAASUVORK5CYII=\"></img></td>\n",
       "      <td id=\"T_94c42_row3_col5\" class=\"data row3 col5\" >0<br>(0.0%)</td>\n",
       "    </tr>\n",
       "    <tr>\n",
       "      <td id=\"T_94c42_row4_col0\" class=\"data row4 col0\" >5</td>\n",
       "      <td id=\"T_94c42_row4_col1\" class=\"data row4 col1\" ><strong>Location</strong><br>[object]</td>\n",
       "      <td id=\"T_94c42_row4_col2\" class=\"data row4 col2\" >1. Bangalore, Karnataka, India<br>2. Mumbai, Maharashtra, India<br>3. Bengaluru, Karnataka, India<br>4. Gurgaon, Haryana, India<br>5. New Delhi, Delhi, India<br>6. Pune, Maharashtra, India<br>7. Chennai, Tamil Nadu, India<br>8. Hyderabad, Andhra Pradesh, Ind<br>9. Delhi, Delhi, India<br>10. Noida, Uttar Pradesh, India<br>11. other</td>\n",
       "      <td id=\"T_94c42_row4_col3\" class=\"data row4 col3\" >102 (19.4%)<br>94 (17.9%)<br>55 (10.5%)<br>52 (9.9%)<br>51 (9.7%)<br>20 (3.8%)<br>19 (3.6%)<br>18 (3.4%)<br>16 (3.0%)<br>15 (2.9%)<br>84 (16.0%)</td>\n",
       "      <td id=\"T_94c42_row4_col4\" class=\"data row4 col4\" ><img src = \"data:image/png;base64, iVBORw0KGgoAAAANSUhEUgAAAJsAAAD+CAYAAAAtWHdlAAAAOXRFWHRTb2Z0d2FyZQBNYXRwbG90bGliIHZlcnNpb24zLjUuMiwgaHR0cHM6Ly9tYXRwbG90bGliLm9yZy8qNh9FAAAACXBIWXMAAA9hAAAPYQGoP6dpAAAEBklEQVR4nO3dQWobWQBF0a9GhM5Ewhi8GC+iF9uL0G6McQ06IRNlEDIIkoIUVV011DkbqAwu31TxX7Q5Ho8DCn89+h/AeoiNjNjIiI2M2MiIjYzYyIiNjNjIbMYYn8cYnx7w7G/H4/HLA57Lg2yfn5//2e12T/WDp2l632w2/wpuPba73e7p9fX1y36//1o99OPj4+/D4fD09vb2aYwhtpXYjjHGfr//+vLy8l/87M/x83gwLwhkxEZGbGTERkZsZMRGRmxkxEZGbGTERkZsZMRGRmxkxEZmO8aP+2XlQ+vn8f+wnabp/XA4PI34ftk0Te9jjG/lM3ksGwQyG/9lFpVHnGxOtJXK11VWVeuVrqusqtbtEesqq6qV8lGXjNjIiI2M2MiIjYzYyIiNjNjIiI2M2MiIjYzYyIiNTDp4MXRZt3zwYuiyXq6FkzF4ITPHyeak4ip3D14MWLjWXYMXAxZuMcfgxYCFq/ioS0ZsZMRGRmxkxEZGbGTERkZsZMRGRmxkxEZGbGTERuauwYsBC7e4e/BiwMK1XAsnY/BCxgsCmXv/jPoTytXuWldZVnGLP15XWVZxq3vXVZZVXM0LAhmxkREbGbGRERsZsZERGxmxkREbGbGRERsZsZERG5k/XldZVnGru9ZVllXcwrVwMtZVZJxsZAxeyBi8kDF4IeOjLhmxkREbGbGRERsZsZERGxmxkREbGbGRERsZsZERGxmDFzIGL2RcCydj8ELmdyebU4tZXRy8GLMwt7ODF2MWlvC7wYsxC7PyUZeM2MiIjYzYyIiNjNjIiI2M2MiIjYzYyIiNjNjIiI2M2MicXVdZTrGEi+sqyynmZoNAxrqKjJONjHUVGesqMtZVZHzUJSM2MmIjIzYyYiMjNjJiIyM2MmIjIzYyYiMjNjJiI2PwQsbghYxr4WQMXshcOtmcaszu7ODF2IUlnAxejF1YyqXBi7ELs/NRl4zYyIiNjNjIiI2M2MiIjYzYyIiNjNjIiI2M2MiIjczJ4MXYhaWcHbwYu7AE18LJGLyQ8YJAxp9RMtZVZKyryFhXkfGCQEZsZMRGRmxkxEZGbGTERkZsZMRGRmxkxEZGbGTERsa6iox1FRnXwslYV5E5d7I51VjEyeDF2IWl/DJ4MXZhSecGL8YuLMJHXTJiIyM2MmIjIzYyYiMjNjJiIyM2MmIjIzYyYiMjNjK/DF6MXVjSyeDF2IWluBZOxuCFzKUp39yclpz/hZe5GdEwxplfeJmbEQ0/XfqFl7kZ0eCjLh2xkREbGbGRERsZsZERGxmxkREbGbGRERsZsZERG5mTX3iZmxENP539hZe5GdEwhmvhhAxeyHhBICM2MmIjIzYyYiMjNjJiIyM2MmIj8x2w8k7io/EsSQAAAABJRU5ErkJggg==\"></img></td>\n",
       "      <td id=\"T_94c42_row4_col5\" class=\"data row4 col5\" >0<br>(0.0%)</td>\n",
       "    </tr>\n",
       "    <tr>\n",
       "      <td id=\"T_94c42_row5_col0\" class=\"data row5 col0\" >6</td>\n",
       "      <td id=\"T_94c42_row5_col1\" class=\"data row5 col1\" ><strong>About Company</strong><br>[object]</td>\n",
       "      <td id=\"T_94c42_row5_col2\" class=\"data row5 col2\" >1. TheCollegeFever is a hub for f<br>2. Algorithmic trading platform.<br>3. Finwego partners with Small an<br>4. Drivezy is India's largest veh<br>5. Enabling diversity of opinions<br>6. The Souled Store bring to you <br>7. An Education Management startu<br>8. Kogta Financial (India) Ltd is<br>9. Hospals is a medical tourism c<br>10. UrbanClap is India's leading m<br>11. other</td>\n",
       "      <td id=\"T_94c42_row5_col3\" class=\"data row5 col3\" >2 (0.4%)<br>2 (0.4%)<br>1 (0.2%)<br>1 (0.2%)<br>1 (0.2%)<br>1 (0.2%)<br>1 (0.2%)<br>1 (0.2%)<br>1 (0.2%)<br>1 (0.2%)<br>514 (97.7%)</td>\n",
       "      <td id=\"T_94c42_row5_col4\" class=\"data row5 col4\" ><img src = \"data:image/png;base64, iVBORw0KGgoAAAANSUhEUgAAAJsAAAD+CAYAAAAtWHdlAAAAOXRFWHRTb2Z0d2FyZQBNYXRwbG90bGliIHZlcnNpb24zLjUuMiwgaHR0cHM6Ly9tYXRwbG90bGliLm9yZy8qNh9FAAAACXBIWXMAAA9hAAAPYQGoP6dpAAADnUlEQVR4nO3cMW4bVxhG0X8EQrGaIQgCWkKyBy3Ci/UiuIjsQRA0ReSoYQpHQBK4M3wHYM6pNN0rLvRIYT4t1+t1oHC39wH4/xAbGbGRERsZsZERGxmxkREbGbGRWWbmYWbmer2+7XwWbtzhfD5/nplZluWL4PiZ7tZ1Pa3repqZ+70Pw23zmY2M2MiIjYzYyIiNjNjIiI2M2MiIjYzYyIiNjNjIiI2M2MiIjYzYyBy2bXv5++f3XU/CzbNBILP4l1lU/GYjY11FxrqKjD99kBEbGbGRERsZsZERGxmxkREbGbGRERsZsZERGxmxkREbGbGRMXgh47VwMgYvZHxmI3O3LMtvy7J82vsg3L67mfl1Zn7Z+yDcPtcoGbGRERsZsZERGxmxkREbGbGRERsZsZERGxmxkREbGbGRERuZu5n5fWb+3Psg3D4bBDKuUTJiIyM2MtZVZKyryLhGyYiNjNjIiI2M2MiIjYzYyIiNjNjIiI2M2MiIjYzYyIiNjNjIWFeRsa4i4xolIzYyBi9kDF7IuEbJiI2M2MiIjYzYyIiNjNjIiI2M2MiIjYzYyIiNjNjIiI2M2MgYvJAxeCHjGiUjNjIGL2QMXsi4RsmIjYzYyIiNjNjIiI2M2MiIjYzYyIiNjNjIiI2M2MiIjYzYyIiNjHUVGesqMq5RMmIjY11FxrqKjGuUjNjIiI2M2MiIjYzYyIiNjNjIiI2M2MiIjYzYyIiNjNjIiI2MwQsZgxcyrlEyYiNj8ELG4IWMa5SM2MiIjYzYyIiNjNjIiI2M2MiIjYzYyIiNjNjIiI2M2MiIjYzBCxmDFzKuUTJiIyM2MtZVZKyryLhGyYiNjNjIiI2M2MiIjYzYyIiNjNjIiI2M2MiIjYzYyIiNjNjIWFeRsa4i4xolIzYyBi9kDF7IuEbJiI2M2MiIjYzYyIiNjNjIiI2M2MiIjYzYyIiNjNjIiI2M2MgYvJAxeCHjGiWzzMzDzNzvfRBu0vv1en37eDicz+fP67qe9jwRt2nbtpdlWb58BHdY1/X09PT0djwev+59OG7H6+vrp8vlcnp+fr6fmW+xzcwcj8evj4+Pf+x6Om7Rwz8ffEEgIzYyYiMjNjJiIyM2MmIjIzYyYiMjNjJiIyM2MmIjc5j59jrI3gfhtnyvqcO2bS+Xy+U0/3kdBH7Utm0vM/P+8ey1cH6mf70Wbl1FxhcEMmIjIzYyYiMjNjJiIyM2MmIjIzYyfwE0b46I3qTEmQAAAABJRU5ErkJggg==\"></img></td>\n",
       "      <td id=\"T_94c42_row5_col5\" class=\"data row5 col5\" >0<br>(0.0%)</td>\n",
       "    </tr>\n",
       "  </tbody>\n",
       "</table>\n"
      ],
      "text/plain": [
       "<pandas.io.formats.style.Styler at 0x7fa4d8784370>"
      ]
     },
     "execution_count": 8,
     "metadata": {},
     "output_type": "execute_result"
    }
   ],
   "source": [
    "dfSummary(data_2018, is_collapsible = False)"
   ]
  },
  {
   "cell_type": "markdown",
   "id": "d42d8567",
   "metadata": {},
   "source": [
    "<p style=\"font-size:20px;font-weight: bold; font-family: 'Times New Roman'\"> After carefully examining We note the following from the data shown above:</p> <br>\n",
    "\n",
    "<p style=\"font-size:20px;font-weight: bold; font-family: 'Times New Roman'\"> The amount columns include cells with the symbol \"-\" as well as several currencies.</p> <br>\n",
    "\n",
    "<p style=\"font-size:20px;font-weight: bold; font-family: 'Times New Roman'\"> and the Industry columns is specified using more than one term.</p> <br>\n",
    "\n",
    "<p style=\"font-size:20px;font-weight: bold; font-family: 'Times New Roman'\"> The Location is described using more than one physical address, </p> <br>\n",
    "\n",
    "<p style=\"font-size:20px;font-weight: bold; font-family: 'Times New Roman'\"> To clean these, we'll presume that the amounts with no indications are in dollars. As a result, we'll convert the numbers in INP to USD and swap out \"-\" for NaN.</p> <br>"
   ]
  },
  {
   "cell_type": "markdown",
   "id": "98da68a6",
   "metadata": {},
   "source": [
    "<br><p style=\"font-size:20px ; font-weight: bold ; font-family: 'Times New Roman'; color: #00008B\">Cleaning the 2018 Data Set :</p> <br>"
   ]
  },
  {
   "cell_type": "markdown",
   "id": "1531ca49",
   "metadata": {},
   "source": [
    "<br><p style=\"font-size:20px ; font-weight: bold ; font-family: 'Times New Roman'; color: #00008B\">Renaming Columns to reflect consistency :</p> <br>"
   ]
  },
  {
   "cell_type": "code",
   "execution_count": 9,
   "id": "207e4f96",
   "metadata": {},
   "outputs": [
    {
     "data": {
      "text/plain": [
       "Index(['Company Name', 'Industry', 'Round/Series', 'Amount', 'Location',\n",
       "       'About Company'],\n",
       "      dtype='object')"
      ]
     },
     "execution_count": 9,
     "metadata": {},
     "output_type": "execute_result"
    }
   ],
   "source": [
    "data_2018.columns"
   ]
  },
  {
   "cell_type": "code",
   "execution_count": 10,
   "id": "9fa66752",
   "metadata": {},
   "outputs": [],
   "source": [
    "# rename the column headings to be consistent with other data set\n",
    "data_2018.rename(columns={'Company Name':'Company/Brand','Industry':'Sector','Round/Series':'Stage','Amount':'Amount($)','Location':'HeadQuarter','About Company':'What it does'}, inplace=True)"
   ]
  },
  {
   "cell_type": "code",
   "execution_count": 11,
   "id": "2b5966fe",
   "metadata": {},
   "outputs": [
    {
     "data": {
      "text/plain": [
       "Index(['Company/Brand', 'Sector', 'Stage', 'Amount($)', 'HeadQuarter',\n",
       "       'What it does'],\n",
       "      dtype='object')"
      ]
     },
     "execution_count": 11,
     "metadata": {},
     "output_type": "execute_result"
    }
   ],
   "source": [
    "data_2018.columns"
   ]
  },
  {
   "cell_type": "markdown",
   "id": "5b97dea2",
   "metadata": {},
   "source": [
    "<p style=\"font-size:20px ; font-weight: bold ; font-family: 'Times New Roman'; color: #00008B\">Cleaning the Sector Column</p><br>"
   ]
  },
  {
   "cell_type": "code",
   "execution_count": 12,
   "id": "90a97f9e",
   "metadata": {},
   "outputs": [
    {
     "data": {
      "text/plain": [
       "array(['Brand Marketing', 'Agriculture', 'Credit', 'Financial Services',\n",
       "       'E-Commerce Platforms', 'Cloud Infrastructure', 'Internet',\n",
       "       'Market Research', 'Information Services', 'Mobile Payments',\n",
       "       'B2B', 'Apps', 'Food Delivery', 'Industrial Automation',\n",
       "       'Automotive', 'Finance', 'Accounting', 'Artificial Intelligence',\n",
       "       'Internet of Things', 'Air Transportation', 'Food and Beverage',\n",
       "       'Autonomous Vehicles', 'Enterprise Software', 'Logistics',\n",
       "       'Insurance', 'Information Technology', 'Blockchain', 'Education',\n",
       "       'E-Commerce', 'Renewable Energy', 'E-Learning', 'Clean Energy',\n",
       "       'Transportation', 'Fitness', 'Hospitality',\n",
       "       'Media and Entertainment', 'Broadcasting', 'EdTech', 'Health Care',\n",
       "       '—', 'Sports', 'Big Data', 'Cloud Computing', 'Food Processing',\n",
       "       'Trading Platform', 'Consumer Goods', 'Wellness', 'Fashion',\n",
       "       'Consulting', 'Biotechnology', 'Communities', 'Consumer',\n",
       "       'Consumer Applications', 'Mobile', 'Advertising', 'Marketplace',\n",
       "       'Aerospace', 'Home Decor', 'Energy', 'Digital Marketing',\n",
       "       'Creative Agency', 'Consumer Lending', 'Health Diagnostics',\n",
       "       'Banking', 'Embedded Systems', 'Beauty', 'AgTech', 'Credit Cards',\n",
       "       'Software', 'Manufacturing', 'Hospital', 'Events', '3D Printing',\n",
       "       'Digital Entertainment', 'Funding Platform', 'Classifieds',\n",
       "       'Enterprise Resource Planning (ERP)', 'Audio', 'Government',\n",
       "       'Digital Media', 'Business Intelligence', 'Children', 'Rental',\n",
       "       'Travel', 'Wealth Management', 'Veterinary', 'Tourism',\n",
       "       'Consumer Electronics', 'Analytics', 'Facilities Support Services',\n",
       "       'Medical', 'Music Streaming', 'Retail', 'Business Development',\n",
       "       'Human Resources', 'Customer Service', 'Training',\n",
       "       'Dietary Supplements', 'Collaboration', 'Nanotechnology',\n",
       "       'File Sharing', 'Crowdfunding', 'Catering', 'Computer', 'Android',\n",
       "       'Delivery', 'Environmental Consulting', 'Commercial Real Estate',\n",
       "       'Delivery Service', 'Basketball', 'Fraud Detection',\n",
       "       'Cryptocurrency', 'Wedding', 'Crowdsourcing', 'Farming',\n",
       "       'Business Travel', 'Career Planning', 'Medical Device',\n",
       "       'Alternative Medicine', 'Dental', 'CleanTech', 'Marketing',\n",
       "       'Commercial', 'Continuing Education', 'Smart Cities',\n",
       "       'Social Media', 'Biopharma', 'Child Care', 'Health Insurance',\n",
       "       'Gaming', 'Search Engine', 'Battery', 'Cosmetics', 'eSports',\n",
       "       'Reading Apps', 'Electric Vehicle', 'Packaging Services',\n",
       "       'Last Mile Transportation', 'Cooking', 'FinTech', 'Online Games',\n",
       "       'Online Portals', 'Music', 'News', 'Industrial', 'Dating',\n",
       "       'Fantasy Sports', 'Eyewear'], dtype=object)"
      ]
     },
     "execution_count": 12,
     "metadata": {},
     "output_type": "execute_result"
    }
   ],
   "source": [
    "# Cleaning the Sector column to get of multiple sectors represented as one. \n",
    "#This is done by first stipping and using slicing to select the first part.\n",
    "data_2018['Sector'] = data_2018['Sector'].str.split(',').str[0] \n",
    "data_2018['Sector'].unique() "
   ]
  },
  {
   "cell_type": "code",
   "execution_count": 13,
   "id": "d417d3ae",
   "metadata": {},
   "outputs": [],
   "source": [
    "#rename similar sectors with wrong or different spelling to make it consistent\n",
    "data_2018.replace({'Sector':{'E-Commerce Platforms':'E-Commerce','Autonomous Vehicles':'Automotive','eSports':'Sports',\n",
    "                           'Funding Platform':'Crowdfunding','Crowdsourcing':'Crowdfunding','Last Mile Transportation':'Transportation',\n",
    "                           'Delivery':'Logistics','Delivery Service':'Logistics','Children':'Child Care','Travel':'Transportation','Health Care':'Healthcare',\n",
    "                           'Commercial Real Estate':'Real Estate','Cooking':'Catering','Fantasy Sports':'Sports','Consumer':'Consumer Goods',\n",
    "                           'Consumer Lending':'Consumer Goods','Credit':'Credit Cards','Business Travel':'Transportation','Hospital':'Healthcare',\n",
    "                           'Basketball':'Sports','Alternative Medicine':'Healthcare','Renewable Energy':'Energy','Clean Energy':'Energy','Music':'Music Streaming',\n",
    "                           'Health Diagnostics':'Healthcare','Medical':'Healthcare','Enterprise Software':'ERP','Enterprise Resource Planning (ERP)':'ERP',\n",
    "                           'Audio':'Music Streaming','Air Transportation':'Aerospace','Wellness':'Fitness','Beauty':'Cosmetics','Big Data':'Analytics',\n",
    "                           'Food and Beverage':'Catering','Wealth Management':'Finance','Social Media':'Digital Media','Broadcasting':'Media and Entertainment',\n",
    "                           'News':'Media and Entertainment','Packaging Services':'Logistics','Mobile':'Mobile Phones','Medical Device':'Healthcare',\n",
    "                           'Continuing Education':'Education','Dental':'Healthcare','Android':'Software','Banking':'Financial Services','Training':'Education',\n",
    "                           'Digital Marketing':'Advertising','Marketplace':'Advertising','Consumer Electronics':'Consumer Goods','Rental':'Facilities Support Services',\n",
    "                           'Retail':'Business Development','3D Printing':'Creative Agency','Electric Vehicle':'Automotive','Industrial Automation':'Manufacturing',\n",
    "                           'Battery':'Energy','Reading Apps':'Apps','B2B':'E-Commerce','Communities':'Environmental Consulting','Smart Cities':'Environmental Consulting',\n",
    "                           'Health Insurance':'Insurance','Commercial':'Business Development','Digital Entertainment':'Digital Media',\n",
    "                           'Cloud Infrastructure':'Cloud Computing','Marketing':'Advertising','Events':'Creative Agency','Food Delivery':'Catering',\n",
    "                           'Artificial Intelligence':'AI','Business Intelligence':'ERP','Information Services':'IT','Information Technology':'IT',\n",
    "                           'E-Learning':'Education','Tourism':'Hospitality','Industrial':'Manufacturing','Internet':'IT','Internet of Things':'IoT',\n",
    "                           'Farming':'Agriculture','Food Processing':'Catering','Collaboration':'Human Resources','Computer':'IT','Career Planning':'Human Resources',\n",
    "                           'Wedding':'Customer Service','Online Games':'Gaming','—':'Unknown','Brand Marketing':'Advertising'}}, inplace=True)"
   ]
  },
  {
   "cell_type": "code",
   "execution_count": 14,
   "id": "f9bfcb1f",
   "metadata": {},
   "outputs": [
    {
     "data": {
      "text/plain": [
       "array(['Advertising', 'Agriculture', 'Credit Cards', 'Financial Services',\n",
       "       'E-Commerce', 'Cloud Computing', 'IT', 'Market Research',\n",
       "       'Mobile Payments', 'Apps', 'Catering', 'Manufacturing',\n",
       "       'Automotive', 'Finance', 'Accounting', 'AI', 'IoT', 'Aerospace',\n",
       "       'ERP', 'Logistics', 'Insurance', 'Blockchain', 'Education',\n",
       "       'Energy', 'Transportation', 'Fitness', 'Hospitality',\n",
       "       'Media and Entertainment', 'EdTech', 'Healthcare', 'Unknown',\n",
       "       'Sports', 'Analytics', 'Trading Platform', 'Consumer Goods',\n",
       "       'Fashion', 'Consulting', 'Biotechnology',\n",
       "       'Environmental Consulting', 'Consumer Applications',\n",
       "       'Mobile Phones', 'Home Decor', 'Creative Agency',\n",
       "       'Embedded Systems', 'Cosmetics', 'AgTech', 'Software',\n",
       "       'Digital Media', 'Crowdfunding', 'Classifieds', 'Music Streaming',\n",
       "       'Government', 'Child Care', 'Facilities Support Services',\n",
       "       'Veterinary', 'Business Development', 'Human Resources',\n",
       "       'Customer Service', 'Dietary Supplements', 'Nanotechnology',\n",
       "       'File Sharing', 'Real Estate', 'Fraud Detection', 'Cryptocurrency',\n",
       "       'CleanTech', 'Biopharma', 'Gaming', 'Search Engine', 'FinTech',\n",
       "       'Online Portals', 'Dating', 'Eyewear'], dtype=object)"
      ]
     },
     "execution_count": 14,
     "metadata": {},
     "output_type": "execute_result"
    }
   ],
   "source": [
    "data_2018['Sector'].unique()"
   ]
  },
  {
   "cell_type": "markdown",
   "id": "10320cb1",
   "metadata": {},
   "source": [
    "<p style=\"font-size:20px ; font-weight: bold ; font-family: 'Times New Roman'; color: #00008B\"> Cleaning the Stage Column</p><br>"
   ]
  },
  {
   "cell_type": "code",
   "execution_count": 15,
   "id": "78a18885",
   "metadata": {},
   "outputs": [
    {
     "data": {
      "text/plain": [
       "array(['Seed', 'Series A', 'Angel', 'Series B', 'Pre-Seed',\n",
       "       'Private Equity', 'Venture - Series Unknown', 'Grant',\n",
       "       'Debt Financing', 'Post-IPO Debt', 'Series H', 'Series C',\n",
       "       'Series E', 'Corporate Round', 'Undisclosed',\n",
       "       'https://docs.google.com/spreadsheets/d/1x9ziNeaz6auNChIHnMI8U6kS7knTr3byy_YBGfQaoUA/edit#gid=1861303593',\n",
       "       'Series D', 'Secondary Market', 'Post-IPO Equity',\n",
       "       'Non-equity Assistance', 'Funding Round'], dtype=object)"
      ]
     },
     "execution_count": 15,
     "metadata": {},
     "output_type": "execute_result"
    }
   ],
   "source": [
    "data_2018['Stage'].unique()"
   ]
  },
  {
   "cell_type": "code",
   "execution_count": 16,
   "id": "eb25ca8f",
   "metadata": {},
   "outputs": [],
   "source": [
    "data_2018.replace({'Stage':{'Pre-Seed':'Seed','Private Equity':'Equity','Venture - Series Unknown':'Unknown',\n",
    "                           'Debt Financing':'Debt','Post-IPO Debt':'Debt','Corporate Round':'Seed','Undisclosed':'NaN',\n",
    "                           'Post-IPO Equity':'Equity','Non-equity Assistance':'Equity','Funding Round':'Seed'}},inplace=True)"
   ]
  },
  {
   "cell_type": "code",
   "execution_count": 17,
   "id": "201f4ce6",
   "metadata": {},
   "outputs": [
    {
     "data": {
      "text/html": [
       "<div>\n",
       "<style scoped>\n",
       "    .dataframe tbody tr th:only-of-type {\n",
       "        vertical-align: middle;\n",
       "    }\n",
       "\n",
       "    .dataframe tbody tr th {\n",
       "        vertical-align: top;\n",
       "    }\n",
       "\n",
       "    .dataframe thead th {\n",
       "        text-align: right;\n",
       "    }\n",
       "</style>\n",
       "<table border=\"1\" class=\"dataframe\">\n",
       "  <thead>\n",
       "    <tr style=\"text-align: right;\">\n",
       "      <th></th>\n",
       "      <th>Company/Brand</th>\n",
       "      <th>Sector</th>\n",
       "      <th>Stage</th>\n",
       "      <th>Amount($)</th>\n",
       "      <th>HeadQuarter</th>\n",
       "      <th>What it does</th>\n",
       "    </tr>\n",
       "  </thead>\n",
       "  <tbody>\n",
       "    <tr>\n",
       "      <th>178</th>\n",
       "      <td>BuyForexOnline</td>\n",
       "      <td>Transportation</td>\n",
       "      <td>https://docs.google.com/spreadsheets/d/1x9ziNe...</td>\n",
       "      <td>2000000</td>\n",
       "      <td>Bangalore, Karnataka, India</td>\n",
       "      <td>BuyForexOnline.com is India's first completely...</td>\n",
       "    </tr>\n",
       "  </tbody>\n",
       "</table>\n",
       "</div>"
      ],
      "text/plain": [
       "      Company/Brand          Sector  \\\n",
       "178  BuyForexOnline  Transportation   \n",
       "\n",
       "                                                 Stage Amount($)  \\\n",
       "178  https://docs.google.com/spreadsheets/d/1x9ziNe...   2000000   \n",
       "\n",
       "                     HeadQuarter  \\\n",
       "178  Bangalore, Karnataka, India   \n",
       "\n",
       "                                          What it does  \n",
       "178  BuyForexOnline.com is India's first completely...  "
      ]
     },
     "execution_count": 17,
     "metadata": {},
     "output_type": "execute_result"
    }
   ],
   "source": [
    "data_2018.loc[data_2018['Stage']=='https://docs.google.com/spreadsheets/d/1x9ziNeaz6auNChIHnMI8U6kS7knTr3byy_YBGfQaoUA/edit#gid=1861303593']"
   ]
  },
  {
   "cell_type": "markdown",
   "id": "11f92a36",
   "metadata": {},
   "source": [
    "Looking at the 'What it does' and 'Company/Brand', it is obvious the sector should be in the FinTech Sector, this needs to be corrected and the stage replaced with 'Unknwon' since there is no futher information to tell the stage"
   ]
  },
  {
   "cell_type": "markdown",
   "id": "ec705aff",
   "metadata": {},
   "source": [
    "<p style=\"font-size:20px ; font-weight: bold ; font-family: 'Times New Roman'; color: #00008B\">correcting the name of the sector from transportation to FinTech </p><br>"
   ]
  },
  {
   "cell_type": "code",
   "execution_count": 18,
   "id": "83b5a97a",
   "metadata": {},
   "outputs": [],
   "source": [
    "# correcting the name of the sector from transportation to FinTech based on the information above.\n",
    "data_2018.iloc[178].replace({'Transportation':'FinTech'},inplace=True) "
   ]
  },
  {
   "cell_type": "markdown",
   "id": "a8c18de7",
   "metadata": {},
   "source": [
    "<p style=\"font-size:20px ; font-weight: bold ; font-family: 'Times New Roman'; color: #00008B\">correcting the stage name to Unknown since there is no information</p><br>"
   ]
  },
  {
   "cell_type": "code",
   "execution_count": 19,
   "id": "e719dc44",
   "metadata": {},
   "outputs": [],
   "source": [
    "# correcting the stage name to Unknown since there is no information to correct it to the right stage. \n",
    "data_2018.iloc[178].replace({'https://docs.google.com/spreadsheets/d/1x9ziNeaz6auNChIHnMI8U6kS7knTr3byy_YBGfQaoUA/edit#gid=1861303593':'Unknown'},inplace=True) "
   ]
  },
  {
   "cell_type": "code",
   "execution_count": 20,
   "id": "28abc7d6",
   "metadata": {},
   "outputs": [
    {
     "data": {
      "text/html": [
       "<div>\n",
       "<style scoped>\n",
       "    .dataframe tbody tr th:only-of-type {\n",
       "        vertical-align: middle;\n",
       "    }\n",
       "\n",
       "    .dataframe tbody tr th {\n",
       "        vertical-align: top;\n",
       "    }\n",
       "\n",
       "    .dataframe thead th {\n",
       "        text-align: right;\n",
       "    }\n",
       "</style>\n",
       "<table border=\"1\" class=\"dataframe\">\n",
       "  <thead>\n",
       "    <tr style=\"text-align: right;\">\n",
       "      <th></th>\n",
       "      <th>Company/Brand</th>\n",
       "      <th>Sector</th>\n",
       "      <th>Stage</th>\n",
       "      <th>Amount($)</th>\n",
       "      <th>HeadQuarter</th>\n",
       "      <th>What it does</th>\n",
       "    </tr>\n",
       "  </thead>\n",
       "  <tbody>\n",
       "    <tr>\n",
       "      <th>393</th>\n",
       "      <td>Asset Reconstruction Company (India) Ltd.</td>\n",
       "      <td>Financial Services</td>\n",
       "      <td>Secondary Market</td>\n",
       "      <td>—</td>\n",
       "      <td>Mumbai, Maharashtra, India</td>\n",
       "      <td>Asset Reconstruction Company (India) Ltd. oper...</td>\n",
       "    </tr>\n",
       "    <tr>\n",
       "      <th>444</th>\n",
       "      <td>Zomato</td>\n",
       "      <td>Catering</td>\n",
       "      <td>Secondary Market</td>\n",
       "      <td>210000000</td>\n",
       "      <td>Gurgaon, Haryana, India</td>\n",
       "      <td>Zomato is a search app offering detailed infor...</td>\n",
       "    </tr>\n",
       "    <tr>\n",
       "      <th>513</th>\n",
       "      <td>Nykaa</td>\n",
       "      <td>Cosmetics</td>\n",
       "      <td>Secondary Market</td>\n",
       "      <td>₹1,130,000,000</td>\n",
       "      <td>Mumbai, Maharashtra, India</td>\n",
       "      <td>Nykaa.com is a premier online beauty and welln...</td>\n",
       "    </tr>\n",
       "  </tbody>\n",
       "</table>\n",
       "</div>"
      ],
      "text/plain": [
       "                                 Company/Brand              Sector  \\\n",
       "393  Asset Reconstruction Company (India) Ltd.  Financial Services   \n",
       "444                                     Zomato            Catering   \n",
       "513                                      Nykaa           Cosmetics   \n",
       "\n",
       "                Stage       Amount($)                 HeadQuarter  \\\n",
       "393  Secondary Market               —  Mumbai, Maharashtra, India   \n",
       "444  Secondary Market       210000000     Gurgaon, Haryana, India   \n",
       "513  Secondary Market  ₹1,130,000,000  Mumbai, Maharashtra, India   \n",
       "\n",
       "                                          What it does  \n",
       "393  Asset Reconstruction Company (India) Ltd. oper...  \n",
       "444  Zomato is a search app offering detailed infor...  \n",
       "513  Nykaa.com is a premier online beauty and welln...  "
      ]
     },
     "execution_count": 20,
     "metadata": {},
     "output_type": "execute_result"
    }
   ],
   "source": [
    "data_2018.loc[data_2018['Stage']=='Secondary Market']"
   ]
  },
  {
   "cell_type": "markdown",
   "id": "20824c3e",
   "metadata": {},
   "source": [
    "There is no further and better information concerning the stage column. This will be kept as it is"
   ]
  },
  {
   "cell_type": "code",
   "execution_count": null,
   "id": "4db4f939",
   "metadata": {},
   "outputs": [],
   "source": []
  },
  {
   "cell_type": "markdown",
   "id": "36e792fa",
   "metadata": {},
   "source": [
    "<p style=\"font-size:20px ; font-weight: bold ; font-family: 'Times New Roman'; color: #00008B\">Cleaning the Amount($) Column</p><br>"
   ]
  },
  {
   "cell_type": "markdown",
   "id": "87a11b02",
   "metadata": {},
   "source": [
    "Since some of the currencies are in ₹ (rupees) and others in $ (dollars), the rupees are changed to dollars based on the current exchange rate.\n",
    "\n",
    "Duty is to select all rows where 'Amount' column is in rupees"
   ]
  },
  {
   "cell_type": "markdown",
   "id": "eaf579fa",
   "metadata": {},
   "source": [
    "<p style=\"font-size:20px ; font-weight: bold ; font-family: 'Times New Roman'; color: #00008B\">Since some of the currencies are in ₹ (rupees) and others in $ (dollars), the rupees are changed to dollars</p><br>"
   ]
  },
  {
   "cell_type": "code",
   "execution_count": 21,
   "id": "f6db6f1c",
   "metadata": {},
   "outputs": [
    {
     "data": {
      "text/plain": [
       "Int64Index([  1,   2,   6,   7,  15,  19,  22,  23,  30,  37,\n",
       "            ...\n",
       "            488, 496, 500, 507, 509, 513, 514, 516, 517, 524],\n",
       "           dtype='int64', length=144)"
      ]
     },
     "execution_count": 21,
     "metadata": {},
     "output_type": "execute_result"
    }
   ],
   "source": [
    "# since some of the currencies are in ₹ (rupees) and others in $ (dollars), the rupees are changed to dollars based on the current exchange rate\n",
    "# select all rows where 'Amount($)' column is in rupees\n",
    "\n",
    "# this should be done before stripping off the currency symbol in order to identify the values and make the conversion \n",
    "rupees_index = data_2018.index[data_2018['Amount($)'].str.contains('₹')]\n",
    "rupees_index "
   ]
  },
  {
   "cell_type": "markdown",
   "id": "f49b288a",
   "metadata": {},
   "source": [
    "<p style=\"font-size:20px ; font-weight: bold ; font-family: 'Times New Roman'; color: #00008B\">Removing or stripping all special characters form the amount column</p><br>"
   ]
  },
  {
   "cell_type": "code",
   "execution_count": 22,
   "id": "ae84654f",
   "metadata": {},
   "outputs": [],
   "source": [
    "# removing or stripping all special characters form the amount column\n",
    "#data_2018[\"Amount\"]=data_2018.Amount.apply(lambda x: str(x).replace(\"-\",np.nan))\n",
    "data_2018['Amount($)']=data_2018['Amount($)'].replace('—', '0')    # replacing '-' in the amount column with 0\n",
    "data_2018['Amount($)']=data_2018['Amount($)'].apply(lambda x: str(x).replace(\"₹\" ,\"\"))   # replacing '₹' in the amount column with nothing\n",
    "data_2018['Amount($)']=data_2018['Amount($)'].apply(lambda x: str(x).replace(\"$\" ,\"\"))   # replacing '$' in the amount column with nothing\n",
    "data_2018['Amount($)']=data_2018['Amount($)'].apply(lambda x: str(x).replace(\",\" ,\"\"))   # replacing ',' in the amount column with nothing"
   ]
  },
  {
   "cell_type": "markdown",
   "id": "0b42b1d0",
   "metadata": {},
   "source": [
    "<p style=\"font-size:20px ; font-weight: bold ; font-family: 'Times New Roman'; color: #00008B\">Change the data type from a string to a float</p><br>"
   ]
  },
  {
   "cell_type": "code",
   "execution_count": 23,
   "id": "bf1c64d7",
   "metadata": {},
   "outputs": [],
   "source": [
    "# change the data type from a string to a float\n",
    "data_2018['Amount($)']=pd.to_numeric(data_2018['Amount($)'], errors='raise')  "
   ]
  },
  {
   "cell_type": "markdown",
   "id": "56f3893c",
   "metadata": {},
   "source": [
    "<p style=\"font-size:20px ; font-weight: bold ; font-family: 'Times New Roman'; color: #00008B\">Convert the rows with rupees to dollars</p><br>"
   ]
  },
  {
   "cell_type": "code",
   "execution_count": 24,
   "id": "8774ddb1",
   "metadata": {},
   "outputs": [
    {
     "data": {
      "text/html": [
       "<div>\n",
       "<style scoped>\n",
       "    .dataframe tbody tr th:only-of-type {\n",
       "        vertical-align: middle;\n",
       "    }\n",
       "\n",
       "    .dataframe tbody tr th {\n",
       "        vertical-align: top;\n",
       "    }\n",
       "\n",
       "    .dataframe thead th {\n",
       "        text-align: right;\n",
       "    }\n",
       "</style>\n",
       "<table border=\"1\" class=\"dataframe\">\n",
       "  <thead>\n",
       "    <tr style=\"text-align: right;\">\n",
       "      <th></th>\n",
       "      <th>Amount($)</th>\n",
       "    </tr>\n",
       "  </thead>\n",
       "  <tbody>\n",
       "    <tr>\n",
       "      <th>1</th>\n",
       "      <td>584000.0</td>\n",
       "    </tr>\n",
       "    <tr>\n",
       "      <th>2</th>\n",
       "      <td>949000.0</td>\n",
       "    </tr>\n",
       "    <tr>\n",
       "      <th>6</th>\n",
       "      <td>233600.0</td>\n",
       "    </tr>\n",
       "    <tr>\n",
       "      <th>7</th>\n",
       "      <td>730000.0</td>\n",
       "    </tr>\n",
       "    <tr>\n",
       "      <th>15</th>\n",
       "      <td>1460000.0</td>\n",
       "    </tr>\n",
       "  </tbody>\n",
       "</table>\n",
       "</div>"
      ],
      "text/plain": [
       "    Amount($)\n",
       "1    584000.0\n",
       "2    949000.0\n",
       "6    233600.0\n",
       "7    730000.0\n",
       "15  1460000.0"
      ]
     },
     "execution_count": 24,
     "metadata": {},
     "output_type": "execute_result"
    }
   ],
   "source": [
    "#Convert the rows with rupees to dollars\n",
    "#Multiply the rupees values in the amount column with 0.0146 which is the average 2018 exchange rate from rupees to dollars\n",
    "# the is done on only the records with rupees whose indexes were stored to the rupees_index variable\n",
    "data_2018.loc[rupees_index,['Amount($)']]=data_2018.loc[rupees_index,['Amount($)']].values*0.0146\n",
    "data_2018.loc[rupees_index,[\"Amount($)\"]].head()"
   ]
  },
  {
   "cell_type": "markdown",
   "id": "e4792d56",
   "metadata": {},
   "source": [
    "<br><p style=\"font-size:20px ; font-weight: bold ; font-family: 'Times New Roman'; color: #00008B\">Cleaning the HeadQuarter Column</p><br><br>"
   ]
  },
  {
   "cell_type": "code",
   "execution_count": 25,
   "id": "416e7cf9",
   "metadata": {},
   "outputs": [
    {
     "data": {
      "text/plain": [
       "array(['Bangalore', 'Mumbai', 'Gurgaon', 'Noida', 'Hyderabad',\n",
       "       'Bengaluru', 'Kalkaji', 'Delhi', 'India', 'Hubli', 'New Delhi',\n",
       "       'Chennai', 'Mohali', 'Kolkata', 'Pune', 'Jodhpur', 'Kanpur',\n",
       "       'Ahmedabad', 'Azadpur', 'Haryana', 'Cochin', 'Faridabad', 'Jaipur',\n",
       "       'Kota', 'Anand', 'Bangalore City', 'Belgaum', 'Thane', 'Margão',\n",
       "       'Indore', 'Alwar', 'Kannur', 'Trivandrum', 'Ernakulam',\n",
       "       'Kormangala', 'Uttar Pradesh', 'Andheri', 'Mylapore', 'Ghaziabad',\n",
       "       'Kochi', 'Powai', 'Guntur', 'Kalpakkam', 'Bhopal', 'Coimbatore',\n",
       "       'Worli', 'Alleppey', 'Chandigarh', 'Guindy', 'Lucknow'],\n",
       "      dtype=object)"
      ]
     },
     "execution_count": 25,
     "metadata": {},
     "output_type": "execute_result"
    }
   ],
   "source": [
    "#Strip the location data to only the city-area.\n",
    "# use ',' as the delimeter to separate them and select preferred choice with slicing\n",
    "data_2018['HeadQuarter']=data_2018['HeadQuarter'].str.split(',').str[0]     \n",
    "data_2018['HeadQuarter'].unique()"
   ]
  },
  {
   "cell_type": "markdown",
   "id": "de7ff8e0",
   "metadata": {},
   "source": [
    "<p style=\"font-size:20px ; font-weight: bold ; font-family: 'Times New Roman'; color: #00008B\">Replacing wrongly spelt names and similar names entered differently</p><br>"
   ]
  },
  {
   "cell_type": "code",
   "execution_count": 26,
   "id": "d5eaec8b",
   "metadata": {},
   "outputs": [],
   "source": [
    "# replacing wrongly spelt names and similar names entered differently\n",
    "data_2018.replace({'HeadQuarter':{'Bangalore':'Bengaluru','Bangalore City':'Bengaluru','New Delhi':'Delhi','India':'Delhi'}}, inplace=True)"
   ]
  },
  {
   "cell_type": "markdown",
   "id": "8b678b20",
   "metadata": {},
   "source": [
    "<br><p style=\"font-size:20px ; font-weight: bold ; font-family: 'Times New Roman'; color: #00008B\"> Cleaned 2018 data.</p><br><br>"
   ]
  },
  {
   "cell_type": "code",
   "execution_count": 27,
   "id": "a8c08dae",
   "metadata": {},
   "outputs": [
    {
     "data": {
      "text/html": [
       "<div>\n",
       "<style scoped>\n",
       "    .dataframe tbody tr th:only-of-type {\n",
       "        vertical-align: middle;\n",
       "    }\n",
       "\n",
       "    .dataframe tbody tr th {\n",
       "        vertical-align: top;\n",
       "    }\n",
       "\n",
       "    .dataframe thead th {\n",
       "        text-align: right;\n",
       "    }\n",
       "</style>\n",
       "<table border=\"1\" class=\"dataframe\">\n",
       "  <thead>\n",
       "    <tr style=\"text-align: right;\">\n",
       "      <th></th>\n",
       "      <th>Company/Brand</th>\n",
       "      <th>Sector</th>\n",
       "      <th>Stage</th>\n",
       "      <th>Amount($)</th>\n",
       "      <th>HeadQuarter</th>\n",
       "      <th>What it does</th>\n",
       "    </tr>\n",
       "  </thead>\n",
       "  <tbody>\n",
       "    <tr>\n",
       "      <th>0</th>\n",
       "      <td>TheCollegeFever</td>\n",
       "      <td>Advertising</td>\n",
       "      <td>Seed</td>\n",
       "      <td>250000.0</td>\n",
       "      <td>Bengaluru</td>\n",
       "      <td>TheCollegeFever is a hub for fun, fiesta and f...</td>\n",
       "    </tr>\n",
       "    <tr>\n",
       "      <th>1</th>\n",
       "      <td>Happy Cow Dairy</td>\n",
       "      <td>Agriculture</td>\n",
       "      <td>Seed</td>\n",
       "      <td>584000.0</td>\n",
       "      <td>Mumbai</td>\n",
       "      <td>A startup which aggregates milk from dairy far...</td>\n",
       "    </tr>\n",
       "    <tr>\n",
       "      <th>2</th>\n",
       "      <td>MyLoanCare</td>\n",
       "      <td>Credit Cards</td>\n",
       "      <td>Series A</td>\n",
       "      <td>949000.0</td>\n",
       "      <td>Gurgaon</td>\n",
       "      <td>Leading Online Loans Marketplace in India</td>\n",
       "    </tr>\n",
       "    <tr>\n",
       "      <th>3</th>\n",
       "      <td>PayMe India</td>\n",
       "      <td>Financial Services</td>\n",
       "      <td>Angel</td>\n",
       "      <td>2000000.0</td>\n",
       "      <td>Noida</td>\n",
       "      <td>PayMe India is an innovative FinTech organizat...</td>\n",
       "    </tr>\n",
       "    <tr>\n",
       "      <th>4</th>\n",
       "      <td>Eunimart</td>\n",
       "      <td>E-Commerce</td>\n",
       "      <td>Seed</td>\n",
       "      <td>0.0</td>\n",
       "      <td>Hyderabad</td>\n",
       "      <td>Eunimart is a one stop solution for merchants ...</td>\n",
       "    </tr>\n",
       "    <tr>\n",
       "      <th>...</th>\n",
       "      <td>...</td>\n",
       "      <td>...</td>\n",
       "      <td>...</td>\n",
       "      <td>...</td>\n",
       "      <td>...</td>\n",
       "      <td>...</td>\n",
       "    </tr>\n",
       "    <tr>\n",
       "      <th>521</th>\n",
       "      <td>Udaan</td>\n",
       "      <td>E-Commerce</td>\n",
       "      <td>Series C</td>\n",
       "      <td>225000000.0</td>\n",
       "      <td>Bengaluru</td>\n",
       "      <td>Udaan is a B2B trade platform, designed specif...</td>\n",
       "    </tr>\n",
       "    <tr>\n",
       "      <th>522</th>\n",
       "      <td>Happyeasygo Group</td>\n",
       "      <td>Hospitality</td>\n",
       "      <td>Series A</td>\n",
       "      <td>0.0</td>\n",
       "      <td>Haryana</td>\n",
       "      <td>HappyEasyGo is an online travel domain.</td>\n",
       "    </tr>\n",
       "    <tr>\n",
       "      <th>523</th>\n",
       "      <td>Mombay</td>\n",
       "      <td>Catering</td>\n",
       "      <td>Seed</td>\n",
       "      <td>7500.0</td>\n",
       "      <td>Mumbai</td>\n",
       "      <td>Mombay is a unique opportunity for housewives ...</td>\n",
       "    </tr>\n",
       "    <tr>\n",
       "      <th>524</th>\n",
       "      <td>Droni Tech</td>\n",
       "      <td>IT</td>\n",
       "      <td>Seed</td>\n",
       "      <td>511000.0</td>\n",
       "      <td>Mumbai</td>\n",
       "      <td>Droni Tech manufacture UAVs and develop softwa...</td>\n",
       "    </tr>\n",
       "    <tr>\n",
       "      <th>525</th>\n",
       "      <td>Netmeds</td>\n",
       "      <td>Biotechnology</td>\n",
       "      <td>Series C</td>\n",
       "      <td>35000000.0</td>\n",
       "      <td>Chennai</td>\n",
       "      <td>Welcome to India's most convenient pharmacy!</td>\n",
       "    </tr>\n",
       "  </tbody>\n",
       "</table>\n",
       "<p>526 rows × 6 columns</p>\n",
       "</div>"
      ],
      "text/plain": [
       "         Company/Brand              Sector     Stage    Amount($) HeadQuarter  \\\n",
       "0      TheCollegeFever         Advertising      Seed     250000.0   Bengaluru   \n",
       "1      Happy Cow Dairy         Agriculture      Seed     584000.0      Mumbai   \n",
       "2           MyLoanCare        Credit Cards  Series A     949000.0     Gurgaon   \n",
       "3          PayMe India  Financial Services     Angel    2000000.0       Noida   \n",
       "4             Eunimart          E-Commerce      Seed          0.0   Hyderabad   \n",
       "..                 ...                 ...       ...          ...         ...   \n",
       "521              Udaan          E-Commerce  Series C  225000000.0   Bengaluru   \n",
       "522  Happyeasygo Group         Hospitality  Series A          0.0     Haryana   \n",
       "523             Mombay            Catering      Seed       7500.0      Mumbai   \n",
       "524         Droni Tech                  IT      Seed     511000.0      Mumbai   \n",
       "525            Netmeds       Biotechnology  Series C   35000000.0     Chennai   \n",
       "\n",
       "                                          What it does  \n",
       "0    TheCollegeFever is a hub for fun, fiesta and f...  \n",
       "1    A startup which aggregates milk from dairy far...  \n",
       "2            Leading Online Loans Marketplace in India  \n",
       "3    PayMe India is an innovative FinTech organizat...  \n",
       "4    Eunimart is a one stop solution for merchants ...  \n",
       "..                                                 ...  \n",
       "521  Udaan is a B2B trade platform, designed specif...  \n",
       "522            HappyEasyGo is an online travel domain.  \n",
       "523  Mombay is a unique opportunity for housewives ...  \n",
       "524  Droni Tech manufacture UAVs and develop softwa...  \n",
       "525       Welcome to India's most convenient pharmacy!  \n",
       "\n",
       "[526 rows x 6 columns]"
      ]
     },
     "execution_count": 27,
     "metadata": {},
     "output_type": "execute_result"
    }
   ],
   "source": [
    "data_2018"
   ]
  },
  {
   "cell_type": "markdown",
   "id": "0dd7b035",
   "metadata": {},
   "source": [
    "<H1 style=\"text-align: center;font-size:30px ; font-family: 'Times New Roman'; color: #00008B\"> Analysis Of The 2019 Data</H1> <br><br>"
   ]
  },
  {
   "cell_type": "markdown",
   "id": "d527757f",
   "metadata": {},
   "source": [
    "<H1 style=\"text-align: center;font-size:30px ; font-family: 'Times New Roman'; color: #00008B\"> Column names and description: For the year 2019 :</H1> <br><br>"
   ]
  },
  {
   "cell_type": "markdown",
   "id": "a6e08cde",
   "metadata": {},
   "source": [
    "<br><p style=\"font-size:20px ; font-weight: bold ; font-family: 'Times New Roman'; color: #00008B\">2019 Dataset.</p><br><br>"
   ]
  },
  {
   "cell_type": "code",
   "execution_count": 28,
   "id": "83427a99",
   "metadata": {},
   "outputs": [
    {
     "data": {
      "text/html": [
       "<div>\n",
       "<style scoped>\n",
       "    .dataframe tbody tr th:only-of-type {\n",
       "        vertical-align: middle;\n",
       "    }\n",
       "\n",
       "    .dataframe tbody tr th {\n",
       "        vertical-align: top;\n",
       "    }\n",
       "\n",
       "    .dataframe thead th {\n",
       "        text-align: right;\n",
       "    }\n",
       "</style>\n",
       "<table border=\"1\" class=\"dataframe\">\n",
       "  <thead>\n",
       "    <tr style=\"text-align: right;\">\n",
       "      <th></th>\n",
       "      <th>Company/Brand</th>\n",
       "      <th>Founded</th>\n",
       "      <th>HeadQuarter</th>\n",
       "      <th>Sector</th>\n",
       "      <th>What it does</th>\n",
       "      <th>Founders</th>\n",
       "      <th>Investor</th>\n",
       "      <th>Amount($)</th>\n",
       "      <th>Stage</th>\n",
       "    </tr>\n",
       "  </thead>\n",
       "  <tbody>\n",
       "    <tr>\n",
       "      <th>0</th>\n",
       "      <td>Bombay Shaving</td>\n",
       "      <td>NaN</td>\n",
       "      <td>NaN</td>\n",
       "      <td>Ecommerce</td>\n",
       "      <td>Provides a range of male grooming products</td>\n",
       "      <td>Shantanu Deshpande</td>\n",
       "      <td>Sixth Sense Ventures</td>\n",
       "      <td>$6,300,000</td>\n",
       "      <td>NaN</td>\n",
       "    </tr>\n",
       "    <tr>\n",
       "      <th>1</th>\n",
       "      <td>Ruangguru</td>\n",
       "      <td>2014.0</td>\n",
       "      <td>Mumbai</td>\n",
       "      <td>Edtech</td>\n",
       "      <td>A learning platform that provides topic-based ...</td>\n",
       "      <td>Adamas Belva Syah Devara, Iman Usman.</td>\n",
       "      <td>General Atlantic</td>\n",
       "      <td>$150,000,000</td>\n",
       "      <td>Series C</td>\n",
       "    </tr>\n",
       "    <tr>\n",
       "      <th>2</th>\n",
       "      <td>Eduisfun</td>\n",
       "      <td>NaN</td>\n",
       "      <td>Mumbai</td>\n",
       "      <td>Edtech</td>\n",
       "      <td>It aims to make learning fun via games.</td>\n",
       "      <td>Jatin Solanki</td>\n",
       "      <td>Deepak Parekh, Amitabh Bachchan, Piyush Pandey</td>\n",
       "      <td>$28,000,000</td>\n",
       "      <td>Fresh funding</td>\n",
       "    </tr>\n",
       "    <tr>\n",
       "      <th>3</th>\n",
       "      <td>HomeLane</td>\n",
       "      <td>2014.0</td>\n",
       "      <td>Chennai</td>\n",
       "      <td>Interior design</td>\n",
       "      <td>Provides interior designing solutions</td>\n",
       "      <td>Srikanth Iyer, Rama Harinath</td>\n",
       "      <td>Evolvence India Fund (EIF), Pidilite Group, FJ...</td>\n",
       "      <td>$30,000,000</td>\n",
       "      <td>Series D</td>\n",
       "    </tr>\n",
       "    <tr>\n",
       "      <th>4</th>\n",
       "      <td>Nu Genes</td>\n",
       "      <td>2004.0</td>\n",
       "      <td>Telangana</td>\n",
       "      <td>AgriTech</td>\n",
       "      <td>It is a seed company engaged in production, pr...</td>\n",
       "      <td>Narayana Reddy Punyala</td>\n",
       "      <td>Innovation in Food and Agriculture (IFA)</td>\n",
       "      <td>$6,000,000</td>\n",
       "      <td>NaN</td>\n",
       "    </tr>\n",
       "    <tr>\n",
       "      <th>...</th>\n",
       "      <td>...</td>\n",
       "      <td>...</td>\n",
       "      <td>...</td>\n",
       "      <td>...</td>\n",
       "      <td>...</td>\n",
       "      <td>...</td>\n",
       "      <td>...</td>\n",
       "      <td>...</td>\n",
       "      <td>...</td>\n",
       "    </tr>\n",
       "    <tr>\n",
       "      <th>84</th>\n",
       "      <td>Infra.Market</td>\n",
       "      <td>NaN</td>\n",
       "      <td>Mumbai</td>\n",
       "      <td>Infratech</td>\n",
       "      <td>It connects client requirements to their suppl...</td>\n",
       "      <td>Aaditya Sharda, Souvik Sengupta</td>\n",
       "      <td>Tiger Global, Nexus Venture Partners, Accel Pa...</td>\n",
       "      <td>$20,000,000</td>\n",
       "      <td>Series A</td>\n",
       "    </tr>\n",
       "    <tr>\n",
       "      <th>85</th>\n",
       "      <td>Oyo</td>\n",
       "      <td>2013.0</td>\n",
       "      <td>Gurugram</td>\n",
       "      <td>Hospitality</td>\n",
       "      <td>Provides rooms for comfortable stay</td>\n",
       "      <td>Ritesh Agarwal</td>\n",
       "      <td>MyPreferred Transformation, Avendus Finance, S...</td>\n",
       "      <td>$693,000,000</td>\n",
       "      <td>NaN</td>\n",
       "    </tr>\n",
       "    <tr>\n",
       "      <th>86</th>\n",
       "      <td>GoMechanic</td>\n",
       "      <td>2016.0</td>\n",
       "      <td>Delhi</td>\n",
       "      <td>Automobile &amp; Technology</td>\n",
       "      <td>Find automobile repair and maintenance service...</td>\n",
       "      <td>Amit Bhasin, Kushal Karwa, Nitin Rana, Rishabh...</td>\n",
       "      <td>Sequoia Capital</td>\n",
       "      <td>$5,000,000</td>\n",
       "      <td>Series B</td>\n",
       "    </tr>\n",
       "    <tr>\n",
       "      <th>87</th>\n",
       "      <td>Spinny</td>\n",
       "      <td>2015.0</td>\n",
       "      <td>Delhi</td>\n",
       "      <td>Automobile</td>\n",
       "      <td>Online car retailer</td>\n",
       "      <td>Niraj Singh, Ramanshu Mahaur, Ganesh Pawar, Mo...</td>\n",
       "      <td>Norwest Venture Partners, General Catalyst, Fu...</td>\n",
       "      <td>$50,000,000</td>\n",
       "      <td>NaN</td>\n",
       "    </tr>\n",
       "    <tr>\n",
       "      <th>88</th>\n",
       "      <td>Ess Kay Fincorp</td>\n",
       "      <td>NaN</td>\n",
       "      <td>Rajasthan</td>\n",
       "      <td>Banking</td>\n",
       "      <td>Organised Non-Banking Finance Company</td>\n",
       "      <td>Rajendra Setia</td>\n",
       "      <td>TPG, Norwest Venture Partners, Evolvence India</td>\n",
       "      <td>$33,000,000</td>\n",
       "      <td>NaN</td>\n",
       "    </tr>\n",
       "  </tbody>\n",
       "</table>\n",
       "<p>89 rows × 9 columns</p>\n",
       "</div>"
      ],
      "text/plain": [
       "      Company/Brand  Founded HeadQuarter                   Sector  \\\n",
       "0    Bombay Shaving      NaN         NaN                Ecommerce   \n",
       "1         Ruangguru   2014.0      Mumbai                   Edtech   \n",
       "2          Eduisfun      NaN      Mumbai                   Edtech   \n",
       "3          HomeLane   2014.0     Chennai          Interior design   \n",
       "4          Nu Genes   2004.0   Telangana                 AgriTech   \n",
       "..              ...      ...         ...                      ...   \n",
       "84     Infra.Market      NaN      Mumbai                Infratech   \n",
       "85              Oyo   2013.0    Gurugram              Hospitality   \n",
       "86       GoMechanic   2016.0       Delhi  Automobile & Technology   \n",
       "87           Spinny   2015.0       Delhi               Automobile   \n",
       "88  Ess Kay Fincorp      NaN   Rajasthan                  Banking   \n",
       "\n",
       "                                         What it does  \\\n",
       "0          Provides a range of male grooming products   \n",
       "1   A learning platform that provides topic-based ...   \n",
       "2             It aims to make learning fun via games.   \n",
       "3               Provides interior designing solutions   \n",
       "4   It is a seed company engaged in production, pr...   \n",
       "..                                                ...   \n",
       "84  It connects client requirements to their suppl...   \n",
       "85                Provides rooms for comfortable stay   \n",
       "86  Find automobile repair and maintenance service...   \n",
       "87                                Online car retailer   \n",
       "88              Organised Non-Banking Finance Company   \n",
       "\n",
       "                                             Founders  \\\n",
       "0                                  Shantanu Deshpande   \n",
       "1               Adamas Belva Syah Devara, Iman Usman.   \n",
       "2                                       Jatin Solanki   \n",
       "3                        Srikanth Iyer, Rama Harinath   \n",
       "4                              Narayana Reddy Punyala   \n",
       "..                                                ...   \n",
       "84                    Aaditya Sharda, Souvik Sengupta   \n",
       "85                                     Ritesh Agarwal   \n",
       "86  Amit Bhasin, Kushal Karwa, Nitin Rana, Rishabh...   \n",
       "87  Niraj Singh, Ramanshu Mahaur, Ganesh Pawar, Mo...   \n",
       "88                                     Rajendra Setia   \n",
       "\n",
       "                                             Investor     Amount($)  \\\n",
       "0                                Sixth Sense Ventures    $6,300,000   \n",
       "1                                    General Atlantic  $150,000,000   \n",
       "2      Deepak Parekh, Amitabh Bachchan, Piyush Pandey   $28,000,000   \n",
       "3   Evolvence India Fund (EIF), Pidilite Group, FJ...   $30,000,000   \n",
       "4            Innovation in Food and Agriculture (IFA)    $6,000,000   \n",
       "..                                                ...           ...   \n",
       "84  Tiger Global, Nexus Venture Partners, Accel Pa...   $20,000,000   \n",
       "85  MyPreferred Transformation, Avendus Finance, S...  $693,000,000   \n",
       "86                                    Sequoia Capital    $5,000,000   \n",
       "87  Norwest Venture Partners, General Catalyst, Fu...   $50,000,000   \n",
       "88     TPG, Norwest Venture Partners, Evolvence India   $33,000,000   \n",
       "\n",
       "            Stage  \n",
       "0             NaN  \n",
       "1        Series C  \n",
       "2   Fresh funding  \n",
       "3        Series D  \n",
       "4             NaN  \n",
       "..            ...  \n",
       "84       Series A  \n",
       "85            NaN  \n",
       "86       Series B  \n",
       "87            NaN  \n",
       "88            NaN  \n",
       "\n",
       "[89 rows x 9 columns]"
      ]
     },
     "execution_count": 28,
     "metadata": {},
     "output_type": "execute_result"
    }
   ],
   "source": [
    "data_2019"
   ]
  },
  {
   "cell_type": "code",
   "execution_count": 29,
   "id": "a444dd7f",
   "metadata": {},
   "outputs": [
    {
     "name": "stdout",
     "output_type": "stream",
     "text": [
      "<class 'pandas.core.frame.DataFrame'>\n",
      "RangeIndex: 89 entries, 0 to 88\n",
      "Data columns (total 9 columns):\n",
      " #   Column         Non-Null Count  Dtype  \n",
      "---  ------         --------------  -----  \n",
      " 0   Company/Brand  89 non-null     object \n",
      " 1   Founded        60 non-null     float64\n",
      " 2   HeadQuarter    70 non-null     object \n",
      " 3   Sector         84 non-null     object \n",
      " 4   What it does   89 non-null     object \n",
      " 5   Founders       86 non-null     object \n",
      " 6   Investor       89 non-null     object \n",
      " 7   Amount($)      89 non-null     object \n",
      " 8   Stage          43 non-null     object \n",
      "dtypes: float64(1), object(8)\n",
      "memory usage: 6.4+ KB\n"
     ]
    }
   ],
   "source": [
    "data_2019.info()"
   ]
  },
  {
   "cell_type": "code",
   "execution_count": 30,
   "id": "ff0ca3c2",
   "metadata": {},
   "outputs": [
    {
     "data": {
      "text/plain": [
       "Index(['Company/Brand', 'Founded', 'HeadQuarter', 'Sector', 'What it does',\n",
       "       'Founders', 'Investor', 'Amount($)', 'Stage'],\n",
       "      dtype='object')"
      ]
     },
     "execution_count": 30,
     "metadata": {},
     "output_type": "execute_result"
    }
   ],
   "source": [
    "# to see the names of the columns in the dataset\n",
    "\n",
    "data_2019.columns   "
   ]
  },
  {
   "cell_type": "markdown",
   "id": "7db642a9",
   "metadata": {},
   "source": [
    "<br><p style=\"font-size:20px ; font-weight: bold ; font-family: 'Times New Roman'; color: #00008B\">Observation: </p><br>\n",
    "\n",
    "<ol style=\"font-size:20px ; font-family: 'Times New Roman';\"> \n",
    "The following is observed about the columns in the data set with respect to the vaialable columns and their order:\n",
    "    <li>Company/Brand</li>\n",
    "    <li>Founded</li>\n",
    "    <li>HeadQuarter/</li>\n",
    "    <li>Sector</li>\n",
    "    <li>What it does</li>\n",
    "    <li>Founders</li>\n",
    "    <li>Investor</li>\n",
    "    <li>Amount($)</li>\n",
    "    <li>Stage</li>\n",
    "</ol>\n",
    "\n",
    "<p style=\"font-size:20px ; font-family: 'Times New Roman';\"> The name of certain column are different from that of the 2018 data set and there are some new columns which are not in the 2018 dataset </p><br>\n",
    "\n",
    "<p style=\"font-size:20px ; font-family: 'Times New Roman';\"> There are issues with the data types of some columns, for instance the 'Founded' and 'Amount($)' columns </p><br>"
   ]
  },
  {
   "cell_type": "code",
   "execution_count": 31,
   "id": "3ed29f83",
   "metadata": {},
   "outputs": [
    {
     "data": {
      "text/html": [
       "<style type=\"text/css\">\n",
       "#T_6b63b thead>tr>th {\n",
       "  text-align: left;\n",
       "}\n",
       "#T_6b63b_row0_col0, #T_6b63b_row1_col0, #T_6b63b_row2_col0, #T_6b63b_row3_col0, #T_6b63b_row4_col0, #T_6b63b_row5_col0, #T_6b63b_row6_col0, #T_6b63b_row7_col0, #T_6b63b_row8_col0 {\n",
       "  text-align: left;\n",
       "  font-size: 12px;\n",
       "  vertical-align: middle;\n",
       "  width: 5%;\n",
       "  max-width: 50px;\n",
       "  min-width: 20px;\n",
       "}\n",
       "#T_6b63b_row0_col1, #T_6b63b_row1_col1, #T_6b63b_row2_col1, #T_6b63b_row3_col1, #T_6b63b_row4_col1, #T_6b63b_row5_col1, #T_6b63b_row6_col1, #T_6b63b_row7_col1, #T_6b63b_row8_col1 {\n",
       "  text-align: left;\n",
       "  font-size: 12px;\n",
       "  vertical-align: middle;\n",
       "  width: 15%;\n",
       "  max-width: 200px;\n",
       "  min-width: 100px;\n",
       "  word-break: break-word;\n",
       "}\n",
       "#T_6b63b_row0_col2, #T_6b63b_row1_col2, #T_6b63b_row2_col2, #T_6b63b_row3_col2, #T_6b63b_row4_col2, #T_6b63b_row5_col2, #T_6b63b_row6_col2, #T_6b63b_row7_col2, #T_6b63b_row8_col2 {\n",
       "  text-align: left;\n",
       "  font-size: 12px;\n",
       "  vertical-align: middle;\n",
       "  width: 30%;\n",
       "  min-width: 100px;\n",
       "}\n",
       "#T_6b63b_row0_col3, #T_6b63b_row1_col3, #T_6b63b_row2_col3, #T_6b63b_row3_col3, #T_6b63b_row4_col3, #T_6b63b_row5_col3, #T_6b63b_row6_col3, #T_6b63b_row7_col3, #T_6b63b_row8_col3 {\n",
       "  text-align: left;\n",
       "  font-size: 12px;\n",
       "  vertical-align: middle;\n",
       "  width: 25%;\n",
       "  min-width: 100px;\n",
       "}\n",
       "#T_6b63b_row0_col4, #T_6b63b_row1_col4, #T_6b63b_row2_col4, #T_6b63b_row3_col4, #T_6b63b_row4_col4, #T_6b63b_row5_col4, #T_6b63b_row6_col4, #T_6b63b_row7_col4, #T_6b63b_row8_col4 {\n",
       "  text-align: left;\n",
       "  font-size: 12px;\n",
       "  vertical-align: middle;\n",
       "  width: 20%;\n",
       "  min-width: 150px;\n",
       "}\n",
       "#T_6b63b_row0_col5, #T_6b63b_row1_col5, #T_6b63b_row2_col5, #T_6b63b_row3_col5, #T_6b63b_row4_col5, #T_6b63b_row5_col5, #T_6b63b_row6_col5, #T_6b63b_row7_col5, #T_6b63b_row8_col5 {\n",
       "  text-align: left;\n",
       "  font-size: 12px;\n",
       "  vertical-align: middle;\n",
       "  width: 10%;\n",
       "}\n",
       "</style>\n",
       "<table id=\"T_6b63b\">\n",
       "  <caption><strong>Data Frame Summary</strong><br>__<br>Dimensions: 89 x 9<br>Duplicates: 0</caption>\n",
       "  <thead>\n",
       "    <tr>\n",
       "      <th id=\"T_6b63b_level0_col0\" class=\"col_heading level0 col0\" >No</th>\n",
       "      <th id=\"T_6b63b_level0_col1\" class=\"col_heading level0 col1\" >Variable</th>\n",
       "      <th id=\"T_6b63b_level0_col2\" class=\"col_heading level0 col2\" >Stats / Values</th>\n",
       "      <th id=\"T_6b63b_level0_col3\" class=\"col_heading level0 col3\" >Freqs / (% of Valid)</th>\n",
       "      <th id=\"T_6b63b_level0_col4\" class=\"col_heading level0 col4\" >Graph</th>\n",
       "      <th id=\"T_6b63b_level0_col5\" class=\"col_heading level0 col5\" >Missing</th>\n",
       "    </tr>\n",
       "  </thead>\n",
       "  <tbody>\n",
       "    <tr>\n",
       "      <td id=\"T_6b63b_row0_col0\" class=\"data row0 col0\" >1</td>\n",
       "      <td id=\"T_6b63b_row0_col1\" class=\"data row0 col1\" ><strong>Company/Brand</strong><br>[object]</td>\n",
       "      <td id=\"T_6b63b_row0_col2\" class=\"data row0 col2\" >1. Kratikal<br>2. Licious<br>3. Bombay Shaving<br>4. KredX<br>5. Euler Motors<br>6. PiBeam<br>7. Stanza Living<br>8. Ecom Express<br>9. WishADish<br>10. Origo<br>11. other</td>\n",
       "      <td id=\"T_6b63b_row0_col3\" class=\"data row0 col3\" >2 (2.2%)<br>2 (2.2%)<br>1 (1.1%)<br>1 (1.1%)<br>1 (1.1%)<br>1 (1.1%)<br>1 (1.1%)<br>1 (1.1%)<br>1 (1.1%)<br>1 (1.1%)<br>77 (86.5%)</td>\n",
       "      <td id=\"T_6b63b_row0_col4\" class=\"data row0 col4\" ><img src = \"data:image/png;base64, iVBORw0KGgoAAAANSUhEUgAAAJsAAAD+CAYAAAAtWHdlAAAAOXRFWHRTb2Z0d2FyZQBNYXRwbG90bGliIHZlcnNpb24zLjUuMiwgaHR0cHM6Ly9tYXRwbG90bGliLm9yZy8qNh9FAAAACXBIWXMAAA9hAAAPYQGoP6dpAAAD2ElEQVR4nO3cMWorVwCG0SshnKdmhDB4GV7ALCKLzSK0AO/DGE0ROa9RihjjJgSC9ClWzulUWEzxMWKG+3t1Pp8HFNa3vgD+P8RGRmxkxEZGbGTERkZsZMRGRmxkVmOM7Rjj4ePzz/P5fLrh9XDHNo+Pj79O07QfY4xlWd5Wq9VvguMa1tM07ed5Ps3zfPqI7uEf/wr+hc0YY+x2u/ePz9sbXgt3zgMCGbGRERsZsZERGxmxkREbGbGRERsZsZERGxmxkREbGbGR2YwxxvF4/HHrC+H+bZZleTscDp8ndccYP298TdwpGwQyK/8yi4o7GxnrKjLWVWSsq8h4qUtGbGTERkZsZMRGRmxkxEZGbGTERkZsZMRGRmxkxEbG4IWMwQsZx8LJGLyQ+Xpnc1fjqj4HL8YuXNt6mqb98/PzMHbh2tZjjLHdbv+49YVw/7zUJSM2MmIjIzYyYiMjNjJiIyM2MmIjIzYyYiMjNjJiI7MeY4zT6fTLrS+E+7deluXt5eXF2IWrcyycjMELGQ8IZPyMkrGuImNdRca6iowHBDJiIyM2MmIjIzYyYiMjNjJiIyM2MmIjIzYyYiMjNjLWVWSsq8g4Fk7GuoqMOxsZgxcyBi9kDF7IeKlLRmxkxEZGbGTERkZsZMRGRmxkxEZGbGTERkZsZMRGxuCFjMELGcfCyRi8kHFnI2PwQsbghYzBCxkvdcmIjYzYyIiNjNjIiI2M2MiIjYzYyIiNjNjIiI2M2MiIjYx1FRnrKjI2CGSsq8i4s5GxriJjXUXGuoqMl7pkxEZGbGTERkZsZMRGRmxkxEZGbGTERkZsZMRGRmxkDF7IGLyQcSycjMELGXc2MgYvZAxeyBi8kPFSl4zYyIiNjNjIiI2M2MiIjYzYyIiNjNjIiI2M2MiIjYzBCxmDFzKOhZMxeCHjAYGMn1Ey1lVkrKvIWFeR8YBARmxkxEZGbGTERkZsZMRGRmxkxEZGbGTERkZsZMRGxrqKjHUVGcfCyVhXkXFnI2PwQsbghYzBCxkvdcmIjYzYyIiNjNjIiI2M2MiIjYzYyIiNjNjIiI2M2MgYvJAxeCHjWDgZgxcyX+9s8NXFf+k+By+X/FK+v2sMoDbTNO3neT7tdrv3S30p39vxePxxOBz2r6+vD2OMy8U2xhi73e796enp90t9KXdhe+kv9FKXjNjIiI2M2MiIjYzYyIiNjNjIiI2M2MiIjYzYyIiNzGaMv46U3PpC+O+4Vg+bZVneDofDflzhSAnf1zUGUI6F83cufizc4IWMBwQyYiMjNjJiIyM2MmIjIzYyYiMjNjJ/AiE/vT2Ddz0lAAAAAElFTkSuQmCC\"></img></td>\n",
       "      <td id=\"T_6b63b_row0_col5\" class=\"data row0 col5\" >0<br>(0.0%)</td>\n",
       "    </tr>\n",
       "    <tr>\n",
       "      <td id=\"T_6b63b_row1_col0\" class=\"data row1 col0\" >2</td>\n",
       "      <td id=\"T_6b63b_row1_col1\" class=\"data row1 col1\" ><strong>Founded</strong><br>[float64]</td>\n",
       "      <td id=\"T_6b63b_row1_col2\" class=\"data row1 col2\" >Mean (sd) : 2014.5 (2.9)<br>min < med < max:<br>2004.0 < 2015.0 < 2019.0<br>IQR (CV) : 3.2 (685.9)</td>\n",
       "      <td id=\"T_6b63b_row1_col3\" class=\"data row1 col3\" >12 distinct values</td>\n",
       "      <td id=\"T_6b63b_row1_col4\" class=\"data row1 col4\" ><img src = \"data:image/png;base64, iVBORw0KGgoAAAANSUhEUgAAAKQAAABACAYAAACUYNzVAAAAOXRFWHRTb2Z0d2FyZQBNYXRwbG90bGliIHZlcnNpb24zLjUuMiwgaHR0cHM6Ly9tYXRwbG90bGliLm9yZy8qNh9FAAAACXBIWXMAAA9hAAAPYQGoP6dpAAACW0lEQVR4nO3dzYraUBTA8XONSvwgQaS6c9NloYssfYg+bB+hC5/ARTdduRMkREwnGK/pogMdCir54p7o/7e/kzD8Gbhn5GiKohBAi57rFwA+6rt+AYgYY0YiMqx4/FwUxVuT7+MSQTpmjBnN5/NvQRDMqpw/Ho+xMeb7s0RJkO4NgyCYrdfrtzAMszIHkyTxN5vN7HA4DEWEINGcMAyzxWLxu8LRUeMv4xCXGqhCkFCFIKEKQUIVgoQq3LI7zlo7EJHAGFPleE9ErhUf3cpAniA7LE3TQZ7nX1erled5XqkZprV2kKbp5+l0+qvX6+Vln93WQJ4gO+x8Pvd93x9HUZQtl8u4zNndbjfbbrefoij6WfZsmwN5gnwCk8mk9FA9juNR1bPvWhnIc6mBKgQJVQgSqhAkVOFSg0pqzj9vzjAJEqXVmX+K3J9hEiRKqzP/fDTDJEhU1sYMk0sNVCFIqEKQUIUgoQpBQhWChCoECVUIEqoQJFQhSKjCvw4/YC2eewT5jrV4OhDkP6zFU4Ag/8NaPLe41EAVgoQqBAlVCBKqECRUIUioQpBQhSChCkFCFYKEKgQJVQgSqhAkVOHTPg2psZ4uuF6vgxZeqZMIsgF11tPlee5ba79kWfZDRKp87O2pEGQDGvh6jvHlcvHaer8uIcgG1fl6DvzFpQaqECRUIUioQpBQhSChyt1btqtNDmyQeF03g3S1yYENEq/t3l9IV5sc2CDxwh4Oxl1tcmCDxGt6GGSSJH7ZH5okiW+t7Uv1Dxv0u/Tc0+nki4ikaerv9/sxZ2979Pv9A5Y2UiFwig65AAAAAElFTkSuQmCC\"></img></td>\n",
       "      <td id=\"T_6b63b_row1_col5\" class=\"data row1 col5\" >29<br>(32.6%)</td>\n",
       "    </tr>\n",
       "    <tr>\n",
       "      <td id=\"T_6b63b_row2_col0\" class=\"data row2 col0\" >3</td>\n",
       "      <td id=\"T_6b63b_row2_col1\" class=\"data row2 col1\" ><strong>HeadQuarter</strong><br>[object]</td>\n",
       "      <td id=\"T_6b63b_row2_col2\" class=\"data row2 col2\" >1. Bangalore<br>2. nan<br>3. Mumbai<br>4. Delhi<br>5. Noida<br>6. Gurugram<br>7. Chennai<br>8. Pune<br>9. Jaipur<br>10. Telangana<br>11. other</td>\n",
       "      <td id=\"T_6b63b_row2_col3\" class=\"data row2 col3\" >21 (23.6%)<br>19 (21.3%)<br>12 (13.5%)<br>10 (11.2%)<br>5 (5.6%)<br>5 (5.6%)<br>4 (4.5%)<br>2 (2.2%)<br>2 (2.2%)<br>1 (1.1%)<br>8 (9.0%)</td>\n",
       "      <td id=\"T_6b63b_row2_col4\" class=\"data row2 col4\" ><img src = \"data:image/png;base64, iVBORw0KGgoAAAANSUhEUgAAAJsAAAD+CAYAAAAtWHdlAAAAOXRFWHRTb2Z0d2FyZQBNYXRwbG90bGliIHZlcnNpb24zLjUuMiwgaHR0cHM6Ly9tYXRwbG90bGliLm9yZy8qNh9FAAAACXBIWXMAAA9hAAAPYQGoP6dpAAAEc0lEQVR4nO3dTU7cWABG0QdCdJgUQpFYRhbAInqxvYhaQPaBEDUI6UzoQQdEfkhVgX1dgnNmDCJ5cPVKtvzFR/f39wMKx0tfAO+H2MiIjYzYyIiNjNjIiI2M2MiIjczRGONsjHG69IX85Nv9/f3d0hfBtE4+fvz492q1ulj6Qp7abDY3R0dH/wjubTlZrVYXV1dXd+fn51+Xvpgxxri9vf2wXq8vrq+vT8cYYntDTsYY4/z8/Ovl5eWXpS/mibOlL4DpuUEgIzYyYiMjNjJiIyM2MmIjIzYyYiMjNjJiIyM2MmIjIzYyJ2P8/w7Z0hfy4JCuhWmdbDabm/V6fTEO6B2yzWZzM8b4tvR1MC0bBDJH/sssKodysjnJ3oGDWFdZU70Pi6+rrKnej0NZVx3MnTDz8VCXjNjIiI2M2MiIjYzYyIiNjNjIiI2M2MiIjYzYyIiNzOKDFwOX9+MgBi8GLu+D18LJGLyQmetkc1Lxi1kGLwYs/M7kgxcDFp4z1+DFgIVfeKhLRmxkxEZGbGTERkZsZMRGRmxkxEZGbGTERkZsZMRGZvLBiwELz5ll8GLAwu94LZyMwQsZNwhkpvoZ9bPJVpOsq6yp2MWr11XWVOxqqnWVNRVbuUEgIzYyYiMjNjJiIyM2MmIjIzYyYiMjNjJiIyM2MmIj8+p1lTUVu5pkXWVNxS68Fk7GuorMriebk4tX22nwYtDCFLYOXgxamMqugxeDFl7NQ10yYiMjNjJiIyM2MmIjIzYyYiMjNjJiIyM2MmIjIzYyWwcvBi1MZafBi0ELU/BaOBmDFzJONjIGL2QMXsgYvJDxUJeM2MiIjYzYyIiNjNjIiI2M2MiIjYzYyIiNjNjIiI2M2MhYV5GxriJjg0DGuorMtpPNicZk/riusqpiSs+uq6yqmNq2dZVVFZPxUJeM2MiIjYzYyIiNjNjIiI2M2MiIjYzYyIiNjNjIiI3Ms4MXQxem9sfBi6ELU/JaOBmDFzI/n2xOMmbzw+DFwIU5HT8MXq6uru6+R7dtsAwv8jh4+f63gQuz8VCXjNjIiI2M2MiIjYzYyIiNjNjIiI2M2MiIjYzYyIiNzNYvvMBUng5eDFyYldfCyRi8kHGDQMbPKBnrKjLWVWSsq8i4QSAjNjJiIyM2MmIjIzYyYiMjNjJiIyM2MmIjIzYyYiNjXUXGuoqM18LJWFeReXqyOdWY1ePgxdiFuR2vVquLT58+DWMX5nY8xhhnZ2f/Ln0hvH0e6pIRGxmxkREbGbGRERsZsZERGxmxkREbGbGRERsZsZE5HmOMu7u7v5a+EN6+481mc/P582djF2bntXAyBi9kfp7y7cNJyF5++MLLPgxk2NfJwxdennx4Y6vb29sP6/X64vr6+nSMITZ28viFl8vLyy97/ltfg2EvHuqSERsZsZERGxmxkREbGbGRERsZsZERGxmxkREbGbGRedEXXnwRhpd4+oWXvV4ZMpBhX14LJ2PwQsYNAhmxkREbGbGRERsZsZERGxmxkREbmf8AWGcnCZAZUy8AAAAASUVORK5CYII=\"></img></td>\n",
       "      <td id=\"T_6b63b_row2_col5\" class=\"data row2 col5\" >19<br>(21.3%)</td>\n",
       "    </tr>\n",
       "    <tr>\n",
       "      <td id=\"T_6b63b_row3_col0\" class=\"data row3 col0\" >4</td>\n",
       "      <td id=\"T_6b63b_row3_col1\" class=\"data row3 col1\" ><strong>Sector</strong><br>[object]</td>\n",
       "      <td id=\"T_6b63b_row3_col2\" class=\"data row3 col2\" >1. Edtech<br>2. nan<br>3. Fintech<br>4. AgriTech<br>5. Technology<br>6. SaaS<br>7. E-commerce<br>8. Automobile<br>9. Logistics<br>10. Food<br>11. other</td>\n",
       "      <td id=\"T_6b63b_row3_col3\" class=\"data row3 col3\" >7 (7.9%)<br>5 (5.6%)<br>5 (5.6%)<br>4 (4.5%)<br>4 (4.5%)<br>4 (4.5%)<br>3 (3.4%)<br>3 (3.4%)<br>3 (3.4%)<br>2 (2.2%)<br>49 (55.1%)</td>\n",
       "      <td id=\"T_6b63b_row3_col4\" class=\"data row3 col4\" ><img src = \"data:image/png;base64, iVBORw0KGgoAAAANSUhEUgAAAJsAAAD+CAYAAAAtWHdlAAAAOXRFWHRTb2Z0d2FyZQBNYXRwbG90bGliIHZlcnNpb24zLjUuMiwgaHR0cHM6Ly9tYXRwbG90bGliLm9yZy8qNh9FAAAACXBIWXMAAA9hAAAPYQGoP6dpAAAD80lEQVR4nO3dQWobZwCG4V9BhGQjYQw+jA6Rw/YQuo0xnkUdslEXTUIbjyIZzbwF93l2AQlEeBllhv+LNqfTaUDhw3/9Afj/EBsZsZERGxmxkREbGbGRERsZsZHZjDE+jzE+vuE9306n08tKn4d3bHt/f/9lt9vdXfuGaZqeNpvNH4Ljrba73e7ucDi87Pf7r5de/Pz8/Ol4PN49Pj5+HGOIjTfZjjHGfr//+vDw8OeV7/m84ufhHXODQEZsZMRGRmxkxEZGbGTERkZsZMRGRmxkxEZGbGTERkZsZLZj/H1O7ZoXX/s6mLOdpunpeDzejSvPqU3T9DTG+Lbux+I9skEgs/FfZlG59srmasbNrlpXWVSxhIvrKosqlnLtusqiipt5qEtGbGTERkZsZMRGRmxkxEZGbGTERkZsZMRGRmxkxEbm4uDFyIWlXDV4MXJhCY6FkzF4IePKRsbghYzBCxmDFzIe6pIRGxmxkREbGbGRERsZsZERGxmxkREbGbGRERsZsZExeCFj8ELGsXAyBi9k3CCQufQ16uuTxfx2XWVVxZLOrqusqljapXWVVRWLcYNARmxkxEZGbGTERkZsZMRGRmxkxEZGbGTERkZsZMRG5uy6yqqKpf12XWVVxZIcCydjXUXGlY2MwQsZgxcyBi9kPNQlIzYyYiMjNjJiIyM2MmIjIzYyYiMjNjJiIyM2MmIjY/BCxuCFjGPhZAxeyLiykTF4IWPwQsbghYyHumTERkZsZMRGRmxkxEZGbGTERkZsZMRGRmxkxEZGbGTERsa6iox1FRkbBDLWVWTOXdlc0Vjc7LrKqoo1vFpXWVWxlnPrKqsqFuehLhmxkREbGbGRERsZsZERGxmxkREbGbGRERsZsZERG5lXgxdDF9YyO3gxdGENjoWTMXgh48pGxuCFjMELGYMXMh7qkhEbGbGRERsZsZERGxmxkREbGbGRERsZsZERGxmxkTF4IWPwQsaxcDIGL2TcIJDxNUrGuoqMdRUZ6yoybhDIiI2M2MiIjYzYyIiNjNjIiI2M2MiIjYzYyIiNjNjIWFeRsa4i41g4GesqMr9e2VzRWM2/Bi+GLqzpw4/By+FwePke3a//foNF/By8fP+zoQur8VCXjNjIiI2M2MiIjYzYyIiNjNjIiI2M2MiIjYzYyIiNzKvBC6zln4MXQxdW5Vg4GYMXMuemfNzGN8SM2V944TaGQ/Ne/cILt/ELOeed+4UXbmM4NMNDXTJiIyM2MmIjIzYyYiMjNjJiIyM2MmIjIzYyYiMjNjIGLwvzd3ne7C+8cBvDoXmOha/DsfAZBi9k3CCQERsZsZERGxmxkREbGbGRERsZsZH5C1fhQoMPkF9dAAAAAElFTkSuQmCC\"></img></td>\n",
       "      <td id=\"T_6b63b_row3_col5\" class=\"data row3 col5\" >5<br>(5.6%)</td>\n",
       "    </tr>\n",
       "    <tr>\n",
       "      <td id=\"T_6b63b_row4_col0\" class=\"data row4 col0\" >5</td>\n",
       "      <td id=\"T_6b63b_row4_col1\" class=\"data row4 col1\" ><strong>What it does</strong><br>[object]</td>\n",
       "      <td id=\"T_6b63b_row4_col2\" class=\"data row4 col2\" >1. Online meat shop<br>2. Provides a range of male groom<br>3. Online financial marketplace f<br>4. It is into mother and baby car<br>5. It is offering mobility as a s<br>6. It is engaged in building sust<br>7. Provides comfortable and secur<br>8. It is a technology enabled log<br>9. Provides management solution f<br>10. It provides post-harvest manag<br>11. other</td>\n",
       "      <td id=\"T_6b63b_row4_col3\" class=\"data row4 col3\" >2 (2.2%)<br>1 (1.1%)<br>1 (1.1%)<br>1 (1.1%)<br>1 (1.1%)<br>1 (1.1%)<br>1 (1.1%)<br>1 (1.1%)<br>1 (1.1%)<br>1 (1.1%)<br>78 (87.6%)</td>\n",
       "      <td id=\"T_6b63b_row4_col4\" class=\"data row4 col4\" ><img src = \"data:image/png;base64, iVBORw0KGgoAAAANSUhEUgAAAJsAAAD+CAYAAAAtWHdlAAAAOXRFWHRTb2Z0d2FyZQBNYXRwbG90bGliIHZlcnNpb24zLjUuMiwgaHR0cHM6Ly9tYXRwbG90bGliLm9yZy8qNh9FAAAACXBIWXMAAA9hAAAPYQGoP6dpAAAD2UlEQVR4nO3cQWobWQBF0S8h3NGkhDB4GV6AFpHF9iK0AO/DGNUgcmeiHrQxGTQEOtJVUzln5kHMH1zKVPFfVpfLZUBhfe8D8PsQGxmxkREbGbGRERsZsZERGxmxkVmNMbZjjIePn79fLpfzHc/Dgm0eHx+/TtO0H2OMeZ7fVqvVn4LjFtbTNO0Ph8P5cDicP6J7+Om/gv9gM8YYu93u/ePn7R3PwsJ5QSAjNjJiIyM2MmIjIzYyYiMjNjJiIyM2MmIjIzYyYiMjNjKbMcY4nU5f7n0Qlm8zz/Pb8Xj8vKk7xvh+5zOxUDYIZFb+yywqPz7ZPNW4qc91lWUVt7aepmn//Pw8LKu4tfUYY2y327/ufRCWz0ddMmIjIzYyYiMjNjJiIyM2MmIjIzYyYiMjNjJiIyM2Musxxjifz3/c+yAs33qe57eXlxdjF27OtXAyBi9kPNnIGLyQMXghY/BCxkddMmIjIzYyYiMjNjJiIyM2MmIjIzYyYiMjNjJiIyM2MgYvZAxeyLgWTsbghYwXBDL+jJKxriJjXUXGuoqMFwQyYiMjNjJiIyM2MmIjIzYyYiMjNjJiIyM2MmIjIzYy1lVkrKvIuBZOxrqKjCcbGYMXMgYvZAxeyPioS0ZsZMRGRmxkxEZGbGTERkZsZMRGRmxkxEZGbGTERsbghYzBCxnXwskYvJDxZCNj8ELG4IWMwQsZH3XJiI2M2MiIjYzYyIiNjNjIiI2M2MiIjYzYyIiNjNjIiI2MdRUZ6yoyNghkrKvIeLKRsa4iY11FxrqKjI+6ZMRGRmxkxEZGbGTERkZsZMRGRmxkxEZGbGTERkZsZAxeyBi8kHEtnIzBCxlPNjIGL2QMXsgYvJDxUZeM2MiIjYzYyIiNjNjIiI2M2MiIjYzYyIiNjNjIiI2MwQsZgxcyroWTMXgh4wWBjD+jZKyryFhXkbGuIuMFgYzYyIiNjNjIiI2M2MiIjYzYyIiNjNjIiI2M2MiIjYx1FRnrKjKuhZOxriLjyUbG4IWMwQsZgxcyPuqSERsZsZERGxmxkREbGbGRERsZsZERGxmxkREbGbGRMXghY/BCxrVwMgYvZH58ssG/udpfvM/ByzV+GctzzSHUZpqm/eFwOO92u/drHI7lOJ1OX47H4/719fVhjPHrsY0xxm63e396evr2y6djibbX+kU+6pIRGxmxkREbGbGRERsZsZERGxmxkREbGbGRERsZsZHZjPHPVZJ7H4T/n2t3sZnn+e14PO7HFa+SsBzXHEK5Fs7PXO1auMELGS8IZMRGRmxkxEZGbGTERkZsZMRGRmxk/gZ4R7qBnYRTgQAAAABJRU5ErkJggg==\"></img></td>\n",
       "      <td id=\"T_6b63b_row4_col5\" class=\"data row4 col5\" >0<br>(0.0%)</td>\n",
       "    </tr>\n",
       "    <tr>\n",
       "      <td id=\"T_6b63b_row5_col0\" class=\"data row5 col0\" >6</td>\n",
       "      <td id=\"T_6b63b_row5_col1\" class=\"data row5 col1\" ><strong>Founders</strong><br>[object]</td>\n",
       "      <td id=\"T_6b63b_row5_col2\" class=\"data row5 col2\" >1. nan<br>2. Vivek Gupta, Abhay Hanjura<br>3. Shantanu Deshpande<br>4. Manish Kumar<br>5. Saurav Kumar<br>6. Visakh Sasikumar<br>7. Sandeep Dalmia, Anindya Dutta<br>8. Krishnan, Manju Dhawan, K Saty<br>9. Sawan Kumar, Bhavya Bhambhani<br>10. Mayank Dhanuka, Sunoor Kaul<br>11. other</td>\n",
       "      <td id=\"T_6b63b_row5_col3\" class=\"data row5 col3\" >3 (3.4%)<br>2 (2.2%)<br>1 (1.1%)<br>1 (1.1%)<br>1 (1.1%)<br>1 (1.1%)<br>1 (1.1%)<br>1 (1.1%)<br>1 (1.1%)<br>1 (1.1%)<br>76 (85.4%)</td>\n",
       "      <td id=\"T_6b63b_row5_col4\" class=\"data row5 col4\" ><img src = \"data:image/png;base64, iVBORw0KGgoAAAANSUhEUgAAAJsAAAD+CAYAAAAtWHdlAAAAOXRFWHRTb2Z0d2FyZQBNYXRwbG90bGliIHZlcnNpb24zLjUuMiwgaHR0cHM6Ly9tYXRwbG90bGliLm9yZy8qNh9FAAAACXBIWXMAAA9hAAAPYQGoP6dpAAAECUlEQVR4nO3cMW4aaQCG4R8LeUMDQpY4hg/AIfawewgO4HsgiymCNw1bJLFYb8u8yN7nqRIKNMWrITP6vywul8uAwsO9L4D/D7GRERsZsZERGxmxkREbGbGRERuZxRhjNcZ4/PD5j8vlcr7D9fCFLZ+env5cr9fb6w+naXpdLBZ/CY5bWq7X6+1+vz9vNpu3McY4nU7fDofD9ng8Po4xxMbNLMcYY7PZvO12u+9Xn6/udD18YR4QyIiNjNjIiI2M2MiIjYzYyIiNjNjIiI2M2MiIjYzYyIiNzHKMn2fYfn9w/We4peU0Ta+Hw2E7rs6wTdP0Osb4cb/L4iuyQSCz8F9mUfl4Z3NHYzb/WldZVTGnh9/rqv1+f/4V3cd/v8FNvK+rfv3dqorZeKlLRmxkxEZGbGTERkZsZMRGRmxkxEZGbGTERkZsZMRG5j+DF5jL9eDF0IVZORZOxuCFzPWdzV2NWb0PXoxdmNvDer3ePj8/D2MX5vYwxhir1erve18IX5+XumTERkZsZMRGRmxkxEZGbGTERkZsZMRGRmxkxEZGbGQexhjjfD7/ce8L4et7mKbp9eXlxdiF2TkWTsbghYwHBDJ+RslYV5GxriJjXUXGAwIZsZERGxmxkREbGbGRERsZsZERGxmxkREbGbGRERsZ6yoy1lVkHAsnY11Fxp2NjMELGYMXMgYvZLzUJSM2MmIjIzYyYiMjNjJiIyM2MmIjIzYyYiMjNjJiI2PwQsbghYxj4WQMXsi4s5ExeCFj8ELG4IWMl7pkxEZGbGTERkZsZMRGRmxkxEZGbGTERkZsZMRGRmxkxEbGuoqMdRUZGwQy1lVk3NnIWFeRsa4iY11FxktdMmIjIzYyYiMjNjJiIyM2MmIjIzYyYiMjNjJiIyM2MgYvZAxeyDgWTsbghYw7GxmDFzIGL2QMXsh4qUtGbGTERkZsZMRGRmxkxEZGbGTERkZsZMRGRmxkxEbG4IWMwQsZx8LJGLyQ8YBAxs8oGesqMtZVZKyryHhAICM2MmIjIzYyYiMjNjJiIyM2MmIjIzYyYiMjNjJiI2NdRca6ioxj4WSsq8i4s5ExeCFj8ELG4IWMl7pkxEZGbGTERkZsZMRGRmxkxEZGbGTERkZsZMRGRmxkDF7IGLyQcSycjMELmes7G4wx4y/c++Blji/n85lz+LRcr9fb/X5/3mw2b7f+cj6X0+n07XA4bI/H4+MY4/axjTHGZrN52+1232/95XxKq7m+2EtdMmIjIzYyYiMjNjJiIyM2MmIjIzYyYiMjNjJiIyM2Mssxfh4tufeFcH9zd7Ccpun1cDhsx4xHS/g85hw+ORbOR7MdCzd4IeMBgYzYyIiNjNjIiI2M2MiIjYzYyIiNzD8uwMmcTSdPwQAAAABJRU5ErkJggg==\"></img></td>\n",
       "      <td id=\"T_6b63b_row5_col5\" class=\"data row5 col5\" >3<br>(3.4%)</td>\n",
       "    </tr>\n",
       "    <tr>\n",
       "      <td id=\"T_6b63b_row6_col0\" class=\"data row6 col0\" >7</td>\n",
       "      <td id=\"T_6b63b_row6_col1\" class=\"data row6 col1\" ><strong>Investor</strong><br>[object]</td>\n",
       "      <td id=\"T_6b63b_row6_col2\" class=\"data row6 col2\" >1. Undisclosed<br>2. Trifecta Capital<br>3. Sixth Sense Ventures<br>4. Sunil Gavaskar<br>5. Saama Capital, DSG Consumer Pa<br>6. Blume Ventures, Emergent Ventu<br>7. GAIL (India) Ltd<br>8. Alteria Capital<br>9. CDC Group<br>10. Oikocredit, Caspian SME Impact<br>11. other</td>\n",
       "      <td id=\"T_6b63b_row6_col3\" class=\"data row6 col3\" >3 (3.4%)<br>2 (2.2%)<br>1 (1.1%)<br>1 (1.1%)<br>1 (1.1%)<br>1 (1.1%)<br>1 (1.1%)<br>1 (1.1%)<br>1 (1.1%)<br>1 (1.1%)<br>76 (85.4%)</td>\n",
       "      <td id=\"T_6b63b_row6_col4\" class=\"data row6 col4\" ><img src = \"data:image/png;base64, iVBORw0KGgoAAAANSUhEUgAAAJsAAAD+CAYAAAAtWHdlAAAAOXRFWHRTb2Z0d2FyZQBNYXRwbG90bGliIHZlcnNpb24zLjUuMiwgaHR0cHM6Ly9tYXRwbG90bGliLm9yZy8qNh9FAAAACXBIWXMAAA9hAAAPYQGoP6dpAAAECUlEQVR4nO3cMW4aaQCG4R8LeUMDQpY4hg/AIfawewgO4HsgiymCNw1bJLFYb8u8yN7nqRIKNMWrITP6vywul8uAwsO9L4D/D7GRERsZsZERGxmxkREbGbGRERuZxRhjNcZ4/PD5j8vlcr7D9fCFLZ+env5cr9fb6w+naXpdLBZ/CY5bWq7X6+1+vz9vNpu3McY4nU7fDofD9ng8Po4xxMbNLMcYY7PZvO12u+9Xn6/udD18YR4QyIiNjNjIiI2M2MiIjYzYyIiNjNjIiI2M2MiIjYzYyIiNzHKMn2fYfn9w/We4peU0Ta+Hw2E7rs6wTdP0Osb4cb/L4iuyQSCz8F9mUfl4Z3NHYzb/WldZVTGnh9/rqv1+f/4V3cd/v8FNvK+rfv3dqorZeKlLRmxkxEZGbGTERkZsZMRGRmxkxEZGbGTERkZsZMRG5j+DF5jL9eDF0IVZORZOxuCFzPWdzV2NWb0PXoxdmNvDer3ePj8/D2MX5vYwxhir1erve18IX5+XumTERkZsZMRGRmxkxEZGbGTERkZsZMRGRmxkxEZGbGQexhjjfD7/ce8L4et7mKbp9eXlxdiF2TkWTsbghYwHBDJ+RslYV5GxriJjXUXGAwIZsZERGxmxkREbGbGRERsZsZERGxmxkREbGbGRERsZ6yoy1lVkHAsnY11Fxp2NjMELGYMXMgYvZLzUJSM2MmIjIzYyYiMjNjJiIyM2MmIjIzYyYiMjNjJiI2PwQsbghYxj4WQMXsi4s5ExeCFj8ELG4IWMl7pkxEZGbGTERkZsZMRGRmxkxEZGbGTERkZsZMRGRmxkxEbGuoqMdRUZGwQy1lVk3NnIWFeRsa4iY11FxktdMmIjIzYyYiMjNjJiIyM2MmIjIzYyYiMjNjJiIyM2MgYvZAxeyDgWTsbghYw7GxmDFzIGL2QMXsh4qUtGbGTERkZsZMRGRmxkxEZGbGTERkZsZMRGRmxkxEbG4IWMwQsZx8LJGLyQ8YBAxs8oGesqMtZVZKyryHhAICM2MmIjIzYyYiMjNjJiIyM2MmIjIzYyYiMjNjJiI2NdRca6ioxj4WSsq8i4s5ExeCFj8ELG4IWMl7pkxEZGbGTERkZsZMRGRmxkxEZGbGTERkZsZMRGRmxkDF7IGLyQcSycjMELmes7G4wx4y/c++Blji/n85lz+LRcr9fb/X5/3mw2b7f+cj6X0+n07XA4bI/H4+MY4/axjTHGZrN52+1232/95XxKq7m+2EtdMmIjIzYyYiMjNjJiIyM2MmIjIzYyYiMjNjJiIyM2Mssxfh4tufeFcH9zd7Ccpun1cDhsx4xHS/g85hw+ORbOR7MdCzd4IeMBgYzYyIiNjNjIiI2M2MiIjYzYyIiNzD8uwMmcTSdPwQAAAABJRU5ErkJggg==\"></img></td>\n",
       "      <td id=\"T_6b63b_row6_col5\" class=\"data row6 col5\" >0<br>(0.0%)</td>\n",
       "    </tr>\n",
       "    <tr>\n",
       "      <td id=\"T_6b63b_row7_col0\" class=\"data row7 col0\" >8</td>\n",
       "      <td id=\"T_6b63b_row7_col1\" class=\"data row7 col1\" ><strong>Amount($)</strong><br>[object]</td>\n",
       "      <td id=\"T_6b63b_row7_col2\" class=\"data row7 col2\" >1. Undisclosed<br>2. $5,000,000<br>3. $1,500,000<br>4. $6,000,000<br>5. $1,000,000<br>6. $30,000,000<br>7. $20,000,000<br>8. $50,000,000<br>9. $4,000,000<br>10. $5,500,000<br>11. other</td>\n",
       "      <td id=\"T_6b63b_row7_col3\" class=\"data row7 col3\" >12 (13.5%)<br>6 (6.7%)<br>4 (4.5%)<br>4 (4.5%)<br>4 (4.5%)<br>3 (3.4%)<br>3 (3.4%)<br>3 (3.4%)<br>3 (3.4%)<br>3 (3.4%)<br>44 (49.4%)</td>\n",
       "      <td id=\"T_6b63b_row7_col4\" class=\"data row7 col4\" ><img src = \"data:image/png;base64, iVBORw0KGgoAAAANSUhEUgAAAJsAAAD+CAYAAAAtWHdlAAAAOXRFWHRTb2Z0d2FyZQBNYXRwbG90bGliIHZlcnNpb24zLjUuMiwgaHR0cHM6Ly9tYXRwbG90bGliLm9yZy8qNh9FAAAACXBIWXMAAA9hAAAPYQGoP6dpAAADy0lEQVR4nO3cUUpbQQCG0UkJUl8SRHAxLqKL7SKyGxHvQxVf0odCKWiixvErtecs4CLyMXIv87va7/cDCl/+9g/A/0NsZMRGRmxkxEZGbGTERkZsZMRGZjXGOB9jnE1+7uN+v7+f/Ez+cevLy8tvm83mYuZDl2W5Xa1W3wXHn9abzebi+vr6frvdPsx44N3d3dfdbndxc3NzNsYQG7+txxhju90+XF1d/Zj43POJz+KT8IJARmxkxEZGbGTERkZsZMRGRmxkxEZGbGTERkZsZMRGRmxk1mP8uoM264Ezn8Xnsl6W5Xa3212MiXfQlmW5HWM8znoen4MNApmVf5lF5S0nm9OKd3n1uspiivd61brKYooZ3rKuspjiXXzUJSM2MmIjIzYyYiMjNjJiIyM2MmIjIzYyYiMjNjJiI/OqwYsRCzO8evBixMJ7uRZOxuCFzEsnm9OMaY4OXoxcmOng4MXIhdleGrwYuTCNj7pkxEZGbGTERkZsZMRGRmxkxEZGbGTERkZsZMRGRmxkDg5ejFyY7ejgxciFmVwLJ2PwQsYLAhl/RslYV5GxriJjXUXGCwIZsZERGxmxkREbGbGRERsZsZERGxmxkREbGbGRERsZ6yoy1lVkXAsnY11FxslGxuCFjMELGYMXMj7qkhEbGbGRERsZsZERGxmxkREbGbGRERsZsZERGxmxkTF4IWPwQsa1cDIGL2QOnWxONKZ7dvBi6MJHeDJ4MXThoxwavBi6MJ2PumTERkZsZMRGRmxkxEZGbGTERkZsZMRGRmxkxEZGbGTERubJusqqio/y7LrKqoqPYINAxrqKjJONjHUVGesqMtZVZHzUJSM2MmIjIzYyYiMjNjJiIyM2MmIjIzYyYiMjNjJiI2PwQsbghYxr4WQMXsg42cgYvJAxeCFj8ELGR10yYiMjNjJiIyM2MmIjIzYyYiMjNjJiIyM2MmIjIzYyBi9kDF7IuBZOxuCFjBcEMv6MkrGuImNdRca6iowXBDJiIyM2MmIjIzYyYiMjNjJiIyM2MmIjIzYyYiMjNjLWVWSsq8i4Fk7GuoqMk42MwQsZgxcyBi9kfNQlIzYyYiMjNjJiIyM2MmIjIzYyYiMjNjJiIyM2MmIjY/BCxuCFjGvhZAxeyBw62TjOyX+CZwcvHGcQdJongxeOMwg63aHBC8cZBJ3AR10yYiMjNjJiIyM2MmIjIzYyYiMjNjJiIyM2MmIjIzYyTwYvHOd3dbpnBy8cZxB0GtfCT+Na+AkMXsh4QSAjNjJiIyM2MmIjIzYyYiMjNjJiI/MTPL1O4l6NH88AAAAASUVORK5CYII=\"></img></td>\n",
       "      <td id=\"T_6b63b_row7_col5\" class=\"data row7 col5\" >0<br>(0.0%)</td>\n",
       "    </tr>\n",
       "    <tr>\n",
       "      <td id=\"T_6b63b_row8_col0\" class=\"data row8 col0\" >9</td>\n",
       "      <td id=\"T_6b63b_row8_col1\" class=\"data row8 col1\" ><strong>Stage</strong><br>[object]</td>\n",
       "      <td id=\"T_6b63b_row8_col2\" class=\"data row8 col2\" >1. nan<br>2. Series A<br>3. Pre series A<br>4. Series B<br>5. Series D<br>6. Series C<br>7. Fresh funding<br>8. Series G<br>9. Post series A<br>10. Seed funding<br>11. other</td>\n",
       "      <td id=\"T_6b63b_row8_col3\" class=\"data row8 col3\" >46 (51.7%)<br>10 (11.2%)<br>8 (9.0%)<br>8 (9.0%)<br>4 (4.5%)<br>3 (3.4%)<br>1 (1.1%)<br>1 (1.1%)<br>1 (1.1%)<br>1 (1.1%)<br>6 (6.7%)</td>\n",
       "      <td id=\"T_6b63b_row8_col4\" class=\"data row8 col4\" ><img src = \"data:image/png;base64, iVBORw0KGgoAAAANSUhEUgAAAJsAAAD+CAYAAAAtWHdlAAAAOXRFWHRTb2Z0d2FyZQBNYXRwbG90bGliIHZlcnNpb24zLjUuMiwgaHR0cHM6Ly9tYXRwbG90bGliLm9yZy8qNh9FAAAACXBIWXMAAA9hAAAPYQGoP6dpAAAEU0lEQVR4nO3dTU5bSQBG0TKy6DCxZSGxDBbAInqxvQgvgH0gxBsEOhN6kCiKlICNf65l+pxpPHhCN4X8VF8ye319HVC4OPUD8P8hNjJiIyM2MmIjIzYyYiMjNjJiIzMbY1yNMS5P/SBn7Nvr6+vzqR/iHMyvr6//XiwWq1M/yLmapulxNpv9I7jN5ovFYnV3d/e8XC5fTv0w5+bp6enLer1ePTw8XI4xxLbBfIwxlsvly83NzddTP8yZujr1A5wLXxDIiI2M2MiIjYzYyIiNjNjIiI2M2MiIjYzYyIiNjNjIiI3MfIzv97JO/SDnyM/tY+bTND2u1+vVcC9rJ9M0PY4xvp36Oc6BDcL+bBC2NPNPZlE51MnmbzcbHWRdZWHENvZeV1kYsa1Drat8k2UjL3XJiI2M2MiIjYzYyIiNjNjIiI2M2MiIjYzYyIiNjNjI7D14MfpgWwcZvBh9sA3XwskYvJDZ52RzmvEhOw9ejFz4qJ0GL0Yu7GKfwYuRCx/ipS4ZsZERGxmxkREbGbGRERsZsZERGxmxkREbGbGRERuZnQYvRi7sYufBi5ELH+VaOBmDFzK+IJDxa5SMdRUZ6yoy1lVkfEEgIzYyYiMjNjJiIyM2MmIjIzYyYiMjNjJiIyM2MmIjY11FxrqKjGvhZKyryGw62ZxeHMy7gxejFg7pzcGLUQuHtmnwYtTCwXipS0ZsZMRGRmxkxEZGbGTERkZsZMRGRmxkxEZGbGTERubNwYtRC4f27uDFqIVDci2cjMELmbdONicaB/fHwYuhC8fw2+DF0IVjeWvwYujCwXmpS0ZsZMRGRmxkxEZGbGTERkZsZMRGRmxkxEZGbGTERkZsZH5bV1lVcSx/XFdZVXEMNghkrKvI/HqyOc04qp/rKosqju1isVisbm9vx4853y7/FSRs5WKMMa6urv499YPw+XmpS0ZsZMRGRmxkxEZGbGTERkZsZMRGRmxkxEZGbGTERuZijDGen5//OvWD8PldTNP0eH9/b+TC0bkWTsbghYyTjYzBCxmDFzIGL2S81CUjNjJiIyM2MmIjIzYyYiMjNjJiIyM2MmIjIzYyYiNj8ELG4IWMa+FkDF7I+IJAxq9RMtZVZKyryFhXkfEFgYzYyIiNjNjIiI2M2MiIjYzYyIiNjNjIiI2M2MiIjYx1FRnrKjKuhZOxriLjZCNj8ELG4IWMwQsZL3XJiI2M2MiIjYzYyIiNjNjIiI2M2MiIjYzYyIiNjNjIGLyQMXgh41o4GYMXMr+ebJs4+djLz8HLpg8axLCv+WKxWN3d3T0vl8uXtz709PT0Zb1erx4eHi7HGGJjJ/Mxxlguly83NzdfN3z2KngePjEvdcmIjYzYyIiNjNjIiI2M2MiIjYzYyIiNjNjIiI2M2MjMx/h+hei9D236c9jGfJqmx/V6vRobrhAZxLAv18LJGLyQ8QWBjNjIiI2M2MiIjYzYyIiNjNjIiI3Mf1hnEnacn2bhAAAAAElFTkSuQmCC\"></img></td>\n",
       "      <td id=\"T_6b63b_row8_col5\" class=\"data row8 col5\" >46<br>(51.7%)</td>\n",
       "    </tr>\n",
       "  </tbody>\n",
       "</table>\n"
      ],
      "text/plain": [
       "<pandas.io.formats.style.Styler at 0x7fa4d99fddc0>"
      ]
     },
     "execution_count": 31,
     "metadata": {},
     "output_type": "execute_result"
    }
   ],
   "source": [
    "dfSummary(data_2019, is_collapsible = False)"
   ]
  },
  {
   "cell_type": "code",
   "execution_count": 32,
   "id": "0266a607",
   "metadata": {},
   "outputs": [
    {
     "data": {
      "text/plain": [
       "Company/Brand     0\n",
       "Founded          29\n",
       "HeadQuarter      19\n",
       "Sector            5\n",
       "What it does      0\n",
       "Founders          3\n",
       "Investor          0\n",
       "Amount($)         0\n",
       "Stage            46\n",
       "dtype: int64"
      ]
     },
     "execution_count": 32,
     "metadata": {},
     "output_type": "execute_result"
    }
   ],
   "source": [
    "pd.isnull(data_2019).sum()"
   ]
  },
  {
   "cell_type": "markdown",
   "id": "b0fce851",
   "metadata": {},
   "source": [
    "<br><p style=\"font-size:20px ; font-weight: bold ; font-family: 'Times New Roman'; color: #00008B\">Observation: </p><br>\n",
    "\n",
    "<p style=\"font-size:20px ; font-family: 'Times New Roman';\"> Initial check indicates there are null values in the data set</p>"
   ]
  },
  {
   "cell_type": "markdown",
   "id": "14813cc8",
   "metadata": {},
   "source": [
    "<H1 style=\"text-align: center;font-size:30px ; font-family: 'Times New Roman'; color: #00008B\">Deep Dive Into the Data  Set :</H1> <br><br>"
   ]
  },
  {
   "cell_type": "markdown",
   "id": "7cddd9ed",
   "metadata": {},
   "source": [
    "<br><p style=\"font-size:20px ; font-weight: bold ; font-family: 'Times New Roman'; color: #00008B\">Cleaning the Founded Column</p><br>"
   ]
  },
  {
   "cell_type": "markdown",
   "id": "86b85872",
   "metadata": {},
   "source": [
    " <p style=\"font-size:20px ; font-weight: bold ; font-family: 'Times New Roman'; color: #00008B\">convert the data type from float to a string</p><br>"
   ]
  },
  {
   "cell_type": "code",
   "execution_count": 33,
   "id": "03cfefa6",
   "metadata": {},
   "outputs": [
    {
     "data": {
      "text/plain": [
       "0    2019\n",
       "1    2014\n",
       "2    2019\n",
       "3    2014\n",
       "4    2004\n",
       "Name: Founded, dtype: object"
      ]
     },
     "execution_count": 33,
     "metadata": {},
     "output_type": "execute_result"
    }
   ],
   "source": [
    "# convert the data type from float to a string\n",
    "data_2019['Founded']=data_2019['Founded'].astype(str)   \n",
    "data_2019[\"Founded\"]=data_2019.Founded.apply(lambda x: str(x).replace(\"nan\" ,\"2019\"))\n",
    "data_2019['Founded']=data_2019.Founded.str.split('.').str[0]    # removing the decimal points in the year\n",
    "data_2019['Founded'].head()"
   ]
  },
  {
   "cell_type": "markdown",
   "id": "7dd6fb68",
   "metadata": {},
   "source": [
    "<br><p style=\"font-size:20px ; font-weight: bold ; font-family: 'Times New Roman'; color: #00008B\">Cleaning the HeadQuarter Column</p><br>"
   ]
  },
  {
   "cell_type": "code",
   "execution_count": 34,
   "id": "83c525d3",
   "metadata": {},
   "outputs": [
    {
     "data": {
      "text/plain": [
       "array([nan, 'Mumbai', 'Chennai', 'Telangana', 'Pune', 'Bangalore',\n",
       "       'Noida', 'Delhi', 'Ahmedabad', 'Gurugram', 'Haryana', 'Chandigarh',\n",
       "       'Jaipur', 'New Delhi', 'Surat', 'Uttar pradesh', 'Hyderabad',\n",
       "       'Rajasthan'], dtype=object)"
      ]
     },
     "execution_count": 34,
     "metadata": {},
     "output_type": "execute_result"
    }
   ],
   "source": [
    "data_2019['HeadQuarter'].unique()"
   ]
  },
  {
   "cell_type": "markdown",
   "id": "61a44202",
   "metadata": {},
   "source": [
    "<p style=\"font-size:20px ; font-weight: bold ; font-family: 'Times New Roman'; color: #00008B\">Replacing wrongly spelt names and similar names entered differently</p><br>"
   ]
  },
  {
   "cell_type": "code",
   "execution_count": 35,
   "id": "ac962975",
   "metadata": {},
   "outputs": [],
   "source": [
    "# replacing wrongly spelt names and similar names entered differently\n",
    "data_2019.replace({'HeadQuarter':{'Bangalore':'Bengaluru','New Delhi':'Delhi','nan':'Delhi'}}, inplace=True)"
   ]
  },
  {
   "cell_type": "markdown",
   "id": "c103e3b6",
   "metadata": {},
   "source": [
    "<br><p style=\"font-size:20px ; font-weight: bold ; font-family: 'Times New Roman'; color: #00008B\">Cleaning the Sector Column</p><br>"
   ]
  },
  {
   "cell_type": "code",
   "execution_count": 36,
   "id": "7f365b0b",
   "metadata": {},
   "outputs": [
    {
     "data": {
      "text/plain": [
       "array(['Ecommerce', 'Edtech', 'Interior design', 'AgriTech', 'Technology',\n",
       "       'SaaS', 'AI & Tech', 'E-commerce', 'E-commerce & AR', 'Fintech',\n",
       "       'HR tech', 'Food tech', 'Health', 'Healthcare', 'Safety tech',\n",
       "       'Pharmaceutical', 'Insurance technology', 'AI', 'Foodtech', 'Food',\n",
       "       'IoT', 'E-marketplace', 'Robotics & AI', 'Logistics', 'Travel',\n",
       "       'Manufacturing', 'Food & Nutrition', 'Social Media', nan,\n",
       "       'E-Sports', 'Cosmetics', 'B2B', 'Jewellery', 'B2B Supply Chain',\n",
       "       'Games', 'Food & tech', 'Accomodation', 'Automotive tech',\n",
       "       'Legal tech', 'Mutual Funds', 'Cybersecurity', 'Automobile',\n",
       "       'Sports', 'Healthtech', 'Yoga & wellness', 'Virtual Banking',\n",
       "       'Transportation', 'Transport & Rentals',\n",
       "       'Marketing & Customer loyalty', 'Infratech', 'Hospitality',\n",
       "       'Automobile & Technology', 'Banking'], dtype=object)"
      ]
     },
     "execution_count": 36,
     "metadata": {},
     "output_type": "execute_result"
    }
   ],
   "source": [
    "data_2019['Sector'].unique()"
   ]
  },
  {
   "cell_type": "markdown",
   "id": "ca239ee7",
   "metadata": {},
   "source": [
    "<p style=\"font-size:20px ; font-weight: bold ; font-family: 'Times New Roman'; color: #00008B\">Rename similar sectors with wrong or different spelling</p><br>"
   ]
  },
  {
   "cell_type": "code",
   "execution_count": 37,
   "id": "31594d22",
   "metadata": {},
   "outputs": [],
   "source": [
    "#rename similar sectors with wrong or different spelling to make it consistent\n",
    "data_2019.replace({'Sector':{'Ecommerce':'E-Commerce','Edtech':'EdTech','Interior design':'Home Decor','Virtual Banking':'Financial Services',\n",
    "                           'AgriTech':'AgTech','E-commerce & AR':'E-Commerce','Fintech':'FinTech','Infratech':'IT','B2B Supply Chain':'E-Commerce',\n",
    "                           'Marketing & Customer loyalty':'Customer Service','Automobile & Technology':'Automotive','Transport & Rentals':'Transportation',\n",
    "                           'HR tech':'Human Resources','AI & Tech':'AI','E-commerce':'E-Commerce','Travel':'Transportation','Health Care':'Healthcare',\n",
    "                           'Commercial Real Estate':'Real Estate','Cooking':'Catering','Fantasy Sports':'Sports','Consumer':'Consumer Goods',\n",
    "                           'Healthtech':'Healthcare','E-Sports':'Sports','Mutual Funds':'Finance','Legal tech':'Legal','Accomodation':'Real Estate',\n",
    "                           'Consumer Lending':'Consumer Goods','Credit':'Credit Cards','Business Travel':'Transportation','Hospital':'Healthcare',\n",
    "                           'Automobile':'Automotive','Alternative Medicine':'Healthcare','Renewable Energy':'Energy','Clean Energy':'Energy','Music':'Music Streaming',\n",
    "                           'Health Diagnostics':'Healthcare','Medical':'Healthcare','Enterprise Software':'ERP','Enterprise Resource Planning (ERP)':'ERP',\n",
    "                           'Audio':'Music Streaming','Air Transportation':'Aerospace','Yoga & wellness':'Fitness','Beauty':'Cosmetics','Big Data':'Analytics',\n",
    "                           'Food and Beverage':'Catering','Wealth Management':'Finance','Social Media':'Digital Media','Broadcasting':'Media and Entertainment',\n",
    "                           'News':'Media and Entertainment','Packaging Services':'Logistics','Mobile':'Mobile Phones','Medical Device':'Healthcare',\n",
    "                           'Continuing Education':'Education','Dental':'Healthcare','Android':'Software','Banking':'Financial Services','Training':'Education',\n",
    "                           'Digital Marketing':'Advertising','Marketplace':'Advertising','Consumer Electronics':'Consumer Goods','Rental':'Facilities Support Services',\n",
    "                           'Retail':'Business Development','3D Printing':'Creative Agency','Electric Vehicle':'Automotive','Industrial Automation':'Manufacturing',\n",
    "                           'Battery':'Energy','Reading Apps':'Apps','B2B':'E-Commerce','Communities':'Environmental Consulting','Smart Cities':'Environmental Consulting',\n",
    "                           'Health Insurance':'Insurance','Commercial':'Business Development','Digital Entertainment':'Digital Media','Food & tech':'Catering',\n",
    "                           'Cloud Infrastructure':'Cloud Computing','Marketing':'Advertising','Events':'Creative Agency','Food tech':'Catering',\n",
    "                           'Artificial Intelligence':'AI','Business Intelligence':'ERP','Information Services':'IT','Information Technology':'IT',\n",
    "                           'E-Learning':'Education','Tourism':'Hospitality','Industrial':'Manufacturing','Internet':'IT','Internet of Things':'IoT',\n",
    "                           'Jewellery':'Fashion','Food & Nutrition':'Healthcare','Robotics & AI':'AI', 'E-marketplace':'E-Commerce','Foodtech':'Catering',\n",
    "                           'Insurance technology':'Insurance','Pharmaceutical':'Healthcare','Safety tech':'Cybersecurity',\n",
    "                           'Technology':'IT','Farming':'Agriculture','Food Processing':'Catering','Collaboration':'Human Resources','Computer':'IT','Career Planning':'Human Resources',\n",
    "                           'Wedding':'Customer Service','Games':'Gaming'}}, inplace=True)"
   ]
  },
  {
   "cell_type": "markdown",
   "id": "ec9056c3",
   "metadata": {},
   "source": [
    "<br><p style=\"font-size:20px ; font-weight: bold ; font-family: 'Times New Roman'; color: #00008B\">Cleaning the Amount($) Column</p><br>"
   ]
  },
  {
   "cell_type": "code",
   "execution_count": 38,
   "id": "fa46a299",
   "metadata": {},
   "outputs": [],
   "source": [
    "# stripping off special characters\n",
    "#data_2019.replace({'Amount($)':{'$':'',',':''}},inplace=True)\n",
    "data_2019[\"Amount($)\"]=data_2019['Amount($)'].apply(lambda x: str(x).replace(\"$\" ,\"\")) \n",
    "data_2019[\"Amount($)\"]=data_2019['Amount($)'].apply(lambda x: str(x).replace(\",\" ,\"\"))\n",
    "data_2019[\"Amount($)\"]=data_2019['Amount($)'].apply(lambda x: str(x).replace(\"Undisclosed\" ,\"0\")) "
   ]
  },
  {
   "cell_type": "markdown",
   "id": "e45100d4",
   "metadata": {},
   "source": [
    "<p style=\"font-size:20px ; font-weight: bold ; font-family: 'Times New Roman'; color: #00008B\">Change the data type to a float</p><br>"
   ]
  },
  {
   "cell_type": "code",
   "execution_count": 39,
   "id": "7a83f641",
   "metadata": {},
   "outputs": [],
   "source": [
    "# change the data type to a float\n",
    "# The downcast parameter is used to set the data type to float\n",
    "data_2019['Amount($)'] = pd.to_numeric(data_2019['Amount($)'], errors='raise', downcast='float')  "
   ]
  },
  {
   "cell_type": "markdown",
   "id": "7cbebdbf",
   "metadata": {},
   "source": [
    "<br><p style=\"font-size:20px ; font-weight: bold ; font-family: 'Times New Roman'; color: #00008B\">Cleaning the Stage Column</p><br>"
   ]
  },
  {
   "cell_type": "code",
   "execution_count": 40,
   "id": "7d4fec73",
   "metadata": {},
   "outputs": [
    {
     "data": {
      "text/plain": [
       "array([nan, 'Series C', 'Fresh funding', 'Series D', 'Pre series A',\n",
       "       'Series A', 'Series G', 'Series B', 'Post series A',\n",
       "       'Seed funding', 'Seed fund', 'Series E', 'Series F', 'Series B+',\n",
       "       'Seed round', 'Pre-series A'], dtype=object)"
      ]
     },
     "execution_count": 40,
     "metadata": {},
     "output_type": "execute_result"
    }
   ],
   "source": [
    "data_2019['Stage'].unique()"
   ]
  },
  {
   "cell_type": "markdown",
   "id": "4ef29faf",
   "metadata": {},
   "source": [
    "<p style=\"font-size:20px ; font-weight: bold ; font-family: 'Times New Roman'; color: #00008B\">Replacing wrongly spelt and similar enteries</p><br>"
   ]
  },
  {
   "cell_type": "code",
   "execution_count": 41,
   "id": "bd0b8439",
   "metadata": {},
   "outputs": [],
   "source": [
    "# replacing wrongly spelt and similar enteries to promote consistency\n",
    "data_2019.replace({'Stage':{'Seed fund':'Seed','Private Equity':'Equity','Post series A':'Series A',\n",
    "                           'Pre series A':'Series A','Series B+':'Series B','Fresh funding':'Seed','nan':'Unknown',\n",
    "                           'Pre-series A':'Series A','Seed round':'Seed','Seed funding':'Seed'}},inplace=True)"
   ]
  },
  {
   "cell_type": "markdown",
   "id": "9c70ec82",
   "metadata": {},
   "source": [
    "<br><p style=\"font-size:20px ; font-weight: bold ; font-family: 'Times New Roman'; color: #00008B\"> Cleaned 2019 data.</p><br><br>"
   ]
  },
  {
   "cell_type": "code",
   "execution_count": 42,
   "id": "2fef07cd",
   "metadata": {
    "scrolled": true
   },
   "outputs": [
    {
     "data": {
      "text/html": [
       "<div>\n",
       "<style scoped>\n",
       "    .dataframe tbody tr th:only-of-type {\n",
       "        vertical-align: middle;\n",
       "    }\n",
       "\n",
       "    .dataframe tbody tr th {\n",
       "        vertical-align: top;\n",
       "    }\n",
       "\n",
       "    .dataframe thead th {\n",
       "        text-align: right;\n",
       "    }\n",
       "</style>\n",
       "<table border=\"1\" class=\"dataframe\">\n",
       "  <thead>\n",
       "    <tr style=\"text-align: right;\">\n",
       "      <th></th>\n",
       "      <th>Company/Brand</th>\n",
       "      <th>Founded</th>\n",
       "      <th>HeadQuarter</th>\n",
       "      <th>Sector</th>\n",
       "      <th>What it does</th>\n",
       "      <th>Founders</th>\n",
       "      <th>Investor</th>\n",
       "      <th>Amount($)</th>\n",
       "      <th>Stage</th>\n",
       "    </tr>\n",
       "  </thead>\n",
       "  <tbody>\n",
       "    <tr>\n",
       "      <th>0</th>\n",
       "      <td>Bombay Shaving</td>\n",
       "      <td>2019</td>\n",
       "      <td>NaN</td>\n",
       "      <td>E-Commerce</td>\n",
       "      <td>Provides a range of male grooming products</td>\n",
       "      <td>Shantanu Deshpande</td>\n",
       "      <td>Sixth Sense Ventures</td>\n",
       "      <td>6300000.0</td>\n",
       "      <td>NaN</td>\n",
       "    </tr>\n",
       "    <tr>\n",
       "      <th>1</th>\n",
       "      <td>Ruangguru</td>\n",
       "      <td>2014</td>\n",
       "      <td>Mumbai</td>\n",
       "      <td>EdTech</td>\n",
       "      <td>A learning platform that provides topic-based ...</td>\n",
       "      <td>Adamas Belva Syah Devara, Iman Usman.</td>\n",
       "      <td>General Atlantic</td>\n",
       "      <td>150000000.0</td>\n",
       "      <td>Series C</td>\n",
       "    </tr>\n",
       "    <tr>\n",
       "      <th>2</th>\n",
       "      <td>Eduisfun</td>\n",
       "      <td>2019</td>\n",
       "      <td>Mumbai</td>\n",
       "      <td>EdTech</td>\n",
       "      <td>It aims to make learning fun via games.</td>\n",
       "      <td>Jatin Solanki</td>\n",
       "      <td>Deepak Parekh, Amitabh Bachchan, Piyush Pandey</td>\n",
       "      <td>28000000.0</td>\n",
       "      <td>Seed</td>\n",
       "    </tr>\n",
       "    <tr>\n",
       "      <th>3</th>\n",
       "      <td>HomeLane</td>\n",
       "      <td>2014</td>\n",
       "      <td>Chennai</td>\n",
       "      <td>Home Decor</td>\n",
       "      <td>Provides interior designing solutions</td>\n",
       "      <td>Srikanth Iyer, Rama Harinath</td>\n",
       "      <td>Evolvence India Fund (EIF), Pidilite Group, FJ...</td>\n",
       "      <td>30000000.0</td>\n",
       "      <td>Series D</td>\n",
       "    </tr>\n",
       "    <tr>\n",
       "      <th>4</th>\n",
       "      <td>Nu Genes</td>\n",
       "      <td>2004</td>\n",
       "      <td>Telangana</td>\n",
       "      <td>AgTech</td>\n",
       "      <td>It is a seed company engaged in production, pr...</td>\n",
       "      <td>Narayana Reddy Punyala</td>\n",
       "      <td>Innovation in Food and Agriculture (IFA)</td>\n",
       "      <td>6000000.0</td>\n",
       "      <td>NaN</td>\n",
       "    </tr>\n",
       "    <tr>\n",
       "      <th>...</th>\n",
       "      <td>...</td>\n",
       "      <td>...</td>\n",
       "      <td>...</td>\n",
       "      <td>...</td>\n",
       "      <td>...</td>\n",
       "      <td>...</td>\n",
       "      <td>...</td>\n",
       "      <td>...</td>\n",
       "      <td>...</td>\n",
       "    </tr>\n",
       "    <tr>\n",
       "      <th>84</th>\n",
       "      <td>Infra.Market</td>\n",
       "      <td>2019</td>\n",
       "      <td>Mumbai</td>\n",
       "      <td>IT</td>\n",
       "      <td>It connects client requirements to their suppl...</td>\n",
       "      <td>Aaditya Sharda, Souvik Sengupta</td>\n",
       "      <td>Tiger Global, Nexus Venture Partners, Accel Pa...</td>\n",
       "      <td>20000000.0</td>\n",
       "      <td>Series A</td>\n",
       "    </tr>\n",
       "    <tr>\n",
       "      <th>85</th>\n",
       "      <td>Oyo</td>\n",
       "      <td>2013</td>\n",
       "      <td>Gurugram</td>\n",
       "      <td>Hospitality</td>\n",
       "      <td>Provides rooms for comfortable stay</td>\n",
       "      <td>Ritesh Agarwal</td>\n",
       "      <td>MyPreferred Transformation, Avendus Finance, S...</td>\n",
       "      <td>693000000.0</td>\n",
       "      <td>NaN</td>\n",
       "    </tr>\n",
       "    <tr>\n",
       "      <th>86</th>\n",
       "      <td>GoMechanic</td>\n",
       "      <td>2016</td>\n",
       "      <td>Delhi</td>\n",
       "      <td>Automotive</td>\n",
       "      <td>Find automobile repair and maintenance service...</td>\n",
       "      <td>Amit Bhasin, Kushal Karwa, Nitin Rana, Rishabh...</td>\n",
       "      <td>Sequoia Capital</td>\n",
       "      <td>5000000.0</td>\n",
       "      <td>Series B</td>\n",
       "    </tr>\n",
       "    <tr>\n",
       "      <th>87</th>\n",
       "      <td>Spinny</td>\n",
       "      <td>2015</td>\n",
       "      <td>Delhi</td>\n",
       "      <td>Automotive</td>\n",
       "      <td>Online car retailer</td>\n",
       "      <td>Niraj Singh, Ramanshu Mahaur, Ganesh Pawar, Mo...</td>\n",
       "      <td>Norwest Venture Partners, General Catalyst, Fu...</td>\n",
       "      <td>50000000.0</td>\n",
       "      <td>NaN</td>\n",
       "    </tr>\n",
       "    <tr>\n",
       "      <th>88</th>\n",
       "      <td>Ess Kay Fincorp</td>\n",
       "      <td>2019</td>\n",
       "      <td>Rajasthan</td>\n",
       "      <td>Financial Services</td>\n",
       "      <td>Organised Non-Banking Finance Company</td>\n",
       "      <td>Rajendra Setia</td>\n",
       "      <td>TPG, Norwest Venture Partners, Evolvence India</td>\n",
       "      <td>33000000.0</td>\n",
       "      <td>NaN</td>\n",
       "    </tr>\n",
       "  </tbody>\n",
       "</table>\n",
       "<p>89 rows × 9 columns</p>\n",
       "</div>"
      ],
      "text/plain": [
       "      Company/Brand Founded HeadQuarter              Sector  \\\n",
       "0    Bombay Shaving    2019         NaN          E-Commerce   \n",
       "1         Ruangguru    2014      Mumbai              EdTech   \n",
       "2          Eduisfun    2019      Mumbai              EdTech   \n",
       "3          HomeLane    2014     Chennai          Home Decor   \n",
       "4          Nu Genes    2004   Telangana              AgTech   \n",
       "..              ...     ...         ...                 ...   \n",
       "84     Infra.Market    2019      Mumbai                  IT   \n",
       "85              Oyo    2013    Gurugram         Hospitality   \n",
       "86       GoMechanic    2016       Delhi          Automotive   \n",
       "87           Spinny    2015       Delhi          Automotive   \n",
       "88  Ess Kay Fincorp    2019   Rajasthan  Financial Services   \n",
       "\n",
       "                                         What it does  \\\n",
       "0          Provides a range of male grooming products   \n",
       "1   A learning platform that provides topic-based ...   \n",
       "2             It aims to make learning fun via games.   \n",
       "3               Provides interior designing solutions   \n",
       "4   It is a seed company engaged in production, pr...   \n",
       "..                                                ...   \n",
       "84  It connects client requirements to their suppl...   \n",
       "85                Provides rooms for comfortable stay   \n",
       "86  Find automobile repair and maintenance service...   \n",
       "87                                Online car retailer   \n",
       "88              Organised Non-Banking Finance Company   \n",
       "\n",
       "                                             Founders  \\\n",
       "0                                  Shantanu Deshpande   \n",
       "1               Adamas Belva Syah Devara, Iman Usman.   \n",
       "2                                       Jatin Solanki   \n",
       "3                        Srikanth Iyer, Rama Harinath   \n",
       "4                              Narayana Reddy Punyala   \n",
       "..                                                ...   \n",
       "84                    Aaditya Sharda, Souvik Sengupta   \n",
       "85                                     Ritesh Agarwal   \n",
       "86  Amit Bhasin, Kushal Karwa, Nitin Rana, Rishabh...   \n",
       "87  Niraj Singh, Ramanshu Mahaur, Ganesh Pawar, Mo...   \n",
       "88                                     Rajendra Setia   \n",
       "\n",
       "                                             Investor    Amount($)     Stage  \n",
       "0                                Sixth Sense Ventures    6300000.0       NaN  \n",
       "1                                    General Atlantic  150000000.0  Series C  \n",
       "2      Deepak Parekh, Amitabh Bachchan, Piyush Pandey   28000000.0      Seed  \n",
       "3   Evolvence India Fund (EIF), Pidilite Group, FJ...   30000000.0  Series D  \n",
       "4            Innovation in Food and Agriculture (IFA)    6000000.0       NaN  \n",
       "..                                                ...          ...       ...  \n",
       "84  Tiger Global, Nexus Venture Partners, Accel Pa...   20000000.0  Series A  \n",
       "85  MyPreferred Transformation, Avendus Finance, S...  693000000.0       NaN  \n",
       "86                                    Sequoia Capital    5000000.0  Series B  \n",
       "87  Norwest Venture Partners, General Catalyst, Fu...   50000000.0       NaN  \n",
       "88     TPG, Norwest Venture Partners, Evolvence India   33000000.0       NaN  \n",
       "\n",
       "[89 rows x 9 columns]"
      ]
     },
     "execution_count": 42,
     "metadata": {},
     "output_type": "execute_result"
    }
   ],
   "source": [
    "data_2019"
   ]
  },
  {
   "cell_type": "markdown",
   "id": "13ade8b0",
   "metadata": {},
   "source": [
    "<H1 style=\"text-align: center;font-size:30px ; font-family: 'Times New Roman'; color: #00008B\"> Analysis Of The 2020 Data</H1> <br><br>"
   ]
  },
  {
   "cell_type": "markdown",
   "id": "e43c6f6a",
   "metadata": {},
   "source": [
    "<H1 style=\"text-align: center;font-size:30px ; font-family: 'Times New Roman'; color: #00008B\"> Column names and description: For the year 2020 :</H1> <br><br>"
   ]
  },
  {
   "cell_type": "markdown",
   "id": "24db5d67",
   "metadata": {},
   "source": [
    "<br><p style=\"font-size:20px ; font-weight: bold ; font-family: 'Times New Roman'; color: #00008B\">2020 Dataset.</p><br>"
   ]
  },
  {
   "cell_type": "code",
   "execution_count": 43,
   "id": "9487b202",
   "metadata": {},
   "outputs": [
    {
     "data": {
      "text/html": [
       "<div>\n",
       "<style scoped>\n",
       "    .dataframe tbody tr th:only-of-type {\n",
       "        vertical-align: middle;\n",
       "    }\n",
       "\n",
       "    .dataframe tbody tr th {\n",
       "        vertical-align: top;\n",
       "    }\n",
       "\n",
       "    .dataframe thead th {\n",
       "        text-align: right;\n",
       "    }\n",
       "</style>\n",
       "<table border=\"1\" class=\"dataframe\">\n",
       "  <thead>\n",
       "    <tr style=\"text-align: right;\">\n",
       "      <th></th>\n",
       "      <th>Company/Brand</th>\n",
       "      <th>Founded</th>\n",
       "      <th>HeadQuarter</th>\n",
       "      <th>Sector</th>\n",
       "      <th>What it does</th>\n",
       "      <th>Founders</th>\n",
       "      <th>Investor</th>\n",
       "      <th>Amount($)</th>\n",
       "      <th>Stage</th>\n",
       "      <th>Unnamed: 9</th>\n",
       "    </tr>\n",
       "  </thead>\n",
       "  <tbody>\n",
       "    <tr>\n",
       "      <th>0</th>\n",
       "      <td>Aqgromalin</td>\n",
       "      <td>2019</td>\n",
       "      <td>Chennai</td>\n",
       "      <td>AgriTech</td>\n",
       "      <td>Cultivating Ideas for Profit</td>\n",
       "      <td>Prasanna Manogaran, Bharani C L</td>\n",
       "      <td>Angel investors</td>\n",
       "      <td>$200,000</td>\n",
       "      <td>NaN</td>\n",
       "      <td>NaN</td>\n",
       "    </tr>\n",
       "    <tr>\n",
       "      <th>1</th>\n",
       "      <td>Krayonnz</td>\n",
       "      <td>2019</td>\n",
       "      <td>Bangalore</td>\n",
       "      <td>EdTech</td>\n",
       "      <td>An academy-guardian-scholar centric ecosystem ...</td>\n",
       "      <td>Saurabh Dixit, Gurudutt Upadhyay</td>\n",
       "      <td>GSF Accelerator</td>\n",
       "      <td>$100,000</td>\n",
       "      <td>Pre-seed</td>\n",
       "      <td>NaN</td>\n",
       "    </tr>\n",
       "    <tr>\n",
       "      <th>2</th>\n",
       "      <td>PadCare Labs</td>\n",
       "      <td>2018</td>\n",
       "      <td>Pune</td>\n",
       "      <td>Hygiene management</td>\n",
       "      <td>Converting bio-hazardous waste to harmless waste</td>\n",
       "      <td>Ajinkya Dhariya</td>\n",
       "      <td>Venture Center</td>\n",
       "      <td>Undisclosed</td>\n",
       "      <td>Pre-seed</td>\n",
       "      <td>NaN</td>\n",
       "    </tr>\n",
       "    <tr>\n",
       "      <th>3</th>\n",
       "      <td>NCOME</td>\n",
       "      <td>2020</td>\n",
       "      <td>New Delhi</td>\n",
       "      <td>Escrow</td>\n",
       "      <td>Escrow-as-a-service platform</td>\n",
       "      <td>Ritesh Tiwari</td>\n",
       "      <td>Venture Catalysts, PointOne Capital</td>\n",
       "      <td>$400,000</td>\n",
       "      <td>NaN</td>\n",
       "      <td>NaN</td>\n",
       "    </tr>\n",
       "    <tr>\n",
       "      <th>4</th>\n",
       "      <td>Gramophone</td>\n",
       "      <td>2016</td>\n",
       "      <td>Indore</td>\n",
       "      <td>AgriTech</td>\n",
       "      <td>Gramophone is an AgTech platform enabling acce...</td>\n",
       "      <td>Ashish Rajan Singh, Harshit Gupta, Nishant Mah...</td>\n",
       "      <td>Siana Capital Management, Info Edge</td>\n",
       "      <td>$340,000</td>\n",
       "      <td>NaN</td>\n",
       "      <td>NaN</td>\n",
       "    </tr>\n",
       "    <tr>\n",
       "      <th>...</th>\n",
       "      <td>...</td>\n",
       "      <td>...</td>\n",
       "      <td>...</td>\n",
       "      <td>...</td>\n",
       "      <td>...</td>\n",
       "      <td>...</td>\n",
       "      <td>...</td>\n",
       "      <td>...</td>\n",
       "      <td>...</td>\n",
       "      <td>...</td>\n",
       "    </tr>\n",
       "    <tr>\n",
       "      <th>1050</th>\n",
       "      <td>Leverage Edu</td>\n",
       "      <td>NaN</td>\n",
       "      <td>Delhi</td>\n",
       "      <td>Edtech</td>\n",
       "      <td>AI enabled marketplace that provides career gu...</td>\n",
       "      <td>Akshay Chaturvedi</td>\n",
       "      <td>DSG Consumer Partners, Blume Ventures</td>\n",
       "      <td>$1,500,000</td>\n",
       "      <td>NaN</td>\n",
       "      <td>NaN</td>\n",
       "    </tr>\n",
       "    <tr>\n",
       "      <th>1051</th>\n",
       "      <td>EpiFi</td>\n",
       "      <td>NaN</td>\n",
       "      <td>NaN</td>\n",
       "      <td>Fintech</td>\n",
       "      <td>It offers customers with a single interface fo...</td>\n",
       "      <td>Sujith Narayanan, Sumit Gwalani</td>\n",
       "      <td>Sequoia India, Ribbit Capital</td>\n",
       "      <td>$13,200,000</td>\n",
       "      <td>Seed Round</td>\n",
       "      <td>NaN</td>\n",
       "    </tr>\n",
       "    <tr>\n",
       "      <th>1052</th>\n",
       "      <td>Purplle</td>\n",
       "      <td>2012</td>\n",
       "      <td>Mumbai</td>\n",
       "      <td>Cosmetics</td>\n",
       "      <td>Online makeup and beauty products retailer</td>\n",
       "      <td>Manish Taneja, Rahul Dash</td>\n",
       "      <td>Verlinvest</td>\n",
       "      <td>$8,000,000</td>\n",
       "      <td>NaN</td>\n",
       "      <td>NaN</td>\n",
       "    </tr>\n",
       "    <tr>\n",
       "      <th>1053</th>\n",
       "      <td>Shuttl</td>\n",
       "      <td>2015</td>\n",
       "      <td>Delhi</td>\n",
       "      <td>Transport</td>\n",
       "      <td>App based bus aggregator serice</td>\n",
       "      <td>Amit Singh, Deepanshu Malviya</td>\n",
       "      <td>SIG Global India Fund LLP.</td>\n",
       "      <td>$8,043,000</td>\n",
       "      <td>Series C</td>\n",
       "      <td>NaN</td>\n",
       "    </tr>\n",
       "    <tr>\n",
       "      <th>1054</th>\n",
       "      <td>Pando</td>\n",
       "      <td>2017</td>\n",
       "      <td>Chennai</td>\n",
       "      <td>Logitech</td>\n",
       "      <td>Networked logistics management software</td>\n",
       "      <td>Jayakrishnan, Abhijeet Manohar</td>\n",
       "      <td>Chiratae Ventures</td>\n",
       "      <td>$9,000,000</td>\n",
       "      <td>Series A</td>\n",
       "      <td>NaN</td>\n",
       "    </tr>\n",
       "  </tbody>\n",
       "</table>\n",
       "<p>1055 rows × 10 columns</p>\n",
       "</div>"
      ],
      "text/plain": [
       "     Company/Brand Founded HeadQuarter              Sector  \\\n",
       "0       Aqgromalin    2019     Chennai            AgriTech   \n",
       "1         Krayonnz    2019   Bangalore              EdTech   \n",
       "2     PadCare Labs    2018        Pune  Hygiene management   \n",
       "3            NCOME    2020   New Delhi              Escrow   \n",
       "4       Gramophone    2016      Indore            AgriTech   \n",
       "...            ...     ...         ...                 ...   \n",
       "1050  Leverage Edu     NaN       Delhi              Edtech   \n",
       "1051         EpiFi     NaN         NaN             Fintech   \n",
       "1052       Purplle    2012      Mumbai           Cosmetics   \n",
       "1053        Shuttl    2015       Delhi           Transport   \n",
       "1054         Pando    2017     Chennai            Logitech   \n",
       "\n",
       "                                           What it does  \\\n",
       "0                          Cultivating Ideas for Profit   \n",
       "1     An academy-guardian-scholar centric ecosystem ...   \n",
       "2      Converting bio-hazardous waste to harmless waste   \n",
       "3                          Escrow-as-a-service platform   \n",
       "4     Gramophone is an AgTech platform enabling acce...   \n",
       "...                                                 ...   \n",
       "1050  AI enabled marketplace that provides career gu...   \n",
       "1051  It offers customers with a single interface fo...   \n",
       "1052         Online makeup and beauty products retailer   \n",
       "1053                    App based bus aggregator serice   \n",
       "1054            Networked logistics management software   \n",
       "\n",
       "                                               Founders  \\\n",
       "0                       Prasanna Manogaran, Bharani C L   \n",
       "1                      Saurabh Dixit, Gurudutt Upadhyay   \n",
       "2                                       Ajinkya Dhariya   \n",
       "3                                         Ritesh Tiwari   \n",
       "4     Ashish Rajan Singh, Harshit Gupta, Nishant Mah...   \n",
       "...                                                 ...   \n",
       "1050                                  Akshay Chaturvedi   \n",
       "1051                    Sujith Narayanan, Sumit Gwalani   \n",
       "1052                          Manish Taneja, Rahul Dash   \n",
       "1053                      Amit Singh, Deepanshu Malviya   \n",
       "1054                     Jayakrishnan, Abhijeet Manohar   \n",
       "\n",
       "                                   Investor    Amount($)       Stage  \\\n",
       "0                           Angel investors     $200,000         NaN   \n",
       "1                           GSF Accelerator     $100,000    Pre-seed   \n",
       "2                            Venture Center  Undisclosed    Pre-seed   \n",
       "3       Venture Catalysts, PointOne Capital     $400,000         NaN   \n",
       "4       Siana Capital Management, Info Edge     $340,000         NaN   \n",
       "...                                     ...          ...         ...   \n",
       "1050  DSG Consumer Partners, Blume Ventures   $1,500,000         NaN   \n",
       "1051          Sequoia India, Ribbit Capital  $13,200,000  Seed Round   \n",
       "1052                             Verlinvest   $8,000,000         NaN   \n",
       "1053             SIG Global India Fund LLP.   $8,043,000    Series C   \n",
       "1054                      Chiratae Ventures   $9,000,000    Series A   \n",
       "\n",
       "     Unnamed: 9  \n",
       "0           NaN  \n",
       "1           NaN  \n",
       "2           NaN  \n",
       "3           NaN  \n",
       "4           NaN  \n",
       "...         ...  \n",
       "1050        NaN  \n",
       "1051        NaN  \n",
       "1052        NaN  \n",
       "1053        NaN  \n",
       "1054        NaN  \n",
       "\n",
       "[1055 rows x 10 columns]"
      ]
     },
     "execution_count": 43,
     "metadata": {},
     "output_type": "execute_result"
    }
   ],
   "source": [
    "data_2020"
   ]
  },
  {
   "cell_type": "code",
   "execution_count": 44,
   "id": "81528187",
   "metadata": {},
   "outputs": [
    {
     "name": "stdout",
     "output_type": "stream",
     "text": [
      "<class 'pandas.core.frame.DataFrame'>\n",
      "RangeIndex: 1055 entries, 0 to 1054\n",
      "Data columns (total 10 columns):\n",
      " #   Column         Non-Null Count  Dtype \n",
      "---  ------         --------------  ----- \n",
      " 0   Company/Brand  1055 non-null   object\n",
      " 1   Founded        843 non-null    object\n",
      " 2   HeadQuarter    961 non-null    object\n",
      " 3   Sector         1042 non-null   object\n",
      " 4   What it does   1055 non-null   object\n",
      " 5   Founders       1043 non-null   object\n",
      " 6   Investor       1017 non-null   object\n",
      " 7   Amount($)      1052 non-null   object\n",
      " 8   Stage          591 non-null    object\n",
      " 9   Unnamed: 9     2 non-null      object\n",
      "dtypes: object(10)\n",
      "memory usage: 82.5+ KB\n"
     ]
    }
   ],
   "source": [
    "data_2020.info()"
   ]
  },
  {
   "cell_type": "code",
   "execution_count": 45,
   "id": "f9a8ce32",
   "metadata": {},
   "outputs": [
    {
     "data": {
      "text/plain": [
       "Index(['Company/Brand', 'Founded', 'HeadQuarter', 'Sector', 'What it does',\n",
       "       'Founders', 'Investor', 'Amount($)', 'Stage', 'Unnamed: 9'],\n",
       "      dtype='object')"
      ]
     },
     "execution_count": 45,
     "metadata": {},
     "output_type": "execute_result"
    }
   ],
   "source": [
    "data_2020.columns"
   ]
  },
  {
   "cell_type": "code",
   "execution_count": 46,
   "id": "bcfaebef",
   "metadata": {},
   "outputs": [
    {
     "data": {
      "text/html": [
       "<style type=\"text/css\">\n",
       "#T_f1008 thead>tr>th {\n",
       "  text-align: left;\n",
       "}\n",
       "#T_f1008_row0_col0, #T_f1008_row1_col0, #T_f1008_row2_col0, #T_f1008_row3_col0, #T_f1008_row4_col0, #T_f1008_row5_col0, #T_f1008_row6_col0, #T_f1008_row7_col0, #T_f1008_row8_col0, #T_f1008_row9_col0 {\n",
       "  text-align: left;\n",
       "  font-size: 12px;\n",
       "  vertical-align: middle;\n",
       "  width: 5%;\n",
       "  max-width: 50px;\n",
       "  min-width: 20px;\n",
       "}\n",
       "#T_f1008_row0_col1, #T_f1008_row1_col1, #T_f1008_row2_col1, #T_f1008_row3_col1, #T_f1008_row4_col1, #T_f1008_row5_col1, #T_f1008_row6_col1, #T_f1008_row7_col1, #T_f1008_row8_col1, #T_f1008_row9_col1 {\n",
       "  text-align: left;\n",
       "  font-size: 12px;\n",
       "  vertical-align: middle;\n",
       "  width: 15%;\n",
       "  max-width: 200px;\n",
       "  min-width: 100px;\n",
       "  word-break: break-word;\n",
       "}\n",
       "#T_f1008_row0_col2, #T_f1008_row1_col2, #T_f1008_row2_col2, #T_f1008_row3_col2, #T_f1008_row4_col2, #T_f1008_row5_col2, #T_f1008_row6_col2, #T_f1008_row7_col2, #T_f1008_row8_col2, #T_f1008_row9_col2 {\n",
       "  text-align: left;\n",
       "  font-size: 12px;\n",
       "  vertical-align: middle;\n",
       "  width: 30%;\n",
       "  min-width: 100px;\n",
       "}\n",
       "#T_f1008_row0_col3, #T_f1008_row1_col3, #T_f1008_row2_col3, #T_f1008_row3_col3, #T_f1008_row4_col3, #T_f1008_row5_col3, #T_f1008_row6_col3, #T_f1008_row7_col3, #T_f1008_row8_col3, #T_f1008_row9_col3 {\n",
       "  text-align: left;\n",
       "  font-size: 12px;\n",
       "  vertical-align: middle;\n",
       "  width: 25%;\n",
       "  min-width: 100px;\n",
       "}\n",
       "#T_f1008_row0_col4, #T_f1008_row1_col4, #T_f1008_row2_col4, #T_f1008_row3_col4, #T_f1008_row4_col4, #T_f1008_row5_col4, #T_f1008_row6_col4, #T_f1008_row7_col4, #T_f1008_row8_col4, #T_f1008_row9_col4 {\n",
       "  text-align: left;\n",
       "  font-size: 12px;\n",
       "  vertical-align: middle;\n",
       "  width: 20%;\n",
       "  min-width: 150px;\n",
       "}\n",
       "#T_f1008_row0_col5, #T_f1008_row1_col5, #T_f1008_row2_col5, #T_f1008_row3_col5, #T_f1008_row4_col5, #T_f1008_row5_col5, #T_f1008_row6_col5, #T_f1008_row7_col5, #T_f1008_row8_col5, #T_f1008_row9_col5 {\n",
       "  text-align: left;\n",
       "  font-size: 12px;\n",
       "  vertical-align: middle;\n",
       "  width: 10%;\n",
       "}\n",
       "</style>\n",
       "<table id=\"T_f1008\">\n",
       "  <caption><strong>Data Frame Summary</strong><br>__<br>Dimensions: 1,055 x 10<br>Duplicates: 3</caption>\n",
       "  <thead>\n",
       "    <tr>\n",
       "      <th id=\"T_f1008_level0_col0\" class=\"col_heading level0 col0\" >No</th>\n",
       "      <th id=\"T_f1008_level0_col1\" class=\"col_heading level0 col1\" >Variable</th>\n",
       "      <th id=\"T_f1008_level0_col2\" class=\"col_heading level0 col2\" >Stats / Values</th>\n",
       "      <th id=\"T_f1008_level0_col3\" class=\"col_heading level0 col3\" >Freqs / (% of Valid)</th>\n",
       "      <th id=\"T_f1008_level0_col4\" class=\"col_heading level0 col4\" >Graph</th>\n",
       "      <th id=\"T_f1008_level0_col5\" class=\"col_heading level0 col5\" >Missing</th>\n",
       "    </tr>\n",
       "  </thead>\n",
       "  <tbody>\n",
       "    <tr>\n",
       "      <td id=\"T_f1008_row0_col0\" class=\"data row0 col0\" >1</td>\n",
       "      <td id=\"T_f1008_row0_col1\" class=\"data row0 col1\" ><strong>Company/Brand</strong><br>[object]</td>\n",
       "      <td id=\"T_f1008_row0_col2\" class=\"data row0 col2\" >1. Nykaa<br>2. Zomato<br>3. Rebel Foods<br>4. Servify<br>5. Vedantu<br>6. MPL<br>7. Sarva<br>8. LetsTransport<br>9. Plum<br>10. BankBazaar<br>11. other</td>\n",
       "      <td id=\"T_f1008_row0_col3\" class=\"data row0 col3\" >6 (0.6%)<br>6 (0.6%)<br>4 (0.4%)<br>4 (0.4%)<br>4 (0.4%)<br>3 (0.3%)<br>3 (0.3%)<br>3 (0.3%)<br>3 (0.3%)<br>3 (0.3%)<br>1,016 (96.3%)</td>\n",
       "      <td id=\"T_f1008_row0_col4\" class=\"data row0 col4\" ><img src = \"data:image/png;base64, iVBORw0KGgoAAAANSUhEUgAAAJsAAAD+CAYAAAAtWHdlAAAAOXRFWHRTb2Z0d2FyZQBNYXRwbG90bGliIHZlcnNpb24zLjUuMiwgaHR0cHM6Ly9tYXRwbG90bGliLm9yZy8qNh9FAAAACXBIWXMAAA9hAAAPYQGoP6dpAAADpElEQVR4nO3cMW4bVxhG0X8EQrGaIQgCWkKyBy3Ci/UiuIjsQRA0ReSoYYqkieAYcOE7AHNOJbB6xQUfScyn5Xq9DhTu9j4A/x9iIyM2MmIjIzYyYiMjNjJiIyM2MsvMPMzMXK/Xt53Pwo07nM/nzzMzy7J8ERw/0926rqd1XU8zc7/3YbhtPrORERsZsZERGxmxkREbGbGRERsZsZERGxmxkREbGbGRERsZsZERG5nDtm0v//z9vutJuHk2CGQW/zKLinc2MtZVZKyryPjpg4zYyIiNjNjIiI2M2MiIjYzYyIiNjNjIiI2M2MiIjYzYyIiNjMELGY+FkzF4IeOdjYzBCxmDFzJ++iAjNjJiIyM2MmIjIzYyYiMjNjJiIyM2MmIjIzYyYiMjNjJiI2PwQsZj4WQMXsj4zEbGNUrGuoqMdRUZn9nIiI2M2MiIjYzYyIiNjNjIiI2M2MiIjYzYyIiNjNjIiI2M2MhYV5HxWDgZ6yoy3tnIGLyQMXgh46cPMmIjIzYyYiMjNjJiIyM2MmIjIzYyYiMjNjJiIyM2MmIjIzYyBi9kPBZOxuCFjM9sZO6WZfltWZZPex+E23c3M7/OzC97H4Tb5xolIzYyYiMjNjJiIyM2MmIjIzYyYiMjNjJiIyM2MmIjIzYyYiMjNjJ3M/P7zPy590G4fQYvZFyjZMRGxrqKjHUVGdcoGbGRERsZsZERGxmxkREbGbGRERsZsZERGxmxkREbGbGRERsZgxcyBi9kXKNkxEbG4IWMwQsZ1ygZsZERGxmxkREbGbGRERsZsZERGxmxkREbGbGRERsZsZERGxmDFzIGL2Rco2TERkZsZKyryFhXkXGNkhEbGbGRERsZsZERGxmxkREbGbGRERsZsZERGxmxkREbGbGRsa4iY11FxjVKRmxkDF7IGLyQcY2SERsZsZERGxmxkREbGbGRERsZsZERGxmxkREbGbGRERsZsZExeCFj8ELGNUpmmZmHmbnf+yDclPfr9fr28cXD+Xz+vK7raY8TcZu2bXtZluXLx+AO67qenp6e3o7H49e9DsfteH19/XS5XE7Pz8/3M/Pv2GZmjsfj18fHxz92OR236OFbL/qCQEZsZMRGRmxkxEZGbGTERkZsZMRGRmxkxEZGbGTERuYw8/djIXsfhNvwvZYO27a9XC6X0/zHYyHwo7Zte5mZ94+veyycn+Gbj4VbV5HxBYGM2MiIjYzYyIiNjNjIiI2M2MiIjcxf2C6/HvgTNaQAAAAASUVORK5CYII=\"></img></td>\n",
       "      <td id=\"T_f1008_row0_col5\" class=\"data row0 col5\" >0<br>(0.0%)</td>\n",
       "    </tr>\n",
       "    <tr>\n",
       "      <td id=\"T_f1008_row1_col0\" class=\"data row1 col0\" >2</td>\n",
       "      <td id=\"T_f1008_row1_col1\" class=\"data row1 col1\" ><strong>Founded</strong><br>[object]</td>\n",
       "      <td id=\"T_f1008_row1_col2\" class=\"data row1 col2\" >1. nan<br>2. 2015<br>3. 2018<br>4. 2019<br>5. 2016<br>6. 2017<br>7. 2014<br>8. 2020<br>9. 2012<br>10. 2013<br>11. other</td>\n",
       "      <td id=\"T_f1008_row1_col3\" class=\"data row1 col3\" >212 (20.1%)<br>136 (12.9%)<br>123 (11.7%)<br>104 (9.9%)<br>103 (9.8%)<br>92 (8.7%)<br>72 (6.8%)<br>42 (4.0%)<br>40 (3.8%)<br>36 (3.4%)<br>95 (9.0%)</td>\n",
       "      <td id=\"T_f1008_row1_col4\" class=\"data row1 col4\" ><img src = \"data:image/png;base64, iVBORw0KGgoAAAANSUhEUgAAAJsAAAD+CAYAAAAtWHdlAAAAOXRFWHRTb2Z0d2FyZQBNYXRwbG90bGliIHZlcnNpb24zLjUuMiwgaHR0cHM6Ly9tYXRwbG90bGliLm9yZy8qNh9FAAAACXBIWXMAAA9hAAAPYQGoP6dpAAAEH0lEQVR4nO3dPW7bWABG0aeBEUwaCYYBL8aLmMXOIrQbw7CKJEijKaaM/khRl4XP2QBTXDyDxPuizfF4HFD4a+1/AF+H2MiIjYzYyIiNjNjIiI2M2MiIjcxmjPF9jPFtpef/Ph6PP1d6NrGnl5eXf7bb7fMaDz8cDh+bzeZfwX0NT9vt9vnt7e3nbrf7VT748/Pz7/1+//z+/v5tjCG2L+BpjDF2u92v19fXHys8//sKz2QlXhDIiI2M2MiIjYzYyIiNjNjIiI2M2MiIjYzYyIiNjNjIiI3M0xj/3y2rH7zGM1nX0+Fw+Njv989jhbtlh8PhY4zxu34u67BBILPxX2ZRecTJ5rTipMXXVRZTnLPouspiiksesa6ymOIkH3XJiI2M2MiIjYzYyIiNjNjIiI2M2MiIjYzYyIiNjNjILDp4MWLhksUHL0YsnONaOBmDFzJLnmxONC5abPBi6MI1iwxeDF24xZKDF0MXLvJRl4zYyIiNjNjIiI2M2MiIjYzYyIiNjNjIiI2M2MiIjcwigxdDF26x2ODF0IVrXAsnY/BCxgsCmXv/jPrTyc3uWldZVDHF7HWVRRVT3buusqjiZl4QyIiNjNjIiI2M2MiIjYzYyIiNjNjIiI2M2MiIjYzYyMxeV1lUMdVd6yqLKqZwLZyMdRUZJxsZgxcyBi9kDF7I+KhLRmxkxEZGbGTERkZsZMRGRmxkxEZGbGTERkZsZMRGxuCFjMELGdfCyRi8kLnnZHOqMcnswYuxC1PNGrwYuzDHPYMXYxcm8VGXjNjIiI2M2MiIjYzYyIiNjNjIiI2M2MiIjYzYyIiNjNjIzFpXWVYxx+x1lWUVU9kgkLGuIjP1ZHOaMdukdZVFFfe4eV1lUcW9pq6rLKqYzUddMmIjIzYyYiMjNjJiIyM2MmIjIzYyYiMjNjJiIyM2MjcPXoxcuNekwYuRC/dwLZyMwQuZSyebU4xFnR28GLewtJODF+MWHuHS4MW4hUX5qEtGbGTERkZsZMRGRmxkxEZGbGTERkZsZMRGRmxkxEbm5ODFuIVHODt4MW5haa6FkzF4IeMFgYw/o2Ssq8hYV5GxriLjBYGM2MiIjYzYyIiNjNjIiI2M2MiIjYzYyIiNjNjIiI2MdRUZ6yoyroWTsa4ic+5kc6qxuJODF2MXHuGPwYuxC49ybvBi7MLifNQlIzYyYiMjNjJiIyM2MmIjIzYyYiMjNjJiIyM2MmIj88fgxdiFRzk5eDF24RFcCydj8ELm0pTvGqcfk5z9hZdrjGKY6uQvvFxjFMMcl37h5RqjGCbxUZeM2MiIjYzYyIiNjNjIiI2M2MiIjYzYyIiNjNjIiI3MyV94ucYohjnO/sLLNUYxTOVaOBmDFzJeEMiIjYzYyIiNjNjIiI2M2MiIjYzYyPwHsPJO4tjkA7sAAAAASUVORK5CYII=\"></img></td>\n",
       "      <td id=\"T_f1008_row1_col5\" class=\"data row1 col5\" >212<br>(20.1%)</td>\n",
       "    </tr>\n",
       "    <tr>\n",
       "      <td id=\"T_f1008_row2_col0\" class=\"data row2 col0\" >3</td>\n",
       "      <td id=\"T_f1008_row2_col1\" class=\"data row2 col1\" ><strong>HeadQuarter</strong><br>[object]</td>\n",
       "      <td id=\"T_f1008_row2_col2\" class=\"data row2 col2\" >1. Bangalore<br>2. Mumbai<br>3. nan<br>4. Gurugram<br>5. Delhi<br>6. Chennai<br>7. New Delhi<br>8. Pune<br>9. Noida<br>10. Hyderabad<br>11. other</td>\n",
       "      <td id=\"T_f1008_row2_col3\" class=\"data row2 col3\" >317 (30.0%)<br>165 (15.6%)<br>94 (8.9%)<br>79 (7.5%)<br>62 (5.9%)<br>43 (4.1%)<br>36 (3.4%)<br>36 (3.4%)<br>32 (3.0%)<br>25 (2.4%)<br>166 (15.7%)</td>\n",
       "      <td id=\"T_f1008_row2_col4\" class=\"data row2 col4\" ><img src = \"data:image/png;base64, iVBORw0KGgoAAAANSUhEUgAAAJsAAAD+CAYAAAAtWHdlAAAAOXRFWHRTb2Z0d2FyZQBNYXRwbG90bGliIHZlcnNpb24zLjUuMiwgaHR0cHM6Ly9tYXRwbG90bGliLm9yZy8qNh9FAAAACXBIWXMAAA9hAAAPYQGoP6dpAAAELUlEQVR4nO3dQWobWQBF0a/GhM5Ewhi8GC+iF9uL0G6MsQZJyEQZBIODpEQqVV1hcs4KanD5por/rNV+vx9Q+OfWD8DfQ2xkxEZGbGTERkZsZMRGRmxkxEZmNcb4PMb4dOsHmej7fr//euuH4Dx3Dw8P/63X6/tbP8gUu93uZbVa/S+4j+FuvV7fPz09fd1sNt9u/TCXeH19/Xe73d4/Pz9/GmOI7QO4G2OMzWbz7fHx8cutH2aCz7d+AM7nBYGM2MiIjYzYyIiNjNjIiI2M2MiIjYzYyIiNjNjIiI2M2MjcjfHzbtitH+RSH/GZ/3Z3u93uZbvd3o8PeDdst9u9jDG+3/o5OI8NApmVf5lFpTjZnD6MMYJ1lQUUbxZdV1lA8V6xrvpwb7ksw0ddMmIjIzYyYiMjNjJiIyM2MmIjIzYyYiMjNjJiIyM2MosOXoxSeG/xwYtRCm9cCydj8ELmmpPNicVFJg9eDFm41KTBiyELU1wzeDFk4SI+6pIRGxmxkREbGbGRERsZsZERGxmxkREbGbGRERsZsZGZNHgxZGGKyYMXQxYu5Vo4GYMXMl4QyEz5M+rPJ5NcvK6yqmKqi9ZVVlVcY8q6yqqKSbwgkBEbGbGRERsZsZERGxmxkREbGbGRERsZsZERGxmxkbloXWVVxTUuXldZVTGVa+FkrKvInHuyOc242lmDFyMX5vDHwYuRC3M5d/Bi5MLVfNQlIzYyYiMjNjJiIyM2MmIjIzYyYiMjNjJiIyM2MmIj88fBi5ELczlr8GLkwhxcCydj8ELmdyeb04xZnRy8GLkwt6ODFyMXlvC7wYuRC7PyUZeM2MiIjYzYyIiNjNjIiI2M2MiIjYzYyIiNjNjIiI2M2MgcXVdZVLGEk+sqiyrmZoNAxrqKzKmTzanG7I6uqyyrWMLBusqyiqWcWldZVjE7H3XJiI2M2MiIjYzYyIiNjNjIiI2M2MiIjYzYyIiNjNjIHAxejF1YytHBi7ELS3AtnIzBCxknGxmDFzIGL2QMXsj4qEtGbGTERkZsZMRGRmxkxEZGbGTERkZsZMRGRmxkxEbG4IWMwQsZ18LJGLyQ8YJAxp9RMtZVZKyryFhXkfGCQEZsZMRGRmxkxEZGbGTERkZsZMRGRmxkxEZGbGTERsa6iox1FRnXwslYV5E5drI51VjEweDF2IWl/DJ4MXZhSccGL8YuLMJHXTJiIyM2MmIjIzYyYiMjNjJiIyM2MmIjIzYyYiMjNjK/DF6MXVjSweDF2IWluBZOxuCFzKkp35yclIwxTvzCy5wMaHhz8AsvczKg4b1Tv/AyJwMaxhg+6hISGxmxkREbGbGRERsZsZERGxmxkREbGbGRERsZsZE5+IWXORnQ8N7RX3iZkwENb1wLJ2PwQsYLAhmxkREbGbGRERsZsZERGxmxkREbmR+w8k7ihn2j4gAAAABJRU5ErkJggg==\"></img></td>\n",
       "      <td id=\"T_f1008_row2_col5\" class=\"data row2 col5\" >94<br>(8.9%)</td>\n",
       "    </tr>\n",
       "    <tr>\n",
       "      <td id=\"T_f1008_row3_col0\" class=\"data row3 col0\" >4</td>\n",
       "      <td id=\"T_f1008_row3_col1\" class=\"data row3 col1\" ><strong>Sector</strong><br>[object]</td>\n",
       "      <td id=\"T_f1008_row3_col2\" class=\"data row3 col2\" >1. Fintech<br>2. Edtech<br>3. FinTech<br>4. EdTech<br>5. E-commerce<br>6. Healthtech<br>7. SaaS<br>8. Ecommerce<br>9. Tech<br>10. Agritech<br>11. other</td>\n",
       "      <td id=\"T_f1008_row3_col3\" class=\"data row3 col3\" >80 (7.6%)<br>67 (6.4%)<br>51 (4.8%)<br>40 (3.8%)<br>33 (3.1%)<br>28 (2.7%)<br>24 (2.3%)<br>22 (2.1%)<br>19 (1.8%)<br>19 (1.8%)<br>672 (63.7%)</td>\n",
       "      <td id=\"T_f1008_row3_col4\" class=\"data row3 col4\" ><img src = \"data:image/png;base64, iVBORw0KGgoAAAANSUhEUgAAAJsAAAD+CAYAAAAtWHdlAAAAOXRFWHRTb2Z0d2FyZQBNYXRwbG90bGliIHZlcnNpb24zLjUuMiwgaHR0cHM6Ly9tYXRwbG90bGliLm9yZy8qNh9FAAAACXBIWXMAAA9hAAAPYQGoP6dpAAAEOklEQVR4nO3dzWpaWwCG4ZUSQjtRQsCL8SLOxZ6L8G5C0EFTOvEM2h7yo4khe79p7fPMCgpCX5a4WV97sd/vBxQ+ffQH4O8hNjJiIyM2MmIjIzYyYiMjNjJiI3Mxxvgyxrh6w3u+7/f7+5k+D2fs8ubm5p/FYnF96ht2u93dxcXFv4LjrS4Xi8X1er2+Xy6X31578Xa7/bzZbK5vb2+vxhhi400uxxhjuVx+W61WX098z5cZPw9nzA8EMmIjIzYyYiMjNjJiIyM2MmIjIzYyYiMjNjJiIyM2MmIjcznGj3tqp7z41NfBIZe73e5us9lcjxPvqe12u7sxxvd5PxbnyAaBzIV/MovKW042JxrvcvK6yqqK9zppXWVVxRTesq6yquJdPNQlIzYyYiMjNjJiIyM2MmIjIzYyYiMjNjJiIyM2MmIjc9LgxdCFKZw8eDF04b1cCydj8ELmtZPNacZkXhy8GLkwpaODFyMXpvba4MXIhcl4qEtGbGTERkZsZMRGRmxkxEZGbGTERkZsZMRGRmxkxEbm6ODFyIWpvTh4MXJhSq6FkzF4IeMHApmXvkZ9hTKpo+sqyyqmdnBdZVnFHF5aV1lWMSk/EMiIjYzYyIiNjNjIiI2M2MiIjYzYyIiNjNjIiI2M2MgcXFdZVjGHo+sqyyqm5lo4GesqMsdONqcakzs4eDF2YQ7PBi/GLszl2ODF2IXJeahLRmxkxEZGbGTERkZsZMRGRmxkxEZGbGTERkZsZMRG5tngxdiFuRwcvBi7MAfXwskYvJA5dLI51ZjFs8GLsQtzeTR4MXZhTocGL8YuzMJDXTJiIyM2MmIjIzYyYiMjNjJiIyM2MmIjIzYyYiMjNjJiI/NoXWVZxZyerassq5iLDQIZ6yoyTjYy1lVkrKvIWFeR8VCXjNjIiI2M2MiIjYzYyIiNjNjIiI2M2MiIjYzYyIiNjMELGYMXMq6FkzF4IfP0ZHOqMZtHgxdjF+b06dfgZb1e3/+M7ul/BwmT+H/w8vPPxi7MxkNdMmIjIzYyYiMjNjJiIyM2MmIjIzYyYiMjNjJiIyM2Mo8GLzCnh4MXYxdm5Vo4GYMXMn4gkPE1Ssa6iox1FRnrKjJ+IJARGxmxkREbGbGRERsZsZERGxmxkREbGbGRERsZsZGxriJjXUXGtXAy1lVknGxkDF7IGLyQMXgh46EuGbGRERsZsZERGxmxkREbGbGRERsZsZERGxmxkREbGYMXMgYvZFwLJ2PwQubpycbHOutvlkeDFz7WuQ+OLn8NXh7sEPgA2+3282azub69vb0aY5xnbGP8GLysVquvH/1hOO/BkYe6ZMRGRmxkxEZGbGTERkZsZMRGRmxkxEZGbGTERkZsZAxefhN/w9/Bw8HLWV9v+ROc++DItfDfy1lfCzd4IeMHAhmxkREbGbGRERsZsZERGxmxkREbmf8AaVMpxbIGNyEAAAAASUVORK5CYII=\"></img></td>\n",
       "      <td id=\"T_f1008_row3_col5\" class=\"data row3 col5\" >13<br>(1.2%)</td>\n",
       "    </tr>\n",
       "    <tr>\n",
       "      <td id=\"T_f1008_row4_col0\" class=\"data row4 col0\" >5</td>\n",
       "      <td id=\"T_f1008_row4_col1\" class=\"data row4 col1\" ><strong>What it does</strong><br>[object]</td>\n",
       "      <td id=\"T_f1008_row4_col2\" class=\"data row4 col2\" >1. Provides online learning class<br>2. Onine learning platform<br>3. Offers a variety of bikes and <br>4. Offers techno logistics soluti<br>5. A finance lender to SMEs<br>6. Credgenics is a tech-enabled p<br>7. Krimanshi aims to increase rur<br>8. Nykaa is an online marketplace<br>9. Freshtohome is an e-commerce p<br>10. India-based hyperlocal deliver<br>11. other</td>\n",
       "      <td id=\"T_f1008_row4_col3\" class=\"data row4 col3\" >4 (0.4%)<br>4 (0.4%)<br>3 (0.3%)<br>3 (0.3%)<br>3 (0.3%)<br>3 (0.3%)<br>3 (0.3%)<br>3 (0.3%)<br>3 (0.3%)<br>2 (0.2%)<br>1,024 (97.1%)</td>\n",
       "      <td id=\"T_f1008_row4_col4\" class=\"data row4 col4\" ><img src = \"data:image/png;base64, iVBORw0KGgoAAAANSUhEUgAAAJsAAAD+CAYAAAAtWHdlAAAAOXRFWHRTb2Z0d2FyZQBNYXRwbG90bGliIHZlcnNpb24zLjUuMiwgaHR0cHM6Ly9tYXRwbG90bGliLm9yZy8qNh9FAAAACXBIWXMAAA9hAAAPYQGoP6dpAAADn0lEQVR4nO3cQWojVxhG0b+McNqTEkLgJSR78CJ6sb0ILSJ7MMY1iDueKIMEYtKdSaBvgXLOyNToDS5+kqnPy/V6HSjc7X0A/j/ERkZsZMRGRmxkxEZGbGTERkZsZJaZeZiZuV6vbzufhRt3OJ/Pn2dmlmX5Ijh+pLt1XU/rup5m5n7vw3DbfGYjIzYyYiMjNjJiIyM2MmIjIzYyYiMjNjJiIyM2MmIjIzYyYiMjNjKHbdte/vr5fdeTcPNsEMgs/mUWFb/ZyFhXkbGuIuNPH2TERkZsZMRGRmxkxEZGbGTERkZsZMRGRmxkxEZGbGTERkZsZAxeyHgtnIzBCxmf2cjcLcvyy7Isn/Y+CLfvbmZ+npmf9j4It881SkZsZMRGRmxkxEZGbGTERkZsZMRGRmxkxEZGbGTERkZsZMRG5m5mfp2Z3/c+CLfPBoGMa5SM2MiIjYx1FRnrKjKuUTJiIyM2MmIjIzYyYiMjNjJiIyM2MmIjIzYyYiMjNjJiIyM2MtZVZKyryLhGyYiNjMELGYMXMq5RMmIjIzYyYiMjNjJiIyM2MmIjIzYyYiMjNjJiIyM2MmIjIzYyBi9kDF7IuEbJiI2MwQsZgxcyrlEyYiMjNjJiIyM2MmIjIzYyYiMjNjJiIyM2MmIjIzYyYiMjNjJiI2NdRca6ioxrlIzYyFhXkbGuIuMaJSM2MmIjIzYyYiMjNjJiIyM2MmIjIzYyYiMjNjJiIyM2MmIjY/BCxuCFjGuUjNjIGLyQMXgh4xolIzYyYiMjNjJiIyM2MmIjIzYyYiMjNjJiIyM2MmIjIzYyYiNj8ELG4IWMa5SM2MiIjYx1FRnrKjKuUTJiIyM2MmIjIzYyYiMjNjJiIyM2MmIjIzYyYiMjNjJiIyM2MtZVZKyryLhGyYiNjMELGYMXMq5RMmIjIzYyYiMjNjJiIyM2MmIjIzYyYiMjNjJiIyM2MmIjIzYyBi9kDF7IuEbJLDPzMDP3ex+Em/N+vV7fPj44nM/nz+u6nvY6Ebdp27aXZVm+fAzusK7r6enp6e14PH7d83DcjtfX10+Xy+X0/Px8PzN/xzYzczwevz4+Pv622+m4RQ//fOALAhmxkREbGbGRERsZsZERGxmxkREbGbGRERsZsZERG5nDzJ+vhOx9EG7Hv/V02Lbt5XK5nOY7r4TAf7Vt28vMvH985rVwfpRvXgu3riLjCwIZsZERGxmxkREbGbGRERsZsZERG5k/AMArjog3xrU5AAAAAElFTkSuQmCC\"></img></td>\n",
       "      <td id=\"T_f1008_row4_col5\" class=\"data row4 col5\" >0<br>(0.0%)</td>\n",
       "    </tr>\n",
       "    <tr>\n",
       "      <td id=\"T_f1008_row5_col0\" class=\"data row5 col0\" >6</td>\n",
       "      <td id=\"T_f1008_row5_col1\" class=\"data row5 col1\" ><strong>Founders</strong><br>[object]</td>\n",
       "      <td id=\"T_f1008_row5_col2\" class=\"data row5 col2\" >1. nan<br>2. Falguni Nayar<br>3. Byju Raveendran<br>4. Nikhil Bohra<br>5. Mukesh Ambani<br>6. Sreevathsa Prabhakar<br>7. Saurabh Saxena, Pulkit Jain, A<br>8. Shan Kadavil<br>9. Anand Agrawal, Mayank Khera, R<br>10. Virendra Gupta<br>11. other</td>\n",
       "      <td id=\"T_f1008_row5_col3\" class=\"data row5 col3\" >12 (1.1%)<br>6 (0.6%)<br>6 (0.6%)<br>4 (0.4%)<br>4 (0.4%)<br>4 (0.4%)<br>4 (0.4%)<br>3 (0.3%)<br>3 (0.3%)<br>3 (0.3%)<br>1,006 (95.4%)</td>\n",
       "      <td id=\"T_f1008_row5_col4\" class=\"data row5 col4\" ><img src = \"data:image/png;base64, iVBORw0KGgoAAAANSUhEUgAAAJsAAAD+CAYAAAAtWHdlAAAAOXRFWHRTb2Z0d2FyZQBNYXRwbG90bGliIHZlcnNpb24zLjUuMiwgaHR0cHM6Ly9tYXRwbG90bGliLm9yZy8qNh9FAAAACXBIWXMAAA9hAAAPYQGoP6dpAAAD4UlEQVR4nO3cMW4bZxhF0W8IwjabEQgCXkLSaQFahBbrRWgBKrMHQ/AUka2GKZxUkZMU0SXCnNOy+YuLGXIwj8v5fB4o7C59AP4/xEZGbGTERkZsZMRGRmxkxEZGbGSWmTnMzLuZeTmfz88XPg9XbH86ne7XdT1u2/a0LMsnwfFWduu6Hm9vb2dd1+N8v8LBm9jNzBwOh2+XPgjXzw8EMmIjIzYyYiMjNjJiIyM2MmIjIzYyYiMjNjJiIyM2MmIjs5uZeX5+fn/pg3D9dtu2PT0+Ps62bU8z83LpA3G9bBDILP4yi8ofV7ZxVeOt7U+n0/3MjGUVb223ruvRsoqC52xkxEZGbGTERkZsZMRGRmxkxEZGbGTERkZsZMRGRmxkxEZGbGT2vw9dZoxdeGNeCydj8ELGlY2MwQsZgxcyHn2QERsZsZERGxmxkREbGbGRERsZsZERGxmxkREbGbGRERsZsZExeCHjtXAyBi9kfGcj4zZKxrqKjHUVGd/ZyIiNjNjIiI2M2MiIjYzYyIiNjNjIiI2M2MiIjYzYyIiNjNjIWFeR8Vo4GesqMq5sZAxeyBi8kPHog4zYyIiNjNjIiI2M2MiIjYzYyIiNjNjIiI2M2MiIjYzYyIiNjMELGa+FkzF4IePKRsbghYzBCxmPPsiIjYzYyIiNjNjIiI2M2MiIjYzYyIiNjNjIiI2M2MiIjYzYyIiNjHUVGRsEMtZVZFzZyFhXkbGuIuPRBxmxkREbGbGRERsZsZERGxmxkREbGbGRERsZsZERGxmxkREbGYMXMl4LJ2PwQsZ3NjK7ZVl+Xpblw6UPwvXbzcxPM/P+0gfh+rmNkhEbGbGRERsZsZERGxmxkREbGbGRERsZsZERGxmxkREbGbGR2c3MLzPz7dIH4frZIJBxGyUjNjJiI2NdRca6iozbKBmxkREbGbGRERsZsZERGxmxkREbGbGRERsZsZERGxmxkREbGesqMtZVZNxGyYiNjMELGYMXMm6jZMRGRmxkxEZGbGTERkZsZMRGRmxkxEZGbGTERkZsZMRGRmxkDF7IGLyQcRsls8zMYWbeXfogXI2X8/n8/NoH+9PpdL+u67E+Eddp27anZVk+vRbcfl3X493d3fPNzc3XSxyO6/Hly5cPDw8Px8+fP7+bmT/HNjNzc3Pz9ePHj7/mp+MaHX70gR8IZMRGRmxkxEZGbGTERkZsZMRGRmxkxEZGbGTERkZsZPYz318NufRB+O/7u47227Y9PTw8HOcvXg2Bf2rbtqeZeXntM6+F82/74Wvh1lVk/EAgIzYyYiMjNjJiIyM2MmIjIzYyYiPzGzlT8EV+SyOWAAAAAElFTkSuQmCC\"></img></td>\n",
       "      <td id=\"T_f1008_row5_col5\" class=\"data row5 col5\" >12<br>(1.1%)</td>\n",
       "    </tr>\n",
       "    <tr>\n",
       "      <td id=\"T_f1008_row6_col0\" class=\"data row6 col0\" >7</td>\n",
       "      <td id=\"T_f1008_row6_col1\" class=\"data row6 col1\" ><strong>Investor</strong><br>[object]</td>\n",
       "      <td id=\"T_f1008_row6_col2\" class=\"data row6 col2\" >1. nan<br>2. Venture Catalysts<br>3. Angel investors<br>4. Mumbai Angels Network<br>5. Inflection Point Ventures<br>6. Undisclosed<br>7. Sequoia India<br>8. Unicorn India Ventures<br>9. Trifecta Capital<br>10. Better Capital<br>11. other</td>\n",
       "      <td id=\"T_f1008_row6_col3\" class=\"data row6 col3\" >38 (3.6%)<br>20 (1.9%)<br>12 (1.1%)<br>12 (1.1%)<br>11 (1.0%)<br>10 (0.9%)<br>6 (0.6%)<br>6 (0.6%)<br>5 (0.5%)<br>5 (0.5%)<br>930 (88.2%)</td>\n",
       "      <td id=\"T_f1008_row6_col4\" class=\"data row6 col4\" ><img src = \"data:image/png;base64, iVBORw0KGgoAAAANSUhEUgAAAJsAAAD+CAYAAAAtWHdlAAAAOXRFWHRTb2Z0d2FyZQBNYXRwbG90bGliIHZlcnNpb24zLjUuMiwgaHR0cHM6Ly9tYXRwbG90bGliLm9yZy8qNh9FAAAACXBIWXMAAA9hAAAPYQGoP6dpAAAEKElEQVR4nO3cQUojaQCG4d8QnHZTIQQ8Rh8gh/CwfYgcwHtISC06jhtn0do4IsOAyeuQeZ6dBqQWL5Wk+D+vnp+fBxQWX30B/H+IjYzYyIiNjNjIiI2M2MiIjYzYyFyNMW7GGNcfvPb0/Px8jK+HC7bcbDZ30zSt378wz/P+6urqh+A4leU0TevtdntcrVaPr788HA7fdrvd+uHh4XqMITZOYjnGGKvV6vH29vbnu9duvuB6uGC+IJARGxmxkREbGbGRERsZsZERGxmxkREbGbGRERsZsZERG5nlGL/Or7395fuf4RSW8zzvd7vderw7vzbP836M8fQ1l8UlskEgc+VfZlF5f2dzN+Ns/rausqjinBav66rtdnt8ie6jz2/wab/XVS8/W1RxNh7qkhEbGbGRERsZsZERGxmxkREbGbGRERsZsZERGxmxkflw8ALn8HbwYuTCWTkWTsbghczbO5u7Gmf1e/Bi7MK5LaZpWn///n0Yu3BuizHGuLm5+fOrL4TL56EuGbGRERsZsZERGxmxkREbGbGRERsZsZERGxmxkREbmcUYYxyPxz+++kK4fIt5nvf39/fGLpydY+FkDF7I+IJAxtsoGesqMtZVZKyryPiCQEZsZMRGRmxkxEZGbGTERkZsZMRGRmxkxEZGbGTERsa6iox1FRnHwslYV5FxZyNj8ELG4IWMwQsZD3XJiI2M2MiIjYzYyIiNjNjIiI2M2MiIjYzYyIiNjNjIGLyQMXgh41g4GYMXMq93tuGuxrktN5vN3RhjGLtwbotpmtbGLhQ8ZyMjNjJiIyM2MmIjIzYyYiMjNjJiIyM2MmIjIzYyYiMjNjJiIyM2MsuXVdUYllWcmQ0CGesqMu5sZKyryFhXkfHog4zYyIiNjNjIiI2M2MiIjYzYyIiNjNjIiI2M2MiIjYzYyIiNjMELGcfCyRi8kHFnI2PwQsbghYxHH2TERkZsZMRGRmxkxEZGbGTERkZsZMRGRmxkxEZGbGTERkZsZAxeyDgWTsbghYzPbGS8jZKxriJjXUXGZzYyYiMjNjJiIyM2MmIjIzYyYiMjNjJiIyM2MmIjIzYyYiMjNjLWVWQcCydjXUXGnY2MwQsZgxcyHn2QERsZsZERGxmxkREbGbGRERsZsZERGxmxkREbGbGRERsZsZExeCHjWDgZgxcyr3c2R8L5J0+neOdbbjabu5cNAnxonuf9KQZRy2ma1tvt9rharR5PdXFcjsPh8G23260fHh6uxxifi22MMVar1ePt7e3Pk1wdl+jmFH/EczYyYiMjNjJiIyM2MmIjIzYyYiMjNjJiIyM2MmIjIzYyyzF+HSP56gvhv+mUbSzned7vdrv1ONExEi7Pyyjq04Mox8L5N05yLNzghYwvCGTERkZsZMRGRmxkxEZGbGTERkZsZP4CQ2x1zcQFw/IAAAAASUVORK5CYII=\"></img></td>\n",
       "      <td id=\"T_f1008_row6_col5\" class=\"data row6 col5\" >38<br>(3.6%)</td>\n",
       "    </tr>\n",
       "    <tr>\n",
       "      <td id=\"T_f1008_row7_col0\" class=\"data row7 col0\" >8</td>\n",
       "      <td id=\"T_f1008_row7_col1\" class=\"data row7 col1\" ><strong>Amount($)</strong><br>[object]</td>\n",
       "      <td id=\"T_f1008_row7_col2\" class=\"data row7 col2\" >1. Undisclosed<br>2. $1,000,000<br>3. $2,000,000<br>4. $3,000,000<br>5. $5,000,000<br>6. $500,000<br>7. $10,000,000<br>8. $1,500,000<br>9. $600,000<br>10. $4,000,000<br>11. other</td>\n",
       "      <td id=\"T_f1008_row7_col3\" class=\"data row7 col3\" >243 (23.0%)<br>53 (5.0%)<br>39 (3.7%)<br>27 (2.6%)<br>24 (2.3%)<br>22 (2.1%)<br>18 (1.7%)<br>16 (1.5%)<br>14 (1.3%)<br>14 (1.3%)<br>585 (55.5%)</td>\n",
       "      <td id=\"T_f1008_row7_col4\" class=\"data row7 col4\" ><img src = \"data:image/png;base64, iVBORw0KGgoAAAANSUhEUgAAAJsAAAD+CAYAAAAtWHdlAAAAOXRFWHRTb2Z0d2FyZQBNYXRwbG90bGliIHZlcnNpb24zLjUuMiwgaHR0cHM6Ly9tYXRwbG90bGliLm9yZy8qNh9FAAAACXBIWXMAAA9hAAAPYQGoP6dpAAAEW0lEQVR4nO3dQU4bWQBF0Q+y6DCxZUViGVmAF9GL7UV4AewDIWoQ05nQg5AIAiGR2nWLdp8zy+wruiqrSv8lZw8PDwMK50sfgP8PsZERGxmxkREbGbGRERsZsZERG5mzMcblGONi6YM88eXh4eGw9CE4vtXHjx//XK/X26UP8s00TbdnZ2d/Ce70rNbr9Xa32x02m8390oe5u7v7sN/vtzc3NxdjDLGdmNUYY2w2m/urq6vPSx/m0eXSB2AeXhDIiI2M2MiIjYzYyIiNjNjIiI2M2MiIjYzYyIiNjNjIiI3Maoyv98iWPsgY7+cczGM1TdPtfr/fjndyj2yaptsxxpelz8Hx2SCQOfNPZlH5nSebJw1H8ct1lbUTx/LmusraiWP6nXXVu3hL5b/PR10yYiMjNjJiIyM2MmIjIzYyYiMjNjJiIyM2MmIjIzYybw5eDFA4pl8OXgxQOBbXwskYvJB568nmicZR/XTwYujCsb06eDF0YQ5vDV4MXTgqH3XJiI2M2MiIjYzYyIiNjNjIiI2M2MiIjYzYyIiNjNjIvDp4MXRhDj8dvBi6cGyuhZMxeCHjBYHMaz+jfj6ZxYt1lVUVc3m2rrKqYk6vrausqpiFFwQyYiMjNjJiIyM2MmIjIzYyYiMjNjJiIyM2MmIjIzYyz9ZVVlXM6cW6yqqKubgWTsa6iownGxmDFzIGL2QMXsj4qEtGbGTERkZsZMRGRmxkxEZGbGTERkZsZMRGRmxkxEbG4IWMwQsZ18LJGLyQ+fHJ5qnGbJ4NXoxdmNP5t8HLbrc7PEb32n8HCf/a98HL45+NXZiNj7pkxEZGbGTERkZsZMRGRmxkxEZGbGTERkZsZMRGRmxkxEbm2boK5vR0XWVZxaxsEMhYV5HxZCNjXUXGuoqMdRUZH3XJiI2M2MiIjYzYyIiNjNjIiI2M2MiIjYzYyIiNjNjIGLyQMXgh41o4GYMXMk+fbJ5qzOr74MXYhbmdr9fr7adPn4axC3M7H2OMy8vLv5c+CKfPR10yYiMjNjJiIyM2MmIjIzYyYiMjNjJiIyM2MmIjIzYy52OMcTgc/lj6IJy+82mabq+vr41dmJ1r4WQMXsh4QSDjZ5SMdRUZ6yoy1lVkvCCQERsZsZERGxmxkREbGbGRERsZsZERGxmxkREbGbGRsa4iY11FxrVwMtZVZDzZyBi8kDF4IWPwQsZHXTJiIyM2MmIjIzYyYiMjNjJiIyM2MmIjIzYyYiMjNjIGL2QMXsi4Fk7G4IXM0ycbx+WX4gffBy9LH+TUGBC9tFqv19vdbnfYbDb3Sx/mVNzd3X3Y7/fbm5ubizGG2B6txhhjs9ncX11dfV76MCfmcukDvDc+6pIRGxmxkREbGbGRERsZsZERGxmxkREbGbGRERsZsZFZjfH1SszSBzkl/j5ft5qm6Xa/32+HKzFHZUD0kmvh83Et/AcGL2S8IJARGxmxkREbGbGRERsZsZERGxmxkfkHue8I0zfMnEUAAAAASUVORK5CYII=\"></img></td>\n",
       "      <td id=\"T_f1008_row7_col5\" class=\"data row7 col5\" >3<br>(0.3%)</td>\n",
       "    </tr>\n",
       "    <tr>\n",
       "      <td id=\"T_f1008_row8_col0\" class=\"data row8 col0\" >9</td>\n",
       "      <td id=\"T_f1008_row8_col1\" class=\"data row8 col1\" ><strong>Stage</strong><br>[object]</td>\n",
       "      <td id=\"T_f1008_row8_col2\" class=\"data row8 col2\" >1. nan<br>2. Series A<br>3. Seed<br>4. Seed Round<br>5. Series B<br>6. Pre series A<br>7. Pre-series A<br>8. Series C<br>9. Series D<br>10. Debt<br>11. other</td>\n",
       "      <td id=\"T_f1008_row8_col3\" class=\"data row8 col3\" >464 (44.0%)<br>96 (9.1%)<br>80 (7.6%)<br>69 (6.5%)<br>57 (5.4%)<br>54 (5.1%)<br>53 (5.0%)<br>50 (4.7%)<br>22 (2.1%)<br>18 (1.7%)<br>92 (8.7%)</td>\n",
       "      <td id=\"T_f1008_row8_col4\" class=\"data row8 col4\" ><img src = \"data:image/png;base64, iVBORw0KGgoAAAANSUhEUgAAAJsAAAD+CAYAAAAtWHdlAAAAOXRFWHRTb2Z0d2FyZQBNYXRwbG90bGliIHZlcnNpb24zLjUuMiwgaHR0cHM6Ly9tYXRwbG90bGliLm9yZy8qNh9FAAAACXBIWXMAAA9hAAAPYQGoP6dpAAAEPElEQVR4nO3dTWobWQBG0ecgTDKxMAYtxovoxfYitBsTpEEcMlEP8oPTTSRVqXxl3OfMMggU4fJMFe+Lbw6Hw4DCh2s/AP8fYiMjNjJiIyM2MmIjIzYyYiMjNjI3Y4xPY4zbaz/IG/LtcDg8X/sh3qPVw8PDX3d3d/fXfpC3Yr/ff765uflbcMtb3d3d3T8+Pj6v1+uv136Ya9vtdh+32+3909PT7RhDbAtbjTHGer3+utlsvlz7Yd6IT9d+gPfKCwIZsZERGxmxkREbGbGRERsZsZERGxmxkREbGbGRERsZsZFZjfH9Hte1H+Qt8O/wulb7/f7zdru9H+5xjTG+39QdY3y79nO8RzYI/2WD8Epu/JdZVC452ZwATDJ7XWWFxFSz1lVWSMxxybrK2yuT+KhLRmxkxEZGbGTERkZsZMRGRmxkxEZGbGTERkZsZMRGZtbgxTCEOWYPXgxDmMq1cDIGL2TmnGxONGaZPHgxdGGuSYMXQxcuMWfwYujCLD7qkhEbGbGRERsZsZERGxmxkREbGbGRERsZsZERGxmxkZk0eDF04RKTBy+GLszlWjgZgxcyXhDITPkx6scnFzl7XWVVxaXOWldZVbGEKesqqyou4gWBjNjIiI2M2MiIjYzYyIiNjNjIiI2M2MiIjYzYyIiNzFnrKqsqlnD2usqqiku5Fk7GuorMOSebE41FnBy8GLqwlKODF0MXlnTO4MXQhUX4qEtGbGTERkZsZMRGRmxkxEZGbGTERkZsZMRGRmxkxEbm6ODF0IUlnRy8GLqwFNfCyRi8kHGykTF4IWPwQsbghYyPumTERkZsZMRGRmxkxEZGbGTERkZsZMRGRmxkxEZGbGTERsa6iox1FRkbBDLWVWScbGSsq8hYV5GxriLjoy4ZsZERGxmxkREbGbGRERsZsZERGxmxkREbGbGRERsZgxcyBi9kXAsnY/BC5tTJ5lRjMUcHL8YuLOmPgxdjF5Z2avBi7MJifNQlIzYyYiMjNjJiIyM2MmIjIzYyYiMjNjJiIyM2MmIj88fBi7ELSzs6eDF2YUmuhZMxeCHjBYHMv3+M+rHJq/ltXWVNxWv68HNd9fj4+PwjumPreJjt17rqx5+tqXg1XhDIiI2M2MiIjYzYyIiNjNjIiI2M2MiIjYzYyIiNjNjIHP11QrCkl+sqaypelWvhZKyryDjZyBi8kDF4IWPwQsZHXTJiIyM2MmIjIzYyYiMjNjJiIyM2MmIjIzYyYiMjNjIGL2QMXsi4Fk7G4IXMqV+UdoxTkEl+G7xMYRzDVKufg5cXO4STdrvdx+12e//09HQ7xhAbZ/k1eNlsNl8m/l3jGCbxUZeM2MiIjYzYyIiNjNjIiI2M2MiIjYzYyIiNjNjIiI3MrMGLgQxzvBy8TLoyZBzDVK6FkzF4IeMFgYzYyIiNjNjIiI2M2MiIjYzYyIiNzD+O4TYkaFl7eQAAAABJRU5ErkJggg==\"></img></td>\n",
       "      <td id=\"T_f1008_row8_col5\" class=\"data row8 col5\" >464<br>(44.0%)</td>\n",
       "    </tr>\n",
       "    <tr>\n",
       "      <td id=\"T_f1008_row9_col0\" class=\"data row9 col0\" >10</td>\n",
       "      <td id=\"T_f1008_row9_col1\" class=\"data row9 col1\" ><strong>Unnamed: 9</strong><br>[object]</td>\n",
       "      <td id=\"T_f1008_row9_col2\" class=\"data row9 col2\" >1. nan<br>2. Pre-Seed<br>3. Seed Round</td>\n",
       "      <td id=\"T_f1008_row9_col3\" class=\"data row9 col3\" >1,053 (99.8%)<br>1 (0.1%)<br>1 (0.1%)</td>\n",
       "      <td id=\"T_f1008_row9_col4\" class=\"data row9 col4\" ><img src = \"data:image/png;base64, iVBORw0KGgoAAAANSUhEUgAAAJsAAABFCAYAAABdVZTTAAAAOXRFWHRTb2Z0d2FyZQBNYXRwbG90bGliIHZlcnNpb24zLjUuMiwgaHR0cHM6Ly9tYXRwbG90bGliLm9yZy8qNh9FAAAACXBIWXMAAA9hAAAPYQGoP6dpAAABQUlEQVR4nO3bsU3EQBCG0VnLgiOxdbLkEqCHK4KU3unCCRyRCaiBf6W99yqY4JNGK+208zwLEqbeA/A4WlW9VNVT70EY37xt2/uyLNfegzC+eVmW6+12+17X9d57GMZ1HMdlrqpa1/W+7/tX74EYmwcCMWIjRmzEiI0YsREjNmLERozYiBEbMWIjRmzEiI0YsREjNmLmqr+/Rr0HYWzHcVzatm0ffuqS4AaBmOaUjxQPBGKm1tpba80DgX83VdVrVT33HoTxWaPEiI0YsREjNmLERozYiBEbMWIjRmzEiI0YsREjNmLERozYiBEbMWIjZqqqz6r66T0I43PwQow1SozYiBEbMU75iHHKR4w1SozYiBEbMWIjRmzEiI0YsREjNmLERozYiBEbMWIjRmzEiI0YsREjNmKc8hHjlI8Ya5SYX8x1IIgKwWYlAAAAAElFTkSuQmCC\"></img></td>\n",
       "      <td id=\"T_f1008_row9_col5\" class=\"data row9 col5\" >1,053<br>(99.8%)</td>\n",
       "    </tr>\n",
       "  </tbody>\n",
       "</table>\n"
      ],
      "text/plain": [
       "<pandas.io.formats.style.Styler at 0x7fa4d8676280>"
      ]
     },
     "execution_count": 46,
     "metadata": {},
     "output_type": "execute_result"
    }
   ],
   "source": [
    "dfSummary(data_2020, is_collapsible = False)"
   ]
  },
  {
   "cell_type": "code",
   "execution_count": 47,
   "id": "35198176",
   "metadata": {},
   "outputs": [
    {
     "data": {
      "text/plain": [
       "Company/Brand       0\n",
       "Founded           212\n",
       "HeadQuarter        94\n",
       "Sector             13\n",
       "What it does        0\n",
       "Founders           12\n",
       "Investor           38\n",
       "Amount($)           3\n",
       "Stage             464\n",
       "Unnamed: 9       1053\n",
       "dtype: int64"
      ]
     },
     "execution_count": 47,
     "metadata": {},
     "output_type": "execute_result"
    }
   ],
   "source": [
    "pd.isnull(data_2020).sum()"
   ]
  },
  {
   "cell_type": "markdown",
   "id": "9c8e12e4",
   "metadata": {},
   "source": [
    "<br><p style=\"font-size:20px ; font-weight: bold ; font-family: 'Times New Roman'; color: #00008B\">Observation: </p><br>\n",
    "\n",
    "<p style=\"font-size:20px ; font-family: 'Times New Roman';\"> Initial check indicates there are null values in the data set</p>"
   ]
  },
  {
   "cell_type": "markdown",
   "id": "27f9704e",
   "metadata": {},
   "source": [
    "<H1 style=\"text-align: center;font-size:30px ; font-family: 'Times New Roman'; color: #00008B\">Deep Dive Into the Data  Set :</H1> <br><br>"
   ]
  },
  {
   "cell_type": "markdown",
   "id": "73c27a95",
   "metadata": {},
   "source": [
    "<br><p style=\"font-size:20px ; font-weight: bold ; font-family: 'Times New Roman'; color: #00008B\">Cleaning the Founded Column</p><br>"
   ]
  },
  {
   "cell_type": "code",
   "execution_count": 48,
   "id": "4c51c4ab",
   "metadata": {},
   "outputs": [
    {
     "data": {
      "text/plain": [
       "array(['2019', '2018', '2020', '2016', '2008', '2015', '2017', '2014',\n",
       "       '1998', '2007', '2011', '1982', '2013', '2009', '2012', '1995',\n",
       "       '2010', '2006', '1978', nan, '1999', '1994', '2005', '1973', '-',\n",
       "       '2002', '2004', '2001'], dtype=object)"
      ]
     },
     "execution_count": 48,
     "metadata": {},
     "output_type": "execute_result"
    }
   ],
   "source": [
    "data_2020['Founded'].unique()"
   ]
  },
  {
   "cell_type": "markdown",
   "id": "d482a81a",
   "metadata": {},
   "source": [
    "<p style=\"font-size:20px ; font-weight: bold ; font-family: 'Times New Roman'; color: #00008B\">Replacing all record with unknown dates with 2020</p><br>"
   ]
  },
  {
   "cell_type": "code",
   "execution_count": 49,
   "id": "a6e9d1dd",
   "metadata": {},
   "outputs": [],
   "source": [
    "# replacing all record with unknown dates with 2020, since it is a 2020 data set\n",
    "data_2020[\"Founded\"]=data_2020['Founded'].apply(lambda x: str(x).replace(\"nan\" ,\"2020\")) \n",
    "data_2020[\"Founded\"]=data_2020['Founded'].apply(lambda x: str(x).replace(\"-\" ,\"2020\")) "
   ]
  },
  {
   "cell_type": "markdown",
   "id": "39d580ea",
   "metadata": {},
   "source": [
    "<br><p style=\"font-size:20px ; font-weight: bold ; font-family: 'Times New Roman'; color: #00008B\">Cleaning the HeadQuarter Column</p><br>"
   ]
  },
  {
   "cell_type": "code",
   "execution_count": 50,
   "id": "bb3c196a",
   "metadata": {},
   "outputs": [
    {
     "data": {
      "text/plain": [
       "array(['Chennai', 'Bangalore', 'Pune', 'New Delhi', 'Indore', 'Hyderabad',\n",
       "       'Gurgaon', 'Belgaum', 'Noida', 'Mumbai', 'Andheri', 'Jaipur',\n",
       "       'Ahmedabad', 'Kolkata', 'Tirunelveli, Tamilnadu', 'Thane', nan,\n",
       "       'Singapore', 'Gurugram', 'Gujarat', 'Haryana', 'Kerala', 'Jodhpur',\n",
       "       'Jaipur, Rajastan', 'Delhi', 'Frisco, Texas, United States',\n",
       "       'California', 'Dhingsara, Haryana', 'New York, United States',\n",
       "       'Patna', 'San Francisco, California, United States',\n",
       "       'San Francisco, United States', 'San Ramon, California',\n",
       "       'Paris, Ile-de-France, France', 'Plano, Texas, United States',\n",
       "       'Sydney', 'San Francisco Bay Area, Silicon Valley, West Coast',\n",
       "       'Bangaldesh', 'London, England, United Kingdom',\n",
       "       'Sydney, New South Wales, Australia', 'Milano, Lombardia, Italy',\n",
       "       'Palmwoods, Queensland, Australia', 'France',\n",
       "       'San Francisco Bay Area, West Coast, Western US',\n",
       "       'Trivandrum, Kerala, India', 'Cochin', 'Samastipur, Bihar',\n",
       "       'Irvine, California, United States', 'Tumkur, Karnataka',\n",
       "       'Newcastle Upon Tyne, Newcastle upon Tyne, United Kingdom',\n",
       "       'Shanghai, China', 'Jiaxing, Zhejiang, China', 'Rajastan', 'Kochi',\n",
       "       'Ludhiana', 'Dehradun', 'San Franciscao', 'San Francisco',\n",
       "       'Tangerang, Jawa Barat, Indonesia', 'Berlin', 'Seattle', 'Riyadh',\n",
       "       'Seoul', 'New York', 'Bangkok', 'Kanpur', 'Chandigarh', 'Warangal',\n",
       "       'Hyderebad', 'Odisha', 'Bihar', 'Goa', 'Tamil Nadu',\n",
       "       'Uttar Pradesh', 'Bhopal', 'Banglore', 'Coimbatore', 'Bengaluru'],\n",
       "      dtype=object)"
      ]
     },
     "execution_count": 50,
     "metadata": {},
     "output_type": "execute_result"
    }
   ],
   "source": [
    "data_2020['HeadQuarter'].unique()"
   ]
  },
  {
   "cell_type": "markdown",
   "id": "48f28038",
   "metadata": {},
   "source": [
    "<p style=\"font-size:20px ; font-weight: bold ; font-family: 'Times New Roman'; color: #00008B\">Strip and select only the City name</p><br>"
   ]
  },
  {
   "cell_type": "code",
   "execution_count": 51,
   "id": "4cac357c",
   "metadata": {},
   "outputs": [],
   "source": [
    "#strip and select only the City name, which is the first part and ignore the country \n",
    "data_2020['HeadQuarter']=data_2020['HeadQuarter'].str.split(',').str[0] "
   ]
  },
  {
   "cell_type": "markdown",
   "id": "cf330fc5",
   "metadata": {},
   "source": [
    "<p style=\"font-size:20px ; font-weight: bold ; font-family: 'Times New Roman'; color: #00008B\">Replacing wrongly spelt names and similar names</p><br>"
   ]
  },
  {
   "cell_type": "code",
   "execution_count": 52,
   "id": "9bbed6d6",
   "metadata": {},
   "outputs": [],
   "source": [
    "# replacing wrongly spelt names and similar names entered differently\n",
    "data_2020.replace({'HeadQuarter':{'Bangalore':'Bengaluru','New Delhi':'Delhi','nan':'Delhi','Bangaldesh':'Bangladesh',\n",
    "                                  'Banglore':'Bengaluru'}}, inplace=True)"
   ]
  },
  {
   "cell_type": "markdown",
   "id": "e40b085a",
   "metadata": {},
   "source": [
    "<br><p style=\"font-size:20px ; font-weight: bold ; font-family: 'Times New Roman'; color: #00008B\">Cleaning the Sector Column</p><br>"
   ]
  },
  {
   "cell_type": "code",
   "execution_count": 53,
   "id": "8f146cd3",
   "metadata": {},
   "outputs": [
    {
     "data": {
      "text/plain": [
       "array(['AgriTech', 'EdTech', 'Hygiene management', 'Escrow',\n",
       "       'Networking platform', 'FinTech', 'Crowdsourcing',\n",
       "       'Food & Bevarages', 'HealthTech', 'Fashion startup',\n",
       "       'Food Industry', 'Food Delivery', 'Virtual auditing startup',\n",
       "       'E-commerce', 'Gaming', 'Work fulfillment', 'AI startup',\n",
       "       'Telecommunication', 'Logistics', 'Tech Startup', 'Sports',\n",
       "       'Retail', 'Medtech', 'Tyre management', 'Cloud company',\n",
       "       'Software company', 'Venture capitalist', 'Renewable player',\n",
       "       'IoT startup', 'SaaS startup', 'Aero company', 'Marketing company',\n",
       "       'Retail startup', 'Co-working Startup', 'Finance company',\n",
       "       'Tech company', 'Solar Monitoring Company',\n",
       "       'Video sharing platform', 'Gaming startup',\n",
       "       'Video streaming platform', 'Consumer appliances',\n",
       "       'Blockchain startup', 'Conversational AI platform', 'Real Estate',\n",
       "       'SaaS platform', 'AI platform', 'Fusion beverages', 'HR Tech',\n",
       "       'Job portal', 'Hospitality', 'Digital Media', 'Dairy startup',\n",
       "       'Content management', 'Spacetech', 'Transportation',\n",
       "       'Trading platform', 'AI Company', 'Photonics startup',\n",
       "       'Entertainment', 'Cosmetics', 'Scanning app', 'Skincare startup',\n",
       "       'Food and Beverages', 'Biotechnology company', 'FoodTech',\n",
       "       'Proptech', 'CleanTech', 'Fitness startup', 'Healthcare',\n",
       "       'PaaS startup', 'Beverages', 'Social Media', 'Automobiles',\n",
       "       'Deeptech', 'EV startup', 'AR/VR startup', 'Recruitment startup',\n",
       "       'QSR startup', 'Video platform', 'Edtech', 'Fertility tech',\n",
       "       'Luxury car startup', 'FM', 'Food', 'Nutrition sector',\n",
       "       'Tech platform', 'Video', 'Retail Tech', 'HeathTech',\n",
       "       'Sles and marketing', 'LegalTech', 'Car Service',\n",
       "       'Bike marketplace', 'Agri tech', 'Reatil startup', 'AR platform',\n",
       "       'Consumer Goods', 'Content marketplace', 'Interior Design',\n",
       "       'Rental space', 'Soil-Tech', 'Ayurveda tech',\n",
       "       'Packaging solution startup', 'Cleantech', 'Sanitation solutions',\n",
       "       'HealthCare', 'Home Design', 'InsureTech', 'AI Startup',\n",
       "       'Solar solution', 'Jewellery startup',\n",
       "       'Multinational conglomerate company', 'Deeptech startup',\n",
       "       'Social Network', 'Publication', 'Tech', 'Fashion', 'Finance',\n",
       "       'Venture capital', 'Entreprenurship', 'Food devlivery',\n",
       "       'Warehouse', 'Online financial service', 'Eyeglasses',\n",
       "       'Battery design', 'Online credit management startup', 'Beverage',\n",
       "       'TravelTech', 'Agriculture', 'Startup laboratory',\n",
       "       'Personal care startup', 'Customer service company',\n",
       "       'SaaS\\xa0\\xa0startup', 'Marketing startup', 'Service industry',\n",
       "       'Social media', 'AI', 'Jewellery', 'AR startup', 'HR Tech startup',\n",
       "       'Automotive Startup', 'Food Startup', 'EdTech Startup',\n",
       "       'Car Trade', 'EdtTech', 'Manufacturing', 'AI Platform',\n",
       "       'Automation', 'Solar SaaS', 'WL & RAC protection',\n",
       "       'Social commerce', 'Home interior services', 'Agritech startup',\n",
       "       'API platform', 'Deep Tech', 'Electricity', 'Automotive company',\n",
       "       'FMCG', 'Insurance Tech', 'Video personalization',\n",
       "       'Software Company', 'Biomaterial startup', 'Health', 'IT',\n",
       "       'Craft Beer', 'Healthtech', 'Education', 'Investment',\n",
       "       'Linguistic Spiritual', 'Construction', 'Battery manufacturer',\n",
       "       'Nano Distribution Network', 'AI health', 'Dating app', 'Media',\n",
       "       'Fintech', 'Healthcare/Edtech', 'Social Commerce',\n",
       "       'Agritech/Commerce', 'Mobility tech', 'Social e-commerce',\n",
       "       'Food & Logistics', 'SpaceTech', 'Nutrition Tech', 'HR', 'IoT',\n",
       "       nan, 'Agritech', 'Interior design', 'Foodtech', 'AR/VR',\n",
       "       'Appliance', 'HR tech', 'Food tech', 'Mental Health', 'Ecommerce',\n",
       "       'Solar Solution', 'SaaS', 'Automobile', 'B2B marketplace',\n",
       "       'Fashion Tech', 'Nutrition tech', 'Health & Wellness',\n",
       "       'Cloud Kitchen', 'IoT/Automobile', 'Eye Wear', 'Digital tech',\n",
       "       'Data Intelligence', 'Co-living', 'Food & Beverages', 'Automotive',\n",
       "       'B2B', 'Defense tech', 'Marketplace', 'Construction tech',\n",
       "       'Nutrition', 'Coworking', 'Micro-mobiity', 'Auto-tech', 'Beauty',\n",
       "       'Robotics', 'Yoga & wellness', 'Logitech', 'Med Tech',\n",
       "       'Life sciences', 'Retail Aggregator', 'Deep Tech AI', 'Biotech',\n",
       "       'Blockchain', 'HrTech', 'Mobility/Transport', 'Travel', 'Rental',\n",
       "       'AI & Debt', 'SaaS/Edtech', 'Transport', 'Co-working', 'Insurtech',\n",
       "       'Cryptocurrency', 'Automotive tech', 'Legal', 'Fitness', 'EV',\n",
       "       'Supply chain, Agritech', 'Pharma', 'Insurance technology',\n",
       "       'Foodtech & Logistics', 'Housing', 'Pharmaceutical',\n",
       "       'Data Analytics', 'Investment Tech', 'Financial Services',\n",
       "       'Biopharma', 'Dairy', 'Beauty & wellness', 'Travel & SaaS',\n",
       "       'Tourism & EV', 'Media Tech', 'Location Analytics', 'E store',\n",
       "       'Data Science', 'Insurance', 'Health and Fitness', 'Technology',\n",
       "       'Interior & decor', 'eMobility', 'Automation tech',\n",
       "       'Media & Networking', 'E-market', 'AI & Data science',\n",
       "       'Travel tech', 'Automotive and Rentals', 'E-tail', 'Accomodation',\n",
       "       'AI & Media', 'Machine Learning', 'Content Marktplace',\n",
       "       'Visual Media', 'Hygiene', 'VR & SaaS', 'Sales & Services',\n",
       "       'AI & Deep learning', 'Housing & Rentals', 'Estore', 'Marketing',\n",
       "       'E tailor', 'E-mobility', 'Ad-tech', 'Neo-banking',\n",
       "       'Transport Automation', 'Techonology', 'Transport & Rentals',\n",
       "       'AI Robotics', 'Preschool Daycare', 'Food diet', 'B2B Agritech',\n",
       "       'E-connect', 'Tech hub', 'Consultancy', 'Pharmacy', 'Deisgning',\n",
       "       'Taxation', 'Automobile Technology'], dtype=object)"
      ]
     },
     "execution_count": 53,
     "metadata": {},
     "output_type": "execute_result"
    }
   ],
   "source": [
    "data_2020['Sector'].unique()"
   ]
  },
  {
   "cell_type": "markdown",
   "id": "504429be",
   "metadata": {},
   "source": [
    "<p style=\"font-size:20px ; font-weight: bold ; font-family: 'Times New Roman'; color: #00008B\">Rename similar sectors with wrong or different spelling</p><br>"
   ]
  },
  {
   "cell_type": "code",
   "execution_count": 54,
   "id": "21d47ecc",
   "metadata": {},
   "outputs": [],
   "source": [
    "#rename similar sectors with wrong or different spelling to make it consistent\n",
    "data_2020.replace({'Sector':{'Ecommerce':'E-Commerce','Edtech':'EdTech','Interior design':'Home Decor','Virtual Banking':'Financial Services',\n",
    "                           'AgriTech':'AgTech','E-commerce & AR':'E-Commerce','Fintech':'FinTech','Infratech':'IT','B2B Supply Chain':'E-Commerce',\n",
    "                           'Marketing & Customer loyalty':'Customer Service','Automobile & Technology':'Automotive','Transport & Rentals':'Transportation',\n",
    "                           'HR tech':'Human Resources','AI & Tech':'AI','E-commerce':'E-Commerce','Travel':'Transportation','Health Care':'Healthcare',\n",
    "                           'Commercial Real Estate':'Real Estate','Cooking':'Catering','Fantasy Sports':'Sports','Consumer':'Consumer Goods',\n",
    "                           'Healthtech':'Healthcare','E-Sports':'Sports','Mutual Funds':'Finance','Legal tech':'Legal','Accomodation':'Real Estate',\n",
    "                           'Consumer Lending':'Consumer Goods','Credit':'Credit Cards','Business Travel':'Transportation','Hospital':'Healthcare',\n",
    "                           'Automobile':'Automotive','Alternative Medicine':'Healthcare','Renewable Energy':'Energy','Clean Energy':'Energy','Music':'Music Streaming',\n",
    "                           'Health Diagnostics':'Healthcare','Medical':'Healthcare','Enterprise Software':'ERP','Enterprise Resource Planning (ERP)':'ERP',\n",
    "                           'Audio':'Music Streaming','Air Transportation':'Aerospace','Yoga & wellness':'Fitness','Beauty':'Cosmetics','Big Data':'Analytics',\n",
    "                           'Food and Beverage':'Catering','Wealth Management':'Finance','Social Media':'Digital Media','Broadcasting':'Media and Entertainment',\n",
    "                           'News':'Media and Entertainment','Packaging Services':'Logistics','Mobile':'Mobile Phones','Medical Device':'Healthcare',\n",
    "                           'Continuing Education':'Education','Dental':'Healthcare','Android':'Software','Banking':'Financial Services','Training':'Education',\n",
    "                           'Digital Marketing':'Advertising','Marketplace':'Advertising','Consumer Electronics':'Consumer Goods','Rental':'Facilities Support Services',\n",
    "                           'Retail':'Business Development','3D Printing':'Creative Agency','Electric Vehicle':'Automotive','Industrial Automation':'Manufacturing',\n",
    "                           'Battery':'Energy','Reading Apps':'Apps','B2B':'E-Commerce','Communities':'Environmental Consulting','Smart Cities':'Environmental Consulting',\n",
    "                           'Health Insurance':'Insurance','Commercial':'Business Development','Digital Entertainment':'Digital Media','Food & tech':'Catering',\n",
    "                           'Cloud Infrastructure':'Cloud Computing','Marketing':'Advertising','Events':'Creative Agency','Food tech':'Catering',\n",
    "                           'Artificial Intelligence':'AI','Business Intelligence':'ERP','Information Services':'IT','Information Technology':'IT',\n",
    "                           'E-Learning':'Education','Tourism':'Hospitality','Industrial':'Manufacturing','Internet':'IT','Internet of Things':'IoT',\n",
    "                           'Jewellery':'Fashion','Food & Nutrition':'Healthcare','Robotics & AI':'AI', 'E-marketplace':'E-Commerce','Foodtech':'Catering',\n",
    "                           'Insurance technology':'Insurance','Pharmaceutical':'Healthcare','Safety tech':'Cybersecurity',\"Fashion startup\":'Fashion',\n",
    "                             'Deisgning':'Creative Agency','Pharmacy':'Healthcare','Consultancy':'Creative Agency','Tech hub':'IT','E-connect':'Digital Media',\n",
    "                             'B2B Agritech':'AgTech','Food diet':'Healthcare','Preschool Daycare':'Child Care','AI Robotics':'AI','SaaS/Edtech':'Saas',\n",
    "                             'Transport & Rentals':'Transportation','Transport Automation':'Transportation','Neo-banking':'inancial Services',\n",
    "                             'Ad-tech':'Advertising','E-mobility':'Mobile Payment','E tailor':'E-Commerce','Estore':'E-Commerce','Housing & Rentals':'Real Estate',\n",
    "                             'AI & Deep learning':'AI','Sales & Services':'Business Development','VR & SaaS':'Saas','Hygiene':'CleanTech','Cleantech':'CleanTech',\n",
    "                             'Visual Media':'Media and Entertainment','Content Marktplace':'Advertising','Machine Learning':'AI','AI & Media':'AI',\n",
    "                             'E-tail':'E-Commerce','Automotive and Rentals':'Automotive','ravel tech':'Transportation','AI & Data science':'AI',\n",
    "                             'Finance company':'Finance','Tech company':'IT','Solar Monitoring Company':'Energy','Video sharing platform':'Media and Entertainment',\n",
    "                             'Gaming startup':'Gaming','Video streaming platform':'Media and Entertainment','Consumer appliances':'Consumer Goods',\n",
    "                             'Blockchain startup':'Blockchain','Conversational AI platform':'AI','SaaS platform':'Saas','AI platform':'AI',\n",
    "                             'Escrow':'Legal','Networking platform':'IT','Spacetech':'Aerospace','Trading platform':'E-Commerce','AI Company':'AI',\n",
    "                             'Photonics startup':'Media and Entertainment','Entertainment':'Media and Entertainment','Scanning app':'Apps',\n",
    "                             'Skincare startup':'Cosmetics','Food and Beverages':'Catering','FoodTech':'Catering','Biotechnology company':'Environmental Consulting',\n",
    "                             'Proptech':'Facilities Support Services','Fitness startup':'Fitness','PaaS startup':'Saas','Beverages':'Catering',\n",
    "                             'Automobiles':'Automotive','Deeptech':'AI','EV startup':'Environmental Consulting','AR/VR startup':'IT','Recruitment startup':'Human Resources',\n",
    "                             'inancial Services':'Financial Services','Tourism & EV':'Hospitality','QSR startup':'Customer Service','Video platform':'Media and Entertainment',\n",
    "                             'Fusion beverages':'Catering','Job portal':'Human Resources','Dairy startup':'Catering','Content management':'Creative Agency',\n",
    "                             'Work fulfillment':'Human Resources','HR Tech':'Human Resources','Software Company':'Software','Soil-Tech':'Agriculture',\n",
    "                             'Travel & SaaS':'Transportation','Hygiene management':'CleanTech','Food & Bevarages':'Catering','Food Delivery':'Catering',\n",
    "                             'Virtual auditing startup':'FinTech','HealthTech':'Healthcare','AI startup':'AI','Tech Startup':'IT','Medtech':'Healthcare',\n",
    "                             'Tyre management':'Automotive','Cloud company':'Cloud Computing','Software company':'Software','Venture capitalist':'Finance',\n",
    "                             'Renewable player':'Energy','IoT startup':'IoT','SaaS startup':'Saas','Aero company':'Aerospace','Marketing company':'Advertising',\n",
    "                             'Retail startup':'Business Development','Co-working Startup':'Human Resources','—':'Unknown','Brand Marketing':'Advertising',\n",
    "                             'Fertility tech':'Healthcare','Luxury car startup':'Automotive','FM':'Media and Entertainment','Food':'Catering',\n",
    "                             'Nutrition sector':'Healthcare','Tech platform':'IT','Video':'Media and Entertainment','Retail Tech':'Business Development',\n",
    "                             'HeathTech':'Healthcare','Sles and marketing':'Advertising','LegalTech':'Legal','Car Service':'Automotive',\n",
    "                             'Bike marketplace':'Automotive','Agri tech':'AgTech','Reatil startup':'Business Development','AR platform':'IT',\n",
    "                             'Content marketplace':'Creative Agency','Interior Design':'Home Decor','Home Design':'Home Decor','InsureTech':'Insurance',\n",
    "                             'Rental space':'Facilities Support Services','Ayurveda tech':'IT','Packaging solution startup':'Logistics',\n",
    "                             'Sanitation solutions':'CleanTech','HealthCare':'Healthcare','AI Startup':'AI','Solar solution':'Energy','Tech':'IT',\n",
    "                             'Jewellery startup':'Fashion','Multinational conglomerate company':'Business Development','Deeptech startup':'AI',\n",
    "                             'Social Network':'Digital Media','Publication':'Creative Agency','Venture capital':'Finance','Entreprenurship':'Business Development',\n",
    "                             'E-market':'E-Commerce','Media & Networking':'Media and Entertainment','Automation tech':'Automotive','eMobility':'Mobile Payment',\n",
    "                             'Food devlivery':'Catering','Warehouse':'Facilities Support Services','Online financial service':'FinTech',\n",
    "                             'Eyeglasses':'Healthcare','Battery design':'Energy','Online credit management startup':'FinTech','Beverage':'Catering',\n",
    "                             'TravelTech':'Transportation','Startup laboratory':'Business Development','Personal care startup':'Fitness',\n",
    "                             'Customer service company':'Customer Service','SaaS\\xa0\\xa0startup':'Saas','Marketing startup':'Advertising',\n",
    "                             'Service industry':'Human Resources','Social media':'Digital Media','R startup':'IT','HR Tech startup':'Human Resources',\n",
    "                             'AR startup':'IT','Automotive Startup':'Automotive','Food Startup':'Catering','EdTech Startup':'Education',\n",
    "                             'Car Trade':'Automotive','EdtTech':'Education','AI Platform':'AI','Automation':'Automotive','Solar SaaS':'Saas',\n",
    "                             'WL & RAC protection':'Environmental Consulting','Social commerce':'E-Commerce','Home interior services':'Home Decor',\n",
    "                             'Agritech startup':'AgTech','API platform':'Software','Deep Tech':'AI','Electricity':'Energy','Automotive company':'Automotive',\n",
    "                             'FMCG':'Legal','Insurance Tech':'Insurance','Video personalization':'Media and Entertainment','Biomaterial startup':'Manufacturing',\n",
    "                             'Health':'Healthcare','Craft Beer':'Creative Agency','Investment':'Finance','Linguistic Spiritual':'Education',\n",
    "                             'Battery manufacturer':'Energy','Nano Distribution Network':'IT','AI health':'AI','Dating app':'Dating',\n",
    "                             'Media':'Media and Entertainment','Healthcare/Edtech':'Healthcare','Social Commerce':'E-Commerce','Agritech/Commerce':'AgTech',\n",
    "                             'Mobility tech':'Mobile Phones','Social e-commerce':'E-Commerce','Food & Logistics':'Logistics','SpaceTech':'Aerospace',\n",
    "                             'Nutrition Tech':'Healthcare','HR':'Human Resources','nan':'Unknown','Agritech':'AgTech','AR/VR':'IT',\n",
    "                             'Appliance':'Consumer Goods','Mental Health':'Healthcare','Solar Solution':'Energy','Saas':'SaaS','B2B marketplace':'E-Commerce',\n",
    "                             'Fashion Tech':'Fashion','Nutrition tech':'Healthcare','Health & Wellness':'Fitness','Cloud Kitchen':'Cloud Computing',\n",
    "                             'IoT/Automobile':'IoT','Eye Wear':'Healthcare','Digital tech':'IT','Data Intelligence':'ERP','Co-living':'Human Resources',\n",
    "                             'Food & Beverages':'Catering','Defense tech':'Cybersecurity','Construction tech':'Construction','Nutrition':'Healthcare',\n",
    "                             'Coworking':'Human Resources','Micro-mobiity':'Mobile Phones','Auto-tech':'Automotive','Robotics':'AI','Logitech':'IT',\n",
    "                             'Med Tech':'Healthcare','Life sciences':'Healthcare','Retail Aggregator':'Business Development','Deep Tech AI':'AI',\n",
    "                             'Biotech':'Environmental Consulting','HrTech':'Human Resources','AI & Debt':'AI','Transport':'Transportation',\n",
    "                             'Co-working':'Human Resources','Insurtech':'Insurance','Automotive tech':'Automotive','EV':'Environmental Consulting',\n",
    "                             'Supply chain, Agritech':'Logistics','Pharma':'Healthcare','Foodtech & Logistics':'Logistics','Housing':'Real Estate',\n",
    "                             'Data Analytics':'ERP','Investment Tech':'Finance','Biopharma':'Healthcare','Dairy':'Catering','Beauty & wellness':'Fitness',\n",
    "                             'Media Tech':'Media and Entertainment','E store':'E-Commerce','Data Science':'ERP','Travel tech':'Transportation',\n",
    "                             'Techonology':'IT','Taxation':'Accounting','Automobile Technology':'Automotive','Food Industry':'Catering','inancial Services':'Financial Services',\n",
    "                             'Interior & decor':'Home Decor','Health and Fitness':'Fitness','Location Analytics':'ERP','Mobility/Transport':'Transportation',\n",
    "                           'Technology':'IT','Farming':'Agriculture','Food Processing':'Catering','Collaboration':'Human Resources','Computer':'IT','Career Planning':'Human Resources',\n",
    "                           'Wedding':'Customer Service','Games':'Gaming'}}, inplace=True)"
   ]
  },
  {
   "cell_type": "code",
   "execution_count": 55,
   "id": "2e495c2b",
   "metadata": {},
   "outputs": [
    {
     "data": {
      "text/plain": [
       "array(['AgTech', 'EdTech', 'CleanTech', 'Legal', 'IT', 'FinTech',\n",
       "       'Crowdsourcing', 'Catering', 'Healthcare', 'Fashion', 'E-Commerce',\n",
       "       'Gaming', 'Human Resources', 'AI', 'Telecommunication',\n",
       "       'Logistics', 'Sports', 'Business Development', 'Automotive',\n",
       "       'Cloud Computing', 'Software', 'Finance', 'Energy', 'IoT', 'Saas',\n",
       "       'Aerospace', 'Advertising', 'Media and Entertainment',\n",
       "       'Consumer Goods', 'Blockchain', 'Real Estate', 'Hospitality',\n",
       "       'Digital Media', 'Creative Agency', 'Transportation', 'Cosmetics',\n",
       "       'Apps', 'Environmental Consulting', 'Facilities Support Services',\n",
       "       'Fitness', 'Customer Service', 'Home Decor', 'Agriculture',\n",
       "       'Insurance', 'Education', 'Manufacturing', 'Construction',\n",
       "       'Dating', 'Mobile Phones', nan, 'SaaS', 'ERP', 'Cybersecurity',\n",
       "       'Cryptocurrency', 'Financial Services', 'Mobile Payment',\n",
       "       'inancial Services', 'Child Care', 'Accounting'], dtype=object)"
      ]
     },
     "execution_count": 55,
     "metadata": {},
     "output_type": "execute_result"
    }
   ],
   "source": [
    "data_2020['Sector'].unique()"
   ]
  },
  {
   "cell_type": "markdown",
   "id": "e77533f1",
   "metadata": {},
   "source": [
    "<br><p style=\"font-size:20px ; font-weight: bold ; font-family: 'Times New Roman'; color: #00008B\">Cleaning the Amount($) Column</p><br>"
   ]
  },
  {
   "cell_type": "markdown",
   "id": "e7c4145e",
   "metadata": {},
   "source": [
    "<p style=\"font-size:20px ; font-weight: bold ; font-family: 'Times New Roman'; color: #00008B\">Changing the data type to a string</p><br>"
   ]
  },
  {
   "cell_type": "code",
   "execution_count": 56,
   "id": "3239b898",
   "metadata": {},
   "outputs": [],
   "source": [
    "#First change the data type to a string to work on the special characters\n",
    "data_2020['Amount($)']=data_2020['Amount($)'].astype(str) "
   ]
  },
  {
   "cell_type": "markdown",
   "id": "3fbb8b8a",
   "metadata": {},
   "source": [
    "<p style=\"font-size:20px ; font-weight: bold ; font-family: 'Times New Roman'; color: #00008B\">Retrieveing records with 'Undiclsosed'</p><br>"
   ]
  },
  {
   "cell_type": "code",
   "execution_count": 57,
   "id": "7197045a",
   "metadata": {},
   "outputs": [
    {
     "data": {
      "text/html": [
       "<div>\n",
       "<style scoped>\n",
       "    .dataframe tbody tr th:only-of-type {\n",
       "        vertical-align: middle;\n",
       "    }\n",
       "\n",
       "    .dataframe tbody tr th {\n",
       "        vertical-align: top;\n",
       "    }\n",
       "\n",
       "    .dataframe thead th {\n",
       "        text-align: right;\n",
       "    }\n",
       "</style>\n",
       "<table border=\"1\" class=\"dataframe\">\n",
       "  <thead>\n",
       "    <tr style=\"text-align: right;\">\n",
       "      <th></th>\n",
       "      <th>Company/Brand</th>\n",
       "      <th>Founded</th>\n",
       "      <th>HeadQuarter</th>\n",
       "      <th>Sector</th>\n",
       "      <th>What it does</th>\n",
       "      <th>Founders</th>\n",
       "      <th>Investor</th>\n",
       "      <th>Amount($)</th>\n",
       "      <th>Stage</th>\n",
       "      <th>Unnamed: 9</th>\n",
       "    </tr>\n",
       "  </thead>\n",
       "  <tbody>\n",
       "    <tr>\n",
       "      <th>665</th>\n",
       "      <td>Credgencies</td>\n",
       "      <td>2018</td>\n",
       "      <td>NaN</td>\n",
       "      <td>AI</td>\n",
       "      <td>Tech-enabled platform for resolution of non-pe...</td>\n",
       "      <td>Rishabh Goel, Anand Agrawal, Mayank Khera</td>\n",
       "      <td>Titan Capital</td>\n",
       "      <td>Undiclsosed</td>\n",
       "      <td>Seed Round</td>\n",
       "      <td>NaN</td>\n",
       "    </tr>\n",
       "  </tbody>\n",
       "</table>\n",
       "</div>"
      ],
      "text/plain": [
       "    Company/Brand Founded HeadQuarter Sector  \\\n",
       "665   Credgencies    2018         NaN     AI   \n",
       "\n",
       "                                          What it does  \\\n",
       "665  Tech-enabled platform for resolution of non-pe...   \n",
       "\n",
       "                                      Founders       Investor    Amount($)  \\\n",
       "665  Rishabh Goel, Anand Agrawal, Mayank Khera  Titan Capital  Undiclsosed   \n",
       "\n",
       "          Stage Unnamed: 9  \n",
       "665  Seed Round        NaN  "
      ]
     },
     "execution_count": 57,
     "metadata": {},
     "output_type": "execute_result"
    }
   ],
   "source": [
    "# retrieveing records with 'Undiclsosed'in the Amount($) column\n",
    "data_2020.loc[data_2020['Amount($)']=='Undiclsosed']\n",
    "#und_1=data_2020['Amount($)']=='Undiclsosed'\n",
    "#und_2=data_2020['Amount($)']=='Undislosed'\n",
    "#und_3=data_2020['Amount($)']=='Undisclosed'"
   ]
  },
  {
   "cell_type": "markdown",
   "id": "8ee05e3d",
   "metadata": {},
   "source": [
    "<p style=\"font-size:20px ; font-weight: bold ; font-family: 'Times New Roman'; color: #00008B\">Correcting the name of the Amount($) from 'Undiclsosed' to 0</p><br>"
   ]
  },
  {
   "cell_type": "code",
   "execution_count": 58,
   "id": "25d47ce6",
   "metadata": {},
   "outputs": [],
   "source": [
    "# correcting the name of the Amount($) from Undiclsosed to 0 based on the information above.\n",
    "data_2020.iloc[665].replace({'Undiclsosed':'0'},inplace=True) "
   ]
  },
  {
   "cell_type": "markdown",
   "id": "c8b0f496",
   "metadata": {},
   "source": [
    "<p style=\"font-size:20px ; font-weight: bold ; font-family: 'Times New Roman'; color: #00008B\">Retrieveing records with Undislosed</p><br>"
   ]
  },
  {
   "cell_type": "code",
   "execution_count": 59,
   "id": "bef76276",
   "metadata": {},
   "outputs": [
    {
     "data": {
      "text/html": [
       "<div>\n",
       "<style scoped>\n",
       "    .dataframe tbody tr th:only-of-type {\n",
       "        vertical-align: middle;\n",
       "    }\n",
       "\n",
       "    .dataframe tbody tr th {\n",
       "        vertical-align: top;\n",
       "    }\n",
       "\n",
       "    .dataframe thead th {\n",
       "        text-align: right;\n",
       "    }\n",
       "</style>\n",
       "<table border=\"1\" class=\"dataframe\">\n",
       "  <thead>\n",
       "    <tr style=\"text-align: right;\">\n",
       "      <th></th>\n",
       "      <th>Company/Brand</th>\n",
       "      <th>Founded</th>\n",
       "      <th>HeadQuarter</th>\n",
       "      <th>Sector</th>\n",
       "      <th>What it does</th>\n",
       "      <th>Founders</th>\n",
       "      <th>Investor</th>\n",
       "      <th>Amount($)</th>\n",
       "      <th>Stage</th>\n",
       "      <th>Unnamed: 9</th>\n",
       "    </tr>\n",
       "  </thead>\n",
       "  <tbody>\n",
       "    <tr>\n",
       "      <th>1012</th>\n",
       "      <td>Toddle</td>\n",
       "      <td>2020</td>\n",
       "      <td>Bengaluru</td>\n",
       "      <td>NaN</td>\n",
       "      <td>Collaboration and productivity platform for te...</td>\n",
       "      <td>Deepanshu Arora, Parita Parekh</td>\n",
       "      <td>Matrix Partners India</td>\n",
       "      <td>Undislosed</td>\n",
       "      <td>NaN</td>\n",
       "      <td>NaN</td>\n",
       "    </tr>\n",
       "  </tbody>\n",
       "</table>\n",
       "</div>"
      ],
      "text/plain": [
       "     Company/Brand Founded HeadQuarter Sector  \\\n",
       "1012        Toddle    2020   Bengaluru    NaN   \n",
       "\n",
       "                                           What it does  \\\n",
       "1012  Collaboration and productivity platform for te...   \n",
       "\n",
       "                            Founders               Investor   Amount($) Stage  \\\n",
       "1012  Deepanshu Arora, Parita Parekh  Matrix Partners India  Undislosed   NaN   \n",
       "\n",
       "     Unnamed: 9  \n",
       "1012        NaN  "
      ]
     },
     "execution_count": 59,
     "metadata": {},
     "output_type": "execute_result"
    }
   ],
   "source": [
    "# retrieveing records with Undislosed in the Amount($) column\n",
    "data_2020.loc[data_2020['Amount($)']=='Undislosed']"
   ]
  },
  {
   "cell_type": "markdown",
   "id": "bde6ea88",
   "metadata": {},
   "source": [
    "<p style=\"font-size:20px ; font-weight: bold ; font-family: 'Times New Roman'; color: #00008B\">Correcting the name of the Amount($) from Undislosed to 0</p><br>"
   ]
  },
  {
   "cell_type": "code",
   "execution_count": 60,
   "id": "9c38a270",
   "metadata": {},
   "outputs": [],
   "source": [
    "# correcting the name of the Amount($) from Undislosed to 0 based on the information above.\n",
    "data_2020.iloc[665].replace({'Undislosed':'0'},inplace=True) "
   ]
  },
  {
   "cell_type": "markdown",
   "id": "c3aa5a52",
   "metadata": {},
   "source": [
    "<p style=\"font-size:20px ; font-weight: bold ; font-family: 'Times New Roman'; color: #00008B\">Retrieveing records with Undisclosed</p><br>"
   ]
  },
  {
   "cell_type": "code",
   "execution_count": 61,
   "id": "53da1070",
   "metadata": {},
   "outputs": [
    {
     "data": {
      "text/html": [
       "<div>\n",
       "<style scoped>\n",
       "    .dataframe tbody tr th:only-of-type {\n",
       "        vertical-align: middle;\n",
       "    }\n",
       "\n",
       "    .dataframe tbody tr th {\n",
       "        vertical-align: top;\n",
       "    }\n",
       "\n",
       "    .dataframe thead th {\n",
       "        text-align: right;\n",
       "    }\n",
       "</style>\n",
       "<table border=\"1\" class=\"dataframe\">\n",
       "  <thead>\n",
       "    <tr style=\"text-align: right;\">\n",
       "      <th></th>\n",
       "      <th>Company/Brand</th>\n",
       "      <th>Founded</th>\n",
       "      <th>HeadQuarter</th>\n",
       "      <th>Sector</th>\n",
       "      <th>What it does</th>\n",
       "      <th>Founders</th>\n",
       "      <th>Investor</th>\n",
       "      <th>Amount($)</th>\n",
       "      <th>Stage</th>\n",
       "      <th>Unnamed: 9</th>\n",
       "    </tr>\n",
       "  </thead>\n",
       "  <tbody>\n",
       "    <tr>\n",
       "      <th>2</th>\n",
       "      <td>PadCare Labs</td>\n",
       "      <td>2018</td>\n",
       "      <td>Pune</td>\n",
       "      <td>CleanTech</td>\n",
       "      <td>Converting bio-hazardous waste to harmless waste</td>\n",
       "      <td>Ajinkya Dhariya</td>\n",
       "      <td>Venture Center</td>\n",
       "      <td>Undisclosed</td>\n",
       "      <td>Pre-seed</td>\n",
       "      <td>NaN</td>\n",
       "    </tr>\n",
       "    <tr>\n",
       "      <th>7</th>\n",
       "      <td>Metvy</td>\n",
       "      <td>2018</td>\n",
       "      <td>Gurgaon</td>\n",
       "      <td>IT</td>\n",
       "      <td>AI driven networking platform for individuals ...</td>\n",
       "      <td>Shawrya Mehrotra</td>\n",
       "      <td>HostelFund</td>\n",
       "      <td>Undisclosed</td>\n",
       "      <td>Pre-series</td>\n",
       "      <td>NaN</td>\n",
       "    </tr>\n",
       "    <tr>\n",
       "      <th>11</th>\n",
       "      <td>Medfin</td>\n",
       "      <td>2017</td>\n",
       "      <td>Bengaluru</td>\n",
       "      <td>Healthcare</td>\n",
       "      <td>Medfin is a Discovery platform for medical pro...</td>\n",
       "      <td>Arjun Kumar, Arun Kumar, Sidharth Gurjar</td>\n",
       "      <td>Axilor Ventures, S.D. Shibulal</td>\n",
       "      <td>Undisclosed</td>\n",
       "      <td>Series A</td>\n",
       "      <td>NaN</td>\n",
       "    </tr>\n",
       "    <tr>\n",
       "      <th>12</th>\n",
       "      <td>MasterG</td>\n",
       "      <td>2015</td>\n",
       "      <td>Delhi</td>\n",
       "      <td>Fashion</td>\n",
       "      <td>MasterG is a design and skill development orga...</td>\n",
       "      <td>Gayatri Jolly</td>\n",
       "      <td>Acumen Fund's angel programme</td>\n",
       "      <td>Undisclosed</td>\n",
       "      <td>NaN</td>\n",
       "      <td>NaN</td>\n",
       "    </tr>\n",
       "    <tr>\n",
       "      <th>18</th>\n",
       "      <td>Pine Labs</td>\n",
       "      <td>1998</td>\n",
       "      <td>Noida</td>\n",
       "      <td>FinTech</td>\n",
       "      <td>A merchant platform company that provides fina...</td>\n",
       "      <td>Amrish Rau</td>\n",
       "      <td>Mastercard, Temasek Holdings</td>\n",
       "      <td>Undisclosed</td>\n",
       "      <td>NaN</td>\n",
       "      <td>NaN</td>\n",
       "    </tr>\n",
       "    <tr>\n",
       "      <th>...</th>\n",
       "      <td>...</td>\n",
       "      <td>...</td>\n",
       "      <td>...</td>\n",
       "      <td>...</td>\n",
       "      <td>...</td>\n",
       "      <td>...</td>\n",
       "      <td>...</td>\n",
       "      <td>...</td>\n",
       "      <td>...</td>\n",
       "      <td>...</td>\n",
       "    </tr>\n",
       "    <tr>\n",
       "      <th>1023</th>\n",
       "      <td>Skilancer</td>\n",
       "      <td>2020</td>\n",
       "      <td>Noida</td>\n",
       "      <td>IT</td>\n",
       "      <td>Solar module cleaning system [MCS] providers</td>\n",
       "      <td>Neeraj Kumar</td>\n",
       "      <td>Venture Catalysts</td>\n",
       "      <td>Undisclosed</td>\n",
       "      <td>NaN</td>\n",
       "      <td>NaN</td>\n",
       "    </tr>\n",
       "    <tr>\n",
       "      <th>1024</th>\n",
       "      <td>Harappa Education</td>\n",
       "      <td>2020</td>\n",
       "      <td>Delhi</td>\n",
       "      <td>EdTech</td>\n",
       "      <td>Provides online courses on foundational skills</td>\n",
       "      <td>Pramath Raj Sinha</td>\n",
       "      <td>James Murdoch-led Lupa Systems</td>\n",
       "      <td>Undisclosed</td>\n",
       "      <td>NaN</td>\n",
       "      <td>NaN</td>\n",
       "    </tr>\n",
       "    <tr>\n",
       "      <th>1028</th>\n",
       "      <td>PayMart</td>\n",
       "      <td>2015</td>\n",
       "      <td>Chandigarh</td>\n",
       "      <td>FinTech</td>\n",
       "      <td>Provides cardless cash withdrawals through sma...</td>\n",
       "      <td>Amit Narang</td>\n",
       "      <td>IIM Ahmedabad’s incubator (CIIE.CO),Chandigarh...</td>\n",
       "      <td>Undisclosed</td>\n",
       "      <td>NaN</td>\n",
       "      <td>NaN</td>\n",
       "    </tr>\n",
       "    <tr>\n",
       "      <th>1040</th>\n",
       "      <td>BuildPan</td>\n",
       "      <td>2019</td>\n",
       "      <td>Indore</td>\n",
       "      <td>SaaS</td>\n",
       "      <td>It helps developers to test, integrate and dep...</td>\n",
       "      <td>Sonal Khandelwal, Vaibhav Tiwari</td>\n",
       "      <td>HNIs in India, Japan, and the US</td>\n",
       "      <td>Undisclosed</td>\n",
       "      <td>Seed Round</td>\n",
       "      <td>NaN</td>\n",
       "    </tr>\n",
       "    <tr>\n",
       "      <th>1046</th>\n",
       "      <td>FarmERP</td>\n",
       "      <td>2001</td>\n",
       "      <td>Pune</td>\n",
       "      <td>AgTech</td>\n",
       "      <td>Smart agriculture management ERP software plat...</td>\n",
       "      <td>Santosh Shinde, Sanjay Borkar</td>\n",
       "      <td>TechnoGen</td>\n",
       "      <td>Undisclosed</td>\n",
       "      <td>Series A</td>\n",
       "      <td>NaN</td>\n",
       "    </tr>\n",
       "  </tbody>\n",
       "</table>\n",
       "<p>243 rows × 10 columns</p>\n",
       "</div>"
      ],
      "text/plain": [
       "          Company/Brand Founded HeadQuarter      Sector  \\\n",
       "2          PadCare Labs    2018        Pune   CleanTech   \n",
       "7                 Metvy    2018     Gurgaon          IT   \n",
       "11               Medfin    2017   Bengaluru  Healthcare   \n",
       "12              MasterG    2015       Delhi     Fashion   \n",
       "18            Pine Labs    1998       Noida     FinTech   \n",
       "...                 ...     ...         ...         ...   \n",
       "1023          Skilancer    2020       Noida          IT   \n",
       "1024  Harappa Education    2020       Delhi      EdTech   \n",
       "1028            PayMart    2015  Chandigarh     FinTech   \n",
       "1040           BuildPan    2019      Indore        SaaS   \n",
       "1046            FarmERP    2001        Pune      AgTech   \n",
       "\n",
       "                                           What it does  \\\n",
       "2      Converting bio-hazardous waste to harmless waste   \n",
       "7     AI driven networking platform for individuals ...   \n",
       "11    Medfin is a Discovery platform for medical pro...   \n",
       "12    MasterG is a design and skill development orga...   \n",
       "18    A merchant platform company that provides fina...   \n",
       "...                                                 ...   \n",
       "1023       Solar module cleaning system [MCS] providers   \n",
       "1024     Provides online courses on foundational skills   \n",
       "1028  Provides cardless cash withdrawals through sma...   \n",
       "1040  It helps developers to test, integrate and dep...   \n",
       "1046  Smart agriculture management ERP software plat...   \n",
       "\n",
       "                                      Founders  \\\n",
       "2                              Ajinkya Dhariya   \n",
       "7                             Shawrya Mehrotra   \n",
       "11    Arjun Kumar, Arun Kumar, Sidharth Gurjar   \n",
       "12                               Gayatri Jolly   \n",
       "18                                  Amrish Rau   \n",
       "...                                        ...   \n",
       "1023                              Neeraj Kumar   \n",
       "1024                         Pramath Raj Sinha   \n",
       "1028                               Amit Narang   \n",
       "1040          Sonal Khandelwal, Vaibhav Tiwari   \n",
       "1046             Santosh Shinde, Sanjay Borkar   \n",
       "\n",
       "                                               Investor    Amount($)  \\\n",
       "2                                        Venture Center  Undisclosed   \n",
       "7                                            HostelFund  Undisclosed   \n",
       "11                       Axilor Ventures, S.D. Shibulal  Undisclosed   \n",
       "12                        Acumen Fund's angel programme  Undisclosed   \n",
       "18                         Mastercard, Temasek Holdings  Undisclosed   \n",
       "...                                                 ...          ...   \n",
       "1023                                  Venture Catalysts  Undisclosed   \n",
       "1024                     James Murdoch-led Lupa Systems  Undisclosed   \n",
       "1028  IIM Ahmedabad’s incubator (CIIE.CO),Chandigarh...  Undisclosed   \n",
       "1040                   HNIs in India, Japan, and the US  Undisclosed   \n",
       "1046                                          TechnoGen  Undisclosed   \n",
       "\n",
       "           Stage Unnamed: 9  \n",
       "2       Pre-seed        NaN  \n",
       "7     Pre-series        NaN  \n",
       "11      Series A        NaN  \n",
       "12           NaN        NaN  \n",
       "18           NaN        NaN  \n",
       "...          ...        ...  \n",
       "1023         NaN        NaN  \n",
       "1024         NaN        NaN  \n",
       "1028         NaN        NaN  \n",
       "1040  Seed Round        NaN  \n",
       "1046    Series A        NaN  \n",
       "\n",
       "[243 rows x 10 columns]"
      ]
     },
     "execution_count": 61,
     "metadata": {},
     "output_type": "execute_result"
    }
   ],
   "source": [
    "# retrieveing records with Undisclosed in the Amount($) column\n",
    "data_2020.loc[data_2020['Amount($)']=='Undisclosed']"
   ]
  },
  {
   "cell_type": "markdown",
   "id": "4df3ed61",
   "metadata": {},
   "source": [
    "<p style=\"font-size:20px ; font-weight: bold ; font-family: 'Times New Roman'; color: #00008B\">Replacing all Undisclosed</p><br>"
   ]
  },
  {
   "cell_type": "code",
   "execution_count": 62,
   "id": "717240dd",
   "metadata": {},
   "outputs": [],
   "source": [
    "# replacing all Undisclosed in the Amount($) column with 0\n",
    "data_2020.loc[data_2020['Amount($)']=='Undisclosed',['Amount($)']]=[0]"
   ]
  },
  {
   "cell_type": "markdown",
   "id": "81f17f42",
   "metadata": {},
   "source": [
    "<p style=\"font-size:20px ; font-weight: bold ; font-family: 'Times New Roman'; color: #00008B\">Replacing all 'nan' with 0</p><br>"
   ]
  },
  {
   "cell_type": "code",
   "execution_count": 63,
   "id": "ad46bdc6",
   "metadata": {},
   "outputs": [],
   "source": [
    "# replacing all 'nan' with 0\n",
    "data_2020[\"Amount($)\"]=data_2020['Amount($)'].apply(lambda x: str(x).replace(\"nan\" ,\"0\"))"
   ]
  },
  {
   "cell_type": "markdown",
   "id": "a93d3058",
   "metadata": {},
   "source": [
    "<p style=\"font-size:20px ; font-weight: bold ; font-family: 'Times New Roman'; color: #00008B\">Removing all special characters</p><br>"
   ]
  },
  {
   "cell_type": "code",
   "execution_count": 64,
   "id": "9ffe8e4c",
   "metadata": {},
   "outputs": [],
   "source": [
    "# removing all special characters in the colum\n",
    "data_2020[\"Amount($)\"]=data_2020['Amount($)'].apply(lambda x: str(x).replace(\"$\" ,\"\")) \n",
    "data_2020[\"Amount($)\"]=data_2020['Amount($)'].apply(lambda x: str(x).replace(\",\" ,\"\"))"
   ]
  },
  {
   "cell_type": "markdown",
   "id": "4480e327",
   "metadata": {},
   "source": [
    "<p style=\"font-size:20px ; font-weight: bold ; font-family: 'Times New Roman'; color: #00008B\">Change the data type to a float</p><br>"
   ]
  },
  {
   "cell_type": "code",
   "execution_count": 65,
   "id": "7b883770",
   "metadata": {},
   "outputs": [],
   "source": [
    "# change the data type to a float\n",
    "# The downcast parameter is used to set the data type to float\n",
    "data_2020['Amount($)'] = pd.to_numeric(data_2020['Amount($)'], errors='coerce', downcast='float') "
   ]
  },
  {
   "cell_type": "markdown",
   "id": "3b55ca05",
   "metadata": {},
   "source": [
    "<br><p style=\"font-size:20px ; font-weight: bold ; font-family: 'Times New Roman'; color: #00008B\">Cleaning the Stage Column</p><br>"
   ]
  },
  {
   "cell_type": "code",
   "execution_count": 66,
   "id": "b6834686",
   "metadata": {},
   "outputs": [
    {
     "data": {
      "text/plain": [
       "array([nan, 'Pre-seed', 'Seed', 'Pre-series A', 'Pre-series', 'Series C',\n",
       "       'Series A', 'Series B', 'Debt', 'Pre-series C', 'Pre-series B',\n",
       "       'Series E', 'Bridge', 'Series D', 'Series B2', 'Series F',\n",
       "       'Pre- series A', 'Edge', 'Series H', 'Pre-Series B', 'Seed A',\n",
       "       'Series A-1', 'Seed Funding', 'Pre-Seed', 'Seed round',\n",
       "       'Pre-seed Round', 'Seed Round & Series A', 'Pre Series A',\n",
       "       'Pre seed Round', 'Angel Round', 'Pre series A1', 'Series E2',\n",
       "       'Pre series A', 'Seed Round', 'Bridge Round', 'Pre seed round',\n",
       "       'Pre series B', 'Pre series C', 'Seed Investment', 'Series D1',\n",
       "       'Mid series', 'Series C, D', 'Seed funding'], dtype=object)"
      ]
     },
     "execution_count": 66,
     "metadata": {},
     "output_type": "execute_result"
    }
   ],
   "source": [
    "data_2020['Stage'].unique()"
   ]
  },
  {
   "cell_type": "markdown",
   "id": "db51cc3f",
   "metadata": {},
   "source": [
    "<p style=\"font-size:20px ; font-weight: bold ; font-family: 'Times New Roman'; color: #00008B\">Replacing wrongly spelt and similar enteries</p><br>"
   ]
  },
  {
   "cell_type": "code",
   "execution_count": 67,
   "id": "aa316cd8",
   "metadata": {},
   "outputs": [
    {
     "data": {
      "text/plain": [
       "array([nan, 'Seed', 'Series A', 'Series C', 'Series B', 'Debt',\n",
       "       'Series E', 'Series D', 'Series F', 'Series H', 'Angel',\n",
       "       'Seed Investment'], dtype=object)"
      ]
     },
     "execution_count": 67,
     "metadata": {},
     "output_type": "execute_result"
    }
   ],
   "source": [
    "#Replacing wrongly spelt and similar enteries to promote consistency\n",
    "data_2020.replace({'Stage':{'Pre-Seed':'Seed','Pre-series A':'Series A','Pre-series':'Seed','Pre-series C':'Series C',\n",
    "                            'Pre-Series B':'Series B','Series A-1':'Series A','Seed Funding':'Seed','Seed round':'Seed',\n",
    "                            'Pre-seed Round':'Seed','Pre seed Round':'Seed','Seed Round & Series A':'Series A',\n",
    "                            'Pre Series A':'Series A','Angel Round':'Angel','re series A1':'Series A','Series E2':'Series E',\n",
    "                            'Pre series A':'Series A','Seed Round':'Seed','Bridge Round':'Seed','Bridge':'Seed',\n",
    "                            'Edge':'Seed','Pre seed round':'Seed','Pre series B':'Series B','Pre series C':'Series C',\n",
    "                            'Pre series A1':'Series A','Series D1':'Series D','Mid series':'Seed','Series C, D':'Series C',\n",
    "                           'Pre-series B':'Series B','Series B2':'Series B','Pre- series A':'Series A','nan':'Unknown',\n",
    "                           'PPre-seed':'Seed','Seed funding':'Seed','Seed A':'Series A','Pre-seed':'Seed'}},inplace=True)\n",
    "data_2020['Stage'].unique()"
   ]
  },
  {
   "cell_type": "markdown",
   "id": "154b7140",
   "metadata": {},
   "source": [
    "<p style=\"font-size:20px ; font-weight: bold ; font-family: 'Times New Roman'; color: #00008B\">Replacing all 'nan' with Unknown</p><br>"
   ]
  },
  {
   "cell_type": "code",
   "execution_count": 68,
   "id": "9152272b",
   "metadata": {},
   "outputs": [],
   "source": [
    "# replacing all nan with Unknown\n",
    "data_2020['Stage']=data_2020['Stage'].fillna('Seed')"
   ]
  },
  {
   "cell_type": "markdown",
   "id": "88973ece",
   "metadata": {},
   "source": [
    "<br><p style=\"font-size:20px ; font-weight: bold ; font-family: 'Times New Roman'; color: #00008B\">Cleaning the Investor Column</p><br><br>"
   ]
  },
  {
   "cell_type": "markdown",
   "id": "cafdde76",
   "metadata": {},
   "source": [
    "<p style=\"font-size:20px ; font-weight: bold ; font-family: 'Times New Roman'; color: #00008B\">All nan values are to be filled with unknown</p><br>"
   ]
  },
  {
   "cell_type": "code",
   "execution_count": 69,
   "id": "bb65ca62",
   "metadata": {},
   "outputs": [],
   "source": [
    "# all nan values are to be filled with unknown on the \n",
    "data_2020['Investor']=data_2020['Investor'].fillna('Unknown')"
   ]
  },
  {
   "cell_type": "markdown",
   "id": "ad59aefc",
   "metadata": {},
   "source": [
    "<p style=\"font-size:20px ; font-weight: bold ; font-family: 'Times New Roman'; color: #00008B\">Checking for duplicate entries</p><br>"
   ]
  },
  {
   "cell_type": "code",
   "execution_count": 70,
   "id": "4e21ffa1",
   "metadata": {},
   "outputs": [
    {
     "data": {
      "text/plain": [
       "False    1052\n",
       "True        3\n",
       "dtype: int64"
      ]
     },
     "execution_count": 70,
     "metadata": {},
     "output_type": "execute_result"
    }
   ],
   "source": [
    "# checking for duplicate entries\n",
    "data_2020.duplicated().value_counts()"
   ]
  },
  {
   "cell_type": "markdown",
   "id": "2c40e61e",
   "metadata": {},
   "source": [
    "<p style=\"font-size:20px ; font-weight: bold ; font-family: 'Times New Roman'; color: #00008B\">Remove the duplicate record</p><br>"
   ]
  },
  {
   "cell_type": "code",
   "execution_count": 71,
   "id": "3451630e",
   "metadata": {},
   "outputs": [],
   "source": [
    "# remove the duplicate record\n",
    "data_2020=data_2020.drop_duplicates(keep='first') "
   ]
  },
  {
   "cell_type": "code",
   "execution_count": 72,
   "id": "b6967891",
   "metadata": {},
   "outputs": [
    {
     "data": {
      "text/plain": [
       "Company/Brand       0\n",
       "Founded             0\n",
       "HeadQuarter        94\n",
       "Sector             13\n",
       "What it does        0\n",
       "Founders           12\n",
       "Investor            0\n",
       "Amount($)           3\n",
       "Stage               0\n",
       "Unnamed: 9       1050\n",
       "dtype: int64"
      ]
     },
     "execution_count": 72,
     "metadata": {},
     "output_type": "execute_result"
    }
   ],
   "source": [
    "data_2020.isnull().sum()"
   ]
  },
  {
   "cell_type": "markdown",
   "id": "608b5298",
   "metadata": {},
   "source": [
    "<br><p style=\"font-size:20px ; font-weight: bold ; font-family: 'Times New Roman'; color: #00008B\"> Cleaned 2020 data.</p><br><br>"
   ]
  },
  {
   "cell_type": "code",
   "execution_count": 73,
   "id": "fc0c4f9e",
   "metadata": {},
   "outputs": [
    {
     "data": {
      "text/html": [
       "<div>\n",
       "<style scoped>\n",
       "    .dataframe tbody tr th:only-of-type {\n",
       "        vertical-align: middle;\n",
       "    }\n",
       "\n",
       "    .dataframe tbody tr th {\n",
       "        vertical-align: top;\n",
       "    }\n",
       "\n",
       "    .dataframe thead th {\n",
       "        text-align: right;\n",
       "    }\n",
       "</style>\n",
       "<table border=\"1\" class=\"dataframe\">\n",
       "  <thead>\n",
       "    <tr style=\"text-align: right;\">\n",
       "      <th></th>\n",
       "      <th>Company/Brand</th>\n",
       "      <th>Founded</th>\n",
       "      <th>HeadQuarter</th>\n",
       "      <th>Sector</th>\n",
       "      <th>What it does</th>\n",
       "      <th>Founders</th>\n",
       "      <th>Investor</th>\n",
       "      <th>Amount($)</th>\n",
       "      <th>Stage</th>\n",
       "      <th>Unnamed: 9</th>\n",
       "    </tr>\n",
       "  </thead>\n",
       "  <tbody>\n",
       "    <tr>\n",
       "      <th>0</th>\n",
       "      <td>Aqgromalin</td>\n",
       "      <td>2019</td>\n",
       "      <td>Chennai</td>\n",
       "      <td>AgTech</td>\n",
       "      <td>Cultivating Ideas for Profit</td>\n",
       "      <td>Prasanna Manogaran, Bharani C L</td>\n",
       "      <td>Angel investors</td>\n",
       "      <td>200000.0</td>\n",
       "      <td>Seed</td>\n",
       "      <td>NaN</td>\n",
       "    </tr>\n",
       "    <tr>\n",
       "      <th>1</th>\n",
       "      <td>Krayonnz</td>\n",
       "      <td>2019</td>\n",
       "      <td>Bengaluru</td>\n",
       "      <td>EdTech</td>\n",
       "      <td>An academy-guardian-scholar centric ecosystem ...</td>\n",
       "      <td>Saurabh Dixit, Gurudutt Upadhyay</td>\n",
       "      <td>GSF Accelerator</td>\n",
       "      <td>100000.0</td>\n",
       "      <td>Seed</td>\n",
       "      <td>NaN</td>\n",
       "    </tr>\n",
       "    <tr>\n",
       "      <th>2</th>\n",
       "      <td>PadCare Labs</td>\n",
       "      <td>2018</td>\n",
       "      <td>Pune</td>\n",
       "      <td>CleanTech</td>\n",
       "      <td>Converting bio-hazardous waste to harmless waste</td>\n",
       "      <td>Ajinkya Dhariya</td>\n",
       "      <td>Venture Center</td>\n",
       "      <td>0.0</td>\n",
       "      <td>Seed</td>\n",
       "      <td>NaN</td>\n",
       "    </tr>\n",
       "    <tr>\n",
       "      <th>3</th>\n",
       "      <td>NCOME</td>\n",
       "      <td>2020</td>\n",
       "      <td>Delhi</td>\n",
       "      <td>Legal</td>\n",
       "      <td>Escrow-as-a-service platform</td>\n",
       "      <td>Ritesh Tiwari</td>\n",
       "      <td>Venture Catalysts, PointOne Capital</td>\n",
       "      <td>400000.0</td>\n",
       "      <td>Seed</td>\n",
       "      <td>NaN</td>\n",
       "    </tr>\n",
       "    <tr>\n",
       "      <th>4</th>\n",
       "      <td>Gramophone</td>\n",
       "      <td>2016</td>\n",
       "      <td>Indore</td>\n",
       "      <td>AgTech</td>\n",
       "      <td>Gramophone is an AgTech platform enabling acce...</td>\n",
       "      <td>Ashish Rajan Singh, Harshit Gupta, Nishant Mah...</td>\n",
       "      <td>Siana Capital Management, Info Edge</td>\n",
       "      <td>340000.0</td>\n",
       "      <td>Seed</td>\n",
       "      <td>NaN</td>\n",
       "    </tr>\n",
       "    <tr>\n",
       "      <th>...</th>\n",
       "      <td>...</td>\n",
       "      <td>...</td>\n",
       "      <td>...</td>\n",
       "      <td>...</td>\n",
       "      <td>...</td>\n",
       "      <td>...</td>\n",
       "      <td>...</td>\n",
       "      <td>...</td>\n",
       "      <td>...</td>\n",
       "      <td>...</td>\n",
       "    </tr>\n",
       "    <tr>\n",
       "      <th>1050</th>\n",
       "      <td>Leverage Edu</td>\n",
       "      <td>2020</td>\n",
       "      <td>Delhi</td>\n",
       "      <td>EdTech</td>\n",
       "      <td>AI enabled marketplace that provides career gu...</td>\n",
       "      <td>Akshay Chaturvedi</td>\n",
       "      <td>DSG Consumer Partners, Blume Ventures</td>\n",
       "      <td>1500000.0</td>\n",
       "      <td>Seed</td>\n",
       "      <td>NaN</td>\n",
       "    </tr>\n",
       "    <tr>\n",
       "      <th>1051</th>\n",
       "      <td>EpiFi</td>\n",
       "      <td>2020</td>\n",
       "      <td>NaN</td>\n",
       "      <td>FinTech</td>\n",
       "      <td>It offers customers with a single interface fo...</td>\n",
       "      <td>Sujith Narayanan, Sumit Gwalani</td>\n",
       "      <td>Sequoia India, Ribbit Capital</td>\n",
       "      <td>13200000.0</td>\n",
       "      <td>Seed</td>\n",
       "      <td>NaN</td>\n",
       "    </tr>\n",
       "    <tr>\n",
       "      <th>1052</th>\n",
       "      <td>Purplle</td>\n",
       "      <td>2012</td>\n",
       "      <td>Mumbai</td>\n",
       "      <td>Cosmetics</td>\n",
       "      <td>Online makeup and beauty products retailer</td>\n",
       "      <td>Manish Taneja, Rahul Dash</td>\n",
       "      <td>Verlinvest</td>\n",
       "      <td>8000000.0</td>\n",
       "      <td>Seed</td>\n",
       "      <td>NaN</td>\n",
       "    </tr>\n",
       "    <tr>\n",
       "      <th>1053</th>\n",
       "      <td>Shuttl</td>\n",
       "      <td>2015</td>\n",
       "      <td>Delhi</td>\n",
       "      <td>Transportation</td>\n",
       "      <td>App based bus aggregator serice</td>\n",
       "      <td>Amit Singh, Deepanshu Malviya</td>\n",
       "      <td>SIG Global India Fund LLP.</td>\n",
       "      <td>8043000.0</td>\n",
       "      <td>Series C</td>\n",
       "      <td>NaN</td>\n",
       "    </tr>\n",
       "    <tr>\n",
       "      <th>1054</th>\n",
       "      <td>Pando</td>\n",
       "      <td>2017</td>\n",
       "      <td>Chennai</td>\n",
       "      <td>IT</td>\n",
       "      <td>Networked logistics management software</td>\n",
       "      <td>Jayakrishnan, Abhijeet Manohar</td>\n",
       "      <td>Chiratae Ventures</td>\n",
       "      <td>9000000.0</td>\n",
       "      <td>Series A</td>\n",
       "      <td>NaN</td>\n",
       "    </tr>\n",
       "  </tbody>\n",
       "</table>\n",
       "<p>1052 rows × 10 columns</p>\n",
       "</div>"
      ],
      "text/plain": [
       "     Company/Brand Founded HeadQuarter          Sector  \\\n",
       "0       Aqgromalin    2019     Chennai          AgTech   \n",
       "1         Krayonnz    2019   Bengaluru          EdTech   \n",
       "2     PadCare Labs    2018        Pune       CleanTech   \n",
       "3            NCOME    2020       Delhi           Legal   \n",
       "4       Gramophone    2016      Indore          AgTech   \n",
       "...            ...     ...         ...             ...   \n",
       "1050  Leverage Edu    2020       Delhi          EdTech   \n",
       "1051         EpiFi    2020         NaN         FinTech   \n",
       "1052       Purplle    2012      Mumbai       Cosmetics   \n",
       "1053        Shuttl    2015       Delhi  Transportation   \n",
       "1054         Pando    2017     Chennai              IT   \n",
       "\n",
       "                                           What it does  \\\n",
       "0                          Cultivating Ideas for Profit   \n",
       "1     An academy-guardian-scholar centric ecosystem ...   \n",
       "2      Converting bio-hazardous waste to harmless waste   \n",
       "3                          Escrow-as-a-service platform   \n",
       "4     Gramophone is an AgTech platform enabling acce...   \n",
       "...                                                 ...   \n",
       "1050  AI enabled marketplace that provides career gu...   \n",
       "1051  It offers customers with a single interface fo...   \n",
       "1052         Online makeup and beauty products retailer   \n",
       "1053                    App based bus aggregator serice   \n",
       "1054            Networked logistics management software   \n",
       "\n",
       "                                               Founders  \\\n",
       "0                       Prasanna Manogaran, Bharani C L   \n",
       "1                      Saurabh Dixit, Gurudutt Upadhyay   \n",
       "2                                       Ajinkya Dhariya   \n",
       "3                                         Ritesh Tiwari   \n",
       "4     Ashish Rajan Singh, Harshit Gupta, Nishant Mah...   \n",
       "...                                                 ...   \n",
       "1050                                  Akshay Chaturvedi   \n",
       "1051                    Sujith Narayanan, Sumit Gwalani   \n",
       "1052                          Manish Taneja, Rahul Dash   \n",
       "1053                      Amit Singh, Deepanshu Malviya   \n",
       "1054                     Jayakrishnan, Abhijeet Manohar   \n",
       "\n",
       "                                   Investor   Amount($)     Stage Unnamed: 9  \n",
       "0                           Angel investors    200000.0      Seed        NaN  \n",
       "1                           GSF Accelerator    100000.0      Seed        NaN  \n",
       "2                            Venture Center         0.0      Seed        NaN  \n",
       "3       Venture Catalysts, PointOne Capital    400000.0      Seed        NaN  \n",
       "4       Siana Capital Management, Info Edge    340000.0      Seed        NaN  \n",
       "...                                     ...         ...       ...        ...  \n",
       "1050  DSG Consumer Partners, Blume Ventures   1500000.0      Seed        NaN  \n",
       "1051          Sequoia India, Ribbit Capital  13200000.0      Seed        NaN  \n",
       "1052                             Verlinvest   8000000.0      Seed        NaN  \n",
       "1053             SIG Global India Fund LLP.   8043000.0  Series C        NaN  \n",
       "1054                      Chiratae Ventures   9000000.0  Series A        NaN  \n",
       "\n",
       "[1052 rows x 10 columns]"
      ]
     },
     "execution_count": 73,
     "metadata": {},
     "output_type": "execute_result"
    }
   ],
   "source": [
    "data_2020"
   ]
  },
  {
   "cell_type": "markdown",
   "id": "f3c5c981",
   "metadata": {},
   "source": [
    "<H1 style=\"text-align: center;font-size:30px ; font-family: 'Times New Roman'; color: #00008B\"> Analysis Of The 2021 Data</H1> <br><br>"
   ]
  },
  {
   "cell_type": "markdown",
   "id": "e320cd6f",
   "metadata": {},
   "source": [
    "<H1 style=\"text-align: center;font-size:30px ; font-family: 'Times New Roman'; color: #00008B\"> Column names and description: For the year 2021 :</H1> <br><br>"
   ]
  },
  {
   "cell_type": "markdown",
   "id": "19de2163",
   "metadata": {},
   "source": [
    "<br><p style=\"font-size:20px ; font-weight: bold ; font-family: 'Times New Roman'; color: #00008B\">2021 Dataset.</p><br>"
   ]
  },
  {
   "cell_type": "code",
   "execution_count": 74,
   "id": "4dd01134",
   "metadata": {},
   "outputs": [
    {
     "name": "stdout",
     "output_type": "stream",
     "text": [
      "<class 'pandas.core.frame.DataFrame'>\n",
      "RangeIndex: 1209 entries, 0 to 1208\n",
      "Data columns (total 9 columns):\n",
      " #   Column         Non-Null Count  Dtype  \n",
      "---  ------         --------------  -----  \n",
      " 0   Company/Brand  1209 non-null   object \n",
      " 1   Founded        1208 non-null   float64\n",
      " 2   HeadQuarter    1208 non-null   object \n",
      " 3   Sector         1209 non-null   object \n",
      " 4   What it does   1209 non-null   object \n",
      " 5   Founders       1205 non-null   object \n",
      " 6   Investor       1147 non-null   object \n",
      " 7   Amount($)      1206 non-null   object \n",
      " 8   Stage          781 non-null    object \n",
      "dtypes: float64(1), object(8)\n",
      "memory usage: 85.1+ KB\n",
      "None \n",
      "\n"
     ]
    },
    {
     "data": {
      "text/html": [
       "<div>\n",
       "<style scoped>\n",
       "    .dataframe tbody tr th:only-of-type {\n",
       "        vertical-align: middle;\n",
       "    }\n",
       "\n",
       "    .dataframe tbody tr th {\n",
       "        vertical-align: top;\n",
       "    }\n",
       "\n",
       "    .dataframe thead th {\n",
       "        text-align: right;\n",
       "    }\n",
       "</style>\n",
       "<table border=\"1\" class=\"dataframe\">\n",
       "  <thead>\n",
       "    <tr style=\"text-align: right;\">\n",
       "      <th></th>\n",
       "      <th>Company/Brand</th>\n",
       "      <th>Founded</th>\n",
       "      <th>HeadQuarter</th>\n",
       "      <th>Sector</th>\n",
       "      <th>What it does</th>\n",
       "      <th>Founders</th>\n",
       "      <th>Investor</th>\n",
       "      <th>Amount($)</th>\n",
       "      <th>Stage</th>\n",
       "    </tr>\n",
       "  </thead>\n",
       "  <tbody>\n",
       "    <tr>\n",
       "      <th>0</th>\n",
       "      <td>Unbox Robotics</td>\n",
       "      <td>2019.0</td>\n",
       "      <td>Bangalore</td>\n",
       "      <td>AI startup</td>\n",
       "      <td>Unbox Robotics builds on-demand AI-driven ware...</td>\n",
       "      <td>Pramod Ghadge, Shahid Memon</td>\n",
       "      <td>BEENEXT, Entrepreneur First</td>\n",
       "      <td>$1,200,000</td>\n",
       "      <td>Pre-series A</td>\n",
       "    </tr>\n",
       "    <tr>\n",
       "      <th>1</th>\n",
       "      <td>upGrad</td>\n",
       "      <td>2015.0</td>\n",
       "      <td>Mumbai</td>\n",
       "      <td>EdTech</td>\n",
       "      <td>UpGrad is an online higher education platform.</td>\n",
       "      <td>Mayank Kumar, Phalgun Kompalli, Ravijot Chugh,...</td>\n",
       "      <td>Unilazer Ventures, IIFL Asset Management</td>\n",
       "      <td>$120,000,000</td>\n",
       "      <td>NaN</td>\n",
       "    </tr>\n",
       "    <tr>\n",
       "      <th>2</th>\n",
       "      <td>Lead School</td>\n",
       "      <td>2012.0</td>\n",
       "      <td>Mumbai</td>\n",
       "      <td>EdTech</td>\n",
       "      <td>LEAD School offers technology based school tra...</td>\n",
       "      <td>Smita Deorah, Sumeet Mehta</td>\n",
       "      <td>GSV Ventures, Westbridge Capital</td>\n",
       "      <td>$30,000,000</td>\n",
       "      <td>Series D</td>\n",
       "    </tr>\n",
       "    <tr>\n",
       "      <th>3</th>\n",
       "      <td>Bizongo</td>\n",
       "      <td>2015.0</td>\n",
       "      <td>Mumbai</td>\n",
       "      <td>B2B E-commerce</td>\n",
       "      <td>Bizongo is a business-to-business online marke...</td>\n",
       "      <td>Aniket Deb, Ankit Tomar, Sachin Agrawal</td>\n",
       "      <td>CDC Group, IDG Capital</td>\n",
       "      <td>$51,000,000</td>\n",
       "      <td>Series C</td>\n",
       "    </tr>\n",
       "    <tr>\n",
       "      <th>4</th>\n",
       "      <td>FypMoney</td>\n",
       "      <td>2021.0</td>\n",
       "      <td>Gurugram</td>\n",
       "      <td>FinTech</td>\n",
       "      <td>FypMoney is Digital NEO Bank for Teenagers, em...</td>\n",
       "      <td>Kapil Banwari</td>\n",
       "      <td>Liberatha Kallat, Mukesh Yadav, Dinesh Nagpal</td>\n",
       "      <td>$2,000,000</td>\n",
       "      <td>Seed</td>\n",
       "    </tr>\n",
       "    <tr>\n",
       "      <th>...</th>\n",
       "      <td>...</td>\n",
       "      <td>...</td>\n",
       "      <td>...</td>\n",
       "      <td>...</td>\n",
       "      <td>...</td>\n",
       "      <td>...</td>\n",
       "      <td>...</td>\n",
       "      <td>...</td>\n",
       "      <td>...</td>\n",
       "    </tr>\n",
       "    <tr>\n",
       "      <th>1204</th>\n",
       "      <td>Gigforce</td>\n",
       "      <td>2019.0</td>\n",
       "      <td>Gurugram</td>\n",
       "      <td>Staffing &amp; Recruiting</td>\n",
       "      <td>A gig/on-demand staffing company.</td>\n",
       "      <td>Chirag Mittal, Anirudh Syal</td>\n",
       "      <td>Endiya Partners</td>\n",
       "      <td>$3000000</td>\n",
       "      <td>Pre-series A</td>\n",
       "    </tr>\n",
       "    <tr>\n",
       "      <th>1205</th>\n",
       "      <td>Vahdam</td>\n",
       "      <td>2015.0</td>\n",
       "      <td>New Delhi</td>\n",
       "      <td>Food &amp; Beverages</td>\n",
       "      <td>VAHDAM is among the world’s first vertically i...</td>\n",
       "      <td>Bala Sarda</td>\n",
       "      <td>IIFL AMC</td>\n",
       "      <td>$20000000</td>\n",
       "      <td>Series D</td>\n",
       "    </tr>\n",
       "    <tr>\n",
       "      <th>1206</th>\n",
       "      <td>Leap Finance</td>\n",
       "      <td>2019.0</td>\n",
       "      <td>Bangalore</td>\n",
       "      <td>Financial Services</td>\n",
       "      <td>International education loans for high potenti...</td>\n",
       "      <td>Arnav Kumar, Vaibhav Singh</td>\n",
       "      <td>Owl Ventures</td>\n",
       "      <td>$55000000</td>\n",
       "      <td>Series C</td>\n",
       "    </tr>\n",
       "    <tr>\n",
       "      <th>1207</th>\n",
       "      <td>CollegeDekho</td>\n",
       "      <td>2015.0</td>\n",
       "      <td>Gurugram</td>\n",
       "      <td>EdTech</td>\n",
       "      <td>Collegedekho.com is Student’s Partner, Friend ...</td>\n",
       "      <td>Ruchir Arora</td>\n",
       "      <td>Winter Capital, ETS, Man Capital</td>\n",
       "      <td>$26000000</td>\n",
       "      <td>Series B</td>\n",
       "    </tr>\n",
       "    <tr>\n",
       "      <th>1208</th>\n",
       "      <td>WeRize</td>\n",
       "      <td>2019.0</td>\n",
       "      <td>Bangalore</td>\n",
       "      <td>Financial Services</td>\n",
       "      <td>India’s first socially distributed full stack ...</td>\n",
       "      <td>Vishal Chopra, Himanshu Gupta</td>\n",
       "      <td>3one4 Capital, Kalaari Capital</td>\n",
       "      <td>$8000000</td>\n",
       "      <td>Series A</td>\n",
       "    </tr>\n",
       "  </tbody>\n",
       "</table>\n",
       "<p>1209 rows × 9 columns</p>\n",
       "</div>"
      ],
      "text/plain": [
       "       Company/Brand  Founded HeadQuarter                 Sector  \\\n",
       "0     Unbox Robotics   2019.0   Bangalore             AI startup   \n",
       "1             upGrad   2015.0      Mumbai                 EdTech   \n",
       "2        Lead School   2012.0      Mumbai                 EdTech   \n",
       "3            Bizongo   2015.0      Mumbai         B2B E-commerce   \n",
       "4           FypMoney   2021.0    Gurugram                FinTech   \n",
       "...              ...      ...         ...                    ...   \n",
       "1204        Gigforce   2019.0    Gurugram  Staffing & Recruiting   \n",
       "1205          Vahdam   2015.0   New Delhi       Food & Beverages   \n",
       "1206    Leap Finance   2019.0   Bangalore     Financial Services   \n",
       "1207    CollegeDekho   2015.0    Gurugram                 EdTech   \n",
       "1208          WeRize   2019.0   Bangalore     Financial Services   \n",
       "\n",
       "                                           What it does  \\\n",
       "0     Unbox Robotics builds on-demand AI-driven ware...   \n",
       "1        UpGrad is an online higher education platform.   \n",
       "2     LEAD School offers technology based school tra...   \n",
       "3     Bizongo is a business-to-business online marke...   \n",
       "4     FypMoney is Digital NEO Bank for Teenagers, em...   \n",
       "...                                                 ...   \n",
       "1204                  A gig/on-demand staffing company.   \n",
       "1205  VAHDAM is among the world’s first vertically i...   \n",
       "1206  International education loans for high potenti...   \n",
       "1207  Collegedekho.com is Student’s Partner, Friend ...   \n",
       "1208  India’s first socially distributed full stack ...   \n",
       "\n",
       "                                               Founders  \\\n",
       "0                           Pramod Ghadge, Shahid Memon   \n",
       "1     Mayank Kumar, Phalgun Kompalli, Ravijot Chugh,...   \n",
       "2                            Smita Deorah, Sumeet Mehta   \n",
       "3               Aniket Deb, Ankit Tomar, Sachin Agrawal   \n",
       "4                                         Kapil Banwari   \n",
       "...                                                 ...   \n",
       "1204                        Chirag Mittal, Anirudh Syal   \n",
       "1205                                         Bala Sarda   \n",
       "1206                         Arnav Kumar, Vaibhav Singh   \n",
       "1207                                       Ruchir Arora   \n",
       "1208                      Vishal Chopra, Himanshu Gupta   \n",
       "\n",
       "                                           Investor     Amount($)  \\\n",
       "0                       BEENEXT, Entrepreneur First    $1,200,000   \n",
       "1          Unilazer Ventures, IIFL Asset Management  $120,000,000   \n",
       "2                  GSV Ventures, Westbridge Capital   $30,000,000   \n",
       "3                            CDC Group, IDG Capital   $51,000,000   \n",
       "4     Liberatha Kallat, Mukesh Yadav, Dinesh Nagpal    $2,000,000   \n",
       "...                                             ...           ...   \n",
       "1204                                Endiya Partners      $3000000   \n",
       "1205                                       IIFL AMC     $20000000   \n",
       "1206                                   Owl Ventures     $55000000   \n",
       "1207               Winter Capital, ETS, Man Capital     $26000000   \n",
       "1208                 3one4 Capital, Kalaari Capital      $8000000   \n",
       "\n",
       "             Stage  \n",
       "0     Pre-series A  \n",
       "1              NaN  \n",
       "2         Series D  \n",
       "3         Series C  \n",
       "4             Seed  \n",
       "...            ...  \n",
       "1204  Pre-series A  \n",
       "1205      Series D  \n",
       "1206      Series C  \n",
       "1207      Series B  \n",
       "1208      Series A  \n",
       "\n",
       "[1209 rows x 9 columns]"
      ]
     },
     "execution_count": 74,
     "metadata": {},
     "output_type": "execute_result"
    }
   ],
   "source": [
    "print(data_2021.info(),'\\n')\n",
    "data_2021"
   ]
  },
  {
   "cell_type": "code",
   "execution_count": 75,
   "id": "89244cff",
   "metadata": {},
   "outputs": [
    {
     "data": {
      "text/plain": [
       "Index(['Company/Brand', 'Founded', 'HeadQuarter', 'Sector', 'What it does',\n",
       "       'Founders', 'Investor', 'Amount($)', 'Stage'],\n",
       "      dtype='object')"
      ]
     },
     "execution_count": 75,
     "metadata": {},
     "output_type": "execute_result"
    }
   ],
   "source": [
    "data_2021.columns"
   ]
  },
  {
   "cell_type": "code",
   "execution_count": 76,
   "id": "a2e09e30",
   "metadata": {},
   "outputs": [
    {
     "data": {
      "text/html": [
       "<style type=\"text/css\">\n",
       "#T_84255 thead>tr>th {\n",
       "  text-align: left;\n",
       "}\n",
       "#T_84255_row0_col0, #T_84255_row1_col0, #T_84255_row2_col0, #T_84255_row3_col0, #T_84255_row4_col0, #T_84255_row5_col0, #T_84255_row6_col0, #T_84255_row7_col0, #T_84255_row8_col0 {\n",
       "  text-align: left;\n",
       "  font-size: 12px;\n",
       "  vertical-align: middle;\n",
       "  width: 5%;\n",
       "  max-width: 50px;\n",
       "  min-width: 20px;\n",
       "}\n",
       "#T_84255_row0_col1, #T_84255_row1_col1, #T_84255_row2_col1, #T_84255_row3_col1, #T_84255_row4_col1, #T_84255_row5_col1, #T_84255_row6_col1, #T_84255_row7_col1, #T_84255_row8_col1 {\n",
       "  text-align: left;\n",
       "  font-size: 12px;\n",
       "  vertical-align: middle;\n",
       "  width: 15%;\n",
       "  max-width: 200px;\n",
       "  min-width: 100px;\n",
       "  word-break: break-word;\n",
       "}\n",
       "#T_84255_row0_col2, #T_84255_row1_col2, #T_84255_row2_col2, #T_84255_row3_col2, #T_84255_row4_col2, #T_84255_row5_col2, #T_84255_row6_col2, #T_84255_row7_col2, #T_84255_row8_col2 {\n",
       "  text-align: left;\n",
       "  font-size: 12px;\n",
       "  vertical-align: middle;\n",
       "  width: 30%;\n",
       "  min-width: 100px;\n",
       "}\n",
       "#T_84255_row0_col3, #T_84255_row1_col3, #T_84255_row2_col3, #T_84255_row3_col3, #T_84255_row4_col3, #T_84255_row5_col3, #T_84255_row6_col3, #T_84255_row7_col3, #T_84255_row8_col3 {\n",
       "  text-align: left;\n",
       "  font-size: 12px;\n",
       "  vertical-align: middle;\n",
       "  width: 25%;\n",
       "  min-width: 100px;\n",
       "}\n",
       "#T_84255_row0_col4, #T_84255_row1_col4, #T_84255_row2_col4, #T_84255_row3_col4, #T_84255_row4_col4, #T_84255_row5_col4, #T_84255_row6_col4, #T_84255_row7_col4, #T_84255_row8_col4 {\n",
       "  text-align: left;\n",
       "  font-size: 12px;\n",
       "  vertical-align: middle;\n",
       "  width: 20%;\n",
       "  min-width: 150px;\n",
       "}\n",
       "#T_84255_row0_col5, #T_84255_row1_col5, #T_84255_row2_col5, #T_84255_row3_col5, #T_84255_row4_col5, #T_84255_row5_col5, #T_84255_row6_col5, #T_84255_row7_col5, #T_84255_row8_col5 {\n",
       "  text-align: left;\n",
       "  font-size: 12px;\n",
       "  vertical-align: middle;\n",
       "  width: 10%;\n",
       "}\n",
       "</style>\n",
       "<table id=\"T_84255\">\n",
       "  <caption><strong>Data Frame Summary</strong><br>__<br>Dimensions: 1,209 x 9<br>Duplicates: 19</caption>\n",
       "  <thead>\n",
       "    <tr>\n",
       "      <th id=\"T_84255_level0_col0\" class=\"col_heading level0 col0\" >No</th>\n",
       "      <th id=\"T_84255_level0_col1\" class=\"col_heading level0 col1\" >Variable</th>\n",
       "      <th id=\"T_84255_level0_col2\" class=\"col_heading level0 col2\" >Stats / Values</th>\n",
       "      <th id=\"T_84255_level0_col3\" class=\"col_heading level0 col3\" >Freqs / (% of Valid)</th>\n",
       "      <th id=\"T_84255_level0_col4\" class=\"col_heading level0 col4\" >Graph</th>\n",
       "      <th id=\"T_84255_level0_col5\" class=\"col_heading level0 col5\" >Missing</th>\n",
       "    </tr>\n",
       "  </thead>\n",
       "  <tbody>\n",
       "    <tr>\n",
       "      <td id=\"T_84255_row0_col0\" class=\"data row0 col0\" >1</td>\n",
       "      <td id=\"T_84255_row0_col1\" class=\"data row0 col1\" ><strong>Company/Brand</strong><br>[object]</td>\n",
       "      <td id=\"T_84255_row0_col2\" class=\"data row0 col2\" >1. BharatPe<br>2. BYJU'S<br>3. CoinSwitch Kuber<br>4. Delhivery<br>5. Slice<br>6. Captain Fresh<br>7. Northern Arc<br>8. Jumbotail<br>9. MPL<br>10. Spinny<br>11. other</td>\n",
       "      <td id=\"T_84255_row0_col3\" class=\"data row0 col3\" >8 (0.7%)<br>4 (0.3%)<br>3 (0.2%)<br>3 (0.2%)<br>3 (0.2%)<br>3 (0.2%)<br>3 (0.2%)<br>3 (0.2%)<br>3 (0.2%)<br>3 (0.2%)<br>1,173 (97.0%)</td>\n",
       "      <td id=\"T_84255_row0_col4\" class=\"data row0 col4\" ><img src = \"data:image/png;base64, iVBORw0KGgoAAAANSUhEUgAAAJsAAAD+CAYAAAAtWHdlAAAAOXRFWHRTb2Z0d2FyZQBNYXRwbG90bGliIHZlcnNpb24zLjUuMiwgaHR0cHM6Ly9tYXRwbG90bGliLm9yZy8qNh9FAAAACXBIWXMAAA9hAAAPYQGoP6dpAAADn0lEQVR4nO3cQWojVxhG0b+McNqTEkLgJSR78CJ6sb0ILSJ7MMY1iDueKIMEYtKdSaBvgXLOyNToDS5+kqnPy/V6HSjc7X0A/j/ERkZsZMRGRmxkxEZGbGTERkZsZJaZeZiZuV6vbzufhRt3OJ/Pn2dmlmX5Ijh+pLt1XU/rup5m5n7vw3DbfGYjIzYyYiMjNjJiIyM2MmIjIzYyYiMjNjJiIyM2MmIjIzYyYiMjNjKHbdte/vr5fdeTcPNsEMgs/mUWFb/ZyFhXkbGuIuNPH2TERkZsZMRGRmxkxEZGbGTERkZsZMRGRmxkxEZGbGTERkZsZAxeyHgtnIzBCxmf2cjcLcvyy7Isn/Y+CLfvbmZ+npmf9j4It881SkZsZMRGRmxkxEZGbGTERkZsZMRGRmxkxEZGbGTERkZsZMRG5m5mfp2Z3/c+CLfPBoGMa5SM2MiIjYx1FRnrKjKuUTJiIyM2MmIjIzYyYiMjNjJiIyM2MmIjIzYyYiMjNjJiIyM2MtZVZKyryLhGyYiNjMELGYMXMq5RMmIjIzYyYiMjNjJiIyM2MmIjIzYyYiMjNjJiIyM2MmIjIzYyBi9kDF7IuEbJiI2MwQsZgxcyrlEyYiMjNjJiIyM2MmIjIzYyYiMjNjJiIyM2MmIjIzYyYiMjNjJiI2NdRca6ioxrlIzYyFhXkbGuIuMaJSM2MmIjIzYyYiMjNjJiIyM2MmIjIzYyYiMjNjJiIyM2MmIjY/BCxuCFjGuUjNjIGLyQMXgh4xolIzYyYiMjNjJiIyM2MmIjIzYyYiMjNjJiIyM2MmIjIzYyYiNj8ELG4IWMa5SM2MiIjYx1FRnrKjKuUTJiIyM2MmIjIzYyYiMjNjJiIyM2MmIjIzYyYiMjNjJiIyM2MtZVZKyryLhGyYiNjMELGYMXMq5RMmIjIzYyYiMjNjJiIyM2MmIjIzYyYiMjNjJiIyM2MmIjIzYyBi9kDF7IuEbJLDPzMDP3ex+Em/N+vV7fPj44nM/nz+u6nvY6Ebdp27aXZVm+fAzusK7r6enp6e14PH7d83DcjtfX10+Xy+X0/Px8PzN/xzYzczwevz4+Pv622+m4RQ//fOALAhmxkREbGbGRERsZsZERGxmxkREbGbGRERsZsZERG5nDzJ+vhOx9EG7Hv/V02Lbt5XK5nOY7r4TAf7Vt28vMvH985rVwfpRvXgu3riLjCwIZsZERGxmxkREbGbGRERsZsZERG5k/AMArjog3xrU5AAAAAElFTkSuQmCC\"></img></td>\n",
       "      <td id=\"T_84255_row0_col5\" class=\"data row0 col5\" >0<br>(0.0%)</td>\n",
       "    </tr>\n",
       "    <tr>\n",
       "      <td id=\"T_84255_row1_col0\" class=\"data row1 col0\" >2</td>\n",
       "      <td id=\"T_84255_row1_col1\" class=\"data row1 col1\" ><strong>Founded</strong><br>[float64]</td>\n",
       "      <td id=\"T_84255_row1_col2\" class=\"data row1 col2\" >Mean (sd) : 2016.7 (4.5)<br>min < med < max:<br>1963.0 < 2018.0 < 2021.0<br>IQR (CV) : 5.0 (446.4)</td>\n",
       "      <td id=\"T_84255_row1_col3\" class=\"data row1 col3\" >30 distinct values</td>\n",
       "      <td id=\"T_84255_row1_col4\" class=\"data row1 col4\" ><img src = \"data:image/png;base64, iVBORw0KGgoAAAANSUhEUgAAAKQAAABACAYAAACUYNzVAAAAOXRFWHRTb2Z0d2FyZQBNYXRwbG90bGliIHZlcnNpb24zLjUuMiwgaHR0cHM6Ly9tYXRwbG90bGliLm9yZy8qNh9FAAAACXBIWXMAAA9hAAAPYQGoP6dpAAABz0lEQVR4nO3dzWrCQBSG4TP9sVFChijkJnoH2Xfbi+0ldOGia+/AnSCSoDU0aroSulAhE6mf5H22w4FZvAQCA8c1TWOAiodbXwD46+nWF8B9cs4NzWwQOP7TNM321AFBojXn3HAymbwnSZKGzJdluXLOfZyKkiARYpAkSZrn+dZ7X7UZLIoimk6n6XK5HJgZQeJ6vPdVlmXfAaPDcwf81EAKQUIKQUIKQUIKQUIKQUIKQUIKQUIKQUIKQUIKQUIKQUIKQUIKQUIKQUIKQUIKQUIKQUIKQUIKQUIKQUIKQUIKQUIKQUIKQUIKQUIKQUIKQUIKQUIKQUIKQUIKQUIKQUIKQUIKQUIKQUIKQUIKWxh6rMPyo+RwODxf+z5mBNlbXZYf1XUd7ff716qqPs0sZC3IWQTZX8HLj+bzeTqbzUa73e7x2pciyJ4LWX60Wq3OLj7qip8aSCFISCFISCFISCFISCFISCFISCFISCFISCFISCFISCFISCFISOG1z51TfGTbBUHeMdVHtl0QpIAuX7k4jrM8z0ulR7ZdXAzSOReZ2cs/3aWvovF4/Oa9j9sOHr9ydV1/mVmrII82m020WCxGbWbW63UUOlsURXTp/BeJLXYYIRhfygAAAABJRU5ErkJggg==\"></img></td>\n",
       "      <td id=\"T_84255_row1_col5\" class=\"data row1 col5\" >1<br>(0.1%)</td>\n",
       "    </tr>\n",
       "    <tr>\n",
       "      <td id=\"T_84255_row2_col0\" class=\"data row2 col0\" >3</td>\n",
       "      <td id=\"T_84255_row2_col1\" class=\"data row2 col1\" ><strong>HeadQuarter</strong><br>[object]</td>\n",
       "      <td id=\"T_84255_row2_col2\" class=\"data row2 col2\" >1. Bangalore<br>2. Mumbai<br>3. Gurugram<br>4. New Delhi<br>5. Pune<br>6. Chennai<br>7. Hyderabad<br>8. Noida<br>9. Jaipur<br>10. Ahmedabad<br>11. other</td>\n",
       "      <td id=\"T_84255_row2_col3\" class=\"data row2 col3\" >426 (35.2%)<br>203 (16.8%)<br>155 (12.8%)<br>144 (11.9%)<br>47 (3.9%)<br>40 (3.3%)<br>34 (2.8%)<br>34 (2.8%)<br>11 (0.9%)<br>11 (0.9%)<br>104 (8.6%)</td>\n",
       "      <td id=\"T_84255_row2_col4\" class=\"data row2 col4\" ><img src = \"data:image/png;base64, iVBORw0KGgoAAAANSUhEUgAAAJsAAAD+CAYAAAAtWHdlAAAAOXRFWHRTb2Z0d2FyZQBNYXRwbG90bGliIHZlcnNpb24zLjUuMiwgaHR0cHM6Ly9tYXRwbG90bGliLm9yZy8qNh9FAAAACXBIWXMAAA9hAAAPYQGoP6dpAAAEZ0lEQVR4nO3d0UobaQCG4d8SpJ4khIAX40V4sXsRuRsR56BKT9wDXXZbo01g5k3XPs9xA1N4mXSG/2sunp+fBxS+nPsC+HOIjYzYyIiNjNjIiI2M2MiIjYzYyFyMMa7GGJfnvpCFfH9+fn4890XwYrXb7W7X6/X23BeyhGma7i8uLv4S3O9htV6vtzc3N4+bzebp3Bczp4eHh6/7/X57d3d3OcYQ229gNcYYm83m6fr6+tu5L2YBV+e+AP7lAYGM2MiIjYzYyIiNjNjIiI2M2MiIjYzYyIiNjNjIiI2M2Misxng5+3XuC5nbZ/w7/d+tpmm63+/32/EJz35N03Q/xvh+7uvghQ0CmQv/ZRaV8s7mLvOHy9ZVlk4k6ypLJ8Zo11Wf7mmX03ipS0ZsZMRGRmxkxEZGbGTERkZsZMRGRmxkxEZGbGTERiYZvBifMEY4eDE+wbFwMgYvZJa4s7mDcdDsgxfDFt4z6+DFsIWPLDF4MWzhIC91yYiNjNjIiI2M2MiIjYzYyIiNjNjIiI2M2MiIjYzYyMw6eDFs4SOzD14MW3iPY+FkDF7IeEAgM+fXqK9PPjTbusqqil+ZZV1lVcUx5lxXWVXxIQ8IZMRGRmxkxEZGbGTERkZsZMRGRmxkxEZGbGTERkZsZGZZV1lVcYzZ1lVWVfyKY+FkrKvIfHRnc6diVu8OXgxYmNvBwYsBC0v4aPBiwMKsvNQlIzYyYiMjNjJiIyM2MmIjIzYyYiMjNjJiIyM2MmIjc3DwYsDCEt4dvBiwMDfHwskYvJB5787mrsbsDg5ejF1YwpvBi7ELS3lv8GLswuy81CUjNjJiIyM2MmIjIzYyYiMjNjJiIyM2MmIjIzYyYiMjNjJv1lWWVSzl4LrKsool2CCQsa4ic+jO5q7GIt6sqyyrWMoP6yrLKpZ0aF1lWcUivNQlIzYyYiMjNjJiIyM2MmIjIzYyYiMjNjJiIyM2MmIj88PgxdiFJb0ZvBi7sBTHwskYvJBxZyNj8ELG4IWMwQsZL3XJiI2M2MiIjYzYyIiNjNjIiI2M2MiIjYzYyIiNjNjIGLyQMXgh41g4GYMXMh4QyPzzNTp8dbK01W63ux1jDIsqlvZlvV5vX6d8P/8MJMzKv9nIiI2M2MiIjYzYyIiNjNjIiI2M2MiIjYzYyIiNjNjIiI2M2MisXtdUY1hUsTDHwslYV5FxZyNj8ELG4IWMVx9kxEZGbGTERkZsZMRGRmxkxEZGbGTERkZsZMRGRmxkxEZGbGQMXsg4Fk7G4IXMoR9KO4YfU+Nkq91ud/u6QTjaNE33BjKcarVer7c3NzePm83m6ZgPPDw8fN3v99u7u7vLMYbYONpqjDE2m83T9fX1txM+d7XQ9fCJec9GRmxkxEZGbGTERkZsZMRGRmxkxEZGbGTERkZsZMRGZjXGy7GhYz9wyp+F/1pN03S/3++344RjQ68jGQMZTuJYOBmDFzIeEMiIjYzYyIiNjNjIiI2M2MiIjYzYyPwNXEwPJkOb5EQAAAAASUVORK5CYII=\"></img></td>\n",
       "      <td id=\"T_84255_row2_col5\" class=\"data row2 col5\" >1<br>(0.1%)</td>\n",
       "    </tr>\n",
       "    <tr>\n",
       "      <td id=\"T_84255_row3_col0\" class=\"data row3 col0\" >4</td>\n",
       "      <td id=\"T_84255_row3_col1\" class=\"data row3 col1\" ><strong>Sector</strong><br>[object]</td>\n",
       "      <td id=\"T_84255_row3_col2\" class=\"data row3 col2\" >1. FinTech<br>2. EdTech<br>3. Financial Services<br>4. E-commerce<br>5. Food & Beverages<br>6. Information Technology & Servi<br>7. Automotive<br>8. Healthcare<br>9. HealthCare<br>10. E-learning<br>11. other</td>\n",
       "      <td id=\"T_84255_row3_col3\" class=\"data row3 col3\" >122 (10.1%)<br>102 (8.4%)<br>61 (5.0%)<br>37 (3.1%)<br>37 (3.1%)<br>36 (3.0%)<br>33 (2.7%)<br>26 (2.2%)<br>26 (2.2%)<br>25 (2.1%)<br>704 (58.2%)</td>\n",
       "      <td id=\"T_84255_row3_col4\" class=\"data row3 col4\" ><img src = \"data:image/png;base64, iVBORw0KGgoAAAANSUhEUgAAAJsAAAD+CAYAAAAtWHdlAAAAOXRFWHRTb2Z0d2FyZQBNYXRwbG90bGliIHZlcnNpb24zLjUuMiwgaHR0cHM6Ly9tYXRwbG90bGliLm9yZy8qNh9FAAAACXBIWXMAAA9hAAAPYQGoP6dpAAAEIElEQVR4nO3dTWobWQBG0acgTDKRMQYtRovoxfYitBtjpEEcMlEPnDT+ix1Xqm7AOmeWgYQIlydUvC9ZnU6nAYVPf/sDcD7ERkZsZMRGRmxkxEZGbGTERkZsZFZjjC9jjIs/eI/vp9PpbqbPwwe2vr6+/mez2VxNfYPj8Xi7Wq3+FRxvWW82m6vdbnd3eXn57b0vPhwOn/f7/dXNzc3FGENsvGo9xhiXl5ffttvt14nv8WXGz8MH5gcCGbGRERsZsZERGxmxkREbGbGRERsZsZERGxmxkREbGbGRWY9xfy9tyounvo7ztD4ej7f7/f5qTLyXdjweb8cY3+f9WHxENghkVv7JLCpTTzanGe82aV1lUcUU715XWVQx1dR1lUUV7+ahLhmxkREbGbGRERsZsZERGxmxkREbGbGRERsZsZERG5l3D16MXJhq0uDFyIUpXAsnY/BC5ndONqcYs3hz8GLcwlxeHbwYtzCn3xm8GLcwCw91yYiNjNjIiI2M2MiIjYzYyIiNjNjIiI2M2MiIjYzYyLw6eDFuYU5vDl6MW5iLa+FkDF7I+IFA5ldfo746md2L6yqLKpbwbF1lUcVSfrWusqhidn4gkBEbGbGRERsZsZERGxmxkREbGbGRERsZsZERGxmxkXm2rrKoYikvrqssqliCa+FkrKvIONnIGLyQMXghY/BCxkNdMmIjIzYyYiMjNjJiIyM2MmIjIzYyYiMjNjJiIyM2MgYvZAxeyLgWTsbghYyTjYzBCxmDFzIGL2Q81CUjNjJiIyM2MmIjIzYyYiMjNjJiIyM2MmIjIzYyYiMjNjLWVWSsq8jYIJCxriLz0snmVGMRz9ZVllUs5dG6yrKKJb20rrKsYhEe6pIRGxmxkREbGbGRERsZsZERGxmxkREbGbGRERsZsZF5NHgxdmFJzwYvxi4sxbVwMgYvZJ6ebE41FvNo8GLswpI+/Ry87Ha7ux/RPR0swyz+H7z8+LOxC4vxUJeM2MiIjYzYyIiNjNjIiI2M2MiIjYzYyIiNjNjIiI3Ms//hBZbycPBi7MKiXAsnY/BCxg8EMr5GyVhXkbGuImNdRcYPBDJiIyM2MmIjIzYyYiMjNjJiIyM2MmIjIzYyYiMjNjLWVWSsq8i4Fk7GuoqMk42MwQsZgxcyBi9kPNQlIzYyYiMjNjJiIyM2MmIjIzYyYiMjNjJiIyM2MmIjY/BCxuCFjGvhZAxeyDw92VjO2X9rPBq8sBxjojHWPwcvD3YIzOxwOHze7/dXNzc3F2OM841tjPvBy3a7/fq3P8wHd/ZjIg91yYiNjNjIiI2M2MiIjYzYyIiNjNjIiI2M2MiIjYzYyBi8BPz93ns4eDn7KzBLMiZyLbx09tfCDV7I+IFARmxkxEZGbGTERkZsZMRGRmxkxEbmP/UPKcV3XnRVAAAAAElFTkSuQmCC\"></img></td>\n",
       "      <td id=\"T_84255_row3_col5\" class=\"data row3 col5\" >0<br>(0.0%)</td>\n",
       "    </tr>\n",
       "    <tr>\n",
       "      <td id=\"T_84255_row4_col0\" class=\"data row4 col0\" >5</td>\n",
       "      <td id=\"T_84255_row4_col1\" class=\"data row4 col1\" ><strong>What it does</strong><br>[object]</td>\n",
       "      <td id=\"T_84255_row4_col2\" class=\"data row4 col2\" >1. BharatPe develops a QR code-ba<br>2. BYJU'S is an educational techn<br>3. Ruptok fintech Pvt. Ltd. is an<br>4. KreditBee is a digital lending<br>5. A real money game app speciali<br>6. ZETWERK is a universal manufac<br>7. At SuperGaming, building India<br>8. Advantage Club is India's larg<br>9. A one stop destination to buil<br>10. Elda Health is a digital welln<br>11. other</td>\n",
       "      <td id=\"T_84255_row4_col3\" class=\"data row4 col3\" >4 (0.3%)<br>4 (0.3%)<br>3 (0.2%)<br>2 (0.2%)<br>2 (0.2%)<br>2 (0.2%)<br>2 (0.2%)<br>2 (0.2%)<br>2 (0.2%)<br>2 (0.2%)<br>1,184 (97.9%)</td>\n",
       "      <td id=\"T_84255_row4_col4\" class=\"data row4 col4\" ><img src = \"data:image/png;base64, iVBORw0KGgoAAAANSUhEUgAAAJsAAAD+CAYAAAAtWHdlAAAAOXRFWHRTb2Z0d2FyZQBNYXRwbG90bGliIHZlcnNpb24zLjUuMiwgaHR0cHM6Ly9tYXRwbG90bGliLm9yZy8qNh9FAAAACXBIWXMAAA9hAAAPYQGoP6dpAAADmUlEQVR4nO3cMU4kZxRG0VeohYekWq2WWIK9BxYxi51F9CK8B4SowIwnKQdjW5Zjzy2pfU5E+AdXPED9sez7PlB4OPoB/H+IjYzYyIiNjNjIiI2M2MiIjYzYyCwz8zQzs+/7x8Fv4c6drtfr55mZZVm+CI4f6WFd18u6rpeZeTz6Mdw3P7ORERsZsZERGxmxkREbGbGRERsZsZERGxmxkREbGbGRERsZsZERG5nTtm1vf3797dCXcPdsEMgs/mUWFd/ZyFhXkbGuIuNPH2TERkZsZMRGRmxkxEZGbGTERkZsZMRGRmxkxEZGbGTERkZsZAxeyPhYOBmDFzJ+ZiPzsCzLL8uyfDr6Idy/h5n5eWZ+Ovoh3D9nlIzYyIiNjNjIiI2M2MiIjYzYyIiNjNjIiI2M2MiIjYzYyIiNzMPM/Dozvx/9EO6fDQIZZ5SM2MiIjYx1FRnrKjLOKBmxkREbGbGRERsZsZERGxmxkREbGbGRERsZsZERGxmxkREbGesqMtZVZJxRMmIjY/BCxuCFjDNKRmxkxEZGbGTERkZsZMRGRmxkxEZGbGTERkZsZMRGRmxkxEbG4IWMwQsZZ5SM2MgYvJAxeCHjjJIRGxmxkREbGbGRERsZsZERGxmxkREbGbGRERsZsZERGxmxkREbGesqMtZVZJxRMmIjY11FxrqKjDNKRmxkxEZGbGTERkZsZMRGRmxkxEZGbGTERkZsZMRGRmxkxEbG4IWMwQsZZ5SM2MgYvJAxeCHjjJIRGxmxkREbGbGRERsZsZERGxmxkREbGbGRERsZsZERGxmxkTF4IWPwQsYZJSM2MmIjY11FxrqKjDNKRmxkxEZGbGTERkZsZMRGRmxkxEZGbGTERkZsZMRGRmxkxEbGuoqMdRUZZ5SM2MgYvJAxeCHjjJIRGxmxkREbGbGRERsZsZERGxmxkREbGbGRERsZsZERGxmxkTF4IWPwQsYZJbPMzNPMPB79EO7Wt33fP2ZmTtfr9fO6rpejX8R92rbtbVmWL/u+f5zWdb28vLx8nM/nr0c/jPvy/v7+6Xa7XV5fXx9n5uM0M3M+n78+Pz//dvDbuE9Pf33hFwQyYiMjNjJiIyM2MmIjIzYyYiMjNjJiIyM2MmIjIzYyp5nvHwU5+iHcn393ddq27e12u13mHx8Fgf/Ktm1vM/NtxsfC+fH+/li4dRUZvyCQERsZsZERGxmxkREbGbGRERsZsZH5A6ikjog0NE9qAAAAAElFTkSuQmCC\"></img></td>\n",
       "      <td id=\"T_84255_row4_col5\" class=\"data row4 col5\" >0<br>(0.0%)</td>\n",
       "    </tr>\n",
       "    <tr>\n",
       "      <td id=\"T_84255_row5_col0\" class=\"data row5 col0\" >6</td>\n",
       "      <td id=\"T_84255_row5_col1\" class=\"data row5 col1\" ><strong>Founders</strong><br>[object]</td>\n",
       "      <td id=\"T_84255_row5_col2\" class=\"data row5 col2\" >1. Ashneer Grover, Shashvat Nakra<br>2. Byju Raveendran, Divya Gokulna<br>3. Bhavish Aggarwal<br>4. Ritesh Agarwal<br>5. nan<br>6. Kunal Shah<br>7. Kshama Fernandes<br>8. Ashish Singhal, Govind Soni, V<br>9. Prabhkiran Singh<br>10. Utham Gowda<br>11. other</td>\n",
       "      <td id=\"T_84255_row5_col3\" class=\"data row5 col3\" >7 (0.6%)<br>5 (0.4%)<br>4 (0.3%)<br>4 (0.3%)<br>4 (0.3%)<br>3 (0.2%)<br>3 (0.2%)<br>3 (0.2%)<br>3 (0.2%)<br>3 (0.2%)<br>1,170 (96.8%)</td>\n",
       "      <td id=\"T_84255_row5_col4\" class=\"data row5 col4\" ><img src = \"data:image/png;base64, iVBORw0KGgoAAAANSUhEUgAAAJsAAAD+CAYAAAAtWHdlAAAAOXRFWHRTb2Z0d2FyZQBNYXRwbG90bGliIHZlcnNpb24zLjUuMiwgaHR0cHM6Ly9tYXRwbG90bGliLm9yZy8qNh9FAAAACXBIWXMAAA9hAAAPYQGoP6dpAAADpElEQVR4nO3cQWojVxhG0b+McNqTEkLgJSR78CJ6sb0ILSJ7MMY1iDueKIMEYtKdSaBvgXLOyGj0Bhc9SdTn5Xq9DhTu9j4A/x9iIyM2MmIjIzYyYiMjNjJiIyM2MsvMPMzMXK/Xt53Pwo07nM/nzzMzy7J8ERw/0t26rqd1XU8zc7/3YbhtPrORERsZsZERGxmxkREbGbGRERsZsZERGxmxkREbGbGRERsZsZERG5nDtm0vf/39vutJuHk2CGQW/zKLinc2MtZVZKyryPjpg4zYyIiNjNjIiI2M2MiIjYzYyIiNjNjIiI2M2MiIjYzYyIiNjMELGY+FkzF4IeOdjYzBCxmDFzJ++iAjNjJiIyM2MmIjIzYyYiMjNjJiIyM2MmIjIzYyYiMjNjJiI2PwQsZj4WQMXsj4zEbGNUrGuoqMdRUZn9nIiI2M2MiIjYzYyIiNjNjIiI2M2MiIjYzYyIiNjNjIiI2M2MhYV5HxWDgZ6yoy3tnIGLyQMXgh46cPMmIjIzYyYiMjNjJiIyM2MmIjIzYyYiMjNjJiIyM2MmIjIzYyBi9kPBZOxuCFjM9sZO6WZfllWZZPex+E23c3Mz/PzE97H4Tb5xolIzYyYiMjNjJiIyM2MmIjIzYyYiMjNjJiIyM2MmIjIzYyYiMjNjJ3M/PrzPy+90G4fQYvZFyjZMRGxrqKjHUVGdcoGbGRERsZsZERGxmxkREbGbGRERsZsZERGxmxkREbGbGRERsZgxcyBi9kXKNkxEbG4IWMwQsZ1ygZsZERGxmxkREbGbGRERsZsZERGxmxkREbGbGRERsZsZERGxmDFzIGL2Rco2TERkZsZKyryFhXkXGNkhEbGbGRERsZsZERGxmxkREbGbGRERsZsZERGxmxkREbGbGRsa4iY11FxjVKRmxkDF7IGLyQcY2SERsZsZERGxmxkREbGbGRERsZsZERGxmxkREbGbGRERsZsZExeCFj8ELGNUpmmZmHmbnf+yDcnPfr9fr28YXD+Xz+vK7raa8TcZu2bXtZluXLx+AO67qenp6e3o7H49c9D8fteH19/XS5XE7Pz8/3M/N3bDMzx+Px6+Pj42+7nY5b9PDPF3xBICM2MmIjIzYyYiMjNjJiIyM2MmIjIzYyYiMjNjJiI3OY+fORkL0Pwu34t54O27a9XC6X03znkRD4r7Zte5mZ94+veSycH+Wbx8Ktq8j4gkBGbGTERkZsZMRGRmxkxEZGbGTERuYPTHK/HvbJzb0AAAAASUVORK5CYII=\"></img></td>\n",
       "      <td id=\"T_84255_row5_col5\" class=\"data row5 col5\" >4<br>(0.3%)</td>\n",
       "    </tr>\n",
       "    <tr>\n",
       "      <td id=\"T_84255_row6_col0\" class=\"data row6 col0\" >7</td>\n",
       "      <td id=\"T_84255_row6_col1\" class=\"data row6 col1\" ><strong>Investor</strong><br>[object]</td>\n",
       "      <td id=\"T_84255_row6_col2\" class=\"data row6 col2\" >1. nan<br>2. Inflection Point Ventures<br>3. Tiger Global<br>4. Venture Catalysts<br>5. Elevation Capital<br>6. We Founder Circle<br>7. Titan Capital<br>8. Sequoia Capital India<br>9. Kalaari Capital<br>10. Sixth Sense Ventures<br>11. other</td>\n",
       "      <td id=\"T_84255_row6_col3\" class=\"data row6 col3\" >62 (5.1%)<br>24 (2.0%)<br>11 (0.9%)<br>11 (0.9%)<br>7 (0.6%)<br>6 (0.5%)<br>6 (0.5%)<br>5 (0.4%)<br>5 (0.4%)<br>5 (0.4%)<br>1,067 (88.3%)</td>\n",
       "      <td id=\"T_84255_row6_col4\" class=\"data row6 col4\" ><img src = \"data:image/png;base64, iVBORw0KGgoAAAANSUhEUgAAAJsAAAD+CAYAAAAtWHdlAAAAOXRFWHRTb2Z0d2FyZQBNYXRwbG90bGliIHZlcnNpb24zLjUuMiwgaHR0cHM6Ly9tYXRwbG90bGliLm9yZy8qNh9FAAAACXBIWXMAAA9hAAAPYQGoP6dpAAAD9klEQVR4nO3cQWobZwCG4V9GmGQzQgh0GB3Ch+0h5jbCaBax8UZdxC5tiE2JpTdFfZ5dYhFm8TIaD/+X1fl8HlC4+90XwP+H2MiIjYzYyIiNjNjIiI2M2MiIjcxqjPF1jHH/wWdezufzU3Q93LD1brd7mKZp+94HlmV5XK1WfwiOz1pP07Q9HA5Pm83m+ccfnk6nL/M8b4/H4/0YQ2x8ynqMMTabzfN+v//2zme+htfDDfMLAhmxkREbGbGRERsZsZERGxmxkREbGbGRERsZsZERGxmxkVmP8f3c2s9++N7fw69YL8vyOM/zdrxzbm1Zlscxxkt7WdwiGwQyK/9lFpUf72zuYlzNP9ZVllRc093buupwODy9RvfR8xv8sr/WVa9/tqTiarzUJSM2MmIjIzYyYiMjNjJiIyM2MmIjIzYyYiMjNjJiI/Ph4AUu6e+DF+MWrsqxcDIGL2Te7mzDHY1rW+92u4cxxjB04drupmnaGrpQ8J6NjNjIiI2M2MiIjYzYyIiNjNjIiI2M2MiIjYzYyIiNjNjIiI3M+nXkMoahC1fmWDgZgxcyntnI+BolY11FxrqKjGc2MmIjIzYyYiMjNjJiIyM2MmIjIzYyYiMjNjJiIyM2MmIjIzYy1lVkHAsnY11Fxp2NjMELGYMXMl59kBEbGbGRERsZsZERGxmxkREbGbGRERsZsZERGxmxkREbGbGRMXgh41g4GYMXMu5sZAxeyBi8kPHqg4zYyIiNjNjIiI2M2MiIjYzYyIiNjNjIiI2M2MiIjYzYyIiNjNjIWFeRsUEgY11Fxp2NjHUVGesqMl59kBEbGbGRERsZsZERGxmxkREbGbGRERsZsZERGxmxkREbGbGRMXgh41g4GYMXMu5sZAxeyBi8kPHqg4zYyIiNjNjIiI2M2MiIjYzYyIiNjNjIiI2M2MiIjYzYyIiNjMELGcfCyRi8kPHMRsbXKBnrKjLWVWQ8s5ERGxmxkREbGbGRERsZsZERGxmxkREbGbGRERsZsZERGxmxkbGuIuNYOBnrKjLubGQMXsgYvJDx6oOM2MiIjYzYyIiNjNjIiI2M2MiIjYzYyIiNjNjIiI2M2MiIjYzBCxnHwskYvJB5u7M5Es5HXi7xzbfe7XYPrxsE+KllWR4vMYhaT9O0PRwOT5vN5vlSF8ftOJ1OX+Z53h6Px/sxxudiG2OMzWbzvN/vv13k6rhFXy/xj3jPRkZsZMRGRmxkxEZGbGTERkZsZMRGRmxkxEZGbGTERmY9xvdjJL/7QvhvumQb62VZHud53o4LHSPh9ryOoj49iHIsnH/jIsfCDV7I+AWBjNjIiI2M2MiIjYzYyIiNjNjIiI3MnwFDQ4Qte5D6AAAAAElFTkSuQmCC\"></img></td>\n",
       "      <td id=\"T_84255_row6_col5\" class=\"data row6 col5\" >62<br>(5.1%)</td>\n",
       "    </tr>\n",
       "    <tr>\n",
       "      <td id=\"T_84255_row7_col0\" class=\"data row7 col0\" >8</td>\n",
       "      <td id=\"T_84255_row7_col1\" class=\"data row7 col1\" ><strong>Amount($)</strong><br>[object]</td>\n",
       "      <td id=\"T_84255_row7_col2\" class=\"data row7 col2\" >1. $Undisclosed<br>2. $1000000<br>3. Undisclosed<br>4. $2000000<br>5. $1,000,000<br>6. $3000000<br>7. $5000000<br>8. $10000000<br>9. $500000<br>10. $undisclosed<br>11. other</td>\n",
       "      <td id=\"T_84255_row7_col3\" class=\"data row7 col3\" >73 (6.0%)<br>52 (4.3%)<br>43 (3.6%)<br>40 (3.3%)<br>33 (2.7%)<br>31 (2.6%)<br>29 (2.4%)<br>28 (2.3%)<br>25 (2.1%)<br>22 (1.8%)<br>833 (68.9%)</td>\n",
       "      <td id=\"T_84255_row7_col4\" class=\"data row7 col4\" ><img src = \"data:image/png;base64, iVBORw0KGgoAAAANSUhEUgAAAJsAAAD+CAYAAAAtWHdlAAAAOXRFWHRTb2Z0d2FyZQBNYXRwbG90bGliIHZlcnNpb24zLjUuMiwgaHR0cHM6Ly9tYXRwbG90bGliLm9yZy8qNh9FAAAACXBIWXMAAA9hAAAPYQGoP6dpAAAEI0lEQVR4nO3dQWobWQBF0a8gTDKRMAYtRovoxfYitBtjpEEcMlEPkjR2LMl0uurGcs6ZmVRAkEuJKv5zFsfjcUDhw+/+APw5xEZGbGTERkZsZMRGRmxkxEZGbGQWY4xPY4ybV677ejweH4PPwzu2vLu7+2u1Wt1euuhwODwsFou/Bcf/sVytVrfb7fZxvV5/OXXBfr//uNvtbu/v72/GGGLjly3HGGO9Xn/ZbDafL1z3Kfo8vGMeEMiIjYzYyIiNjNjIiI2M2MiIjYzYyIiNjNjIiI2M2MiIjcxyjG9n1s5dcOnP4L9YHg6Hh91udzsunFk7HA4PY4yv3cfiPbJBILPwK7OovHZnc0djMhfXVVZVTOnsusqqiqm9tq6yqmIyXuqSERsZsZERGxmxkREbGbGRERsZsZERGxmxkREbGbGROTt4MXRhahcHL4YuTMmxcDIGL2Qu3dnc1ZjU2cGLsQtTOzl4MXZhDpcGL8YuTMpLXTJiIyM2MmIjIzYyYiMjNjJiIyM2MmIjIzYyYiMjNjInBy/GLszh7ODF2IWpORZOxuCFjAcEMue+Rn2FMrmT6yrLKubwYl1lWcVczq2rLKuYnAcEMmIjIzYyYiMjNjJiIyM2MmIjIzYyYiMjNjJiIyM2Mi/WVZZVzOXkusqyijk4Fk7GuorMqTubuxqzeDF4MXZhLs8GL8YuzOnU4MXYhVl4qUtGbGTERkZsZMRGRmxkxEZGbGTERkZsZMRGRmxkxEbm2eDF2IU5vRi8GLswF8fCyRi8kHFnI2PwQsbghYzBCxkvdcmIjYzYyIiNjNjIiI2M2MiIjYzYyIiNjNjIiI2M2MiIjYx1FRnrKjI2CGSsq8i4s5GxriJjXUXGuoqMl7pkxEZGbGTERkZsZMRGRmxkxEZGbGTERkZsZMRGRmxkDF7IGLyQcSycjMELGXc2MgYvZAxeyBi8kPFSl4zYyIiNjNjIiI2M2MiIjYzYyIiNjNjIiI2M2MiIjYzBCxmDFzKOhZMxeCHjAYHMz1+jvkKZzbN1lWUVc/rwY1213W4fv0d38+rfgl/w77rq+8+WVczGAwIZsZERGxmxkREbGbGRERsZsZERGxmxkREbGbGRERuZZ+sqmNPTdZVlFbNyLJyMdRUZdzYyBi9kDF7IGLyQ8VKXjNjIiI2M2MiIjYzYyIiNjNjIiI2M2MiIjYzYyIiNjMELGYMXMo6FkzF4IXPqP0rj7brqb55ngxfetmsfJC1/DF6e7BB4g/b7/cfdbnd7f39/M8a4ztjG+DZ42Ww2n3/3h+FVVz1I8lKXjNjIiI2M2MiIjYzYyIiNjNjIiI2M2MiIjYzYyIiNjMHLlXgP/0ZPBy9XfXzlT3DtgyTHwq/LVR8LN3gh4wGBjNjIiI2M2MiIjYzYyIiNjNjIiI3MPwMlNiTxn1xuAAAAAElFTkSuQmCC\"></img></td>\n",
       "      <td id=\"T_84255_row7_col5\" class=\"data row7 col5\" >3<br>(0.2%)</td>\n",
       "    </tr>\n",
       "    <tr>\n",
       "      <td id=\"T_84255_row8_col0\" class=\"data row8 col0\" >9</td>\n",
       "      <td id=\"T_84255_row8_col1\" class=\"data row8 col1\" ><strong>Stage</strong><br>[object]</td>\n",
       "      <td id=\"T_84255_row8_col2\" class=\"data row8 col2\" >1. nan<br>2. Seed<br>3. Pre-series A<br>4. Series A<br>5. Series B<br>6. Pre-seed<br>7. Series C<br>8. Debt<br>9. Series D<br>10. Series E<br>11. other</td>\n",
       "      <td id=\"T_84255_row8_col3\" class=\"data row8 col3\" >428 (35.4%)<br>246 (20.3%)<br>157 (13.0%)<br>126 (10.4%)<br>49 (4.1%)<br>47 (3.9%)<br>45 (3.7%)<br>27 (2.2%)<br>21 (1.7%)<br>18 (1.5%)<br>45 (3.7%)</td>\n",
       "      <td id=\"T_84255_row8_col4\" class=\"data row8 col4\" ><img src = \"data:image/png;base64, iVBORw0KGgoAAAANSUhEUgAAAJsAAAD+CAYAAAAtWHdlAAAAOXRFWHRTb2Z0d2FyZQBNYXRwbG90bGliIHZlcnNpb24zLjUuMiwgaHR0cHM6Ly9tYXRwbG90bGliLm9yZy8qNh9FAAAACXBIWXMAAA9hAAAPYQGoP6dpAAAEWElEQVR4nO3dQUocaQCG4V8RJ25aGsFjeAAPkcPOIfoA3qMRexEz2TiLJI5KKwar3nL0eXYhmwq8/FpFfamDu7u7AYXDpS+Az0NsZMRGRmxkxEZGbGTERkZsZMRG5mCMcTLGOF76Qmby4+7u7nbpi+Cno7Ozs6+r1Wq99IXMYbfbXR8cHPwtuPfhaLVarS8vL29PT0+/L30xU7q5ufmy2WzW2+32eIwhtnfgaIwxTk9Pv5+fn39b+mJmcLL0BfAfNwhkxEZGbGTERkZsZMRGRmxkxEZGbGTERkZsZMRGRmxkxEbmaIyf734tfSFT+4j/pv+7o91ud73ZbNbjA777tdvtrscYP5a+Dn6yQSBz4L/MovIeTjanzyex+LrKAurzWHRdZQH1ubyHddWHuwtmPw91yYiNjNjIiI2M2MiIjYzYyIiNjNjIiI2M2MiIjYzYyCw6eDFK+VwWH7wYpXweXgsnY/BCZo6TzUnFXpMPXgxYeM6kgxcDFl4yx+DFgIW9PNQlIzYyYiMjNjJiIyM2MmIjIzYyYiMjNjJiIyM2MmIjM+ngxYCFl0w+eDFg4TleCydj8ELGDQKZKX6M+rHJq7x5XWVNxWu9aV1lTcWfmGJdZU3Fq7hBICM2MmIjIzYyYiMjNjJiIyM2MmIjIzYyYiMjNjJiI/OmdZU1FX/izesqaypey2vhZKyryLx0sjmxmNSzgxdDFqa2d/BiyMIcXhq8GLIwKQ91yYiNjNjIiI2M2MiIjYzYyIiNjNjIiI2M2MiIjYzYyOwdvBiyMIdnBy+GLEzNa+FkDF7IONnIGLyQMXghY/BCxkNdMmIjIzYyYiMjNjJiIyM2MmIjIzYyYiMjNjJiIyM2MmIjY11FxrqKjA0CGesqMk42MtZVZKyryFhXkfFQl4zYyIiNjNjIiI2M2MiIjYzYyIiNjNjIiI2M2MiIjYzBCxmDFzJeCydj8ELm6cnmNGM2jwYvRi7M6fD34OXy8vL2V3T7fn+DN7sfvPz6s5ELs/FQl4zYyIiNjNjIiI2M2MiIjYzYyIiNjNjIiI2M2MiIjczewQvM4eHgxciFWXktnIzBCxk3CGT8GCVjXUXGuoqMdRUZNwhkxEZGbGTERkZsZMRGRmxkxEZGbGTERkZsZMRGRmxkrKvIWFeR8Vo4GesqMg9PNqcas7ofvBi7MLfD1Wq1vri4GMYuzO1wjDFOTk7+WfpC+Pg81CUjNjJiIyM2MmIjIzYyYiMjNjJiIyM2MmIjIzYyYiNzOMYYt7e3fy19IXx8h7vd7vrq6srYhdl5LZyMwQuZp1O+h5x0TOrRF14eMoBhake/v/Dy4MMb4+bm5stms1lvt9vjMYbYmMT9F17Oz8+/Pfk7X3thUh7qkhEbGbGRERsZsZERGxmxkREbGbGRERsZsZERGxmxkdn7hRdffGEOD7/w8uiVIgMYpua1cDIGL2TcIJARGxmxkREbGbGRERsZsZERGxmxkfkXWGcnCcNB7QoAAAAASUVORK5CYII=\"></img></td>\n",
       "      <td id=\"T_84255_row8_col5\" class=\"data row8 col5\" >428<br>(35.4%)</td>\n",
       "    </tr>\n",
       "  </tbody>\n",
       "</table>\n"
      ],
      "text/plain": [
       "<pandas.io.formats.style.Styler at 0x7fa4d8ef9d30>"
      ]
     },
     "execution_count": 76,
     "metadata": {},
     "output_type": "execute_result"
    }
   ],
   "source": [
    "dfSummary(data_2021, is_collapsible = False)"
   ]
  },
  {
   "cell_type": "code",
   "execution_count": 77,
   "id": "5643bbbf",
   "metadata": {},
   "outputs": [
    {
     "data": {
      "text/plain": [
       "Company/Brand      0\n",
       "Founded            1\n",
       "HeadQuarter        1\n",
       "Sector             0\n",
       "What it does       0\n",
       "Founders           4\n",
       "Investor          62\n",
       "Amount($)          3\n",
       "Stage            428\n",
       "dtype: int64"
      ]
     },
     "execution_count": 77,
     "metadata": {},
     "output_type": "execute_result"
    }
   ],
   "source": [
    "pd.isnull(data_2021).sum()"
   ]
  },
  {
   "cell_type": "markdown",
   "id": "654a7c0c",
   "metadata": {},
   "source": [
    "<br><p style=\"font-size:20px ; font-weight: bold ; font-family: 'Times New Roman'; color: #00008B\">Observation: </p><br>\n",
    "\n",
    "<p style=\"font-size:20px ; font-family: 'Times New Roman';\"> Initial check indicates there are null values in the data set</p>"
   ]
  },
  {
   "cell_type": "markdown",
   "id": "8190f1a8",
   "metadata": {},
   "source": [
    "<H1 style=\"text-align: center;font-size:30px ; font-family: 'Times New Roman'; color: #00008B\">Deep Dive Into the Data  Set :</H1> <br><br>"
   ]
  },
  {
   "cell_type": "markdown",
   "id": "4f1b7573",
   "metadata": {},
   "source": [
    "<br><p style=\"font-size:20px ; font-weight: bold ; font-family: 'Times New Roman'; color: #00008B\">Cleaning the Founded Column</p><br>"
   ]
  },
  {
   "cell_type": "code",
   "execution_count": 78,
   "id": "1e3f5e07",
   "metadata": {},
   "outputs": [
    {
     "data": {
      "text/plain": [
       "array([2019., 2015., 2012., 2021., 2014., 2018., 2016., 2020., 2010.,\n",
       "       2017., 1993., 2008., 2013., 1999., 1989., 2011.,   nan, 2009.,\n",
       "       2002., 1994., 2006., 2000., 2007., 1978., 2003., 1998., 1991.,\n",
       "       1984., 2004., 2005., 1963.])"
      ]
     },
     "execution_count": 78,
     "metadata": {},
     "output_type": "execute_result"
    }
   ],
   "source": [
    "data_2021['Founded'].unique()"
   ]
  },
  {
   "cell_type": "markdown",
   "id": "871d927b",
   "metadata": {},
   "source": [
    "<p style=\"font-size:20px ; font-weight: bold ; font-family: 'Times New Roman'; color: #00008B\">Convert the data type from float to a string</p><br>"
   ]
  },
  {
   "cell_type": "code",
   "execution_count": 79,
   "id": "9df381e3",
   "metadata": {},
   "outputs": [],
   "source": [
    "# convert the data type from float to a string\n",
    "data_2021['Founded']=data_2021['Founded'].astype(str) \n",
    "\n",
    "# removing the decimal points in the year, slicing is used to pick the whole number only\n",
    "data_2021['Founded']=data_2021.Founded.str.split('.').str[0]"
   ]
  },
  {
   "cell_type": "markdown",
   "id": "86434a9c",
   "metadata": {},
   "source": [
    "<p style=\"font-size:20px ; font-weight: bold ; font-family: 'Times New Roman'; color: #00008B\">changing the data type to numeric</p><br>"
   ]
  },
  {
   "cell_type": "code",
   "execution_count": 80,
   "id": "03596bc8",
   "metadata": {},
   "outputs": [],
   "source": [
    "# changing the data type to numeric\n",
    "data_2021['Founded']=pd.to_numeric(data_2021['Founded'],errors='coerce',downcast='unsigned')"
   ]
  },
  {
   "cell_type": "markdown",
   "id": "3976b522",
   "metadata": {},
   "source": [
    "<p style=\"font-size:20px ; font-weight: bold ; font-family: 'Times New Roman'; color: #00008B\">Replacing nan with 2021 </p><br>"
   ]
  },
  {
   "cell_type": "code",
   "execution_count": 81,
   "id": "b0fe0eff",
   "metadata": {},
   "outputs": [
    {
     "data": {
      "text/plain": [
       "0       2019.0\n",
       "1       2015.0\n",
       "2       2012.0\n",
       "3       2015.0\n",
       "4       2021.0\n",
       "         ...  \n",
       "1204    2019.0\n",
       "1205    2015.0\n",
       "1206    2019.0\n",
       "1207    2015.0\n",
       "1208    2019.0\n",
       "Name: Founded, Length: 1209, dtype: float64"
      ]
     },
     "execution_count": 81,
     "metadata": {},
     "output_type": "execute_result"
    }
   ],
   "source": [
    "# replacing nan with 2021 since it is a 2021 data set\n",
    "data_2021['Founded'].fillna(2021)"
   ]
  },
  {
   "cell_type": "markdown",
   "id": "6002f71f",
   "metadata": {},
   "source": [
    "<br><p style=\"font-size:20px ; font-weight: bold ; font-family: 'Times New Roman'; color: #00008B\">Cleaning the HeadQuarter Column</p><br>"
   ]
  },
  {
   "cell_type": "code",
   "execution_count": 82,
   "id": "1e57f3ef",
   "metadata": {},
   "outputs": [
    {
     "data": {
      "text/plain": [
       "array(['Bangalore', 'Mumbai', 'Gurugram', 'New Delhi', 'Hyderabad',\n",
       "       'Jaipur', 'Ahmadabad', 'Chennai', nan,\n",
       "       'Small Towns, Andhra Pradesh', 'Goa', 'Rajsamand', 'Ranchi',\n",
       "       'Faridabad, Haryana', 'Gujarat', 'Pune', 'Thane', 'Computer Games',\n",
       "       'Cochin', 'Noida', 'Chandigarh', 'Gurgaon', 'Vadodara',\n",
       "       'Food & Beverages', 'Pharmaceuticals\\t#REF!', 'Gurugram\\t#REF!',\n",
       "       'Kolkata', 'Ahmedabad', 'Mohali', 'Haryana', 'Indore', 'Powai',\n",
       "       'Ghaziabad', 'Nagpur', 'West Bengal', 'Patna', 'Samsitpur',\n",
       "       'Lucknow', 'Telangana', 'Silvassa', 'Thiruvananthapuram',\n",
       "       'Faridabad', 'Roorkee', 'Ambernath', 'Panchkula', 'Surat',\n",
       "       'Coimbatore', 'Andheri', 'Mangalore', 'Telugana', 'Bhubaneswar',\n",
       "       'Kottayam', 'Beijing', 'Panaji', 'Satara', 'Orissia', 'Jodhpur',\n",
       "       'New York', 'Santra', 'Mountain View, CA', 'Trivandrum',\n",
       "       'Jharkhand', 'Kanpur', 'Bhilwara', 'Guwahati',\n",
       "       'Online Media\\t#REF!', 'Kochi', 'London',\n",
       "       'Information Technology & Services', 'The Nilgiris', 'Gandhinagar'],\n",
       "      dtype=object)"
      ]
     },
     "execution_count": 82,
     "metadata": {},
     "output_type": "execute_result"
    }
   ],
   "source": [
    "data_2021['HeadQuarter'].unique()"
   ]
  },
  {
   "cell_type": "markdown",
   "id": "176ceed3",
   "metadata": {},
   "source": [
    "<p style=\"font-size:20px ; font-weight: bold ; font-family: 'Times New Roman'; color: #00008B\">checking for the record with Information Technology & Services</p><br>"
   ]
  },
  {
   "cell_type": "code",
   "execution_count": 83,
   "id": "a3f99215",
   "metadata": {},
   "outputs": [
    {
     "data": {
      "text/html": [
       "<div>\n",
       "<style scoped>\n",
       "    .dataframe tbody tr th:only-of-type {\n",
       "        vertical-align: middle;\n",
       "    }\n",
       "\n",
       "    .dataframe tbody tr th {\n",
       "        vertical-align: top;\n",
       "    }\n",
       "\n",
       "    .dataframe thead th {\n",
       "        text-align: right;\n",
       "    }\n",
       "</style>\n",
       "<table border=\"1\" class=\"dataframe\">\n",
       "  <thead>\n",
       "    <tr style=\"text-align: right;\">\n",
       "      <th></th>\n",
       "      <th>Company/Brand</th>\n",
       "      <th>Founded</th>\n",
       "      <th>HeadQuarter</th>\n",
       "      <th>Sector</th>\n",
       "      <th>What it does</th>\n",
       "      <th>Founders</th>\n",
       "      <th>Investor</th>\n",
       "      <th>Amount($)</th>\n",
       "      <th>Stage</th>\n",
       "    </tr>\n",
       "  </thead>\n",
       "  <tbody>\n",
       "    <tr>\n",
       "      <th>1176</th>\n",
       "      <td>Peak</td>\n",
       "      <td>2014.0</td>\n",
       "      <td>Information Technology &amp; Services</td>\n",
       "      <td>Manchester, Greater Manchester</td>\n",
       "      <td>Peak helps the world's smartest companies put ...</td>\n",
       "      <td>Atul Sharma</td>\n",
       "      <td>SoftBank Vision Fund 2</td>\n",
       "      <td>$75000000</td>\n",
       "      <td>Series C</td>\n",
       "    </tr>\n",
       "  </tbody>\n",
       "</table>\n",
       "</div>"
      ],
      "text/plain": [
       "     Company/Brand  Founded                        HeadQuarter  \\\n",
       "1176          Peak   2014.0  Information Technology & Services   \n",
       "\n",
       "                              Sector  \\\n",
       "1176  Manchester, Greater Manchester   \n",
       "\n",
       "                                           What it does     Founders  \\\n",
       "1176  Peak helps the world's smartest companies put ...  Atul Sharma   \n",
       "\n",
       "                    Investor  Amount($)     Stage  \n",
       "1176  SoftBank Vision Fund 2  $75000000  Series C  "
      ]
     },
     "execution_count": 83,
     "metadata": {},
     "output_type": "execute_result"
    }
   ],
   "source": [
    "# checking for the record with Information Technology & Services at the headquater column\n",
    "data_2021.loc[data_2021['HeadQuarter']=='Information Technology & Services']"
   ]
  },
  {
   "cell_type": "markdown",
   "id": "301eecac",
   "metadata": {},
   "source": [
    "It is realized that the values at the Sector column and the HeadQuarter column has been interchanged. This is corrected in the cell below."
   ]
  },
  {
   "cell_type": "markdown",
   "id": "cf5cf663",
   "metadata": {},
   "source": [
    "<p style=\"font-size:20px ; font-weight: bold ; font-family: 'Times New Roman'; color: #00008B\">Correcting the wrong placement of the HeadQuarter and Sector values</p><br>"
   ]
  },
  {
   "cell_type": "code",
   "execution_count": 84,
   "id": "b0d5bbb2",
   "metadata": {},
   "outputs": [],
   "source": [
    "# correcting the wrong placement of the HeadQuarter and Sector values\n",
    "data_2021.loc[data_2021['Company/Brand']=='Peak',['HeadQuarter','Sector']]=['Manchester','IT']"
   ]
  },
  {
   "cell_type": "markdown",
   "id": "171a8c28",
   "metadata": {},
   "source": [
    "<p style=\"font-size:20px ; font-weight: bold ; font-family: 'Times New Roman'; color: #00008B\">Checking for the record with Online Media\\t#REF!</p><br>"
   ]
  },
  {
   "cell_type": "code",
   "execution_count": 85,
   "id": "b1588a5c",
   "metadata": {},
   "outputs": [
    {
     "data": {
      "text/html": [
       "<div>\n",
       "<style scoped>\n",
       "    .dataframe tbody tr th:only-of-type {\n",
       "        vertical-align: middle;\n",
       "    }\n",
       "\n",
       "    .dataframe tbody tr th {\n",
       "        vertical-align: top;\n",
       "    }\n",
       "\n",
       "    .dataframe thead th {\n",
       "        text-align: right;\n",
       "    }\n",
       "</style>\n",
       "<table border=\"1\" class=\"dataframe\">\n",
       "  <thead>\n",
       "    <tr style=\"text-align: right;\">\n",
       "      <th></th>\n",
       "      <th>Company/Brand</th>\n",
       "      <th>Founded</th>\n",
       "      <th>HeadQuarter</th>\n",
       "      <th>Sector</th>\n",
       "      <th>What it does</th>\n",
       "      <th>Founders</th>\n",
       "      <th>Investor</th>\n",
       "      <th>Amount($)</th>\n",
       "      <th>Stage</th>\n",
       "    </tr>\n",
       "  </thead>\n",
       "  <tbody>\n",
       "    <tr>\n",
       "      <th>1100</th>\n",
       "      <td>Sochcast</td>\n",
       "      <td>2020.0</td>\n",
       "      <td>Online Media\\t#REF!</td>\n",
       "      <td>Sochcast is an Audio experiences company that ...</td>\n",
       "      <td>CA Harvinderjit Singh Bhatia, Garima Surana, A...</td>\n",
       "      <td>Vinners, Raj Nayak, Amritaanshu Agrawal</td>\n",
       "      <td>$Undisclosed</td>\n",
       "      <td>NaN</td>\n",
       "      <td>NaN</td>\n",
       "    </tr>\n",
       "  </tbody>\n",
       "</table>\n",
       "</div>"
      ],
      "text/plain": [
       "     Company/Brand  Founded          HeadQuarter  \\\n",
       "1100      Sochcast   2020.0  Online Media\\t#REF!   \n",
       "\n",
       "                                                 Sector  \\\n",
       "1100  Sochcast is an Audio experiences company that ...   \n",
       "\n",
       "                                           What it does  \\\n",
       "1100  CA Harvinderjit Singh Bhatia, Garima Surana, A...   \n",
       "\n",
       "                                     Founders      Investor Amount($) Stage  \n",
       "1100  Vinners, Raj Nayak, Amritaanshu Agrawal  $Undisclosed       NaN   NaN  "
      ]
     },
     "execution_count": 85,
     "metadata": {},
     "output_type": "execute_result"
    }
   ],
   "source": [
    "# checking for the record with Online Media\\t#REF! at the headquater column\n",
    "data_2021.loc[data_2021['HeadQuarter']=='Online Media\\t#REF!']"
   ]
  },
  {
   "cell_type": "markdown",
   "id": "eebb574e",
   "metadata": {},
   "source": [
    "The correction of the transposition is done in the cell below"
   ]
  },
  {
   "cell_type": "markdown",
   "id": "a3a5044a",
   "metadata": {},
   "source": [
    "<p style=\"font-size:20px ; font-weight: bold ; font-family: 'Times New Roman'; color: #00008B\">Correcting the wrong placement of the HeadQuarter and Sector values</p><br>"
   ]
  },
  {
   "cell_type": "code",
   "execution_count": 86,
   "id": "d5b0f644",
   "metadata": {},
   "outputs": [],
   "source": [
    "# correcting the wrong placement of the HeadQuarter and Sector values\n",
    "data_2021.loc[data_2021['Company/Brand']=='Sochcast',['HeadQuarter','Sector','What it does']]=['Mountain View','Media and Entertainment','Sochcast is an Audio experiences company that give the listener and creators an Immersive Audio experience']"
   ]
  },
  {
   "cell_type": "code",
   "execution_count": 87,
   "id": "47af3613",
   "metadata": {},
   "outputs": [
    {
     "data": {
      "text/html": [
       "<div>\n",
       "<style scoped>\n",
       "    .dataframe tbody tr th:only-of-type {\n",
       "        vertical-align: middle;\n",
       "    }\n",
       "\n",
       "    .dataframe tbody tr th {\n",
       "        vertical-align: top;\n",
       "    }\n",
       "\n",
       "    .dataframe thead th {\n",
       "        text-align: right;\n",
       "    }\n",
       "</style>\n",
       "<table border=\"1\" class=\"dataframe\">\n",
       "  <thead>\n",
       "    <tr style=\"text-align: right;\">\n",
       "      <th></th>\n",
       "      <th>Company/Brand</th>\n",
       "      <th>Founded</th>\n",
       "      <th>HeadQuarter</th>\n",
       "      <th>Sector</th>\n",
       "      <th>What it does</th>\n",
       "      <th>Founders</th>\n",
       "      <th>Investor</th>\n",
       "      <th>Amount($)</th>\n",
       "      <th>Stage</th>\n",
       "    </tr>\n",
       "  </thead>\n",
       "  <tbody>\n",
       "    <tr>\n",
       "      <th>1100</th>\n",
       "      <td>Sochcast</td>\n",
       "      <td>2020.0</td>\n",
       "      <td>Mountain View</td>\n",
       "      <td>Media and Entertainment</td>\n",
       "      <td>Sochcast is an Audio experiences company that ...</td>\n",
       "      <td>Vinners, Raj Nayak, Amritaanshu Agrawal</td>\n",
       "      <td>$Undisclosed</td>\n",
       "      <td>NaN</td>\n",
       "      <td>NaN</td>\n",
       "    </tr>\n",
       "  </tbody>\n",
       "</table>\n",
       "</div>"
      ],
      "text/plain": [
       "     Company/Brand  Founded    HeadQuarter                   Sector  \\\n",
       "1100      Sochcast   2020.0  Mountain View  Media and Entertainment   \n",
       "\n",
       "                                           What it does  \\\n",
       "1100  Sochcast is an Audio experiences company that ...   \n",
       "\n",
       "                                     Founders      Investor Amount($) Stage  \n",
       "1100  Vinners, Raj Nayak, Amritaanshu Agrawal  $Undisclosed       NaN   NaN  "
      ]
     },
     "execution_count": 87,
     "metadata": {},
     "output_type": "execute_result"
    }
   ],
   "source": [
    "data_2021.loc[data_2021['Company/Brand']=='Sochcast']"
   ]
  },
  {
   "cell_type": "markdown",
   "id": "93369bf2",
   "metadata": {},
   "source": [
    "<p style=\"font-size:20px ; font-weight: bold ; font-family: 'Times New Roman'; color: #00008B\">Checking for the record with Gurugram\\t#REF</p><br>"
   ]
  },
  {
   "cell_type": "code",
   "execution_count": 88,
   "id": "39783474",
   "metadata": {},
   "outputs": [
    {
     "data": {
      "text/html": [
       "<div>\n",
       "<style scoped>\n",
       "    .dataframe tbody tr th:only-of-type {\n",
       "        vertical-align: middle;\n",
       "    }\n",
       "\n",
       "    .dataframe tbody tr th {\n",
       "        vertical-align: top;\n",
       "    }\n",
       "\n",
       "    .dataframe thead th {\n",
       "        text-align: right;\n",
       "    }\n",
       "</style>\n",
       "<table border=\"1\" class=\"dataframe\">\n",
       "  <thead>\n",
       "    <tr style=\"text-align: right;\">\n",
       "      <th></th>\n",
       "      <th>Company/Brand</th>\n",
       "      <th>Founded</th>\n",
       "      <th>HeadQuarter</th>\n",
       "      <th>Sector</th>\n",
       "      <th>What it does</th>\n",
       "      <th>Founders</th>\n",
       "      <th>Investor</th>\n",
       "      <th>Amount($)</th>\n",
       "      <th>Stage</th>\n",
       "    </tr>\n",
       "  </thead>\n",
       "  <tbody>\n",
       "    <tr>\n",
       "      <th>257</th>\n",
       "      <td>MoEVing</td>\n",
       "      <td>2021.0</td>\n",
       "      <td>Gurugram\\t#REF!</td>\n",
       "      <td>MoEVing is India's only Electric Mobility focu...</td>\n",
       "      <td>Vikash Mishra, Mragank Jain</td>\n",
       "      <td>Anshuman Maheshwary, Dr Srihari Raju Kalidindi</td>\n",
       "      <td>$5000000</td>\n",
       "      <td>Seed</td>\n",
       "      <td>NaN</td>\n",
       "    </tr>\n",
       "  </tbody>\n",
       "</table>\n",
       "</div>"
      ],
      "text/plain": [
       "    Company/Brand  Founded      HeadQuarter  \\\n",
       "257       MoEVing   2021.0  Gurugram\\t#REF!   \n",
       "\n",
       "                                                Sector  \\\n",
       "257  MoEVing is India's only Electric Mobility focu...   \n",
       "\n",
       "                    What it does  \\\n",
       "257  Vikash Mishra, Mragank Jain   \n",
       "\n",
       "                                           Founders  Investor Amount($) Stage  \n",
       "257  Anshuman Maheshwary, Dr Srihari Raju Kalidindi  $5000000      Seed   NaN  "
      ]
     },
     "execution_count": 88,
     "metadata": {},
     "output_type": "execute_result"
    }
   ],
   "source": [
    "# checking for the record with Gurugram\\t#REF! at the headquater column\n",
    "data_2021.loc[data_2021['HeadQuarter']=='Gurugram\\t#REF!']"
   ]
  },
  {
   "cell_type": "markdown",
   "id": "7d32f922",
   "metadata": {},
   "source": [
    "The correction together with the sector which has now been identified is done in the code below"
   ]
  },
  {
   "cell_type": "markdown",
   "id": "345e4ccb",
   "metadata": {},
   "source": [
    "<p style=\"font-size:20px ; font-weight: bold ; font-family: 'Times New Roman'; color: #00008B\">correcting the wrong placement of the HeadQuarter and Sector values</p><br>"
   ]
  },
  {
   "cell_type": "code",
   "execution_count": 89,
   "id": "ca247efa",
   "metadata": {},
   "outputs": [],
   "source": [
    "# correcting the wrong placement of the HeadQuarter and Sector values\n",
    "data_2021.loc[data_2021['Company/Brand']=='MoEVing',['HeadQuarter','Sector']]=['Gurugram','Automotive']"
   ]
  },
  {
   "cell_type": "markdown",
   "id": "abfb8eeb",
   "metadata": {},
   "source": [
    "<p style=\"font-size:20px ; font-weight: bold ; font-family: 'Times New Roman'; color: #00008B\">Checking for the record with Food & Beverages</p><br>"
   ]
  },
  {
   "cell_type": "code",
   "execution_count": 90,
   "id": "8852de85",
   "metadata": {},
   "outputs": [
    {
     "data": {
      "text/html": [
       "<div>\n",
       "<style scoped>\n",
       "    .dataframe tbody tr th:only-of-type {\n",
       "        vertical-align: middle;\n",
       "    }\n",
       "\n",
       "    .dataframe tbody tr th {\n",
       "        vertical-align: top;\n",
       "    }\n",
       "\n",
       "    .dataframe thead th {\n",
       "        text-align: right;\n",
       "    }\n",
       "</style>\n",
       "<table border=\"1\" class=\"dataframe\">\n",
       "  <thead>\n",
       "    <tr style=\"text-align: right;\">\n",
       "      <th></th>\n",
       "      <th>Company/Brand</th>\n",
       "      <th>Founded</th>\n",
       "      <th>HeadQuarter</th>\n",
       "      <th>Sector</th>\n",
       "      <th>What it does</th>\n",
       "      <th>Founders</th>\n",
       "      <th>Investor</th>\n",
       "      <th>Amount($)</th>\n",
       "      <th>Stage</th>\n",
       "    </tr>\n",
       "  </thead>\n",
       "  <tbody>\n",
       "    <tr>\n",
       "      <th>241</th>\n",
       "      <td>MasterChow</td>\n",
       "      <td>2020.0</td>\n",
       "      <td>Food &amp; Beverages</td>\n",
       "      <td>Hauz Khas</td>\n",
       "      <td>A ready-to-cook Asian cuisine brand</td>\n",
       "      <td>Vidur Kataria, Sidhanth Madan</td>\n",
       "      <td>WEH Ventures</td>\n",
       "      <td>$461000</td>\n",
       "      <td>Seed</td>\n",
       "    </tr>\n",
       "    <tr>\n",
       "      <th>255</th>\n",
       "      <td>MasterChow</td>\n",
       "      <td>2020.0</td>\n",
       "      <td>Food &amp; Beverages</td>\n",
       "      <td>Hauz Khas</td>\n",
       "      <td>A ready-to-cook Asian cuisine brand</td>\n",
       "      <td>Vidur Kataria, Sidhanth Madan</td>\n",
       "      <td>WEH Ventures</td>\n",
       "      <td>$461000</td>\n",
       "      <td>Seed</td>\n",
       "    </tr>\n",
       "  </tbody>\n",
       "</table>\n",
       "</div>"
      ],
      "text/plain": [
       "    Company/Brand  Founded       HeadQuarter     Sector  \\\n",
       "241    MasterChow   2020.0  Food & Beverages  Hauz Khas   \n",
       "255    MasterChow   2020.0  Food & Beverages  Hauz Khas   \n",
       "\n",
       "                            What it does                       Founders  \\\n",
       "241  A ready-to-cook Asian cuisine brand  Vidur Kataria, Sidhanth Madan   \n",
       "255  A ready-to-cook Asian cuisine brand  Vidur Kataria, Sidhanth Madan   \n",
       "\n",
       "         Investor Amount($) Stage  \n",
       "241  WEH Ventures   $461000  Seed  \n",
       "255  WEH Ventures   $461000  Seed  "
      ]
     },
     "execution_count": 90,
     "metadata": {},
     "output_type": "execute_result"
    }
   ],
   "source": [
    "# checking for the record with Food & Beverages at the headquater column\n",
    "data_2021.loc[data_2021['HeadQuarter']=='Food & Beverages']"
   ]
  },
  {
   "cell_type": "markdown",
   "id": "2a38b654",
   "metadata": {},
   "source": [
    "This investigation also revealed a duplicated entry. The second entry with index 255 will be dropped and then the correction will be done"
   ]
  },
  {
   "cell_type": "markdown",
   "id": "923af4a2",
   "metadata": {},
   "source": [
    "<p style=\"font-size:20px ; font-weight: bold ; font-family: 'Times New Roman'; color: #00008B\">dropping the duplicate</p><br>"
   ]
  },
  {
   "cell_type": "code",
   "execution_count": 91,
   "id": "c87ddc88",
   "metadata": {},
   "outputs": [],
   "source": [
    "# dropping the duplicate with its index\n",
    "data_2021.drop(index=[255],axis=0, inplace=True)\n",
    "\n",
    "# correcting the wrong placement of the HeadQuarter and Sector values\n",
    "data_2021.loc[data_2021['Company/Brand']=='MasterChow',['HeadQuarter','Sector']]=['Hauz Khas', 'Catering']"
   ]
  },
  {
   "cell_type": "markdown",
   "id": "4433b733",
   "metadata": {},
   "source": [
    "<p style=\"font-size:20px ; font-weight: bold ; font-family: 'Times New Roman'; color: #00008B\">Checking for the record with Computer Games</p><br>"
   ]
  },
  {
   "cell_type": "code",
   "execution_count": 92,
   "id": "6b411301",
   "metadata": {},
   "outputs": [
    {
     "data": {
      "text/html": [
       "<div>\n",
       "<style scoped>\n",
       "    .dataframe tbody tr th:only-of-type {\n",
       "        vertical-align: middle;\n",
       "    }\n",
       "\n",
       "    .dataframe tbody tr th {\n",
       "        vertical-align: top;\n",
       "    }\n",
       "\n",
       "    .dataframe thead th {\n",
       "        text-align: right;\n",
       "    }\n",
       "</style>\n",
       "<table border=\"1\" class=\"dataframe\">\n",
       "  <thead>\n",
       "    <tr style=\"text-align: right;\">\n",
       "      <th></th>\n",
       "      <th>Company/Brand</th>\n",
       "      <th>Founded</th>\n",
       "      <th>HeadQuarter</th>\n",
       "      <th>Sector</th>\n",
       "      <th>What it does</th>\n",
       "      <th>Founders</th>\n",
       "      <th>Investor</th>\n",
       "      <th>Amount($)</th>\n",
       "      <th>Stage</th>\n",
       "    </tr>\n",
       "  </thead>\n",
       "  <tbody>\n",
       "    <tr>\n",
       "      <th>98</th>\n",
       "      <td>FanPlay</td>\n",
       "      <td>2020.0</td>\n",
       "      <td>Computer Games</td>\n",
       "      <td>Computer Games</td>\n",
       "      <td>A real money game app specializing in trivia g...</td>\n",
       "      <td>YC W21</td>\n",
       "      <td>Pritesh Kumar, Bharat Gupta</td>\n",
       "      <td>Upsparks</td>\n",
       "      <td>$1200000</td>\n",
       "    </tr>\n",
       "    <tr>\n",
       "      <th>111</th>\n",
       "      <td>FanPlay</td>\n",
       "      <td>2020.0</td>\n",
       "      <td>Computer Games</td>\n",
       "      <td>Computer Games</td>\n",
       "      <td>A real money game app specializing in trivia g...</td>\n",
       "      <td>YC W21</td>\n",
       "      <td>Pritesh Kumar, Bharat Gupta</td>\n",
       "      <td>Upsparks</td>\n",
       "      <td>$1200000</td>\n",
       "    </tr>\n",
       "  </tbody>\n",
       "</table>\n",
       "</div>"
      ],
      "text/plain": [
       "    Company/Brand  Founded     HeadQuarter          Sector  \\\n",
       "98        FanPlay   2020.0  Computer Games  Computer Games   \n",
       "111       FanPlay   2020.0  Computer Games  Computer Games   \n",
       "\n",
       "                                          What it does Founders  \\\n",
       "98   A real money game app specializing in trivia g...   YC W21   \n",
       "111  A real money game app specializing in trivia g...   YC W21   \n",
       "\n",
       "                        Investor Amount($)     Stage  \n",
       "98   Pritesh Kumar, Bharat Gupta  Upsparks  $1200000  \n",
       "111  Pritesh Kumar, Bharat Gupta  Upsparks  $1200000  "
      ]
     },
     "execution_count": 92,
     "metadata": {},
     "output_type": "execute_result"
    }
   ],
   "source": [
    "# checking for the record with Computer Games at the headquater column\n",
    "data_2021.loc[data_2021['HeadQuarter']=='Computer Games']"
   ]
  },
  {
   "cell_type": "markdown",
   "id": "1adaca63",
   "metadata": {},
   "source": [
    "This investigation also revealed a duplicated entry. The second entry with index 111 will be dropped and then the correction will be done. \n",
    "\n",
    "It also revealed that the amount and stage column has been interchanged. "
   ]
  },
  {
   "cell_type": "markdown",
   "id": "d0245149",
   "metadata": {},
   "source": [
    "<p style=\"font-size:20px ; font-weight: bold ; font-family: 'Times New Roman'; color: #00008B\">Dropping the duplicate </p><br>"
   ]
  },
  {
   "cell_type": "code",
   "execution_count": 93,
   "id": "0d63297a",
   "metadata": {},
   "outputs": [],
   "source": [
    "# dropping the duplicate with its index\n",
    "data_2021.drop(index=[111],axis=0, inplace=True)\n",
    "\n",
    "# correcting the wrong placement of the HeadQuarter and Sector values\n",
    "data_2021.loc[data_2021['Company/Brand']=='FanPlay',['HeadQuarter','Sector','Stage','Amount($)']]=['New York', 'Gaming','Unknown',1200000]"
   ]
  },
  {
   "cell_type": "markdown",
   "id": "facc8da7",
   "metadata": {},
   "source": [
    "<p style=\"font-size:20px ; font-weight: bold ; font-family: 'Times New Roman'; color: #00008B\">Checking for the record with Pharmaceuticals\\t#REF!</p><br>"
   ]
  },
  {
   "cell_type": "code",
   "execution_count": 94,
   "id": "f30d3d9b",
   "metadata": {},
   "outputs": [
    {
     "data": {
      "text/html": [
       "<div>\n",
       "<style scoped>\n",
       "    .dataframe tbody tr th:only-of-type {\n",
       "        vertical-align: middle;\n",
       "    }\n",
       "\n",
       "    .dataframe tbody tr th {\n",
       "        vertical-align: top;\n",
       "    }\n",
       "\n",
       "    .dataframe thead th {\n",
       "        text-align: right;\n",
       "    }\n",
       "</style>\n",
       "<table border=\"1\" class=\"dataframe\">\n",
       "  <thead>\n",
       "    <tr style=\"text-align: right;\">\n",
       "      <th></th>\n",
       "      <th>Company/Brand</th>\n",
       "      <th>Founded</th>\n",
       "      <th>HeadQuarter</th>\n",
       "      <th>Sector</th>\n",
       "      <th>What it does</th>\n",
       "      <th>Founders</th>\n",
       "      <th>Investor</th>\n",
       "      <th>Amount($)</th>\n",
       "      <th>Stage</th>\n",
       "    </tr>\n",
       "  </thead>\n",
       "  <tbody>\n",
       "    <tr>\n",
       "      <th>242</th>\n",
       "      <td>Fullife Healthcare</td>\n",
       "      <td>2009.0</td>\n",
       "      <td>Pharmaceuticals\\t#REF!</td>\n",
       "      <td>Primary Business is Development and Manufactur...</td>\n",
       "      <td>Varun Khanna</td>\n",
       "      <td>Morgan Stanley Private Equity Asia</td>\n",
       "      <td>$22000000</td>\n",
       "      <td>Series C</td>\n",
       "      <td>NaN</td>\n",
       "    </tr>\n",
       "    <tr>\n",
       "      <th>256</th>\n",
       "      <td>Fullife Healthcare</td>\n",
       "      <td>2009.0</td>\n",
       "      <td>Pharmaceuticals\\t#REF!</td>\n",
       "      <td>Primary Business is Development and Manufactur...</td>\n",
       "      <td>Varun Khanna</td>\n",
       "      <td>Morgan Stanley Private Equity Asia</td>\n",
       "      <td>$22000000</td>\n",
       "      <td>Series C</td>\n",
       "      <td>NaN</td>\n",
       "    </tr>\n",
       "  </tbody>\n",
       "</table>\n",
       "</div>"
      ],
      "text/plain": [
       "          Company/Brand  Founded             HeadQuarter  \\\n",
       "242  Fullife Healthcare   2009.0  Pharmaceuticals\\t#REF!   \n",
       "256  Fullife Healthcare   2009.0  Pharmaceuticals\\t#REF!   \n",
       "\n",
       "                                                Sector  What it does  \\\n",
       "242  Primary Business is Development and Manufactur...  Varun Khanna   \n",
       "256  Primary Business is Development and Manufactur...  Varun Khanna   \n",
       "\n",
       "                               Founders   Investor Amount($) Stage  \n",
       "242  Morgan Stanley Private Equity Asia  $22000000  Series C   NaN  \n",
       "256  Morgan Stanley Private Equity Asia  $22000000  Series C   NaN  "
      ]
     },
     "execution_count": 94,
     "metadata": {},
     "output_type": "execute_result"
    }
   ],
   "source": [
    "# checking for the record with Pharmaceuticals\\t#REF! at the headquater column\n",
    "data_2021.loc[data_2021['HeadQuarter']=='Pharmaceuticals\\t#REF!']"
   ]
  },
  {
   "cell_type": "markdown",
   "id": "80a85a37",
   "metadata": {},
   "source": [
    "This investigation also revealed a duplicated entry. The second entry with index 256 will be dropped and then the correction will be done"
   ]
  },
  {
   "cell_type": "markdown",
   "id": "0ed0933e",
   "metadata": {},
   "source": [
    "<p style=\"font-size:20px ; font-weight: bold ; font-family: 'Times New Roman'; color: #00008B\">Dropping the duplicate </p><br>"
   ]
  },
  {
   "cell_type": "code",
   "execution_count": 95,
   "id": "5742d435",
   "metadata": {},
   "outputs": [],
   "source": [
    "# dropping the duplicate with its index\n",
    "data_2021.drop(index=[256],axis=0, inplace=True)\n",
    "\n",
    "# correcting the wrong placement of the HeadQuarter and Sector values\n",
    "data_2021.loc[data_2021['Company/Brand']=='Fullife Healthcare',['HeadQuarter','Sector']]=['Unknown', 'Healthcare']"
   ]
  },
  {
   "cell_type": "markdown",
   "id": "230c8dc8",
   "metadata": {},
   "source": [
    "<p style=\"font-size:20px ; font-weight: bold ; font-family: 'Times New Roman'; color: #00008B\">Replacing HeadQuarter with cleaned City name</p><br>"
   ]
  },
  {
   "cell_type": "code",
   "execution_count": 96,
   "id": "9e5793ab",
   "metadata": {},
   "outputs": [],
   "source": [
    "#Replacing HeadQuarter with cleaned City name\n",
    "data_2021.replace({'HeadQuarter':{'New Delhi':'Delhi','Small Towns, Andhra Pradesh':'Andhra Pradesh',\n",
    "                                 'Thiruvananthapuram':'Trivandrum','Mountain View, CA':'Mountain View',\n",
    "                                 'Mangalore':'Bengaluru','Bangalore':'Bengaluru'}}, inplace=True)"
   ]
  },
  {
   "cell_type": "markdown",
   "id": "0a9d5c5e",
   "metadata": {},
   "source": [
    "<br><p style=\"font-size:20px ; font-weight: bold ; font-family: 'Times New Roman'; color: #00008B\">Cleaning the Sector Column</p><br>"
   ]
  },
  {
   "cell_type": "code",
   "execution_count": 97,
   "id": "55d5286b",
   "metadata": {},
   "outputs": [
    {
     "data": {
      "text/plain": [
       "array(['AI startup', 'EdTech', 'B2B E-commerce', 'FinTech',\n",
       "       'Home services', 'HealthTech', 'Tech Startup', 'E-commerce',\n",
       "       'B2B service', 'Helathcare', 'Renewable Energy', 'Electronics',\n",
       "       'IT startup', 'Food & Beverages', 'Aeorspace', 'Deep Tech',\n",
       "       'Dating', 'Gaming', 'Robotics', 'Retail', 'Food', 'Oil and Energy',\n",
       "       'AgriTech', 'Telecommuncation', 'Milk startup', 'AI Chatbot', 'IT',\n",
       "       'Logistics', 'Hospitality', 'Fashion', 'Marketing',\n",
       "       'Transportation', 'LegalTech', 'Food delivery', 'Automotive',\n",
       "       'SaaS startup', 'Fantasy sports', 'Video communication',\n",
       "       'Social Media', 'Skill development', 'Rental', 'Recruitment',\n",
       "       'HealthCare', 'Sports', 'Computer Games', 'Consumer Goods',\n",
       "       'Information Technology', 'Apparel & Fashion',\n",
       "       'Logistics & Supply Chain', 'Healthtech', 'Healthcare',\n",
       "       'SportsTech', 'HRTech', 'Wine & Spirits',\n",
       "       'Mechanical & Industrial Engineering', 'Spiritual',\n",
       "       'Financial Services', 'Industrial Automation', 'Health',\n",
       "       'Lifestyle', 'IoT', 'Banking', 'Computer software', 'Tech startup',\n",
       "       'Digital mortgage', 'Information Technology & Services',\n",
       "       'Furniture', 'B2B marketplace', 'Healtcare', 'Location Analytics',\n",
       "       'Media', 'Consumer Electronics', 'Tobacco', 'Deeptech',\n",
       "       'Insuretech', 'MLOps platform', 'Venture Capital', 'Pet care',\n",
       "       'Drone', 'Wholesale', 'Construction', 'E-learning',\n",
       "       'Consumer Services', 'Venture Capital & Private Equity',\n",
       "       'Health, Wellness & Fitness', 'OTT', 'Education Management',\n",
       "       'Computer Software', 'Insurance', 'Software Startup',\n",
       "       'Computer & Network Security', 'Capital Markets', 'Social network',\n",
       "       'Hospital & Health Care', 'Music', 'Catering', 'Cosmetics',\n",
       "       'Mobility', 'Social media', 'Real Estate', 'Digital platform',\n",
       "       'B2B Ecommerce', 'Online Media', 'Social commerce', 'Mobile Games',\n",
       "       'Food Production', 'Podcast', 'HeathTech', 'Battery',\n",
       "       'Content publishing', 'Water purification', 'Content commerce',\n",
       "       'Innovation Management', 'Software company', 'Automation',\n",
       "       'Food Industry', 'Celebrity Engagement', 'Trading platform',\n",
       "       'Personal Care', 'Cannabis startup', 'Blogging', 'Consulting',\n",
       "       'BioTechnology', 'B2B Marketplace', 'Health care', 'Social audio',\n",
       "       'Fashion and lifestyle', 'Delivery service', 'B2B Manufacturing',\n",
       "       'Home Decor', 'Solar', 'TaaS startup', 'EV startup', 'HR Tech',\n",
       "       'Blockchain startup', 'Food and Beverages', 'Beverages',\n",
       "       'Manufacturing startup', 'Cryptocurrency',\n",
       "       'Vehicle repair startup', 'Advisory firm', 'Legaltech',\n",
       "       'Pollution control equiptment', 'Fashion & Lifestyle',\n",
       "       'Blockchain', 'Fitness', 'D2C', 'Automobile',\n",
       "       'Environmental Services', 'Merchandise', 'Facilities Services',\n",
       "       'Marketing & Advertising', 'Human Resources', 'Eyewear',\n",
       "       'D2C Business', 'Biotechnology', 'Farming', 'NFT Marketplace',\n",
       "       'Internet', 'SpaceTech', 'Consumer software', 'Social community',\n",
       "       'Fishery', 'Renewables & Environment', 'Online storytelling',\n",
       "       'Aviation', 'IT company', 'Environmental service',\n",
       "       'Job discovery platform', 'D2C Fashion', 'Heathcare', 'CRM',\n",
       "       'Software', 'Nutrition', 'D2C startup', 'Innovation management',\n",
       "       'Community platform', 'Venture capitalist', 'Networking',\n",
       "       'Commercial Real Estate', 'AR startup', 'Consumer service',\n",
       "       'Consumer goods', 'MarTech', 'Advertisement', 'Content creation',\n",
       "       'Augmented reality', 'Rental space', 'Bike Rental',\n",
       "       'Beauty products', 'Tourism', 'FemTech', 'Cultural', 'Co-working',\n",
       "       'InsureTech', 'Supply chain platform', 'Social platform',\n",
       "       'CleanTech', 'Real estate', 'AI company', 'Sports startup',\n",
       "       'Matrimony', 'Crypto', 'Clothing', 'Analytics', 'Finance',\n",
       "       'IoT platform', 'Commerce', 'Defense & Space', 'Entertainment',\n",
       "       'Business Supplies & Equipment', 'NFT', 'Oil & Energy', 'EV',\n",
       "       'Company-as-a-Service', 'Textiles',\n",
       "       'Professional Training & Coaching', 'Maritime',\n",
       "       'Housing Marketplace', 'Furniture Rental', 'Telecommunications',\n",
       "       'Equity Management', 'Cloud kitchen', 'Nanotechnology',\n",
       "       'Community', 'Higher Education', 'B2B',\n",
       "       'Mechanical Or Industrial Engineering', 'D2C jewellery',\n",
       "       'Sales and Distribution', 'SaaS', 'Information Services',\n",
       "       'Translation & Localization', 'Investment Banking', 'Femtech',\n",
       "       'sports', 'Foootwear', 'Legal Services', 'Veterinary',\n",
       "       'Arts & Crafts', 'Investment Management', 'Education',\n",
       "       'Management Consulting', 'B2B startup', 'Media and Entertainment',\n",
       "       'Design', 'B2B Travel', 'Interior Design', 'Product studio',\n",
       "       'Aviation & Aerospace', 'Staffing & Recruiting'], dtype=object)"
      ]
     },
     "execution_count": 97,
     "metadata": {},
     "output_type": "execute_result"
    }
   ],
   "source": [
    "data_2021['Sector'].unique()"
   ]
  },
  {
   "cell_type": "markdown",
   "id": "ed3e84db",
   "metadata": {},
   "source": [
    "<p style=\"font-size:20px ; font-weight: bold ; font-family: 'Times New Roman'; color: #00008B\">Rename similar sectors with wrong or different spelling </p><br>"
   ]
  },
  {
   "cell_type": "code",
   "execution_count": 98,
   "id": "2df64bac",
   "metadata": {},
   "outputs": [],
   "source": [
    "#rename similar sectors with wrong or different spelling to make it consistent\n",
    "data_2021.replace({'Sector':{'Ecommerce':'E-Commerce','Edtech':'EdTech','Interior design':'Home Decor','Virtual Banking':'Financial Services',\n",
    "                           'AgriTech':'AgTech','E-commerce & AR':'E-Commerce','Fintech':'FinTech','Infratech':'IT','B2B Supply Chain':'E-Commerce',\n",
    "                           'Marketing & Customer loyalty':'Customer Service','Automobile & Technology':'Automotive','Transport & Rentals':'Transportation',\n",
    "                           'HR tech':'Human Resources','AI & Tech':'AI','E-commerce':'E-Commerce','Travel':'Transportation','Health Care':'Healthcare',\n",
    "                           'Commercial Real Estate':'Real Estate','Cooking':'Catering','Fantasy Sports':'Sports','Consumer':'Consumer Goods',\n",
    "                           'Healthtech':'Healthcare','E-Sports':'Sports','Mutual Funds':'Finance','Legal tech':'Legal','Accomodation':'Real Estate',\n",
    "                           'Consumer Lending':'Consumer Goods','Credit':'Credit Cards','Business Travel':'Transportation','Hospital':'Healthcare',\n",
    "                           'Automobile':'Automotive','Alternative Medicine':'Healthcare','Renewable Energy':'Energy','Clean Energy':'Energy','Music':'Music Streaming',\n",
    "                           'Health Diagnostics':'Healthcare','Medical':'Healthcare','Enterprise Software':'ERP','Enterprise Resource Planning (ERP)':'ERP',\n",
    "                           'Audio':'Music Streaming','Air Transportation':'Aerospace','Yoga & wellness':'Fitness','Beauty':'Cosmetics','Big Data':'Analytics',\n",
    "                           'Food and Beverage':'Catering','Wealth Management':'Finance','Social Media':'Digital Media','Broadcasting':'Media and Entertainment',\n",
    "                           'News':'Media and Entertainment','Packaging Services':'Logistics','Mobile':'Mobile Phones','Medical Device':'Healthcare',\n",
    "                           'Continuing Education':'Education','Dental':'Healthcare','Android':'Software','Banking':'Financial Services','Training':'Education',\n",
    "                           'Digital Marketing':'Advertising','Marketplace':'Advertising','Consumer Electronics':'Consumer Goods','Rental':'Facilities Support Services',\n",
    "                           'Retail':'Business Development','3D Printing':'Creative Agency','Electric Vehicle':'Automotive','Industrial Automation':'Manufacturing',\n",
    "                           'Battery':'Energy','Reading Apps':'Apps','B2B':'E-Commerce','Communities':'Environmental Consulting','Smart Cities':'Environmental Consulting',\n",
    "                           'Health Insurance':'Insurance','Commercial':'Business Development','Digital Entertainment':'Digital Media','Food & tech':'Catering',\n",
    "                           'Cloud Infrastructure':'Cloud Computing','Marketing':'Advertising','Events':'Creative Agency','Food tech':'Catering',\n",
    "                           'Artificial Intelligence':'AI','Business Intelligence':'ERP','Information Services':'IT','Information Technology':'IT',\n",
    "                           'E-Learning':'Education','Tourism':'Hospitality','Industrial':'Manufacturing','Internet':'IT','Internet of Things':'IoT',\n",
    "                           'Jewellery':'Fashion','Food & Nutrition':'Healthcare','Robotics & AI':'AI', 'E-marketplace':'E-Commerce','Foodtech':'Catering',\n",
    "                           'Insurance technology':'Insurance','Pharmaceutical':'Healthcare','Safety tech':'Cybersecurity',\"Fashion startup\":'Fashion',\n",
    "                             'Deisgning':'Creative Agency','Pharmacy':'Healthcare','Consultancy':'Creative Agency','Tech hub':'IT','E-connect':'Digital Media',\n",
    "                             'B2B Agritech':'AgTech','Food diet':'Healthcare','Preschool Daycare':'Child Care','AI Robotics':'AI','SaaS/Edtech':'Saas',\n",
    "                             'Transport & Rentals':'Transportation','Transport Automation':'Transportation','Neo-banking':'inancial Services',\n",
    "                             'Ad-tech':'Advertising','E-mobility':'Mobile Payment','E tailor':'E-Commerce','Estore':'E-Commerce','Housing & Rentals':'Real Estate',\n",
    "                             'AI & Deep learning':'AI','Sales & Services':'Business Development','VR & SaaS':'Saas','Hygiene':'CleanTech','Cleantech':'CleanTech',\n",
    "                             'Visual Media':'Media and Entertainment','Content Marktplace':'Advertising','Machine Learning':'AI','AI & Media':'AI',\n",
    "                             'E-tail':'E-Commerce','Automotive and Rentals':'Automotive','ravel tech':'Transportation','AI & Data science':'AI',\n",
    "                             'Finance company':'Finance','Tech company':'IT','Solar Monitoring Company':'Energy','Video sharing platform':'Media and Entertainment',\n",
    "                             'Gaming startup':'Gaming','Video streaming platform':'Media and Entertainment','Consumer appliances':'Consumer Goods',\n",
    "                             'Blockchain startup':'Blockchain','Conversational AI platform':'AI','SaaS platform':'Saas','AI platform':'AI',\n",
    "                             'Escrow':'Legal','Networking platform':'IT','Spacetech':'Aerospace','Trading platform':'E-Commerce','AI Company':'AI',\n",
    "                             'Photonics startup':'Media and Entertainment','Entertainment':'Media and Entertainment','Scanning app':'Apps',\n",
    "                             'Skincare startup':'Cosmetics','Food and Beverages':'Catering','FoodTech':'Catering','Biotechnology company':'Environmental Consulting',\n",
    "                             'Proptech':'Facilities Support Services','Fitness startup':'Fitness','PaaS startup':'Saas','Beverages':'Catering',\n",
    "                             'Automobiles':'Automotive','Deeptech':'AI','EV startup':'Environmental Consulting','AR/VR startup':'IT','Recruitment startup':'Human Resources',\n",
    "                             'inancial Services':'Financial Services','Tourism & EV':'Hospitality','QSR startup':'Customer Service','Video platform':'Media and Entertainment',\n",
    "                             'Fusion beverages':'Catering','Job portal':'Human Resources','Dairy startup':'Catering','Content management':'Creative Agency',\n",
    "                             'Work fulfillment':'Human Resources','HR Tech':'Human Resources','Software Company':'Software','Soil-Tech':'Agriculture',\n",
    "                             'Travel & SaaS':'Transportation','Hygiene management':'CleanTech','Food & Bevarages':'Catering','Food Delivery':'Catering',\n",
    "                             'Virtual auditing startup':'FinTech','HealthTech':'Healthcare','AI startup':'AI','Tech Startup':'IT','Medtech':'Healthcare',\n",
    "                             'Tyre management':'Automotive','Cloud company':'Cloud Computing','Software company':'Software','Venture capitalist':'Finance',\n",
    "                             'Renewable player':'Energy','IoT startup':'IoT','SaaS startup':'Saas','Aero company':'Aerospace','Marketing company':'Advertising',\n",
    "                             'Retail startup':'Business Development','Co-working Startup':'Human Resources','—':'Unknown','Brand Marketing':'Advertising',\n",
    "                             'Fertility tech':'Healthcare','Luxury car startup':'Automotive','FM':'Media and Entertainment','Food':'Catering',\n",
    "                             'Nutrition sector':'Healthcare','Tech platform':'IT','Video':'Media and Entertainment','Retail Tech':'Business Development',\n",
    "                             'HeathTech':'Healthcare','Sles and marketing':'Advertising','LegalTech':'Legal','Car Service':'Automotive',\n",
    "                             'Bike marketplace':'Automotive','Agri tech':'AgTech','Reatil startup':'Business Development','AR platform':'IT',\n",
    "                             'Content marketplace':'Creative Agency','Interior Design':'Home Decor','Home Design':'Home Decor','InsureTech':'Insurance',\n",
    "                             'Rental space':'Facilities Support Services','Ayurveda tech':'IT','Packaging solution startup':'Logistics',\n",
    "                             'Sanitation solutions':'CleanTech','HealthCare':'Healthcare','AI Startup':'AI','Solar solution':'Energy','Tech':'IT',\n",
    "                             'Jewellery startup':'Fashion','Multinational conglomerate company':'Business Development','Deeptech startup':'AI',\n",
    "                             'Social Network':'Digital Media','Publication':'Creative Agency','Venture capital':'Finance','Entreprenurship':'Business Development',\n",
    "                             'E-market':'E-Commerce','Media & Networking':'Media and Entertainment','Automation tech':'Automotive','eMobility':'Mobile Payment',\n",
    "                             'Food devlivery':'Catering','Warehouse':'Facilities Support Services','Online financial service':'FinTech',\n",
    "                             'Eyeglasses':'Healthcare','Battery design':'Energy','Online credit management startup':'FinTech','Beverage':'Catering',\n",
    "                             'TravelTech':'Transportation','Startup laboratory':'Business Development','Personal care startup':'Fitness',\n",
    "                             'Customer service company':'Customer Service','SaaS\\xa0\\xa0startup':'Saas','Marketing startup':'Advertising',\n",
    "                             'Service industry':'Human Resources','Social media':'Digital Media','R startup':'IT','HR Tech startup':'Human Resources',\n",
    "                             'AR startup':'IT','Automotive Startup':'Automotive','Food Startup':'Catering','EdTech Startup':'Education',\n",
    "                             'Car Trade':'Automotive','EdtTech':'Education','AI Platform':'AI','Automation':'Automotive','Solar SaaS':'Saas',\n",
    "                             'WL & RAC protection':'Environmental Consulting','Social commerce':'E-Commerce','Home interior services':'Home Decor',\n",
    "                             'Agritech startup':'AgTech','API platform':'Software','Deep Tech':'AI','Electricity':'Energy','Automotive company':'Automotive',\n",
    "                             'FMCG':'Legal','Insurance Tech':'Insurance','Video personalization':'Media and Entertainment','Biomaterial startup':'Manufacturing',\n",
    "                             'Health':'Healthcare','Craft Beer':'Creative Agency','Investment':'Finance','Linguistic Spiritual':'Education',\n",
    "                             'Battery manufacturer':'Energy','Nano Distribution Network':'IT','AI health':'AI','Dating app':'Dating',\n",
    "                             'Media':'Media and Entertainment','Healthcare/Edtech':'Healthcare','Social Commerce':'E-Commerce','Agritech/Commerce':'AgTech',\n",
    "                             'Mobility tech':'Mobile Phones','Social e-commerce':'E-Commerce','Food & Logistics':'Logistics','SpaceTech':'Aerospace',\n",
    "                             'Nutrition Tech':'Healthcare','HR':'Human Resources','nan':'Unknown','Agritech':'AgTech','AR/VR':'IT',\n",
    "                             'Appliance':'Consumer Goods','Mental Health':'Healthcare','Solar Solution':'Energy','Saas':'SaaS','B2B marketplace':'E-Commerce',\n",
    "                             'Fashion Tech':'Fashion','Nutrition tech':'Healthcare','Health & Wellness':'Fitness','Cloud Kitchen':'Cloud Computing',\n",
    "                             'IoT/Automobile':'IoT','Eye Wear':'Healthcare','Digital tech':'IT','Data Intelligence':'ERP','Co-living':'Human Resources',\n",
    "                             'Food & Beverages':'Catering','Defense tech':'Cybersecurity','Construction tech':'Construction','Nutrition':'Healthcare',\n",
    "                             'Coworking':'Human Resources','Micro-mobiity':'Mobile Phones','Auto-tech':'Automotive','Robotics':'AI','Logitech':'IT',\n",
    "                             'Med Tech':'Healthcare','Life sciences':'Healthcare','Retail Aggregator':'Business Development','Deep Tech AI':'AI',\n",
    "                             'Biotech':'Environmental Consulting','HrTech':'Human Resources','AI & Debt':'AI','Transport':'Transportation',\n",
    "                             'Co-working':'Human Resources','Insurtech':'Insurance','Automotive tech':'Automotive','EV':'Environmental Consulting',\n",
    "                             'Supply chain, Agritech':'Logistics','Pharma':'Healthcare','Foodtech & Logistics':'Logistics','Housing':'Real Estate',\n",
    "                             'Data Analytics':'ERP','Investment Tech':'Finance','Biopharma':'Healthcare','Dairy':'Catering','Beauty & wellness':'Fitness',\n",
    "                             'Media Tech':'Media and Entertainment','E store':'E-Commerce','Data Science':'ERP','Travel tech':'Transportation',\n",
    "                             'Techonology':'IT','Taxation':'Accounting','Automobile Technology':'Automotive','Food Industry':'Catering','inancial Services':'Financial Services',\n",
    "                             'Interior & decor':'Home Decor','Health and Fitness':'Fitness','Location Analytics':'ERP','Mobility/Transport':'Transportation',\n",
    "                           'Technology':'IT','Farming':'Agriculture','Food Processing':'Catering','Collaboration':'Human Resources','Computer':'IT','Career Planning':'Human Resources',\n",
    "                           'Wedding':'Customer Service','Games':'Gaming','EdTech':'Education','B2B E-commerce':'E-Commerce','Home services':'Home Decor',\n",
    "                            'B2B service':'E-Commerce','Electronics':'Automotive','IT startup':'IT','Oil and Energy':'Energy','Milk startup':'Catering',\n",
    "                            'AI Chatbot':'AI','Food delivery':'Catering','Fantasy sports':'Sports','Video communication':'Media and Entertainment',\n",
    "                            'Skill development':'Education','Recruitment':'Human Resources','Computer Games':'Gaming','Apparel & Fashion':'Fashion',\n",
    "                            'Logistics & Supply Chain':'Logistics','SportsTech':'Sports','HRTech':'Human Resources','Wine & Spirits':'Catering',\n",
    "                            '-Commerce':'E-Commerce','Mechanical & Industrial Engineering':'Manufacturing','Lifestyle':'Fitness','Computer software':'Software',\n",
    "                            'Tech startup':'IT','Digital mortgage':'FinTech','Information Technology & Services':'IT','Furniture':'Home Decor',\n",
    "                            'Tobacco':'Consumer Goods','Insuretech':'Insurance','MLOps platform':'FinTech','Venture Capital':'Finance','Pet care':'Veterinary',\n",
    "                            'Drone':'Aeorspace','Wholesale':'Business Development','Spiritual':'Education','E-learning':'Education',\n",
    "                            'Consumer Services':'Customer Service','Venture Capital & Private Equity':'Finance','Health':'Helathcare',\n",
    "                             'Health, Wellness & Fitness':'Fitness','Education Management':'Education','Computer Software':'Software',\n",
    "                             'Software Startup':'Software','Digital platform':'Digital Media','B2B Ecommerce':'E-Commerce',\n",
    "                             'Online Media':'Media and Entertainment','Mobile Games':'Gaming','Food Production':'Catering',\n",
    "                             'Podcast':'Media and Entertainment','Content publishing':'Creative Agency','Water purification':'Environmental Consulting',\n",
    "                             'Content commerce':'Creative Agency','Innovation Management':'Creative Agency','Celebrity Engagement':'Media and Entertainment',\n",
    "                             'Personal Care':'Consumer Goods','Cannabis startup':'Consumer Goods','Blogging':'Media and Entertainment',\n",
    "                             'BioTechnology':'Environmental Consulting','B2B Marketplace':'E-Commerce','Health care':'Helathcare',\n",
    "                             'Social audio':'Media and Entertainment','Fashion and lifestyle':'Fashion','Delivery service':'Logistics',\n",
    "                            'Computer & Network Security':'IT','OTT':'IT','Capital Markets':'Finance','Social network':'Digital Media',\n",
    "                             'Hospital & Health Care':'Helathcare','Music Streaming':'Media and Entertainment','Mobility':'Mobile Phones',\n",
    "                             'Digital platform':'Digital Media','B2B Manufacturing':'Manufacturing','Solar':'Energy','TaaS startup':'SaaS',\n",
    "                            'Manufacturing startup':'Manufacturing','Vehicle repair startup':'Automotive','Advisory firm':'Legal',\n",
    "                            'Legaltech':'Legal','Pollution control equiptment':'Environmental Consulting','Fashion & Lifestyle':'Fashion',\n",
    "                            'D2C':'E-Commerce','Environmental Services':'Environmental Consulting','Merchandise':'Business Development',\n",
    "                            'Facilities Services':'Facilities Support Services','Marketing & Advertising':'Advertising',\n",
    "                            'Eyewear':'Helathcare','Healtcare':'Helathcare','D2C Business':'E-Commerce',\n",
    "                            'Biotechnology':'Environmental Consulting','NFT Marketplace':'E-Commerce','Aeorspace':'Aerospace',\n",
    "                            'Consumer software':'Consumer Goods','Social community':'Digital Media','Fishery':'Agriculture',\n",
    "                             'Renewables & Environment':'Energy','Online storytelling':'Media and Entertainment','Aviation':'Aerospace',\n",
    "                            'IT company':'IT','Environmental service':'Environmental Consulting','Job discovery platform':'Human Resources',\n",
    "                            'D2C Fashion':'Fashion','Heathcare':'Helathcare','CRM':'ERP','D2C startup':'E-Commerce',\n",
    "                            'Innovation management':'Creative Agency','Community platform':'Digital Media',\n",
    "                            'Networking':'IT','Consumer service':'Customer Service','Consumer goods':'Consumer Goods',\n",
    "                            'MarTech':'Manufacturing','Content creation':'Creative Agency','Augmented reality':'IT',\n",
    "                           'Crypto':'Cryptocurrency','Bike Rental':'Automotive','Beauty products':'Cosmetics',\n",
    "                             'FemTech':'Agriculture','Supply chain platform':'Logistics','Social platform':'Digital Media',\n",
    "                            'AI company':'AI','Sports startup':'Sports','Clothing':'Fashion','Analytics':'ERP',\n",
    "                            'IoT platform':'IoT','Commerce':'E-Commerce','Matrimony':'Cultural',\n",
    "                             'Defense & Space':'Cybersecurity','Business Supplies & Equipment':'Business Development',\n",
    "                            'NFT':'IT','Oil & Energy':'Energy','Company-as-a-Service':'SaaS','Textiles':'Fashion',\n",
    "                            'Professional Training & Coaching':'Education','Housing Marketplace':'Real Estate',\n",
    "                            'Real estate':'Real Estate','Furniture Rental':'Home Decor','Equity Management':'Finance',\n",
    "                           'Cloud kitchen':'Cloud Computing','Community':'Cultural','Higher Education':'Education',\n",
    "                            'Mechanical Or Industrial Engineering':'Manufacturing','D2C jewellery':'Fashion','Helathcare':'Healthcare',\n",
    "                            'Sales and Distribution':'Business Development','Translation & Localization':'Cultural',\n",
    "                            'Investment Banking':'Finance','Femtech':'Agriculture','sports':'Sports',\n",
    "                            'Foootwear':'Fashion','Legal Services':'Legal','Arts & Crafts':'Creative Agency',\n",
    "                            'Investment Management':'Finance','Management Consulting':'Human Resources',\n",
    "                             'B2B startup':'E-Commerce','Telecommunications':'Telecommuncation','Product studio':'Media and Entertainment',\n",
    "                             'Aviation & Aerospace':'Aerospace','Staffing & Recruiting':'Human Resources',\n",
    "                            'Design':'Home Decor','B2B Travel':'Transportation'}}, inplace=True)"
   ]
  },
  {
   "cell_type": "code",
   "execution_count": 99,
   "id": "19952c67",
   "metadata": {},
   "outputs": [
    {
     "data": {
      "text/plain": [
       "array(['AI', 'Education', 'E-Commerce', 'FinTech', 'Home Decor',\n",
       "       'Healthcare', 'IT', 'Energy', 'Automotive', 'Catering',\n",
       "       'Aerospace', 'Dating', 'Gaming', 'Business Development', 'AgTech',\n",
       "       'Telecommuncation', 'Logistics', 'Hospitality', 'Fashion',\n",
       "       'Advertising', 'Transportation', 'Legal', 'Saas', 'Sports',\n",
       "       'Media and Entertainment', 'Digital Media',\n",
       "       'Facilities Support Services', 'Human Resources', 'Consumer Goods',\n",
       "       'Manufacturing', 'Financial Services', 'Helathcare', 'Fitness',\n",
       "       'IoT', 'Software', 'ERP', 'Insurance', 'Finance', 'Veterinary',\n",
       "       'Aeorspace', 'Construction', 'Customer Service', 'Music Streaming',\n",
       "       'Cosmetics', 'Mobile Phones', 'Real Estate', 'Creative Agency',\n",
       "       'Environmental Consulting', 'Consulting', 'SaaS', 'Blockchain',\n",
       "       'Cryptocurrency', 'Agriculture', 'Advertisement', 'Cultural',\n",
       "       'CleanTech', 'Cybersecurity', 'Maritime', 'Cloud Computing',\n",
       "       'Nanotechnology'], dtype=object)"
      ]
     },
     "execution_count": 99,
     "metadata": {},
     "output_type": "execute_result"
    }
   ],
   "source": [
    "data_2021['Sector'].unique()"
   ]
  },
  {
   "cell_type": "markdown",
   "id": "29c3cb08",
   "metadata": {},
   "source": [
    "<br><p style=\"font-size:20px ; font-weight: bold ; font-family: 'Times New Roman'; color: #00008B\">replacing nan with unknown</p><br>"
   ]
  },
  {
   "cell_type": "code",
   "execution_count": 100,
   "id": "86bae2e2",
   "metadata": {},
   "outputs": [],
   "source": [
    "# replacing nan with unknown\n",
    "data_2021['Sector']=data_2021['Sector'].fillna('Unknown')"
   ]
  },
  {
   "cell_type": "markdown",
   "id": "a20ae897",
   "metadata": {},
   "source": [
    "<br><p style=\"font-size:20px ; font-weight: bold ; font-family: 'Times New Roman'; color: #00008B\">Cleaning the Stage Column</p><br>"
   ]
  },
  {
   "cell_type": "code",
   "execution_count": 101,
   "id": "7b2b771a",
   "metadata": {},
   "outputs": [
    {
     "data": {
      "text/plain": [
       "array(['Pre-series A', nan, 'Series D', 'Series C', 'Seed', 'Series B',\n",
       "       'Series E', 'Pre-seed', 'Series A', 'Pre-series B', 'Debt',\n",
       "       'Unknown', 'Bridge', 'Seed+', 'Series F2', 'Series A+', 'Series G',\n",
       "       'Series F', 'Series H', 'Series B3', 'PE', 'Series F1',\n",
       "       'Pre-series A1', '$300000', 'Early seed', 'Series D1', '$6000000',\n",
       "       '$1000000', 'Seies A', 'Pre-series', 'Series A2', 'Series I'],\n",
       "      dtype=object)"
      ]
     },
     "execution_count": 101,
     "metadata": {},
     "output_type": "execute_result"
    }
   ],
   "source": [
    "data_2021['Stage'].unique()"
   ]
  },
  {
   "cell_type": "markdown",
   "id": "053e90c7",
   "metadata": {},
   "source": [
    "<p style=\"font-size:20px ; font-weight: bold ; font-family: 'Times New Roman'; color: #00008B\">Rename similar Stage with wrong or different spelling </p><br>"
   ]
  },
  {
   "cell_type": "code",
   "execution_count": 102,
   "id": "d5be2cea",
   "metadata": {},
   "outputs": [],
   "source": [
    "# Rename similar Stage with wrong or different spelling\n",
    "data_2021.replace({'Stage':{'Pre-Seed':'Seed','Pre-series A':'Series A','Pre-series':'Seed','Pre-series C':'Series C',\n",
    "                            'Pre-Series B':'Series B','Series A-1':'Series A','Seed Funding':'Seed','Seed round':'Seed',\n",
    "                            'Pre-seed Round':'Seed','Pre seed Round':'Seed','Series A2':'Series A','Seies A':'Series A',\n",
    "                            'Pre Series A':'Series A','Angel Round':'Angel','Pre series A1':'Series A','Pre-series A1':'Series A',\n",
    "                            'Pre series A':'Series A','Seed Round':'Seed','Bridge Round':'Seed','Bridge':'Seed','Series F2':'Series F',\n",
    "                            'Edge':'Seed','Pre seed round':'Seed','Series B3':'Series B','Pre series C':'Series C',\n",
    "                            'Series A+':'Series A','Series D1':'Series D','Early seed':'Seed','Series C, D':'Series C',\n",
    "                           'Pre-series B':'Series B','Series B2':'Series B','Pre- series A':'Series A','Series F1':'Series F',\n",
    "                           'Seed+':'Seed','PE':'Seed','Seed A':'Series A','Pre-seed':'Seed'}},inplace=True)"
   ]
  },
  {
   "cell_type": "code",
   "execution_count": 103,
   "id": "7a1cf342",
   "metadata": {},
   "outputs": [
    {
     "data": {
      "text/plain": [
       "array(['Series A', nan, 'Series D', 'Series C', 'Seed', 'Series B',\n",
       "       'Series E', 'Debt', 'Unknown', 'Series F', 'Series G', 'Series H',\n",
       "       '$300000', '$6000000', '$1000000', 'Series I'], dtype=object)"
      ]
     },
     "execution_count": 103,
     "metadata": {},
     "output_type": "execute_result"
    }
   ],
   "source": [
    "data_2021['Stage'].unique()"
   ]
  },
  {
   "cell_type": "markdown",
   "id": "809d3652",
   "metadata": {},
   "source": [
    "<p style=\"font-size:20px ; font-weight: bold ; font-family: 'Times New Roman'; color: #00008B\">checking for the record with $300000 at the Stage column</p><br>"
   ]
  },
  {
   "cell_type": "code",
   "execution_count": 104,
   "id": "80bd9b83",
   "metadata": {},
   "outputs": [
    {
     "data": {
      "text/html": [
       "<div>\n",
       "<style scoped>\n",
       "    .dataframe tbody tr th:only-of-type {\n",
       "        vertical-align: middle;\n",
       "    }\n",
       "\n",
       "    .dataframe tbody tr th {\n",
       "        vertical-align: top;\n",
       "    }\n",
       "\n",
       "    .dataframe thead th {\n",
       "        text-align: right;\n",
       "    }\n",
       "</style>\n",
       "<table border=\"1\" class=\"dataframe\">\n",
       "  <thead>\n",
       "    <tr style=\"text-align: right;\">\n",
       "      <th></th>\n",
       "      <th>Company/Brand</th>\n",
       "      <th>Founded</th>\n",
       "      <th>HeadQuarter</th>\n",
       "      <th>Sector</th>\n",
       "      <th>What it does</th>\n",
       "      <th>Founders</th>\n",
       "      <th>Investor</th>\n",
       "      <th>Amount($)</th>\n",
       "      <th>Stage</th>\n",
       "    </tr>\n",
       "  </thead>\n",
       "  <tbody>\n",
       "    <tr>\n",
       "      <th>538</th>\n",
       "      <td>Little Leap</td>\n",
       "      <td>2020.0</td>\n",
       "      <td>Delhi</td>\n",
       "      <td>Education</td>\n",
       "      <td>Soft Skills that make Smart Leaders</td>\n",
       "      <td>Holistic Development Programs for children in ...</td>\n",
       "      <td>Vishal Gupta</td>\n",
       "      <td>ah! Ventures</td>\n",
       "      <td>$300000</td>\n",
       "    </tr>\n",
       "    <tr>\n",
       "      <th>551</th>\n",
       "      <td>BHyve</td>\n",
       "      <td>2020.0</td>\n",
       "      <td>Mumbai</td>\n",
       "      <td>Human Resources</td>\n",
       "      <td>A Future of Work Platform for diffusing Employ...</td>\n",
       "      <td>Backed by 100x.VC</td>\n",
       "      <td>Omkar Pandharkame, Ketaki Ogale</td>\n",
       "      <td>ITO Angel Network, LetsVenture</td>\n",
       "      <td>$300000</td>\n",
       "    </tr>\n",
       "  </tbody>\n",
       "</table>\n",
       "</div>"
      ],
      "text/plain": [
       "    Company/Brand  Founded HeadQuarter           Sector  \\\n",
       "538   Little Leap   2020.0       Delhi        Education   \n",
       "551         BHyve   2020.0      Mumbai  Human Resources   \n",
       "\n",
       "                                          What it does  \\\n",
       "538                Soft Skills that make Smart Leaders   \n",
       "551  A Future of Work Platform for diffusing Employ...   \n",
       "\n",
       "                                              Founders  \\\n",
       "538  Holistic Development Programs for children in ...   \n",
       "551                                  Backed by 100x.VC   \n",
       "\n",
       "                            Investor                       Amount($)    Stage  \n",
       "538                     Vishal Gupta                    ah! Ventures  $300000  \n",
       "551  Omkar Pandharkame, Ketaki Ogale  ITO Angel Network, LetsVenture  $300000  "
      ]
     },
     "execution_count": 104,
     "metadata": {},
     "output_type": "execute_result"
    }
   ],
   "source": [
    "data_2021.loc[data_2021['Stage']=='$300000']"
   ]
  },
  {
   "cell_type": "markdown",
   "id": "2b760436",
   "metadata": {},
   "source": [
    "The inestigation reveals that the amount and stage column has been interchanged. Two different records had this transposition error. The code below is used to correct them correct them below."
   ]
  },
  {
   "cell_type": "markdown",
   "id": "fcd5e8cd",
   "metadata": {},
   "source": [
    "<p style=\"font-size:20px ; font-weight: bold ; font-family: 'Times New Roman'; color: #00008B\">correcting the wrong placement of the HeadQuarter and Sector values</p><br>"
   ]
  },
  {
   "cell_type": "code",
   "execution_count": 105,
   "id": "67f16096",
   "metadata": {},
   "outputs": [],
   "source": [
    "# correcting the wrong placement of the HeadQuarter and Sector values\n",
    "data_2021.loc[data_2021['Company/Brand']=='Little Leap',['Amount($)','Sector','Stage']]=[300000, 'Education','Seed']\n",
    "# correcting the secod record found above\n",
    "data_2021.loc[data_2021['Company/Brand']=='BHyve',['Amount($)','Stage']]=[300000,'Seed']"
   ]
  },
  {
   "cell_type": "markdown",
   "id": "d4474c17",
   "metadata": {},
   "source": [
    "<p style=\"font-size:20px ; font-weight: bold ; font-family: 'Times New Roman'; color: #00008B\">checking for the record with $6000000 at the Stage column</p><br>"
   ]
  },
  {
   "cell_type": "code",
   "execution_count": 106,
   "id": "2aee31b5",
   "metadata": {},
   "outputs": [
    {
     "data": {
      "text/html": [
       "<div>\n",
       "<style scoped>\n",
       "    .dataframe tbody tr th:only-of-type {\n",
       "        vertical-align: middle;\n",
       "    }\n",
       "\n",
       "    .dataframe tbody tr th {\n",
       "        vertical-align: top;\n",
       "    }\n",
       "\n",
       "    .dataframe thead th {\n",
       "        text-align: right;\n",
       "    }\n",
       "</style>\n",
       "<table border=\"1\" class=\"dataframe\">\n",
       "  <thead>\n",
       "    <tr style=\"text-align: right;\">\n",
       "      <th></th>\n",
       "      <th>Company/Brand</th>\n",
       "      <th>Founded</th>\n",
       "      <th>HeadQuarter</th>\n",
       "      <th>Sector</th>\n",
       "      <th>What it does</th>\n",
       "      <th>Founders</th>\n",
       "      <th>Investor</th>\n",
       "      <th>Amount($)</th>\n",
       "      <th>Stage</th>\n",
       "    </tr>\n",
       "  </thead>\n",
       "  <tbody>\n",
       "    <tr>\n",
       "      <th>674</th>\n",
       "      <td>MYRE Capital</td>\n",
       "      <td>2020.0</td>\n",
       "      <td>Mumbai</td>\n",
       "      <td>Real Estate</td>\n",
       "      <td>Democratising Real Estate Ownership</td>\n",
       "      <td>Own rent yielding commercial properties</td>\n",
       "      <td>Aryaman Vir</td>\n",
       "      <td>NaN</td>\n",
       "      <td>$6000000</td>\n",
       "    </tr>\n",
       "  </tbody>\n",
       "</table>\n",
       "</div>"
      ],
      "text/plain": [
       "    Company/Brand  Founded HeadQuarter       Sector  \\\n",
       "674  MYRE Capital   2020.0      Mumbai  Real Estate   \n",
       "\n",
       "                            What it does  \\\n",
       "674  Democratising Real Estate Ownership   \n",
       "\n",
       "                                    Founders     Investor Amount($)     Stage  \n",
       "674  Own rent yielding commercial properties  Aryaman Vir       NaN  $6000000  "
      ]
     },
     "execution_count": 106,
     "metadata": {},
     "output_type": "execute_result"
    }
   ],
   "source": [
    " # checking for the record with $6000000 at the Stage column\n",
    "data_2021.loc[data_2021['Stage']=='$6000000']"
   ]
  },
  {
   "cell_type": "markdown",
   "id": "9898f992",
   "metadata": {},
   "source": [
    "This output revelaed that the sector named will have to be consistent with others. Aahain the stage column and the Amount column has been transposed. These are corrected in the code below"
   ]
  },
  {
   "cell_type": "markdown",
   "id": "37288dc3",
   "metadata": {},
   "source": [
    "<p style=\"font-size:20px ; font-weight: bold ; font-family: 'Times New Roman'; color: #00008B\">correcting the wrong placement of the HeadQuarter and Sector values</p><br>"
   ]
  },
  {
   "cell_type": "code",
   "execution_count": 107,
   "id": "a974101b",
   "metadata": {},
   "outputs": [],
   "source": [
    "# correcting the wrong placement of the HeadQuarter and Sector values\n",
    "data_2021.loc[data_2021['Company/Brand']=='MYRE Capital',['Amount($)','Sector','Stage']]=[6000000, 'Real Estate','Seed']"
   ]
  },
  {
   "cell_type": "markdown",
   "id": "6ffcb9ae",
   "metadata": {},
   "source": [
    "<p style=\"font-size:20px ; font-weight: bold ; font-family: 'Times New Roman'; color: #00008B\">checking for the record with $1000000 at the Stage column</p><br>"
   ]
  },
  {
   "cell_type": "code",
   "execution_count": 108,
   "id": "1e600b25",
   "metadata": {},
   "outputs": [
    {
     "data": {
      "text/html": [
       "<div>\n",
       "<style scoped>\n",
       "    .dataframe tbody tr th:only-of-type {\n",
       "        vertical-align: middle;\n",
       "    }\n",
       "\n",
       "    .dataframe tbody tr th {\n",
       "        vertical-align: top;\n",
       "    }\n",
       "\n",
       "    .dataframe thead th {\n",
       "        text-align: right;\n",
       "    }\n",
       "</style>\n",
       "<table border=\"1\" class=\"dataframe\">\n",
       "  <thead>\n",
       "    <tr style=\"text-align: right;\">\n",
       "      <th></th>\n",
       "      <th>Company/Brand</th>\n",
       "      <th>Founded</th>\n",
       "      <th>HeadQuarter</th>\n",
       "      <th>Sector</th>\n",
       "      <th>What it does</th>\n",
       "      <th>Founders</th>\n",
       "      <th>Investor</th>\n",
       "      <th>Amount($)</th>\n",
       "      <th>Stage</th>\n",
       "    </tr>\n",
       "  </thead>\n",
       "  <tbody>\n",
       "    <tr>\n",
       "      <th>677</th>\n",
       "      <td>Saarthi Pedagogy</td>\n",
       "      <td>2015.0</td>\n",
       "      <td>Ahmadabad</td>\n",
       "      <td>Education</td>\n",
       "      <td>India's fastest growing Pedagogy company, serv...</td>\n",
       "      <td>Pedagogy</td>\n",
       "      <td>Sushil Agarwal</td>\n",
       "      <td>JITO Angel Network, LetsVenture</td>\n",
       "      <td>$1000000</td>\n",
       "    </tr>\n",
       "  </tbody>\n",
       "</table>\n",
       "</div>"
      ],
      "text/plain": [
       "        Company/Brand  Founded HeadQuarter     Sector  \\\n",
       "677  Saarthi Pedagogy   2015.0   Ahmadabad  Education   \n",
       "\n",
       "                                          What it does  Founders  \\\n",
       "677  India's fastest growing Pedagogy company, serv...  Pedagogy   \n",
       "\n",
       "           Investor                        Amount($)     Stage  \n",
       "677  Sushil Agarwal  JITO Angel Network, LetsVenture  $1000000  "
      ]
     },
     "execution_count": 108,
     "metadata": {},
     "output_type": "execute_result"
    }
   ],
   "source": [
    " # checking for the record with $1000000 at the Stage column\n",
    "data_2021.loc[data_2021['Stage']=='$1000000']"
   ]
  },
  {
   "cell_type": "markdown",
   "id": "0fd89bdb",
   "metadata": {},
   "source": [
    "This output revelaed that the sector named will have to be consistent with others. Aahain the stage column and the Amount column has been transposed. These are corrected in the code below"
   ]
  },
  {
   "cell_type": "markdown",
   "id": "cd3f9d71",
   "metadata": {},
   "source": [
    "<p style=\"font-size:20px ; font-weight: bold ; font-family: 'Times New Roman'; color: #00008B\">correcting the wrong placement of the HeadQuarter and Sector values</p><br>"
   ]
  },
  {
   "cell_type": "code",
   "execution_count": 109,
   "id": "2dd03072",
   "metadata": {},
   "outputs": [],
   "source": [
    "# correcting the wrong placement of the HeadQuarter and Sector values\n",
    "data_2021.loc[data_2021['Company/Brand']=='Saarthi Pedagogy',['Amount($)','Sector','Stage']]=[1000000, 'Education','Seed']"
   ]
  },
  {
   "cell_type": "code",
   "execution_count": 110,
   "id": "740c6a7f",
   "metadata": {},
   "outputs": [
    {
     "data": {
      "text/plain": [
       "array(['Series A', nan, 'Series D', 'Series C', 'Seed', 'Series B',\n",
       "       'Series E', 'Debt', 'Unknown', 'Series F', 'Series G', 'Series H',\n",
       "       'Series I'], dtype=object)"
      ]
     },
     "execution_count": 110,
     "metadata": {},
     "output_type": "execute_result"
    }
   ],
   "source": [
    "data_2021['Stage'].unique()"
   ]
  },
  {
   "cell_type": "markdown",
   "id": "fa0d456b",
   "metadata": {},
   "source": [
    "<p style=\"font-size:20px ; font-weight: bold ; font-family: 'Times New Roman'; color: #00008B\">Replacing nan with unknown</p><br>"
   ]
  },
  {
   "cell_type": "code",
   "execution_count": 111,
   "id": "60083cb1",
   "metadata": {},
   "outputs": [],
   "source": [
    "# replacing nan with unknown\n",
    "data_2021['Stage']=data_2021['Stage'].fillna('Seed')"
   ]
  },
  {
   "cell_type": "markdown",
   "id": "54634679",
   "metadata": {},
   "source": [
    "<br><p style=\"font-size:20px ; font-weight: bold ; font-family: 'Times New Roman'; color: #00008B\">Cleaning the Amount($) Column</p><br>"
   ]
  },
  {
   "cell_type": "code",
   "execution_count": 112,
   "id": "bc3807d1",
   "metadata": {},
   "outputs": [
    {
     "data": {
      "text/plain": [
       "array(['$1,200,000', '$120,000,000', '$30,000,000', '$51,000,000',\n",
       "       '$2,000,000', '$188,000,000', '$200,000', 'Undisclosed',\n",
       "       '$1,000,000', '$3,000,000', '$100,000', '$700,000', '$9,000,000',\n",
       "       '$40,000,000', '$49,000,000', '$400,000', '$300,000',\n",
       "       '$25,000,000', '$160,000,000', '$150,000', '$1,800,000',\n",
       "       '$5,000,000', '$850,000', '$53,000,000', '$500,000', '$1,100,000',\n",
       "       '$6,000,000', '$800,000', '$10,000,000', '$21,000,000',\n",
       "       '$7,500,000', '$26,000,000', '$7,400,000', '$1,500,000',\n",
       "       '$600,000', '$800,000,000', '$17,000,000', '$3,500,000',\n",
       "       '$15,000,000', '$215,000,000', '$2,500,000', '$350,000,000',\n",
       "       '$5,500,000', '$83,000,000', '$110,000,000', '$500,000,000',\n",
       "       '$65,000,000', '$150,000,000,000', '$300,000,000', '$2,200,000',\n",
       "       '$35,000,000', '$140,000,000', '$4,000,000', '$13,000,000', nan,\n",
       "       '$Undisclosed', '$2000000', '$800000', '$6000000', '$2500000',\n",
       "       '$9500000', '$13000000', '$5000000', '$8000000', '$1000000',\n",
       "       1200000, '$200000', '$12000000', '$1500000', '$1700000',\n",
       "       '$5500000', '$400000', '$150000000', '$4000000', '$100000000',\n",
       "       '$500000', '$15000000', '$10000000', '$40000000', '$225000000',\n",
       "       '$6700000', '$1300000', '$20000000', '$250000', '$21000000',\n",
       "       '$1200000', '$52000000', '$3800000', '$17500000', '$42000000',\n",
       "       '$2300000', '$7000000', '$30000000', '$450000000', '$28000000',\n",
       "       '$300000', '$3500000', '$8500000', '$25000000', '$3000000',\n",
       "       '$37000000', '$370000000', '$700000', '$16000000', '$100000',\n",
       "       '$44000000', '$770000', '$125000000', '$35000000', '$50000000',\n",
       "       '$4900000', '$145000000', '$22000000', '$70000000', '$6600000',\n",
       "       '$32000000', '$24000000', '$725000', '$461000', 'Series C', 'Seed',\n",
       "       '$96000000', '$60000000', '$500000000', '$266000000', '$4500000',\n",
       "       '$325000000', '$6500000', '$1600000', '$225000', '$85000000',\n",
       "       '$235000', '$260000', '$2900000', '$53000000', '$1100000',\n",
       "       '$150000', '$86000000', '$130000', '$$100,00', '$111000000',\n",
       "       '$265000', '$76000000', '$100,000,000', '$75,000,000',\n",
       "       '$3,800,000', '$12,000,000', '$1,600,000', '$260,000',\n",
       "       '$1,000,000,000', '$18,000,000', '$20,000,000', '$350,000',\n",
       "       '$95,000,000', '$4,100,000', '$5,200,000', '$8,000,000',\n",
       "       '$1,400,000', '$2,600,000', '$900,000', '$250,000', '$16,000,000',\n",
       "       '$7,000,000', '$11,000,000', '$50,000,000', '$14,300,000',\n",
       "       '$81,000,000', '$1,300,000', '$8,200,000', '$280,000,000',\n",
       "       '$70,000,000', '$720,000', '$600000', '$9000000', '$1800000',\n",
       "       '$330000', '$undisclosed', '$200000000', '$36000000', '$67000000',\n",
       "       '$10200000', '$220000000', '$108000000', '$75000000', '$450000',\n",
       "       '$660000000', 300000, '$45000000', '$3200000', '$370000',\n",
       "       'Pre-series A', '$48000000', '$3600000', '$11000000', '$192000000',\n",
       "       '$65000000', '$1400000', '$1900000', '$41000000', '$144000000',\n",
       "       '$5200000', '$270000000', '$140000', '$250000000', '$320000',\n",
       "       '$350000000', '$4800000', '$38000000', '$125000', '$26000000',\n",
       "       '$64000000', '$620000', '$900000', 6000000, 1000000, '$2600000',\n",
       "       '$1,250,000', '$400,000,000', '$1,700,000', '$27,000,000',\n",
       "       '$234,000,000', '$460,000,000', '$13,500,000', '$5,100,000',\n",
       "       '$195,000,000', '$125,000', '$45,000,000', '$200,000,000',\n",
       "       '$7,300,000', '$6,300,000', '$12,500,000', '$24,000,000',\n",
       "       '$140,000', '$16,500,000', '$340,000', '$43,000,000',\n",
       "       '$150,000,000', '$3300000', '$92000000', '$17000000', '$135000000',\n",
       "       '$$1,55,000', '$2100000', '$840000000', '$248000000', '$4300000',\n",
       "       '$570000', '$2200000', '$4700000', '$300000000', '$260000000',\n",
       "       '$140000000', '$175000000', '$19000000', '$810000', '$7500000',\n",
       "       '$600000000', '$90000000', '$5700000', '$6750000', '$78000000',\n",
       "       '$5400000', '$115000000', '$255000000', '$18000000', '$570000000',\n",
       "       '$550000', '$2700000', '$4200000', '$31000000', '$540000',\n",
       "       '$14000000', '$340000', '$', '$6200000', '$750000', '$6300000',\n",
       "       '$23000000', '$55000000'], dtype=object)"
      ]
     },
     "execution_count": 112,
     "metadata": {},
     "output_type": "execute_result"
    }
   ],
   "source": [
    "data_2021['Amount($)'].unique()"
   ]
  },
  {
   "cell_type": "markdown",
   "id": "4fc7a664",
   "metadata": {},
   "source": [
    "Values such as `Undisclosed`, `Series C`, `Seed`,`$Undisclosed`, `$undisclosed`, `Pre-series A` all wrongly entered into the Amount($) column. This will have to be investigated and corrected."
   ]
  },
  {
   "cell_type": "code",
   "execution_count": 113,
   "id": "61e7b728",
   "metadata": {},
   "outputs": [
    {
     "data": {
      "text/html": [
       "<div>\n",
       "<style scoped>\n",
       "    .dataframe tbody tr th:only-of-type {\n",
       "        vertical-align: middle;\n",
       "    }\n",
       "\n",
       "    .dataframe tbody tr th {\n",
       "        vertical-align: top;\n",
       "    }\n",
       "\n",
       "    .dataframe thead th {\n",
       "        text-align: right;\n",
       "    }\n",
       "</style>\n",
       "<table border=\"1\" class=\"dataframe\">\n",
       "  <thead>\n",
       "    <tr style=\"text-align: right;\">\n",
       "      <th></th>\n",
       "      <th>Company/Brand</th>\n",
       "      <th>Founded</th>\n",
       "      <th>HeadQuarter</th>\n",
       "      <th>Sector</th>\n",
       "      <th>What it does</th>\n",
       "      <th>Founders</th>\n",
       "      <th>Investor</th>\n",
       "      <th>Amount($)</th>\n",
       "      <th>Stage</th>\n",
       "    </tr>\n",
       "  </thead>\n",
       "  <tbody>\n",
       "    <tr>\n",
       "      <th>7</th>\n",
       "      <td>Qube Health</td>\n",
       "      <td>2016.0</td>\n",
       "      <td>Mumbai</td>\n",
       "      <td>Healthcare</td>\n",
       "      <td>India's Most Respected Workplace Healthcare Ma...</td>\n",
       "      <td>Gagan Kapur</td>\n",
       "      <td>Inflection Point Ventures</td>\n",
       "      <td>Undisclosed</td>\n",
       "      <td>Series A</td>\n",
       "    </tr>\n",
       "    <tr>\n",
       "      <th>8</th>\n",
       "      <td>Vitra.ai</td>\n",
       "      <td>2020.0</td>\n",
       "      <td>Bengaluru</td>\n",
       "      <td>IT</td>\n",
       "      <td>Vitra.ai is an AI-based video translation plat...</td>\n",
       "      <td>Akash Nidhi PS</td>\n",
       "      <td>Inflexor Ventures</td>\n",
       "      <td>Undisclosed</td>\n",
       "      <td>Seed</td>\n",
       "    </tr>\n",
       "    <tr>\n",
       "      <th>21</th>\n",
       "      <td>Uable</td>\n",
       "      <td>2020.0</td>\n",
       "      <td>Bengaluru</td>\n",
       "      <td>Education</td>\n",
       "      <td>Uable offers role based programmes to empower ...</td>\n",
       "      <td>Saurabh Saxena</td>\n",
       "      <td>Chiratae Ventures, JAFCO Asia</td>\n",
       "      <td>Undisclosed</td>\n",
       "      <td>Seed</td>\n",
       "    </tr>\n",
       "    <tr>\n",
       "      <th>39</th>\n",
       "      <td>TruNativ</td>\n",
       "      <td>2019.0</td>\n",
       "      <td>Mumbai</td>\n",
       "      <td>Catering</td>\n",
       "      <td>TruNativ Foods &amp; Beverages Pvt Ltd</td>\n",
       "      <td>Pranav Malhotra, Mamta Malhotra</td>\n",
       "      <td>9Unicorns</td>\n",
       "      <td>Undisclosed</td>\n",
       "      <td>Seed</td>\n",
       "    </tr>\n",
       "    <tr>\n",
       "      <th>54</th>\n",
       "      <td>AntWak</td>\n",
       "      <td>2019.0</td>\n",
       "      <td>Bengaluru</td>\n",
       "      <td>Education</td>\n",
       "      <td>AntWak provides a video platform for e-learnin...</td>\n",
       "      <td>Basav Nagur, Joybroto Ganguly, Sudhanshu Shekh...</td>\n",
       "      <td>Vaibhav Domkundwar, Kunal Shah</td>\n",
       "      <td>Undisclosed</td>\n",
       "      <td>Seed</td>\n",
       "    </tr>\n",
       "    <tr>\n",
       "      <th>64</th>\n",
       "      <td>Rage Coffee</td>\n",
       "      <td>2018.0</td>\n",
       "      <td>Delhi</td>\n",
       "      <td>Catering</td>\n",
       "      <td>Rage Coffee is infused with plant based vitami...</td>\n",
       "      <td>Bharat Sethi</td>\n",
       "      <td>GetVantage, Prakash Katama</td>\n",
       "      <td>Undisclosed</td>\n",
       "      <td>Series A</td>\n",
       "    </tr>\n",
       "    <tr>\n",
       "      <th>67</th>\n",
       "      <td>Kudos</td>\n",
       "      <td>2014.0</td>\n",
       "      <td>Pune</td>\n",
       "      <td>FinTech</td>\n",
       "      <td>Kudos is a full stack NBFC, a digital lending ...</td>\n",
       "      <td>Naresh Vigh</td>\n",
       "      <td>Marquee fintech founders</td>\n",
       "      <td>Undisclosed</td>\n",
       "      <td>Series A</td>\n",
       "    </tr>\n",
       "    <tr>\n",
       "      <th>316</th>\n",
       "      <td>Hubhopper</td>\n",
       "      <td>2015.0</td>\n",
       "      <td>Delhi</td>\n",
       "      <td>Media and Entertainment</td>\n",
       "      <td>Hubhopper is India's leading podcast hosting, ...</td>\n",
       "      <td>Gautam Raj Anand</td>\n",
       "      <td>ITI Growth Opportunities Fund, Unit-E Ventures</td>\n",
       "      <td>Undisclosed</td>\n",
       "      <td>Seed</td>\n",
       "    </tr>\n",
       "    <tr>\n",
       "      <th>319</th>\n",
       "      <td>Battery Smart</td>\n",
       "      <td>2019.0</td>\n",
       "      <td>Delhi</td>\n",
       "      <td>Energy</td>\n",
       "      <td>Battery Smart provides advanced Li-ion batteri...</td>\n",
       "      <td>Pulkit Khurana, Siddharth Sikka</td>\n",
       "      <td>Orios Venture Partners</td>\n",
       "      <td>Undisclosed</td>\n",
       "      <td>Seed</td>\n",
       "    </tr>\n",
       "    <tr>\n",
       "      <th>321</th>\n",
       "      <td>Onelife</td>\n",
       "      <td>2019.0</td>\n",
       "      <td>Mumbai</td>\n",
       "      <td>Healthcare</td>\n",
       "      <td>Aspire to leverage the gifts of nature and sci...</td>\n",
       "      <td>Gaurav Aggarwal</td>\n",
       "      <td>Wipro venture capital arm</td>\n",
       "      <td>Undisclosed</td>\n",
       "      <td>Seed</td>\n",
       "    </tr>\n",
       "    <tr>\n",
       "      <th>325</th>\n",
       "      <td>Aisle</td>\n",
       "      <td>2014.0</td>\n",
       "      <td>Bengaluru</td>\n",
       "      <td>Dating</td>\n",
       "      <td>Aisle connects the new generation of single in...</td>\n",
       "      <td>Able Joseph</td>\n",
       "      <td>Anas Rahman Junaid, Vinod Jose</td>\n",
       "      <td>Undisclosed</td>\n",
       "      <td>Series A</td>\n",
       "    </tr>\n",
       "    <tr>\n",
       "      <th>334</th>\n",
       "      <td>Zingbus</td>\n",
       "      <td>2019.0</td>\n",
       "      <td>Haryana</td>\n",
       "      <td>Transportation</td>\n",
       "      <td>Zingbus is an emerging brand in the intercity ...</td>\n",
       "      <td>Mratunjay Beniwal</td>\n",
       "      <td>Venture Catalysts, 9Unicorns Accelerator Fund</td>\n",
       "      <td>Undisclosed</td>\n",
       "      <td>Series A</td>\n",
       "    </tr>\n",
       "    <tr>\n",
       "      <th>336</th>\n",
       "      <td>Codingal</td>\n",
       "      <td>2020.0</td>\n",
       "      <td>Bengaluru</td>\n",
       "      <td>Education</td>\n",
       "      <td>Coding education platform for K-12 students</td>\n",
       "      <td>Satyam Baranwal, Vivek Prakash</td>\n",
       "      <td>Y Combinator, Rebright Partners</td>\n",
       "      <td>Undisclosed</td>\n",
       "      <td>Seed</td>\n",
       "    </tr>\n",
       "    <tr>\n",
       "      <th>345</th>\n",
       "      <td>Hypd Store</td>\n",
       "      <td>2020.0</td>\n",
       "      <td>Delhi</td>\n",
       "      <td>Creative Agency</td>\n",
       "      <td>A shop worthy content platform, personalized!</td>\n",
       "      <td>Ashwarya Garg, Akshay Bhatnagar</td>\n",
       "      <td>ScoopWhoop</td>\n",
       "      <td>Undisclosed</td>\n",
       "      <td>Seed</td>\n",
       "    </tr>\n",
       "    <tr>\n",
       "      <th>367</th>\n",
       "      <td>PrepBytes</td>\n",
       "      <td>2019.0</td>\n",
       "      <td>Gurugram</td>\n",
       "      <td>Education</td>\n",
       "      <td>PrepBytes helps college students to learn codi...</td>\n",
       "      <td>Aditya Bhushan Verma, Mamta Kumari</td>\n",
       "      <td>Equanimity Ventures</td>\n",
       "      <td>Undisclosed</td>\n",
       "      <td>Seed</td>\n",
       "    </tr>\n",
       "    <tr>\n",
       "      <th>376</th>\n",
       "      <td>ExMyB</td>\n",
       "      <td>2018.0</td>\n",
       "      <td>Gurugram</td>\n",
       "      <td>Consulting</td>\n",
       "      <td>ExMyB provides financial service and consultin...</td>\n",
       "      <td>Nishant Behl</td>\n",
       "      <td>Campus Fund</td>\n",
       "      <td>Undisclosed</td>\n",
       "      <td>Seed</td>\n",
       "    </tr>\n",
       "    <tr>\n",
       "      <th>379</th>\n",
       "      <td>Qin1</td>\n",
       "      <td>2019.0</td>\n",
       "      <td>Noida</td>\n",
       "      <td>Education</td>\n",
       "      <td>Re-imagining Kids of 21st Century!</td>\n",
       "      <td>Ishan Gupta</td>\n",
       "      <td>Venture Catalysts</td>\n",
       "      <td>Undisclosed</td>\n",
       "      <td>Series A</td>\n",
       "    </tr>\n",
       "    <tr>\n",
       "      <th>383</th>\n",
       "      <td>KIKO TV</td>\n",
       "      <td>2020.0</td>\n",
       "      <td>Mumbai</td>\n",
       "      <td>E-Commerce</td>\n",
       "      <td>KIKO TV is an AI-based short live video e-comm...</td>\n",
       "      <td>Shivam Varshney</td>\n",
       "      <td>Sunil Kumar Singhvi, 9Unicorns Accelerator Fund</td>\n",
       "      <td>Undisclosed</td>\n",
       "      <td>Series A</td>\n",
       "    </tr>\n",
       "    <tr>\n",
       "      <th>384</th>\n",
       "      <td>Quali55Care</td>\n",
       "      <td>2018.0</td>\n",
       "      <td>Mumbai</td>\n",
       "      <td>Helathcare</td>\n",
       "      <td>Deliver highly durable &amp; affordable medical eq...</td>\n",
       "      <td>Harddik K Patel</td>\n",
       "      <td>India Accelerator’s Angel Investor Network</td>\n",
       "      <td>Undisclosed</td>\n",
       "      <td>Seed</td>\n",
       "    </tr>\n",
       "    <tr>\n",
       "      <th>386</th>\n",
       "      <td>RevFin</td>\n",
       "      <td>2018.0</td>\n",
       "      <td>Delhi</td>\n",
       "      <td>FinTech</td>\n",
       "      <td>RevFin is a digital lending company.</td>\n",
       "      <td>Sameer Aggarwal</td>\n",
       "      <td>Shell Foundation</td>\n",
       "      <td>Undisclosed</td>\n",
       "      <td>Seed</td>\n",
       "    </tr>\n",
       "    <tr>\n",
       "      <th>393</th>\n",
       "      <td>Zouk</td>\n",
       "      <td>2016.0</td>\n",
       "      <td>Mumbai</td>\n",
       "      <td>Fashion</td>\n",
       "      <td>100% Vegan bags from India.</td>\n",
       "      <td>Disha Singh</td>\n",
       "      <td>Titan Capital</td>\n",
       "      <td>Undisclosed</td>\n",
       "      <td>Seed</td>\n",
       "    </tr>\n",
       "    <tr>\n",
       "      <th>406</th>\n",
       "      <td>Digit Insurance</td>\n",
       "      <td>2016.0</td>\n",
       "      <td>Bengaluru</td>\n",
       "      <td>FinTech</td>\n",
       "      <td>Digit Insurance is a financial services compan...</td>\n",
       "      <td>Kamesh Goyal</td>\n",
       "      <td>A91 Partners, Faering Capital</td>\n",
       "      <td>Undisclosed</td>\n",
       "      <td>Seed</td>\n",
       "    </tr>\n",
       "    <tr>\n",
       "      <th>428</th>\n",
       "      <td>Bolkar</td>\n",
       "      <td>2018.0</td>\n",
       "      <td>Bengaluru</td>\n",
       "      <td>Digital Media</td>\n",
       "      <td>Bolkar App is an Audio Based Q&amp;A platform for ...</td>\n",
       "      <td>Abhishek Tripathi, Dhruv Kaushal, Prince Tripa...</td>\n",
       "      <td>GSF, Pras Hanuma</td>\n",
       "      <td>Undisclosed</td>\n",
       "      <td>Seed</td>\n",
       "    </tr>\n",
       "    <tr>\n",
       "      <th>429</th>\n",
       "      <td>Wright Research</td>\n",
       "      <td>2019.0</td>\n",
       "      <td>Mumbai</td>\n",
       "      <td>Legal</td>\n",
       "      <td>Quantitative Investment Management and Research</td>\n",
       "      <td>Sonam Srivastava</td>\n",
       "      <td>Ajat Hukkoo, Piyush Chaplot</td>\n",
       "      <td>Undisclosed</td>\n",
       "      <td>Seed</td>\n",
       "    </tr>\n",
       "    <tr>\n",
       "      <th>436</th>\n",
       "      <td>Oneiric Gaming</td>\n",
       "      <td>2020.0</td>\n",
       "      <td>Chandigarh</td>\n",
       "      <td>Gaming</td>\n",
       "      <td>Oneiric Gaming connects to fellow dreamers aro...</td>\n",
       "      <td>Avneet Singh</td>\n",
       "      <td>Trishneet Arora</td>\n",
       "      <td>Undisclosed</td>\n",
       "      <td>Seed</td>\n",
       "    </tr>\n",
       "    <tr>\n",
       "      <th>452</th>\n",
       "      <td>Agri10x</td>\n",
       "      <td>2018.0</td>\n",
       "      <td>Pune</td>\n",
       "      <td>AgTech</td>\n",
       "      <td>Agri10x integrates the entire Agri value-chain...</td>\n",
       "      <td>Abhijith Naraparaju, Pankajj P. Ghode, Sundeep...</td>\n",
       "      <td>Omnivore</td>\n",
       "      <td>Undisclosed</td>\n",
       "      <td>Seed</td>\n",
       "    </tr>\n",
       "    <tr>\n",
       "      <th>724</th>\n",
       "      <td>Instoried</td>\n",
       "      <td>2018.0</td>\n",
       "      <td>Bengaluru</td>\n",
       "      <td>Creative Agency</td>\n",
       "      <td>Instoried is an augmented writing platform whi...</td>\n",
       "      <td>Sharmin Ali, Sutanshu Raj</td>\n",
       "      <td>EXPERT DOJO, Mumbai Angels</td>\n",
       "      <td>Undisclosed</td>\n",
       "      <td>Seed</td>\n",
       "    </tr>\n",
       "    <tr>\n",
       "      <th>732</th>\n",
       "      <td>Homingos</td>\n",
       "      <td>2018.0</td>\n",
       "      <td>Bengaluru</td>\n",
       "      <td>IT</td>\n",
       "      <td>Homingos is an Augmented reality (AR)-based so...</td>\n",
       "      <td>Shourya Agarwal, Malhar Patil, Rajat Gupta</td>\n",
       "      <td>Sundi Natarajan, Srinivas Anumolu</td>\n",
       "      <td>Undisclosed</td>\n",
       "      <td>Seed</td>\n",
       "    </tr>\n",
       "    <tr>\n",
       "      <th>733</th>\n",
       "      <td>Anar Business Community</td>\n",
       "      <td>2020.0</td>\n",
       "      <td>Mumbai</td>\n",
       "      <td>IT</td>\n",
       "      <td>Anar is a communications and networking platfo...</td>\n",
       "      <td>Nishank Jain, Sanjay Bhat</td>\n",
       "      <td>Titan Capital, First Cheque</td>\n",
       "      <td>Undisclosed</td>\n",
       "      <td>Seed</td>\n",
       "    </tr>\n",
       "    <tr>\n",
       "      <th>735</th>\n",
       "      <td>Settlrs</td>\n",
       "      <td>2018.0</td>\n",
       "      <td>Bengaluru</td>\n",
       "      <td>Facilities Support Services</td>\n",
       "      <td>A B2B rental services company for furniture, h...</td>\n",
       "      <td>Gaurav Ranebennur, Nishanth Janadri</td>\n",
       "      <td>MaGEHold Pte. Ltd.</td>\n",
       "      <td>Undisclosed</td>\n",
       "      <td>Series A</td>\n",
       "    </tr>\n",
       "    <tr>\n",
       "      <th>766</th>\n",
       "      <td>Wysa</td>\n",
       "      <td>2015.0</td>\n",
       "      <td>Bengaluru</td>\n",
       "      <td>AI</td>\n",
       "      <td>Wysa is an AI conversational agent that has be...</td>\n",
       "      <td>Jo Aggarwal, Ramakant Vempati</td>\n",
       "      <td>Kae Capital, Pi Ventures</td>\n",
       "      <td>Undisclosed</td>\n",
       "      <td>Seed</td>\n",
       "    </tr>\n",
       "    <tr>\n",
       "      <th>769</th>\n",
       "      <td>Firmway</td>\n",
       "      <td>2016.0</td>\n",
       "      <td>Mumbai</td>\n",
       "      <td>FinTech</td>\n",
       "      <td>Firmway is a platform that digitizes balance c...</td>\n",
       "      <td>Prashant Gupta, Vivek Chandan</td>\n",
       "      <td>NaN</td>\n",
       "      <td>Undisclosed</td>\n",
       "      <td>Seed</td>\n",
       "    </tr>\n",
       "    <tr>\n",
       "      <th>794</th>\n",
       "      <td>Bijnis</td>\n",
       "      <td>2014.0</td>\n",
       "      <td>Delhi</td>\n",
       "      <td>E-Commerce</td>\n",
       "      <td>Digitizing the Factories of the Unorganised In...</td>\n",
       "      <td>Chaitanya Rathi, Shubham Agarwal, Siddharth Ra...</td>\n",
       "      <td>Sequoia Capital India, Matrix Partners India</td>\n",
       "      <td>Undisclosed</td>\n",
       "      <td>Seed</td>\n",
       "    </tr>\n",
       "    <tr>\n",
       "      <th>801</th>\n",
       "      <td>Virohan</td>\n",
       "      <td>2018.0</td>\n",
       "      <td>Gurugram</td>\n",
       "      <td>Education</td>\n",
       "      <td>Virohan is an edtech company using technology ...</td>\n",
       "      <td>Archit Jayasal, Kunaal Dudeja, Nalin Saluja</td>\n",
       "      <td>National Skill Development Corporation, Rianta...</td>\n",
       "      <td>Undisclosed</td>\n",
       "      <td>Seed</td>\n",
       "    </tr>\n",
       "    <tr>\n",
       "      <th>807</th>\n",
       "      <td>ParkSmart</td>\n",
       "      <td>2018.0</td>\n",
       "      <td>Delhi</td>\n",
       "      <td>Automotive</td>\n",
       "      <td>ParkSmart is a parking management application.</td>\n",
       "      <td>Prateek Garg, Rahul Gupta, Ratan Anmol Sethi, ...</td>\n",
       "      <td>Shireen Rangaswamy, Dilesh Gathani</td>\n",
       "      <td>Undisclosed</td>\n",
       "      <td>Seed</td>\n",
       "    </tr>\n",
       "    <tr>\n",
       "      <th>810</th>\n",
       "      <td>Spark Studio</td>\n",
       "      <td>2020.0</td>\n",
       "      <td>Bengaluru</td>\n",
       "      <td>Education</td>\n",
       "      <td>Online courses to build creativity and confide...</td>\n",
       "      <td>Anushree Goenka</td>\n",
       "      <td>Better Capital</td>\n",
       "      <td>Undisclosed</td>\n",
       "      <td>Seed</td>\n",
       "    </tr>\n",
       "    <tr>\n",
       "      <th>814</th>\n",
       "      <td>Keito</td>\n",
       "      <td>2016.0</td>\n",
       "      <td>Pune</td>\n",
       "      <td>AI</td>\n",
       "      <td>NO-CODE &lt;&gt; Human-assisted machine learning pla...</td>\n",
       "      <td>Amal P S</td>\n",
       "      <td>Rajesh Agarwal, Nandkishore Mundada</td>\n",
       "      <td>Undisclosed</td>\n",
       "      <td>Seed</td>\n",
       "    </tr>\n",
       "    <tr>\n",
       "      <th>820</th>\n",
       "      <td>LegalPay</td>\n",
       "      <td>2019.0</td>\n",
       "      <td>Delhi</td>\n",
       "      <td>FinTech</td>\n",
       "      <td>A trusted financial partner for advocates and ...</td>\n",
       "      <td>Kundan Shahi</td>\n",
       "      <td>9Unicorns</td>\n",
       "      <td>Undisclosed</td>\n",
       "      <td>Seed</td>\n",
       "    </tr>\n",
       "    <tr>\n",
       "      <th>824</th>\n",
       "      <td>Avalon Labs</td>\n",
       "      <td>2017.0</td>\n",
       "      <td>Bengaluru</td>\n",
       "      <td>FinTech</td>\n",
       "      <td>Avalon Labs incubates, invests, partners with ...</td>\n",
       "      <td>Varun Mayya</td>\n",
       "      <td>Tanglin Ventures, Better Capital, Whiteboard C...</td>\n",
       "      <td>Undisclosed</td>\n",
       "      <td>Series A</td>\n",
       "    </tr>\n",
       "    <tr>\n",
       "      <th>827</th>\n",
       "      <td>Rezo.ai</td>\n",
       "      <td>2017.0</td>\n",
       "      <td>Noida</td>\n",
       "      <td>AI</td>\n",
       "      <td>Conversational AI platform - Innovate the way ...</td>\n",
       "      <td>Manish Gupta, Rashi Gupta</td>\n",
       "      <td>Devesh Sachdev, Bhavesh Manglani</td>\n",
       "      <td>Undisclosed</td>\n",
       "      <td>Seed</td>\n",
       "    </tr>\n",
       "    <tr>\n",
       "      <th>833</th>\n",
       "      <td>Polygon</td>\n",
       "      <td>2017.0</td>\n",
       "      <td>Mumbai</td>\n",
       "      <td>Cryptocurrency</td>\n",
       "      <td>Polygon is a blockchain scalability platform.</td>\n",
       "      <td>Jaynti Kanani, Sandeep Nailwal, Anurag Arjun</td>\n",
       "      <td>Mark Cuban, MiH Ventures</td>\n",
       "      <td>Undisclosed</td>\n",
       "      <td>Seed</td>\n",
       "    </tr>\n",
       "    <tr>\n",
       "      <th>846</th>\n",
       "      <td>Ingenium</td>\n",
       "      <td>2018.0</td>\n",
       "      <td>Delhi</td>\n",
       "      <td>Education</td>\n",
       "      <td>Ingenium Education has been pushing e-learning...</td>\n",
       "      <td>Pramudit Somvanshi, Mohit Patel, Aakash Gupta</td>\n",
       "      <td>Lead Angels</td>\n",
       "      <td>Undisclosed</td>\n",
       "      <td>Seed</td>\n",
       "    </tr>\n",
       "    <tr>\n",
       "      <th>853</th>\n",
       "      <td>Celcius</td>\n",
       "      <td>2020.0</td>\n",
       "      <td>Mumbai</td>\n",
       "      <td>Logistics</td>\n",
       "      <td>The “ONLINE” Cold Chain network for Reefer tru...</td>\n",
       "      <td>Swarup Bose, Rajneesh Raman, Arbind Jain</td>\n",
       "      <td>Eaglewings Ventures</td>\n",
       "      <td>Undisclosed</td>\n",
       "      <td>Seed</td>\n",
       "    </tr>\n",
       "  </tbody>\n",
       "</table>\n",
       "</div>"
      ],
      "text/plain": [
       "               Company/Brand  Founded HeadQuarter  \\\n",
       "7                Qube Health   2016.0      Mumbai   \n",
       "8                   Vitra.ai   2020.0   Bengaluru   \n",
       "21                     Uable   2020.0   Bengaluru   \n",
       "39                  TruNativ   2019.0      Mumbai   \n",
       "54                    AntWak   2019.0   Bengaluru   \n",
       "64               Rage Coffee   2018.0       Delhi   \n",
       "67                     Kudos   2014.0        Pune   \n",
       "316                Hubhopper   2015.0       Delhi   \n",
       "319            Battery Smart   2019.0       Delhi   \n",
       "321                  Onelife   2019.0      Mumbai   \n",
       "325                    Aisle   2014.0   Bengaluru   \n",
       "334                  Zingbus   2019.0     Haryana   \n",
       "336                 Codingal   2020.0   Bengaluru   \n",
       "345               Hypd Store   2020.0       Delhi   \n",
       "367                PrepBytes   2019.0    Gurugram   \n",
       "376                    ExMyB   2018.0    Gurugram   \n",
       "379                     Qin1   2019.0       Noida   \n",
       "383                  KIKO TV   2020.0      Mumbai   \n",
       "384              Quali55Care   2018.0      Mumbai   \n",
       "386                   RevFin   2018.0       Delhi   \n",
       "393                     Zouk   2016.0      Mumbai   \n",
       "406          Digit Insurance   2016.0   Bengaluru   \n",
       "428                   Bolkar   2018.0   Bengaluru   \n",
       "429          Wright Research   2019.0      Mumbai   \n",
       "436           Oneiric Gaming   2020.0  Chandigarh   \n",
       "452                  Agri10x   2018.0        Pune   \n",
       "724                Instoried   2018.0   Bengaluru   \n",
       "732                 Homingos   2018.0   Bengaluru   \n",
       "733  Anar Business Community   2020.0      Mumbai   \n",
       "735                  Settlrs   2018.0   Bengaluru   \n",
       "766                     Wysa   2015.0   Bengaluru   \n",
       "769                  Firmway   2016.0      Mumbai   \n",
       "794                   Bijnis   2014.0       Delhi   \n",
       "801                  Virohan   2018.0    Gurugram   \n",
       "807                ParkSmart   2018.0       Delhi   \n",
       "810             Spark Studio   2020.0   Bengaluru   \n",
       "814                    Keito   2016.0        Pune   \n",
       "820                 LegalPay   2019.0       Delhi   \n",
       "824              Avalon Labs   2017.0   Bengaluru   \n",
       "827                  Rezo.ai   2017.0       Noida   \n",
       "833                  Polygon   2017.0      Mumbai   \n",
       "846                 Ingenium   2018.0       Delhi   \n",
       "853                  Celcius   2020.0      Mumbai   \n",
       "\n",
       "                          Sector  \\\n",
       "7                     Healthcare   \n",
       "8                             IT   \n",
       "21                     Education   \n",
       "39                      Catering   \n",
       "54                     Education   \n",
       "64                      Catering   \n",
       "67                       FinTech   \n",
       "316      Media and Entertainment   \n",
       "319                       Energy   \n",
       "321                   Healthcare   \n",
       "325                       Dating   \n",
       "334               Transportation   \n",
       "336                    Education   \n",
       "345              Creative Agency   \n",
       "367                    Education   \n",
       "376                   Consulting   \n",
       "379                    Education   \n",
       "383                   E-Commerce   \n",
       "384                   Helathcare   \n",
       "386                      FinTech   \n",
       "393                      Fashion   \n",
       "406                      FinTech   \n",
       "428                Digital Media   \n",
       "429                        Legal   \n",
       "436                       Gaming   \n",
       "452                       AgTech   \n",
       "724              Creative Agency   \n",
       "732                           IT   \n",
       "733                           IT   \n",
       "735  Facilities Support Services   \n",
       "766                           AI   \n",
       "769                      FinTech   \n",
       "794                   E-Commerce   \n",
       "801                    Education   \n",
       "807                   Automotive   \n",
       "810                    Education   \n",
       "814                           AI   \n",
       "820                      FinTech   \n",
       "824                      FinTech   \n",
       "827                           AI   \n",
       "833               Cryptocurrency   \n",
       "846                    Education   \n",
       "853                    Logistics   \n",
       "\n",
       "                                          What it does  \\\n",
       "7    India's Most Respected Workplace Healthcare Ma...   \n",
       "8    Vitra.ai is an AI-based video translation plat...   \n",
       "21   Uable offers role based programmes to empower ...   \n",
       "39                  TruNativ Foods & Beverages Pvt Ltd   \n",
       "54   AntWak provides a video platform for e-learnin...   \n",
       "64   Rage Coffee is infused with plant based vitami...   \n",
       "67   Kudos is a full stack NBFC, a digital lending ...   \n",
       "316  Hubhopper is India's leading podcast hosting, ...   \n",
       "319  Battery Smart provides advanced Li-ion batteri...   \n",
       "321  Aspire to leverage the gifts of nature and sci...   \n",
       "325  Aisle connects the new generation of single in...   \n",
       "334  Zingbus is an emerging brand in the intercity ...   \n",
       "336        Coding education platform for K-12 students   \n",
       "345      A shop worthy content platform, personalized!   \n",
       "367  PrepBytes helps college students to learn codi...   \n",
       "376  ExMyB provides financial service and consultin...   \n",
       "379                 Re-imagining Kids of 21st Century!   \n",
       "383  KIKO TV is an AI-based short live video e-comm...   \n",
       "384  Deliver highly durable & affordable medical eq...   \n",
       "386               RevFin is a digital lending company.   \n",
       "393                        100% Vegan bags from India.   \n",
       "406  Digit Insurance is a financial services compan...   \n",
       "428  Bolkar App is an Audio Based Q&A platform for ...   \n",
       "429    Quantitative Investment Management and Research   \n",
       "436  Oneiric Gaming connects to fellow dreamers aro...   \n",
       "452  Agri10x integrates the entire Agri value-chain...   \n",
       "724  Instoried is an augmented writing platform whi...   \n",
       "732  Homingos is an Augmented reality (AR)-based so...   \n",
       "733  Anar is a communications and networking platfo...   \n",
       "735  A B2B rental services company for furniture, h...   \n",
       "766  Wysa is an AI conversational agent that has be...   \n",
       "769  Firmway is a platform that digitizes balance c...   \n",
       "794  Digitizing the Factories of the Unorganised In...   \n",
       "801  Virohan is an edtech company using technology ...   \n",
       "807     ParkSmart is a parking management application.   \n",
       "810  Online courses to build creativity and confide...   \n",
       "814  NO-CODE <> Human-assisted machine learning pla...   \n",
       "820  A trusted financial partner for advocates and ...   \n",
       "824  Avalon Labs incubates, invests, partners with ...   \n",
       "827  Conversational AI platform - Innovate the way ...   \n",
       "833      Polygon is a blockchain scalability platform.   \n",
       "846  Ingenium Education has been pushing e-learning...   \n",
       "853  The “ONLINE” Cold Chain network for Reefer tru...   \n",
       "\n",
       "                                              Founders  \\\n",
       "7                                          Gagan Kapur   \n",
       "8                                       Akash Nidhi PS   \n",
       "21                                      Saurabh Saxena   \n",
       "39                     Pranav Malhotra, Mamta Malhotra   \n",
       "54   Basav Nagur, Joybroto Ganguly, Sudhanshu Shekh...   \n",
       "64                                        Bharat Sethi   \n",
       "67                                         Naresh Vigh   \n",
       "316                                   Gautam Raj Anand   \n",
       "319                    Pulkit Khurana, Siddharth Sikka   \n",
       "321                                    Gaurav Aggarwal   \n",
       "325                                        Able Joseph   \n",
       "334                                  Mratunjay Beniwal   \n",
       "336                     Satyam Baranwal, Vivek Prakash   \n",
       "345                    Ashwarya Garg, Akshay Bhatnagar   \n",
       "367                 Aditya Bhushan Verma, Mamta Kumari   \n",
       "376                                       Nishant Behl   \n",
       "379                                        Ishan Gupta   \n",
       "383                                    Shivam Varshney   \n",
       "384                                    Harddik K Patel   \n",
       "386                                    Sameer Aggarwal   \n",
       "393                                        Disha Singh   \n",
       "406                                       Kamesh Goyal   \n",
       "428  Abhishek Tripathi, Dhruv Kaushal, Prince Tripa...   \n",
       "429                                   Sonam Srivastava   \n",
       "436                                       Avneet Singh   \n",
       "452  Abhijith Naraparaju, Pankajj P. Ghode, Sundeep...   \n",
       "724                          Sharmin Ali, Sutanshu Raj   \n",
       "732         Shourya Agarwal, Malhar Patil, Rajat Gupta   \n",
       "733                          Nishank Jain, Sanjay Bhat   \n",
       "735                Gaurav Ranebennur, Nishanth Janadri   \n",
       "766                      Jo Aggarwal, Ramakant Vempati   \n",
       "769                      Prashant Gupta, Vivek Chandan   \n",
       "794  Chaitanya Rathi, Shubham Agarwal, Siddharth Ra...   \n",
       "801        Archit Jayasal, Kunaal Dudeja, Nalin Saluja   \n",
       "807  Prateek Garg, Rahul Gupta, Ratan Anmol Sethi, ...   \n",
       "810                                    Anushree Goenka   \n",
       "814                                           Amal P S   \n",
       "820                                       Kundan Shahi   \n",
       "824                                        Varun Mayya   \n",
       "827                          Manish Gupta, Rashi Gupta   \n",
       "833       Jaynti Kanani, Sandeep Nailwal, Anurag Arjun   \n",
       "846      Pramudit Somvanshi, Mohit Patel, Aakash Gupta   \n",
       "853           Swarup Bose, Rajneesh Raman, Arbind Jain   \n",
       "\n",
       "                                              Investor    Amount($)     Stage  \n",
       "7                            Inflection Point Ventures  Undisclosed  Series A  \n",
       "8                                    Inflexor Ventures  Undisclosed      Seed  \n",
       "21                       Chiratae Ventures, JAFCO Asia  Undisclosed      Seed  \n",
       "39                                           9Unicorns  Undisclosed      Seed  \n",
       "54                      Vaibhav Domkundwar, Kunal Shah  Undisclosed      Seed  \n",
       "64                          GetVantage, Prakash Katama  Undisclosed  Series A  \n",
       "67                            Marquee fintech founders  Undisclosed  Series A  \n",
       "316     ITI Growth Opportunities Fund, Unit-E Ventures  Undisclosed      Seed  \n",
       "319                             Orios Venture Partners  Undisclosed      Seed  \n",
       "321                          Wipro venture capital arm  Undisclosed      Seed  \n",
       "325                     Anas Rahman Junaid, Vinod Jose  Undisclosed  Series A  \n",
       "334      Venture Catalysts, 9Unicorns Accelerator Fund  Undisclosed  Series A  \n",
       "336                    Y Combinator, Rebright Partners  Undisclosed      Seed  \n",
       "345                                         ScoopWhoop  Undisclosed      Seed  \n",
       "367                                Equanimity Ventures  Undisclosed      Seed  \n",
       "376                                        Campus Fund  Undisclosed      Seed  \n",
       "379                                  Venture Catalysts  Undisclosed  Series A  \n",
       "383    Sunil Kumar Singhvi, 9Unicorns Accelerator Fund  Undisclosed  Series A  \n",
       "384         India Accelerator’s Angel Investor Network  Undisclosed      Seed  \n",
       "386                                   Shell Foundation  Undisclosed      Seed  \n",
       "393                                      Titan Capital  Undisclosed      Seed  \n",
       "406                      A91 Partners, Faering Capital  Undisclosed      Seed  \n",
       "428                                   GSF, Pras Hanuma  Undisclosed      Seed  \n",
       "429                        Ajat Hukkoo, Piyush Chaplot  Undisclosed      Seed  \n",
       "436                                    Trishneet Arora  Undisclosed      Seed  \n",
       "452                                           Omnivore  Undisclosed      Seed  \n",
       "724                         EXPERT DOJO, Mumbai Angels  Undisclosed      Seed  \n",
       "732                  Sundi Natarajan, Srinivas Anumolu  Undisclosed      Seed  \n",
       "733                        Titan Capital, First Cheque  Undisclosed      Seed  \n",
       "735                                 MaGEHold Pte. Ltd.  Undisclosed  Series A  \n",
       "766                           Kae Capital, Pi Ventures  Undisclosed      Seed  \n",
       "769                                                NaN  Undisclosed      Seed  \n",
       "794       Sequoia Capital India, Matrix Partners India  Undisclosed      Seed  \n",
       "801  National Skill Development Corporation, Rianta...  Undisclosed      Seed  \n",
       "807                 Shireen Rangaswamy, Dilesh Gathani  Undisclosed      Seed  \n",
       "810                                     Better Capital  Undisclosed      Seed  \n",
       "814                Rajesh Agarwal, Nandkishore Mundada  Undisclosed      Seed  \n",
       "820                                          9Unicorns  Undisclosed      Seed  \n",
       "824  Tanglin Ventures, Better Capital, Whiteboard C...  Undisclosed  Series A  \n",
       "827                   Devesh Sachdev, Bhavesh Manglani  Undisclosed      Seed  \n",
       "833                           Mark Cuban, MiH Ventures  Undisclosed      Seed  \n",
       "846                                        Lead Angels  Undisclosed      Seed  \n",
       "853                                Eaglewings Ventures  Undisclosed      Seed  "
      ]
     },
     "execution_count": 113,
     "metadata": {},
     "output_type": "execute_result"
    }
   ],
   "source": [
    "# checking for undisclosed in the amount column\n",
    "data_2021.loc[data_2021['Amount($)']=='Undisclosed']"
   ]
  },
  {
   "cell_type": "markdown",
   "id": "ae55512a",
   "metadata": {},
   "source": [
    "The invetsigation output above revealed  that none of the records had the amount wrongly entered in a different column. It is obvious that the amount was not disclosed. Theey are replace with 0. "
   ]
  },
  {
   "cell_type": "markdown",
   "id": "a88dcec8",
   "metadata": {},
   "source": [
    "<p style=\"font-size:20px ; font-weight: bold ; font-family: 'Times New Roman'; color: #00008B\">replacing the Undisclosed with nan</p><br>"
   ]
  },
  {
   "cell_type": "code",
   "execution_count": 114,
   "id": "0d43494f",
   "metadata": {},
   "outputs": [],
   "source": [
    "# replacing the Undisclosed with nan\n",
    "data_2021.replace({'Amount($)':{'Undisclosed',np.nan}}, inplace=True)"
   ]
  },
  {
   "cell_type": "markdown",
   "id": "efaf7943",
   "metadata": {},
   "source": [
    "<p style=\"font-size:20px ; font-weight: bold ; font-family: 'Times New Roman'; color: #00008B\">Checking for $Undisclosed in the amount column</p><br>"
   ]
  },
  {
   "cell_type": "code",
   "execution_count": 115,
   "id": "efc1d8ce",
   "metadata": {},
   "outputs": [
    {
     "data": {
      "text/html": [
       "<div>\n",
       "<style scoped>\n",
       "    .dataframe tbody tr th:only-of-type {\n",
       "        vertical-align: middle;\n",
       "    }\n",
       "\n",
       "    .dataframe tbody tr th {\n",
       "        vertical-align: top;\n",
       "    }\n",
       "\n",
       "    .dataframe thead th {\n",
       "        text-align: right;\n",
       "    }\n",
       "</style>\n",
       "<table border=\"1\" class=\"dataframe\">\n",
       "  <thead>\n",
       "    <tr style=\"text-align: right;\">\n",
       "      <th></th>\n",
       "      <th>Company/Brand</th>\n",
       "      <th>Founded</th>\n",
       "      <th>HeadQuarter</th>\n",
       "      <th>Sector</th>\n",
       "      <th>What it does</th>\n",
       "      <th>Founders</th>\n",
       "      <th>Investor</th>\n",
       "      <th>Amount($)</th>\n",
       "      <th>Stage</th>\n",
       "    </tr>\n",
       "  </thead>\n",
       "  <tbody>\n",
       "    <tr>\n",
       "      <th>87</th>\n",
       "      <td>Karbon Card</td>\n",
       "      <td>2019.0</td>\n",
       "      <td>Bengaluru</td>\n",
       "      <td>FinTech</td>\n",
       "      <td>Prime objective is to empower Indian startups ...</td>\n",
       "      <td>Pei-fu Hsieh, Amit Jangir, Kartik Jain, Sunil ...</td>\n",
       "      <td>Y Combinator</td>\n",
       "      <td>$Undisclosed</td>\n",
       "      <td>Seed</td>\n",
       "    </tr>\n",
       "    <tr>\n",
       "      <th>99</th>\n",
       "      <td>NeoDocs</td>\n",
       "      <td>2020.0</td>\n",
       "      <td>Mumbai</td>\n",
       "      <td>Healthcare</td>\n",
       "      <td>Neodocs is a part of India's prominent Social ...</td>\n",
       "      <td>Nikunj Malpani, Anurag Meena, Pratik Lodha</td>\n",
       "      <td>Y Combinator, 9Unicorns, Titan Capital</td>\n",
       "      <td>$Undisclosed</td>\n",
       "      <td>Seed</td>\n",
       "    </tr>\n",
       "    <tr>\n",
       "      <th>112</th>\n",
       "      <td>NeoDocs</td>\n",
       "      <td>2020.0</td>\n",
       "      <td>Mumbai</td>\n",
       "      <td>Healthcare</td>\n",
       "      <td>Neodocs is a part of India's prominent Social ...</td>\n",
       "      <td>Nikunj Malpani, Anurag Meena, Pratik Lodha</td>\n",
       "      <td>Y Combinator, 9Unicorns, Titan Capital</td>\n",
       "      <td>$Undisclosed</td>\n",
       "      <td>Seed</td>\n",
       "    </tr>\n",
       "    <tr>\n",
       "      <th>123</th>\n",
       "      <td>Imagimake</td>\n",
       "      <td>2011.0</td>\n",
       "      <td>Mumbai</td>\n",
       "      <td>Consumer Goods</td>\n",
       "      <td>Imagimake – one of the fastest growing and mos...</td>\n",
       "      <td>Disha Katharani, Ravi Jalan</td>\n",
       "      <td>Velocity</td>\n",
       "      <td>$Undisclosed</td>\n",
       "      <td>Seed</td>\n",
       "    </tr>\n",
       "    <tr>\n",
       "      <th>127</th>\n",
       "      <td>Akudo</td>\n",
       "      <td>2020.0</td>\n",
       "      <td>Bengaluru</td>\n",
       "      <td>FinTech</td>\n",
       "      <td>Akudo is pioneering the concept of Learning-Fi...</td>\n",
       "      <td>Lavika Aggarwal, Sajal Khanna, Jagveer Gandhi</td>\n",
       "      <td>Y Combinator, Incubate Fund India</td>\n",
       "      <td>$Undisclosed</td>\n",
       "      <td>Seed</td>\n",
       "    </tr>\n",
       "    <tr>\n",
       "      <th>...</th>\n",
       "      <td>...</td>\n",
       "      <td>...</td>\n",
       "      <td>...</td>\n",
       "      <td>...</td>\n",
       "      <td>...</td>\n",
       "      <td>...</td>\n",
       "      <td>...</td>\n",
       "      <td>...</td>\n",
       "      <td>...</td>\n",
       "    </tr>\n",
       "    <tr>\n",
       "      <th>1128</th>\n",
       "      <td>Leverage Edu</td>\n",
       "      <td>2017.0</td>\n",
       "      <td>Delhi</td>\n",
       "      <td>Education</td>\n",
       "      <td>India's Most Trusted Study Abroad Platform</td>\n",
       "      <td>Akshay Chaturvedi</td>\n",
       "      <td>Vijay Shekhar Sharma, Rohit Kapoor, Amanpreet ...</td>\n",
       "      <td>$Undisclosed</td>\n",
       "      <td>Seed</td>\n",
       "    </tr>\n",
       "    <tr>\n",
       "      <th>1160</th>\n",
       "      <td>Atomberg Technologies</td>\n",
       "      <td>2012.0</td>\n",
       "      <td>Mumbai</td>\n",
       "      <td>Consumer Goods</td>\n",
       "      <td>A maker of energy-efficient smart fans</td>\n",
       "      <td>Manoj Meena, Sibabrata Das</td>\n",
       "      <td>Ka Enterprises</td>\n",
       "      <td>$Undisclosed</td>\n",
       "      <td>Seed</td>\n",
       "    </tr>\n",
       "    <tr>\n",
       "      <th>1161</th>\n",
       "      <td>Genext Students</td>\n",
       "      <td>2013.0</td>\n",
       "      <td>Mumbai</td>\n",
       "      <td>Education</td>\n",
       "      <td>LIVE online classes with expert tutors for K-1...</td>\n",
       "      <td>Ali Asgar Kagzi, Piyush Dhanuka</td>\n",
       "      <td>Navneet Education</td>\n",
       "      <td>$Undisclosed</td>\n",
       "      <td>Seed</td>\n",
       "    </tr>\n",
       "    <tr>\n",
       "      <th>1166</th>\n",
       "      <td>OckyPocky</td>\n",
       "      <td>2015.0</td>\n",
       "      <td>Gurugram</td>\n",
       "      <td>Education</td>\n",
       "      <td>OckyPocky is India's 1st interactive English l...</td>\n",
       "      <td>Amit Agrawal</td>\n",
       "      <td>Sujeet Kumar, SucSEED Indovation Fund</td>\n",
       "      <td>$Undisclosed</td>\n",
       "      <td>Seed</td>\n",
       "    </tr>\n",
       "    <tr>\n",
       "      <th>1193</th>\n",
       "      <td>Sapio Analytics</td>\n",
       "      <td>2019.0</td>\n",
       "      <td>Mumbai</td>\n",
       "      <td>Software</td>\n",
       "      <td>Sapio helps government create policies driven ...</td>\n",
       "      <td>Hardik Somani, Ashwin Srivastava, Shripal Jain...</td>\n",
       "      <td>Rachit Poddar, Rajesh Gupta</td>\n",
       "      <td>$Undisclosed</td>\n",
       "      <td>Seed</td>\n",
       "    </tr>\n",
       "  </tbody>\n",
       "</table>\n",
       "<p>73 rows × 9 columns</p>\n",
       "</div>"
      ],
      "text/plain": [
       "              Company/Brand  Founded HeadQuarter          Sector  \\\n",
       "87              Karbon Card   2019.0   Bengaluru         FinTech   \n",
       "99                  NeoDocs   2020.0      Mumbai      Healthcare   \n",
       "112                 NeoDocs   2020.0      Mumbai      Healthcare   \n",
       "123               Imagimake   2011.0      Mumbai  Consumer Goods   \n",
       "127                   Akudo   2020.0   Bengaluru         FinTech   \n",
       "...                     ...      ...         ...             ...   \n",
       "1128           Leverage Edu   2017.0       Delhi       Education   \n",
       "1160  Atomberg Technologies   2012.0      Mumbai  Consumer Goods   \n",
       "1161        Genext Students   2013.0      Mumbai       Education   \n",
       "1166              OckyPocky   2015.0    Gurugram       Education   \n",
       "1193        Sapio Analytics   2019.0      Mumbai        Software   \n",
       "\n",
       "                                           What it does  \\\n",
       "87    Prime objective is to empower Indian startups ...   \n",
       "99    Neodocs is a part of India's prominent Social ...   \n",
       "112   Neodocs is a part of India's prominent Social ...   \n",
       "123   Imagimake – one of the fastest growing and mos...   \n",
       "127   Akudo is pioneering the concept of Learning-Fi...   \n",
       "...                                                 ...   \n",
       "1128         India's Most Trusted Study Abroad Platform   \n",
       "1160             A maker of energy-efficient smart fans   \n",
       "1161  LIVE online classes with expert tutors for K-1...   \n",
       "1166  OckyPocky is India's 1st interactive English l...   \n",
       "1193  Sapio helps government create policies driven ...   \n",
       "\n",
       "                                               Founders  \\\n",
       "87    Pei-fu Hsieh, Amit Jangir, Kartik Jain, Sunil ...   \n",
       "99           Nikunj Malpani, Anurag Meena, Pratik Lodha   \n",
       "112          Nikunj Malpani, Anurag Meena, Pratik Lodha   \n",
       "123                         Disha Katharani, Ravi Jalan   \n",
       "127       Lavika Aggarwal, Sajal Khanna, Jagveer Gandhi   \n",
       "...                                                 ...   \n",
       "1128                                  Akshay Chaturvedi   \n",
       "1160                         Manoj Meena, Sibabrata Das   \n",
       "1161                    Ali Asgar Kagzi, Piyush Dhanuka   \n",
       "1166                                       Amit Agrawal   \n",
       "1193  Hardik Somani, Ashwin Srivastava, Shripal Jain...   \n",
       "\n",
       "                                               Investor     Amount($) Stage  \n",
       "87                                         Y Combinator  $Undisclosed  Seed  \n",
       "99               Y Combinator, 9Unicorns, Titan Capital  $Undisclosed  Seed  \n",
       "112              Y Combinator, 9Unicorns, Titan Capital  $Undisclosed  Seed  \n",
       "123                                            Velocity  $Undisclosed  Seed  \n",
       "127                   Y Combinator, Incubate Fund India  $Undisclosed  Seed  \n",
       "...                                                 ...           ...   ...  \n",
       "1128  Vijay Shekhar Sharma, Rohit Kapoor, Amanpreet ...  $Undisclosed  Seed  \n",
       "1160                                     Ka Enterprises  $Undisclosed  Seed  \n",
       "1161                                  Navneet Education  $Undisclosed  Seed  \n",
       "1166              Sujeet Kumar, SucSEED Indovation Fund  $Undisclosed  Seed  \n",
       "1193                        Rachit Poddar, Rajesh Gupta  $Undisclosed  Seed  \n",
       "\n",
       "[73 rows x 9 columns]"
      ]
     },
     "execution_count": 115,
     "metadata": {},
     "output_type": "execute_result"
    }
   ],
   "source": [
    "# checking for $Undisclosed in the amount column\n",
    "data_2021.loc[data_2021['Amount($)']=='$Undisclosed']"
   ]
  },
  {
   "cell_type": "markdown",
   "id": "c31db92d",
   "metadata": {},
   "source": [
    "The invetsigation output above revealed that none of the records had the amount wrongly entered in a different column. It is obvious that the amount was not disclosed. They are replace with 0"
   ]
  },
  {
   "cell_type": "markdown",
   "id": "d7682042",
   "metadata": {},
   "source": [
    "<p style=\"font-size:20px ; font-weight: bold ; font-family: 'Times New Roman'; color: #00008B\">Replacing the $undisclosed with 0</p><br>"
   ]
  },
  {
   "cell_type": "code",
   "execution_count": 116,
   "id": "79d146c5",
   "metadata": {},
   "outputs": [],
   "source": [
    "# replacing the $undisclosed with 0\n",
    "data_2021.replace({'Amount($)':{'$undisclosed',np.nan}}, inplace=True)"
   ]
  },
  {
   "cell_type": "markdown",
   "id": "28b6061b",
   "metadata": {},
   "source": [
    "<p style=\"font-size:20px ; font-weight: bold ; font-family: 'Times New Roman'; color: #00008B\">checking for Series C in the amount column</p><br>"
   ]
  },
  {
   "cell_type": "code",
   "execution_count": 117,
   "id": "59b1d37c",
   "metadata": {},
   "outputs": [
    {
     "data": {
      "text/html": [
       "<div>\n",
       "<style scoped>\n",
       "    .dataframe tbody tr th:only-of-type {\n",
       "        vertical-align: middle;\n",
       "    }\n",
       "\n",
       "    .dataframe tbody tr th {\n",
       "        vertical-align: top;\n",
       "    }\n",
       "\n",
       "    .dataframe thead th {\n",
       "        text-align: right;\n",
       "    }\n",
       "</style>\n",
       "<table border=\"1\" class=\"dataframe\">\n",
       "  <thead>\n",
       "    <tr style=\"text-align: right;\">\n",
       "      <th></th>\n",
       "      <th>Company/Brand</th>\n",
       "      <th>Founded</th>\n",
       "      <th>HeadQuarter</th>\n",
       "      <th>Sector</th>\n",
       "      <th>What it does</th>\n",
       "      <th>Founders</th>\n",
       "      <th>Investor</th>\n",
       "      <th>Amount($)</th>\n",
       "      <th>Stage</th>\n",
       "    </tr>\n",
       "  </thead>\n",
       "  <tbody>\n",
       "    <tr>\n",
       "      <th>242</th>\n",
       "      <td>Fullife Healthcare</td>\n",
       "      <td>2009.0</td>\n",
       "      <td>Unknown</td>\n",
       "      <td>Healthcare</td>\n",
       "      <td>Varun Khanna</td>\n",
       "      <td>Morgan Stanley Private Equity Asia</td>\n",
       "      <td>$22000000</td>\n",
       "      <td>Series C</td>\n",
       "      <td>Seed</td>\n",
       "    </tr>\n",
       "  </tbody>\n",
       "</table>\n",
       "</div>"
      ],
      "text/plain": [
       "          Company/Brand  Founded HeadQuarter      Sector  What it does  \\\n",
       "242  Fullife Healthcare   2009.0     Unknown  Healthcare  Varun Khanna   \n",
       "\n",
       "                               Founders   Investor Amount($) Stage  \n",
       "242  Morgan Stanley Private Equity Asia  $22000000  Series C  Seed  "
      ]
     },
     "execution_count": 117,
     "metadata": {},
     "output_type": "execute_result"
    }
   ],
   "source": [
    "# checking for Series C in the amount column\n",
    "data_2021.loc[data_2021['Amount($)']=='Series C']"
   ]
  },
  {
   "cell_type": "markdown",
   "id": "1ed73b51",
   "metadata": {},
   "source": [
    "This output revelas that there haas been some transposition at the investor, amount and stage column.\n",
    "\n",
    "This is corrected in the code below"
   ]
  },
  {
   "cell_type": "markdown",
   "id": "1bfddd08",
   "metadata": {},
   "source": [
    "<p style=\"font-size:20px ; font-weight: bold ; font-family: 'Times New Roman'; color: #00008B\">correcting the wrong placement of the HeadQuarter and Sector values</p><br>"
   ]
  },
  {
   "cell_type": "code",
   "execution_count": 118,
   "id": "e302c1d9",
   "metadata": {},
   "outputs": [],
   "source": [
    "# correcting the wrong placement of the HeadQuarter and Sector values\n",
    "data_2021.loc[data_2021['Company/Brand']=='Fullife Healthcare',['Amount($)','Investor','Stage']]=[22000000, 'Morgan Stanley','Series C']"
   ]
  },
  {
   "cell_type": "markdown",
   "id": "2b31e7ac",
   "metadata": {},
   "source": [
    "<p style=\"font-size:20px ; font-weight: bold ; font-family: 'Times New Roman'; color: #00008B\">checking for Seed in the amount column</p><br>"
   ]
  },
  {
   "cell_type": "code",
   "execution_count": 119,
   "id": "c610cec4",
   "metadata": {},
   "outputs": [
    {
     "data": {
      "text/html": [
       "<div>\n",
       "<style scoped>\n",
       "    .dataframe tbody tr th:only-of-type {\n",
       "        vertical-align: middle;\n",
       "    }\n",
       "\n",
       "    .dataframe tbody tr th {\n",
       "        vertical-align: top;\n",
       "    }\n",
       "\n",
       "    .dataframe thead th {\n",
       "        text-align: right;\n",
       "    }\n",
       "</style>\n",
       "<table border=\"1\" class=\"dataframe\">\n",
       "  <thead>\n",
       "    <tr style=\"text-align: right;\">\n",
       "      <th></th>\n",
       "      <th>Company/Brand</th>\n",
       "      <th>Founded</th>\n",
       "      <th>HeadQuarter</th>\n",
       "      <th>Sector</th>\n",
       "      <th>What it does</th>\n",
       "      <th>Founders</th>\n",
       "      <th>Investor</th>\n",
       "      <th>Amount($)</th>\n",
       "      <th>Stage</th>\n",
       "    </tr>\n",
       "  </thead>\n",
       "  <tbody>\n",
       "    <tr>\n",
       "      <th>257</th>\n",
       "      <td>MoEVing</td>\n",
       "      <td>2021.0</td>\n",
       "      <td>Gurugram</td>\n",
       "      <td>Automotive</td>\n",
       "      <td>Vikash Mishra, Mragank Jain</td>\n",
       "      <td>Anshuman Maheshwary, Dr Srihari Raju Kalidindi</td>\n",
       "      <td>$5000000</td>\n",
       "      <td>Seed</td>\n",
       "      <td>Seed</td>\n",
       "    </tr>\n",
       "    <tr>\n",
       "      <th>1148</th>\n",
       "      <td>Godamwale</td>\n",
       "      <td>2016.0</td>\n",
       "      <td>Mumbai</td>\n",
       "      <td>Logistics</td>\n",
       "      <td>Godamwale is tech enabled integrated logistics...</td>\n",
       "      <td>Basant Kumar, Vivek Tiwari, Ranbir Nandan</td>\n",
       "      <td>1000000\\t#REF!</td>\n",
       "      <td>Seed</td>\n",
       "      <td>Seed</td>\n",
       "    </tr>\n",
       "  </tbody>\n",
       "</table>\n",
       "</div>"
      ],
      "text/plain": [
       "     Company/Brand  Founded HeadQuarter      Sector  \\\n",
       "257        MoEVing   2021.0    Gurugram  Automotive   \n",
       "1148     Godamwale   2016.0      Mumbai   Logistics   \n",
       "\n",
       "                                           What it does  \\\n",
       "257                         Vikash Mishra, Mragank Jain   \n",
       "1148  Godamwale is tech enabled integrated logistics...   \n",
       "\n",
       "                                            Founders        Investor  \\\n",
       "257   Anshuman Maheshwary, Dr Srihari Raju Kalidindi        $5000000   \n",
       "1148       Basant Kumar, Vivek Tiwari, Ranbir Nandan  1000000\\t#REF!   \n",
       "\n",
       "     Amount($) Stage  \n",
       "257       Seed  Seed  \n",
       "1148      Seed  Seed  "
      ]
     },
     "execution_count": 119,
     "metadata": {},
     "output_type": "execute_result"
    }
   ],
   "source": [
    "# checking for Seed in the amount column\n",
    "data_2021.loc[data_2021['Amount($)']=='Seed']"
   ]
  },
  {
   "cell_type": "markdown",
   "id": "4ffcc5b3",
   "metadata": {},
   "source": [
    "The output of the investigation shows that two records were involved with this error. The stage, investor and Amount columns were interchanged. This is corrected in the code below"
   ]
  },
  {
   "cell_type": "markdown",
   "id": "432a62ec",
   "metadata": {},
   "source": [
    "<p style=\"font-size:20px ; font-weight: bold ; font-family: 'Times New Roman'; color: #00008B\">correcting the wrong placement of the HeadQuarter and Sector values</p><br>"
   ]
  },
  {
   "cell_type": "code",
   "execution_count": 120,
   "id": "cad9734e",
   "metadata": {},
   "outputs": [],
   "source": [
    "# correcting the wrong placement of the HeadQuarter and Sector values\n",
    "data_2021.loc[data_2021['Company/Brand']=='MoEVing',['Amount($)','Investor','Stage']]=[5000000, 'Unknown','Seed']\n",
    "\n",
    "#correcting the second record\n",
    "data_2021.loc[data_2021['Company/Brand']=='Godamwale',['Amount($)','Investor','Stage', 'Sector']]=[1000000, 'Unknown','Seed','Logistics']"
   ]
  },
  {
   "cell_type": "markdown",
   "id": "90c2c470",
   "metadata": {},
   "source": [
    "<p style=\"font-size:20px ; font-weight: bold ; font-family: 'Times New Roman'; color: #00008B\">checking for Pre-series A in the amount column</p><br>"
   ]
  },
  {
   "cell_type": "code",
   "execution_count": 121,
   "id": "118cacf2",
   "metadata": {},
   "outputs": [
    {
     "data": {
      "text/html": [
       "<div>\n",
       "<style scoped>\n",
       "    .dataframe tbody tr th:only-of-type {\n",
       "        vertical-align: middle;\n",
       "    }\n",
       "\n",
       "    .dataframe tbody tr th {\n",
       "        vertical-align: top;\n",
       "    }\n",
       "\n",
       "    .dataframe thead th {\n",
       "        text-align: right;\n",
       "    }\n",
       "</style>\n",
       "<table border=\"1\" class=\"dataframe\">\n",
       "  <thead>\n",
       "    <tr style=\"text-align: right;\">\n",
       "      <th></th>\n",
       "      <th>Company/Brand</th>\n",
       "      <th>Founded</th>\n",
       "      <th>HeadQuarter</th>\n",
       "      <th>Sector</th>\n",
       "      <th>What it does</th>\n",
       "      <th>Founders</th>\n",
       "      <th>Investor</th>\n",
       "      <th>Amount($)</th>\n",
       "      <th>Stage</th>\n",
       "    </tr>\n",
       "  </thead>\n",
       "  <tbody>\n",
       "    <tr>\n",
       "      <th>545</th>\n",
       "      <td>AdmitKard</td>\n",
       "      <td>2016.0</td>\n",
       "      <td>Noida</td>\n",
       "      <td>Education</td>\n",
       "      <td>A tech solution for end to end career advisory...</td>\n",
       "      <td>Vamsi Krishna, Pulkit Jain, Gaurav Munjal\\t#REF!</td>\n",
       "      <td>$1000000</td>\n",
       "      <td>Pre-series A</td>\n",
       "      <td>Seed</td>\n",
       "    </tr>\n",
       "  </tbody>\n",
       "</table>\n",
       "</div>"
      ],
      "text/plain": [
       "    Company/Brand  Founded HeadQuarter     Sector  \\\n",
       "545     AdmitKard   2016.0       Noida  Education   \n",
       "\n",
       "                                          What it does  \\\n",
       "545  A tech solution for end to end career advisory...   \n",
       "\n",
       "                                             Founders  Investor     Amount($)  \\\n",
       "545  Vamsi Krishna, Pulkit Jain, Gaurav Munjal\\t#REF!  $1000000  Pre-series A   \n",
       "\n",
       "    Stage  \n",
       "545  Seed  "
      ]
     },
     "execution_count": 121,
     "metadata": {},
     "output_type": "execute_result"
    }
   ],
   "source": [
    "# checking for Pre-series A in the amount column\n",
    "data_2021.loc[data_2021['Amount($)']=='Pre-series A']"
   ]
  },
  {
   "cell_type": "markdown",
   "id": "bdcd7bcc",
   "metadata": {},
   "source": [
    "The invetsor, Amount, and stage columns has been interchanged. The Sector column will be renamed to be consistent with others. \n",
    "\n",
    "This is correcetd in the code below"
   ]
  },
  {
   "cell_type": "code",
   "execution_count": 122,
   "id": "b1f932da",
   "metadata": {},
   "outputs": [],
   "source": [
    "data_2021.loc[data_2021['Company/Brand']=='AdmitKard',['Amount($)','Investor','Stage', 'Sector']]=[1000000, 'Unknown','Series A','Education']"
   ]
  },
  {
   "cell_type": "markdown",
   "id": "73ba2f00",
   "metadata": {},
   "source": [
    "<p style=\"font-size:20px ; font-weight: bold ; font-family: 'Times New Roman'; color: #00008B\">First change the data type to a string to work on the special characters</p><br>"
   ]
  },
  {
   "cell_type": "code",
   "execution_count": 123,
   "id": "3af239a4",
   "metadata": {},
   "outputs": [],
   "source": [
    "#First change the data type to a string to work on the special characters\n",
    "data_2021['Amount($)']=data_2021['Amount($)'].astype(str) "
   ]
  },
  {
   "cell_type": "markdown",
   "id": "c7a22fb5",
   "metadata": {},
   "source": [
    "<p style=\"font-size:20px ; font-weight: bold ; font-family: 'Times New Roman'; color: #00008B\">Removing all special characters in the colum</p><br>"
   ]
  },
  {
   "cell_type": "code",
   "execution_count": 124,
   "id": "8de2eeff",
   "metadata": {},
   "outputs": [],
   "source": [
    "# removing all special characters in the colum\n",
    "data_2021[\"Amount($)\"]=data_2021['Amount($)'].apply(lambda x: str(x).replace(\"$\" ,\"\")) \n",
    "data_2021[\"Amount($)\"]=data_2021['Amount($)'].apply(lambda x: str(x).replace(\",\" ,\"\"))"
   ]
  },
  {
   "cell_type": "markdown",
   "id": "023e3bdc",
   "metadata": {},
   "source": [
    "<p style=\"font-size:20px ; font-weight: bold ; font-family: 'Times New Roman'; color: #00008B\">change the data type to a float</p><br>"
   ]
  },
  {
   "cell_type": "code",
   "execution_count": 125,
   "id": "3a0ef76d",
   "metadata": {},
   "outputs": [],
   "source": [
    "# change the data type to a float\n",
    "# The downcast parameter is used to set the data type to float\n",
    "data_2021['Amount($)'] = pd.to_numeric(data_2021['Amount($)'], errors='coerce', downcast='float') "
   ]
  },
  {
   "cell_type": "markdown",
   "id": "94e07ac5",
   "metadata": {},
   "source": [
    "<p style=\"font-size:20px ; font-weight: bold ; font-family: 'Times New Roman'; color: #00008B\">Replacing nan with median</p><br>"
   ]
  },
  {
   "cell_type": "code",
   "execution_count": 126,
   "id": "54bfe6c2",
   "metadata": {},
   "outputs": [],
   "source": [
    "#replacing nan with median\n",
    "data_2021['Amount($)']=data_2021['Amount($)'].fillna(data_2021['Amount($)'].median())"
   ]
  },
  {
   "cell_type": "markdown",
   "id": "63d2c227",
   "metadata": {},
   "source": [
    "<br><p style=\"font-size:20px ; font-weight: bold ; font-family: 'Times New Roman'; color: #00008B\">Cleaning the `Founders` Column</p><br>"
   ]
  },
  {
   "cell_type": "code",
   "execution_count": 127,
   "id": "5eb53cb0",
   "metadata": {},
   "outputs": [],
   "source": [
    "# all nan values are to be filled with unknown on the \n",
    "data_2021['Founders']=data_2021['Founders'].fillna('Unknown')"
   ]
  },
  {
   "cell_type": "markdown",
   "id": "06fb23bd",
   "metadata": {},
   "source": [
    "<p style=\"font-size:20px ; font-weight: bold ; font-family: 'Times New Roman'; color: #00008B\">All nan values are to be filled with unknown on the </p><br>"
   ]
  },
  {
   "cell_type": "code",
   "execution_count": 128,
   "id": "6db5c5a4",
   "metadata": {},
   "outputs": [],
   "source": [
    "# all nan values are to be filled with unknown on the \n",
    "data_2021['Founders']=data_2021['Founders'].fillna('Unknown')"
   ]
  },
  {
   "cell_type": "markdown",
   "id": "b1430347",
   "metadata": {},
   "source": [
    "<br><p style=\"font-size:30px ; font-weight: bold ; font-family: 'Times New Roman'; color: #00008B\">Cleaning the `Investor` Column</p><br>"
   ]
  },
  {
   "cell_type": "markdown",
   "id": "d5bbec8a",
   "metadata": {},
   "source": [
    "<p style=\"font-size:20px ; font-weight: bold ; font-family: 'Times New Roman'; color: #00008B\">All nan values are to be filled with unknown on the</p><br>"
   ]
  },
  {
   "cell_type": "code",
   "execution_count": 129,
   "id": "8561d801",
   "metadata": {},
   "outputs": [],
   "source": [
    "# all nan values are to be filled with unknown on the \n",
    "data_2021['Investor']=data_2021['Investor'].fillna('Unknown')"
   ]
  },
  {
   "cell_type": "markdown",
   "id": "cd92ca00",
   "metadata": {},
   "source": [
    "<p style=\"font-size:20px ; font-weight: bold ; font-family: 'Times New Roman'; color: #00008B\">Checking for duplicate entries</p><br>"
   ]
  },
  {
   "cell_type": "code",
   "execution_count": 130,
   "id": "d7e5a4f6",
   "metadata": {},
   "outputs": [
    {
     "data": {
      "text/plain": [
       "False    1188\n",
       "True       18\n",
       "dtype: int64"
      ]
     },
     "execution_count": 130,
     "metadata": {},
     "output_type": "execute_result"
    }
   ],
   "source": [
    "# checking for duplicate entries\n",
    "data_2021.duplicated().value_counts()"
   ]
  },
  {
   "cell_type": "markdown",
   "id": "a61cc01f",
   "metadata": {},
   "source": [
    "<p style=\"font-size:20px ; font-weight: bold ; font-family: 'Times New Roman'; color: #00008B\">Remove the duplicate record</p><br>"
   ]
  },
  {
   "cell_type": "code",
   "execution_count": 131,
   "id": "5cd4a90b",
   "metadata": {},
   "outputs": [],
   "source": [
    "# remove the duplicate record\n",
    "data_2021=data_2021.drop_duplicates(keep='first')  "
   ]
  },
  {
   "cell_type": "markdown",
   "id": "f734f7c3",
   "metadata": {},
   "source": [
    "<p style=\"font-size:20px ; font-weight: bold ; font-family: 'Times New Roman'; color: #00008B\">Checking for null values</p><br>"
   ]
  },
  {
   "cell_type": "code",
   "execution_count": 132,
   "id": "d24f88a3",
   "metadata": {},
   "outputs": [
    {
     "data": {
      "text/plain": [
       "Company/Brand  Founded  HeadQuarter  Sector  What it does  Founders  Investor  Amount($)  Stage\n",
       "False          False    False        False   False         False     False     False      False    1186\n",
       "                        True         False   False         False     False     False      False       1\n",
       "               True     False        False   False         False     False     False      False       1\n",
       "dtype: int64"
      ]
     },
     "execution_count": 132,
     "metadata": {},
     "output_type": "execute_result"
    }
   ],
   "source": [
    "# checking for null values\n",
    "data_2021.isna().value_counts()"
   ]
  },
  {
   "cell_type": "markdown",
   "id": "4a48ee3f",
   "metadata": {},
   "source": [
    "<br><p style=\"font-size:30px ; font-weight: bold ; font-family: 'Times New Roman'; color: #00008B\">Combining the Various Data Sets `2018`, `2019`, `2020`, `2021` into one</p><br>"
   ]
  },
  {
   "cell_type": "code",
   "execution_count": 133,
   "id": "97a6f6a9",
   "metadata": {},
   "outputs": [
    {
     "data": {
      "text/html": [
       "<div>\n",
       "<style scoped>\n",
       "    .dataframe tbody tr th:only-of-type {\n",
       "        vertical-align: middle;\n",
       "    }\n",
       "\n",
       "    .dataframe tbody tr th {\n",
       "        vertical-align: top;\n",
       "    }\n",
       "\n",
       "    .dataframe thead th {\n",
       "        text-align: right;\n",
       "    }\n",
       "</style>\n",
       "<table border=\"1\" class=\"dataframe\">\n",
       "  <thead>\n",
       "    <tr style=\"text-align: right;\">\n",
       "      <th></th>\n",
       "      <th>Company/Brand</th>\n",
       "      <th>Sector</th>\n",
       "      <th>Stage</th>\n",
       "      <th>Amount($)</th>\n",
       "      <th>HeadQuarter</th>\n",
       "      <th>What it does</th>\n",
       "      <th>Founded</th>\n",
       "      <th>Founders</th>\n",
       "      <th>Investor</th>\n",
       "      <th>Unnamed: 9</th>\n",
       "    </tr>\n",
       "  </thead>\n",
       "  <tbody>\n",
       "    <tr>\n",
       "      <th>0</th>\n",
       "      <td>TheCollegeFever</td>\n",
       "      <td>Advertising</td>\n",
       "      <td>Seed</td>\n",
       "      <td>250000.0</td>\n",
       "      <td>Bengaluru</td>\n",
       "      <td>TheCollegeFever is a hub for fun, fiesta and f...</td>\n",
       "      <td>NaN</td>\n",
       "      <td>NaN</td>\n",
       "      <td>NaN</td>\n",
       "      <td>NaN</td>\n",
       "    </tr>\n",
       "    <tr>\n",
       "      <th>1</th>\n",
       "      <td>Happy Cow Dairy</td>\n",
       "      <td>Agriculture</td>\n",
       "      <td>Seed</td>\n",
       "      <td>584000.0</td>\n",
       "      <td>Mumbai</td>\n",
       "      <td>A startup which aggregates milk from dairy far...</td>\n",
       "      <td>NaN</td>\n",
       "      <td>NaN</td>\n",
       "      <td>NaN</td>\n",
       "      <td>NaN</td>\n",
       "    </tr>\n",
       "    <tr>\n",
       "      <th>2</th>\n",
       "      <td>MyLoanCare</td>\n",
       "      <td>Credit Cards</td>\n",
       "      <td>Series A</td>\n",
       "      <td>949000.0</td>\n",
       "      <td>Gurgaon</td>\n",
       "      <td>Leading Online Loans Marketplace in India</td>\n",
       "      <td>NaN</td>\n",
       "      <td>NaN</td>\n",
       "      <td>NaN</td>\n",
       "      <td>NaN</td>\n",
       "    </tr>\n",
       "    <tr>\n",
       "      <th>3</th>\n",
       "      <td>PayMe India</td>\n",
       "      <td>Financial Services</td>\n",
       "      <td>Angel</td>\n",
       "      <td>2000000.0</td>\n",
       "      <td>Noida</td>\n",
       "      <td>PayMe India is an innovative FinTech organizat...</td>\n",
       "      <td>NaN</td>\n",
       "      <td>NaN</td>\n",
       "      <td>NaN</td>\n",
       "      <td>NaN</td>\n",
       "    </tr>\n",
       "    <tr>\n",
       "      <th>4</th>\n",
       "      <td>Eunimart</td>\n",
       "      <td>E-Commerce</td>\n",
       "      <td>Seed</td>\n",
       "      <td>0.0</td>\n",
       "      <td>Hyderabad</td>\n",
       "      <td>Eunimart is a one stop solution for merchants ...</td>\n",
       "      <td>NaN</td>\n",
       "      <td>NaN</td>\n",
       "      <td>NaN</td>\n",
       "      <td>NaN</td>\n",
       "    </tr>\n",
       "  </tbody>\n",
       "</table>\n",
       "</div>"
      ],
      "text/plain": [
       "     Company/Brand              Sector     Stage  Amount($) HeadQuarter  \\\n",
       "0  TheCollegeFever         Advertising      Seed   250000.0   Bengaluru   \n",
       "1  Happy Cow Dairy         Agriculture      Seed   584000.0      Mumbai   \n",
       "2       MyLoanCare        Credit Cards  Series A   949000.0     Gurgaon   \n",
       "3      PayMe India  Financial Services     Angel  2000000.0       Noida   \n",
       "4         Eunimart          E-Commerce      Seed        0.0   Hyderabad   \n",
       "\n",
       "                                        What it does Founded Founders  \\\n",
       "0  TheCollegeFever is a hub for fun, fiesta and f...     NaN      NaN   \n",
       "1  A startup which aggregates milk from dairy far...     NaN      NaN   \n",
       "2          Leading Online Loans Marketplace in India     NaN      NaN   \n",
       "3  PayMe India is an innovative FinTech organizat...     NaN      NaN   \n",
       "4  Eunimart is a one stop solution for merchants ...     NaN      NaN   \n",
       "\n",
       "  Investor Unnamed: 9  \n",
       "0      NaN        NaN  \n",
       "1      NaN        NaN  \n",
       "2      NaN        NaN  \n",
       "3      NaN        NaN  \n",
       "4      NaN        NaN  "
      ]
     },
     "execution_count": 133,
     "metadata": {},
     "output_type": "execute_result"
    }
   ],
   "source": [
    "# #creating a variable to hold the different dataframes\n",
    "data=[data_2018,data_2019,data_2020,data_2021]\n",
    "#concatenating the varibale holding the various dataframes\n",
    "combined_data=pd.concat(data,ignore_index=True)\n",
    "combined_data.head()"
   ]
  },
  {
   "cell_type": "code",
   "execution_count": 134,
   "id": "13039bb6",
   "metadata": {},
   "outputs": [
    {
     "data": {
      "text/plain": [
       "(2855, 10)"
      ]
     },
     "execution_count": 134,
     "metadata": {},
     "output_type": "execute_result"
    }
   ],
   "source": [
    "combined_data.shape"
   ]
  },
  {
   "cell_type": "markdown",
   "id": "feb2850d",
   "metadata": {},
   "source": [
    "<br><p style=\"font-size:30px ; font-weight: bold ; font-family: 'Times New Roman'; color: #00008B\">Saving the combined data set as a new file and reloading it for analysis</p><br>"
   ]
  },
  {
   "cell_type": "markdown",
   "id": "1122d88e",
   "metadata": {},
   "source": [
    "<p style=\"font-size:20px ; font-weight: bold ; font-family: 'Times New Roman'; color: #00008B\">saving the new dataframe after concatenation in order to have it work on it without having to change the other datasets</p><br>"
   ]
  },
  {
   "cell_type": "code",
   "execution_count": 135,
   "id": "82dacced",
   "metadata": {},
   "outputs": [
    {
     "data": {
      "text/html": [
       "<div>\n",
       "<style scoped>\n",
       "    .dataframe tbody tr th:only-of-type {\n",
       "        vertical-align: middle;\n",
       "    }\n",
       "\n",
       "    .dataframe tbody tr th {\n",
       "        vertical-align: top;\n",
       "    }\n",
       "\n",
       "    .dataframe thead th {\n",
       "        text-align: right;\n",
       "    }\n",
       "</style>\n",
       "<table border=\"1\" class=\"dataframe\">\n",
       "  <thead>\n",
       "    <tr style=\"text-align: right;\">\n",
       "      <th></th>\n",
       "      <th>Company/Brand</th>\n",
       "      <th>Sector</th>\n",
       "      <th>Stage</th>\n",
       "      <th>Amount($)</th>\n",
       "      <th>HeadQuarter</th>\n",
       "      <th>What it does</th>\n",
       "      <th>Founded</th>\n",
       "      <th>Founders</th>\n",
       "      <th>Investor</th>\n",
       "      <th>Unnamed: 9</th>\n",
       "    </tr>\n",
       "  </thead>\n",
       "  <tbody>\n",
       "    <tr>\n",
       "      <th>0</th>\n",
       "      <td>TheCollegeFever</td>\n",
       "      <td>Advertising</td>\n",
       "      <td>Seed</td>\n",
       "      <td>250000.0</td>\n",
       "      <td>Bengaluru</td>\n",
       "      <td>TheCollegeFever is a hub for fun, fiesta and f...</td>\n",
       "      <td>NaN</td>\n",
       "      <td>NaN</td>\n",
       "      <td>NaN</td>\n",
       "      <td>NaN</td>\n",
       "    </tr>\n",
       "    <tr>\n",
       "      <th>1</th>\n",
       "      <td>Happy Cow Dairy</td>\n",
       "      <td>Agriculture</td>\n",
       "      <td>Seed</td>\n",
       "      <td>584000.0</td>\n",
       "      <td>Mumbai</td>\n",
       "      <td>A startup which aggregates milk from dairy far...</td>\n",
       "      <td>NaN</td>\n",
       "      <td>NaN</td>\n",
       "      <td>NaN</td>\n",
       "      <td>NaN</td>\n",
       "    </tr>\n",
       "    <tr>\n",
       "      <th>2</th>\n",
       "      <td>MyLoanCare</td>\n",
       "      <td>Credit Cards</td>\n",
       "      <td>Series A</td>\n",
       "      <td>949000.0</td>\n",
       "      <td>Gurgaon</td>\n",
       "      <td>Leading Online Loans Marketplace in India</td>\n",
       "      <td>NaN</td>\n",
       "      <td>NaN</td>\n",
       "      <td>NaN</td>\n",
       "      <td>NaN</td>\n",
       "    </tr>\n",
       "    <tr>\n",
       "      <th>3</th>\n",
       "      <td>PayMe India</td>\n",
       "      <td>Financial Services</td>\n",
       "      <td>Angel</td>\n",
       "      <td>2000000.0</td>\n",
       "      <td>Noida</td>\n",
       "      <td>PayMe India is an innovative FinTech organizat...</td>\n",
       "      <td>NaN</td>\n",
       "      <td>NaN</td>\n",
       "      <td>NaN</td>\n",
       "      <td>NaN</td>\n",
       "    </tr>\n",
       "    <tr>\n",
       "      <th>4</th>\n",
       "      <td>Eunimart</td>\n",
       "      <td>E-Commerce</td>\n",
       "      <td>Seed</td>\n",
       "      <td>0.0</td>\n",
       "      <td>Hyderabad</td>\n",
       "      <td>Eunimart is a one stop solution for merchants ...</td>\n",
       "      <td>NaN</td>\n",
       "      <td>NaN</td>\n",
       "      <td>NaN</td>\n",
       "      <td>NaN</td>\n",
       "    </tr>\n",
       "  </tbody>\n",
       "</table>\n",
       "</div>"
      ],
      "text/plain": [
       "     Company/Brand              Sector     Stage  Amount($) HeadQuarter  \\\n",
       "0  TheCollegeFever         Advertising      Seed   250000.0   Bengaluru   \n",
       "1  Happy Cow Dairy         Agriculture      Seed   584000.0      Mumbai   \n",
       "2       MyLoanCare        Credit Cards  Series A   949000.0     Gurgaon   \n",
       "3      PayMe India  Financial Services     Angel  2000000.0       Noida   \n",
       "4         Eunimart          E-Commerce      Seed        0.0   Hyderabad   \n",
       "\n",
       "                                        What it does Founded Founders  \\\n",
       "0  TheCollegeFever is a hub for fun, fiesta and f...     NaN      NaN   \n",
       "1  A startup which aggregates milk from dairy far...     NaN      NaN   \n",
       "2          Leading Online Loans Marketplace in India     NaN      NaN   \n",
       "3  PayMe India is an innovative FinTech organizat...     NaN      NaN   \n",
       "4  Eunimart is a one stop solution for merchants ...     NaN      NaN   \n",
       "\n",
       "  Investor Unnamed: 9  \n",
       "0      NaN        NaN  \n",
       "1      NaN        NaN  \n",
       "2      NaN        NaN  \n",
       "3      NaN        NaN  \n",
       "4      NaN        NaN  "
      ]
     },
     "execution_count": 135,
     "metadata": {},
     "output_type": "execute_result"
    }
   ],
   "source": [
    "#saving the new dataframe after concatenation in order to have it work on it without having to change the other datasets\n",
    "combined_data.to_csv('combined_data.csv')\n",
    "combined_data.head()"
   ]
  },
  {
   "cell_type": "markdown",
   "id": "3d25b205",
   "metadata": {},
   "source": [
    "<br><p style=\"font-size:30px ; font-weight: bold ; font-family: 'Times New Roman'; color: #00008B\">Exploratory Data Analysis (EDA)</p><br>"
   ]
  },
  {
   "cell_type": "markdown",
   "id": "cb45089e",
   "metadata": {},
   "source": [
    "<p style=\"font-size:20px ; font-weight: bold ; font-family: 'Times New Roman'; color: #00008B\">dropping unwanted column </p><br>"
   ]
  },
  {
   "cell_type": "code",
   "execution_count": 136,
   "id": "1c08975f",
   "metadata": {},
   "outputs": [
    {
     "data": {
      "text/html": [
       "<div>\n",
       "<style scoped>\n",
       "    .dataframe tbody tr th:only-of-type {\n",
       "        vertical-align: middle;\n",
       "    }\n",
       "\n",
       "    .dataframe tbody tr th {\n",
       "        vertical-align: top;\n",
       "    }\n",
       "\n",
       "    .dataframe thead th {\n",
       "        text-align: right;\n",
       "    }\n",
       "</style>\n",
       "<table border=\"1\" class=\"dataframe\">\n",
       "  <thead>\n",
       "    <tr style=\"text-align: right;\">\n",
       "      <th></th>\n",
       "      <th>Company/Brand</th>\n",
       "      <th>Sector</th>\n",
       "      <th>Stage</th>\n",
       "      <th>Amount($)</th>\n",
       "      <th>HeadQuarter</th>\n",
       "      <th>What it does</th>\n",
       "      <th>Founded</th>\n",
       "      <th>Founders</th>\n",
       "      <th>Investor</th>\n",
       "    </tr>\n",
       "  </thead>\n",
       "  <tbody>\n",
       "    <tr>\n",
       "      <th>0</th>\n",
       "      <td>TheCollegeFever</td>\n",
       "      <td>Advertising</td>\n",
       "      <td>Seed</td>\n",
       "      <td>250000.0</td>\n",
       "      <td>Bengaluru</td>\n",
       "      <td>TheCollegeFever is a hub for fun, fiesta and f...</td>\n",
       "      <td>NaN</td>\n",
       "      <td>NaN</td>\n",
       "      <td>NaN</td>\n",
       "    </tr>\n",
       "    <tr>\n",
       "      <th>1</th>\n",
       "      <td>Happy Cow Dairy</td>\n",
       "      <td>Agriculture</td>\n",
       "      <td>Seed</td>\n",
       "      <td>584000.0</td>\n",
       "      <td>Mumbai</td>\n",
       "      <td>A startup which aggregates milk from dairy far...</td>\n",
       "      <td>NaN</td>\n",
       "      <td>NaN</td>\n",
       "      <td>NaN</td>\n",
       "    </tr>\n",
       "    <tr>\n",
       "      <th>2</th>\n",
       "      <td>MyLoanCare</td>\n",
       "      <td>Credit Cards</td>\n",
       "      <td>Series A</td>\n",
       "      <td>949000.0</td>\n",
       "      <td>Gurgaon</td>\n",
       "      <td>Leading Online Loans Marketplace in India</td>\n",
       "      <td>NaN</td>\n",
       "      <td>NaN</td>\n",
       "      <td>NaN</td>\n",
       "    </tr>\n",
       "    <tr>\n",
       "      <th>3</th>\n",
       "      <td>PayMe India</td>\n",
       "      <td>Financial Services</td>\n",
       "      <td>Angel</td>\n",
       "      <td>2000000.0</td>\n",
       "      <td>Noida</td>\n",
       "      <td>PayMe India is an innovative FinTech organizat...</td>\n",
       "      <td>NaN</td>\n",
       "      <td>NaN</td>\n",
       "      <td>NaN</td>\n",
       "    </tr>\n",
       "    <tr>\n",
       "      <th>4</th>\n",
       "      <td>Eunimart</td>\n",
       "      <td>E-Commerce</td>\n",
       "      <td>Seed</td>\n",
       "      <td>0.0</td>\n",
       "      <td>Hyderabad</td>\n",
       "      <td>Eunimart is a one stop solution for merchants ...</td>\n",
       "      <td>NaN</td>\n",
       "      <td>NaN</td>\n",
       "      <td>NaN</td>\n",
       "    </tr>\n",
       "  </tbody>\n",
       "</table>\n",
       "</div>"
      ],
      "text/plain": [
       "     Company/Brand              Sector     Stage  Amount($) HeadQuarter  \\\n",
       "0  TheCollegeFever         Advertising      Seed   250000.0   Bengaluru   \n",
       "1  Happy Cow Dairy         Agriculture      Seed   584000.0      Mumbai   \n",
       "2       MyLoanCare        Credit Cards  Series A   949000.0     Gurgaon   \n",
       "3      PayMe India  Financial Services     Angel  2000000.0       Noida   \n",
       "4         Eunimart          E-Commerce      Seed        0.0   Hyderabad   \n",
       "\n",
       "                                        What it does Founded Founders Investor  \n",
       "0  TheCollegeFever is a hub for fun, fiesta and f...     NaN      NaN      NaN  \n",
       "1  A startup which aggregates milk from dairy far...     NaN      NaN      NaN  \n",
       "2          Leading Online Loans Marketplace in India     NaN      NaN      NaN  \n",
       "3  PayMe India is an innovative FinTech organizat...     NaN      NaN      NaN  \n",
       "4  Eunimart is a one stop solution for merchants ...     NaN      NaN      NaN  "
      ]
     },
     "execution_count": 136,
     "metadata": {},
     "output_type": "execute_result"
    }
   ],
   "source": [
    "# dropping unwanted column \n",
    "combined_data.drop('Unnamed: 9',axis=1, inplace=True)\n",
    "combined_data.head()"
   ]
  },
  {
   "cell_type": "code",
   "execution_count": 137,
   "id": "d4abd7c3",
   "metadata": {},
   "outputs": [
    {
     "data": {
      "text/html": [
       "<style type=\"text/css\">\n",
       "#T_761d8 thead>tr>th {\n",
       "  text-align: left;\n",
       "}\n",
       "#T_761d8_row0_col0, #T_761d8_row1_col0, #T_761d8_row2_col0, #T_761d8_row3_col0, #T_761d8_row4_col0, #T_761d8_row5_col0, #T_761d8_row6_col0, #T_761d8_row7_col0, #T_761d8_row8_col0 {\n",
       "  text-align: left;\n",
       "  font-size: 12px;\n",
       "  vertical-align: middle;\n",
       "  width: 5%;\n",
       "  max-width: 50px;\n",
       "  min-width: 20px;\n",
       "}\n",
       "#T_761d8_row0_col1, #T_761d8_row1_col1, #T_761d8_row2_col1, #T_761d8_row3_col1, #T_761d8_row4_col1, #T_761d8_row5_col1, #T_761d8_row6_col1, #T_761d8_row7_col1, #T_761d8_row8_col1 {\n",
       "  text-align: left;\n",
       "  font-size: 12px;\n",
       "  vertical-align: middle;\n",
       "  width: 15%;\n",
       "  max-width: 200px;\n",
       "  min-width: 100px;\n",
       "  word-break: break-word;\n",
       "}\n",
       "#T_761d8_row0_col2, #T_761d8_row1_col2, #T_761d8_row2_col2, #T_761d8_row3_col2, #T_761d8_row4_col2, #T_761d8_row5_col2, #T_761d8_row6_col2, #T_761d8_row7_col2, #T_761d8_row8_col2 {\n",
       "  text-align: left;\n",
       "  font-size: 12px;\n",
       "  vertical-align: middle;\n",
       "  width: 30%;\n",
       "  min-width: 100px;\n",
       "}\n",
       "#T_761d8_row0_col3, #T_761d8_row1_col3, #T_761d8_row2_col3, #T_761d8_row3_col3, #T_761d8_row4_col3, #T_761d8_row5_col3, #T_761d8_row6_col3, #T_761d8_row7_col3, #T_761d8_row8_col3 {\n",
       "  text-align: left;\n",
       "  font-size: 12px;\n",
       "  vertical-align: middle;\n",
       "  width: 25%;\n",
       "  min-width: 100px;\n",
       "}\n",
       "#T_761d8_row0_col4, #T_761d8_row1_col4, #T_761d8_row2_col4, #T_761d8_row3_col4, #T_761d8_row4_col4, #T_761d8_row5_col4, #T_761d8_row6_col4, #T_761d8_row7_col4, #T_761d8_row8_col4 {\n",
       "  text-align: left;\n",
       "  font-size: 12px;\n",
       "  vertical-align: middle;\n",
       "  width: 20%;\n",
       "  min-width: 150px;\n",
       "}\n",
       "#T_761d8_row0_col5, #T_761d8_row1_col5, #T_761d8_row2_col5, #T_761d8_row3_col5, #T_761d8_row4_col5, #T_761d8_row5_col5, #T_761d8_row6_col5, #T_761d8_row7_col5, #T_761d8_row8_col5 {\n",
       "  text-align: left;\n",
       "  font-size: 12px;\n",
       "  vertical-align: middle;\n",
       "  width: 10%;\n",
       "}\n",
       "</style>\n",
       "<table id=\"T_761d8\">\n",
       "  <caption><strong>Data Frame Summary</strong><br>combined_data<br>Dimensions: 2,855 x 9<br>Duplicates: 1</caption>\n",
       "  <thead>\n",
       "    <tr>\n",
       "      <th id=\"T_761d8_level0_col0\" class=\"col_heading level0 col0\" >No</th>\n",
       "      <th id=\"T_761d8_level0_col1\" class=\"col_heading level0 col1\" >Variable</th>\n",
       "      <th id=\"T_761d8_level0_col2\" class=\"col_heading level0 col2\" >Stats / Values</th>\n",
       "      <th id=\"T_761d8_level0_col3\" class=\"col_heading level0 col3\" >Freqs / (% of Valid)</th>\n",
       "      <th id=\"T_761d8_level0_col4\" class=\"col_heading level0 col4\" >Graph</th>\n",
       "      <th id=\"T_761d8_level0_col5\" class=\"col_heading level0 col5\" >Missing</th>\n",
       "    </tr>\n",
       "  </thead>\n",
       "  <tbody>\n",
       "    <tr>\n",
       "      <td id=\"T_761d8_row0_col0\" class=\"data row0 col0\" >1</td>\n",
       "      <td id=\"T_761d8_row0_col1\" class=\"data row0 col1\" ><strong>Company/Brand</strong><br>[object]</td>\n",
       "      <td id=\"T_761d8_row0_col2\" class=\"data row0 col2\" >1. BharatPe<br>2. Zomato<br>3. Vedantu<br>4. MPL<br>5. Nykaa<br>6. Spinny<br>7. Trell<br>8. Zetwerk<br>9. Teachmint<br>10. Jumbotail<br>11. other</td>\n",
       "      <td id=\"T_761d8_row0_col3\" class=\"data row0 col3\" >10 (0.4%)<br>7 (0.2%)<br>6 (0.2%)<br>6 (0.2%)<br>6 (0.2%)<br>6 (0.2%)<br>6 (0.2%)<br>6 (0.2%)<br>5 (0.2%)<br>5 (0.2%)<br>2,792 (97.8%)</td>\n",
       "      <td id=\"T_761d8_row0_col4\" class=\"data row0 col4\" ><img src = \"data:image/png;base64, iVBORw0KGgoAAAANSUhEUgAAAJsAAAD+CAYAAAAtWHdlAAAAOXRFWHRTb2Z0d2FyZQBNYXRwbG90bGliIHZlcnNpb24zLjUuMiwgaHR0cHM6Ly9tYXRwbG90bGliLm9yZy8qNh9FAAAACXBIWXMAAA9hAAAPYQGoP6dpAAADlklEQVR4nO3cQWojZxRG0VdGOO1JCSHwEpI9eBG92F6EFpE9GOMaxJ2eVAadhJBx+hYo54w0/AcXngz6vOz7PlB4OPoB/H+IjYzYyIiNjNjIiI2M2MiIjYzYyCwz8zQzs+/7x8Fv4c6drtfr55mZZVm+CI4f6WFd18u6rpeZeTz6Mdw339nIiI2M2MiIjYzYyIiNjNjIiI2M2MiIjYzYyIiNjNjIiI2M2MiIjcxp27a3Pz9/O/Ql3D0bBDKLf5lFxXc2Mg/LsvyyLMunox/C/XuYmZ9n5qejH8L9c0bJiI2M2MiIjYzYyIiNjNjIiI2M2MiIjYzYyIiNjNjIiI2M2Mg8zMyvM/P70Q/h/tkgkHFGyYiNjMELGYMXMs4oGbGRERsZsZERGxmxkREbGbGRERsZsZERGxmxkREbGbGRERsZgxcyBi9knFEyYiMjNjLWVWSsq8g4o2TERkZsZMRGRmxkxEZGbGTERkZsZMRGRmxkxEZGbGTERkZsZKyryFhXkXFGyYiNjMELGYMXMs4oGbGRERsZsZERGxmxkREbGbGRERsZsZERGxmxkREbGbGRERsZgxcyBi9knFEyYiNj8ELG4IWMM0pGbGTERkZsZMRGRmxkxEZGbGTERkZsZMRGRmxkxEZGbGTERkZsZKyryFhXkXFGyYiNjHUVGesqMs4oGbGRERsZsZERGxmxkREbGbGRERsZsZERGxmxkREbGbGRERsZgxcyBi9knFEyYiNj8ELG4IWMM0pGbGTERkZsZMRGRmxkxEZGbGTERkZsZMRGRmxkxEZGbGTERsbghYzBCxlnlIzYyIiNjHUVGesqMs4oGbGRERsZsZERGxmxkREbGbGRERsZsZERGxmxkREbGbGRERsZ6yoy1lVknFEyYiNj8ELG4IWMM0pGbGTERkZsZMRGRmxkxEZGbGTERkZsZMRGRmxkxEZGbGTERsbghYzBCxlnlMwyM08z83j0Q7hb3/Z9/5iZOV2v18/rul6OfhH3adu2t2VZvuz7/nFa1/Xy8vLycT6fvx79MO7L+/v7p9vtdnl9fX2cmY/TzMz5fP76/Pz828Fv4z49/fXBHwhkxEZGbGTERkZsZMRGRmxkxEZGbGTERkZsZMRGRmxkTjPffwpy9EO4P//u6rRt29vtdrvMP34KAv+VbdveZubbjJ+F8+P9/bNw6yoy/kAgIzYyYiMjNjJiIyM2MmIjIzYyYiPzBzYDflba1o3nAAAAAElFTkSuQmCC\"></img></td>\n",
       "      <td id=\"T_761d8_row0_col5\" class=\"data row0 col5\" >0<br>(0.0%)</td>\n",
       "    </tr>\n",
       "    <tr>\n",
       "      <td id=\"T_761d8_row1_col0\" class=\"data row1 col0\" >2</td>\n",
       "      <td id=\"T_761d8_row1_col1\" class=\"data row1 col1\" ><strong>Sector</strong><br>[object]</td>\n",
       "      <td id=\"T_761d8_row1_col2\" class=\"data row1 col2\" >1. FinTech<br>2. Healthcare<br>3. IT<br>4. E-Commerce<br>5. Education<br>6. Catering<br>7. EdTech<br>8. Financial Services<br>9. Automotive<br>10. AI<br>11. other</td>\n",
       "      <td id=\"T_761d8_row1_col3\" class=\"data row1 col3\" >265 (9.3%)<br>193 (6.8%)<br>185 (6.5%)<br>179 (6.3%)<br>169 (5.9%)<br>137 (4.8%)<br>119 (4.2%)<br>98 (3.4%)<br>96 (3.4%)<br>88 (3.1%)<br>1,326 (46.4%)</td>\n",
       "      <td id=\"T_761d8_row1_col4\" class=\"data row1 col4\" ><img src = \"data:image/png;base64, iVBORw0KGgoAAAANSUhEUgAAAJsAAAD+CAYAAAAtWHdlAAAAOXRFWHRTb2Z0d2FyZQBNYXRwbG90bGliIHZlcnNpb24zLjUuMiwgaHR0cHM6Ly9tYXRwbG90bGliLm9yZy8qNh9FAAAACXBIWXMAAA9hAAAPYQGoP6dpAAAD+ElEQVR4nO3cQWpbSQBF0VIQIZlIGIMX40VksVmEdmOMNeiETNSDHmhgyfpqlW6D+5yxBcJcyvxPPa8Oh8OAwpf/+gvw/yE2MmIjIzYyYiMjNjJiIyM2MmIjsxpjfB9jfP0Xn/1zOBx+Tf4+fGLrx8fHH5vN5uHaD+73+9fVavVTcCy13mw2D8/Pz7+22+3vpR96e3v7ttvtHl5eXr6OMcTGIusxxthut7+fnp7+uvKz3+/wffjEPCCQERsZsZERGxmxkREbGbGRERsZsZERGxmxkREbGbGRERuZ9Rj/3E+75kPX/jyMMcZ6v9+/7na7h3Hl/bT9fv86xvhzn6/FZ2SDQGblX2ZRueZkc5Jxk8XrKmsqbrVoXWVNxQzXrKusqbiJl7pkxEZGbGTERkZsZMRGRmxkxEZGbGTERkZsZMRGRmxkFg1eDFyYYfHgxcCFW7kWTsbghYyTjYzBCxmDFzIGL2S81CUjNjJiIyM2MmIjIzYyYiMjNjJiIyM2MmIjIzYyYiNj8ELG4IWMa+FkDF7IeEAg488oGesqMtZVZKyryHhAICM2MmIjIzYyYiMjNjJiIyM2MmIjIzYyYiMjNjJiI2NdRca6ioxr4WSsq8gsPdmcatxs0eDF2IUZLg5ejF2YZengxdiFm3mpS0ZsZMRGRmxkxEZGbGTERkZsZMRGRmxkxEZGbGTERubi4MXYhVkWDV6MXZjBtXAyBi9kLp1sTjSm+XDwYujCTGcHL4YuzHZp8GLowjRe6pIRGxmxkREbGbGRERsZsZERGxmxkREbGbGRERsZsZERG5mz6yqrKmb7cF1lVcVMNghkrKvIfHSyOdWY6uy6yrKK2U6uqyyruIeP1lWWVUzlpS4ZsZERGxmxkREbGbGRERsZsZERGxmxkREbGbGRERuZk4MXYxfu4ezgxdiF2VwLJ2PwQubcyeZUY7qTgxdjF+7h3eDF2IV7OTd4MXZhOi91yYiNjNjIiI2M2MiIjYzYyIiNjNjIiI2M2MiIjYzYyLwbvBi7cC8nBy/GLtyDa+FkDF7IeEAg488oGesqMtZVZKyryHhAICM2MmIjIzYyYiMjNjJiIyM2MmIjIzYyYiMjNjJiI2NdRca6ioxr4WSsq8g42cgYvJAxeCFj8ELGS10yYiMjNjJiIyM2MmIjIzYyYiMjNjJiIyM2MmIjIzYyBi9kDF7IuBZOxuCFzLmTjSOn/CQnBy8cGf/M827wwpHxz1znBi8cGf9M4qUuGbGRERsZsZERGxmxkREbGbGRERsZsZERGxmxkREbmXeDF478XuY6OXjhyPhnHtfCL3MtfBKDFzIeEMiIjYzYyIiNjNjIiI2M2MiIjYzYyPwNyHlO4nTwRKAAAAAASUVORK5CYII=\"></img></td>\n",
       "      <td id=\"T_761d8_row1_col5\" class=\"data row1 col5\" >18<br>(0.6%)</td>\n",
       "    </tr>\n",
       "    <tr>\n",
       "      <td id=\"T_761d8_row2_col0\" class=\"data row2 col0\" >3</td>\n",
       "      <td id=\"T_761d8_row2_col1\" class=\"data row2 col1\" ><strong>Stage</strong><br>[object]</td>\n",
       "      <td id=\"T_761d8_row2_col2\" class=\"data row2 col2\" >1. Seed<br>2. Series A<br>3. Series B<br>4. Series C<br>5. Debt<br>6. Series D<br>7. nan<br>8. Angel<br>9. Unknown<br>10. Series E<br>11. other</td>\n",
       "      <td id=\"T_761d8_row2_col3\" class=\"data row2 col3\" >1,668 (58.4%)<br>600 (21.0%)<br>156 (5.5%)<br>118 (4.1%)<br>60 (2.1%)<br>52 (1.8%)<br>46 (1.6%)<br>41 (1.4%)<br>39 (1.4%)<br>30 (1.1%)<br>45 (1.6%)</td>\n",
       "      <td id=\"T_761d8_row2_col4\" class=\"data row2 col4\" ><img src = \"data:image/png;base64, iVBORw0KGgoAAAANSUhEUgAAAJsAAAD+CAYAAAAtWHdlAAAAOXRFWHRTb2Z0d2FyZQBNYXRwbG90bGliIHZlcnNpb24zLjUuMiwgaHR0cHM6Ly9tYXRwbG90bGliLm9yZy8qNh9FAAAACXBIWXMAAA9hAAAPYQGoP6dpAAAEDUlEQVR4nO3dMW4bVwBF0U9CcMKGhCBAy9ACuIgsNovgArQPQdAUoeOGKWIbTmDLLoZ3BM05nbsP43qEGfxnbS6Xy4DCdukDsB5iIyM2MmIjIzYyYiMjNjJiIyM2Mpsxxm6M8WHpg6zEp8vlcl76EEu5ubu7+2O/398ufZA1mKbpebPZ/LnW4G72+/3t8Xg8Hw6Hj0sf5j17eXn5/XQ63T49PX0YY6wztjHGOBwOH+/v7/9a+jArsFv6AEvygkBGbGTERkZsZMRGRmxkxEZGbGTERkZsZMRGRmxkxEZGbGRuxvj3rtXSB3nv/B2PcTNN0/PpdLodK79rVZim6XmM8WnpcyzFBqG16g3Cxn+ZReWtPNlW/S9+Ld7Eumrtq6O1WHxdZXW0Hm9lXeVNeAV81CUjNjJiIyM2MmIjIzYyYiMjNjJiIyM2MmIjIzYyYiOz+ODFEGQ93sTgZe1DkLVwLZyMwQuZX3myeeowi58OXoxRmMurgxdjFOb0K4MXYxRm4aMuGbGRERsZsZERGxmxkREbGbGRERsZsZERGxmxkREbmVcHL8YozOmngxdjFObiWjgZgxcyXhDIvPZj1I9PZvXDdZVVFXP77rrKqopreG1dZVXFrLwgkBEbGbGRERsZsZERGxmxkREbGbGRERsZsZERGxmxkfnuusqqimv44brKqoq5uRZOxrqKzP+fbJ5mXM1/Bi9GLlzT9svg5Xg8nj9Ht/Svg+Sd+jp4+fxnIxeuxkddMmIjIzYyYiMjNjJiIyM2MmIjIzYyYiMjNjJiIyM2Mq/+OiGY07eDFyMXrsq1cDIGL2Q82cgYvJAxeCFj8ELGR10yYiMjNjJiIyM2MmIjIzYyYiMjNjJiIyM2MmIjIzYyYiNjXUXGuoqMDQIZ6yoy3z7ZPNW4qq/rKssqrm273+9vHx4ehmUV17YdY4zdbvf30gfh/fNRl4zYyIiNjNjIiI2M2MiIjYzYyIiNjNjIiI2M2MiIjcx2jDHO5/NvSx+E9287TdPz4+OjsQtX51o4GYMXMp5sZAxeyBi8kDF4IeOjLhmxkREbGbGRERsZsZERGxmxkREbGbGRERsZsZERGxmDFzIGL2RcCydj8ELGCwIZP0bJWFeRsa4iY11FxgsCGbGRERsZsZERGxmxkREbGbGRERsZsZERGxmxkREbGesqMtZVZFwLJ2NdRcaTjYzBCxmDFzIGL2R81CUjNjJiIyM2MmIjIzYyYiMjNjJiIyM2MmIjIzYyYiNj8ELG4IWMa+FkDF7IeLKRMXghY/BCxuCFjI+6ZMRGRmxkxEZGbGTERkZsZMRGRmxkxEZGbGTERkZsZAxeyBi8kHEtnIzBCxkvCGTERkZsZMRGRmxkxEZGbGTERkZsZP4BG8vqjksMnowAAAAASUVORK5CYII=\"></img></td>\n",
       "      <td id=\"T_761d8_row2_col5\" class=\"data row2 col5\" >46<br>(1.6%)</td>\n",
       "    </tr>\n",
       "    <tr>\n",
       "      <td id=\"T_761d8_row3_col0\" class=\"data row3 col0\" >4</td>\n",
       "      <td id=\"T_761d8_row3_col1\" class=\"data row3 col1\" ><strong>Amount($)</strong><br>[float64]</td>\n",
       "      <td id=\"T_761d8_row3_col2\" class=\"data row3 col2\" >Mean (sd) : 98223458.2 (3100144134.4)<br>min < med < max:<br>0.0 < 2000000.0 < 149999992832.0<br>IQR (CV) : 7600000.0 (0.0)</td>\n",
       "      <td id=\"T_761d8_row3_col3\" class=\"data row3 col3\" >510 distinct values</td>\n",
       "      <td id=\"T_761d8_row3_col4\" class=\"data row3 col4\" ><img src = \"data:image/png;base64, iVBORw0KGgoAAAANSUhEUgAAAKQAAABACAYAAACUYNzVAAAAOXRFWHRTb2Z0d2FyZQBNYXRwbG90bGliIHZlcnNpb24zLjUuMiwgaHR0cHM6Ly9tYXRwbG90bGliLm9yZy8qNh9FAAAACXBIWXMAAA9hAAAPYQGoP6dpAAABVklEQVR4nO3XQUoDMRiG4URKaTcZSqGH6SE8rIfobYqkC61CiVsXWu1s/LDPs03yk8XLDKljjAIpHv76AvDZ4tpirXVdSlnOnP0+xnideZY79W2Qtdb1drt9bK1t5gw+nU7PtdYnUXKLa1/IZWtts9/vX6dpOt8ytPe+OhwOm+PxuCylCJJfu/rLLqWUaZrOu93uZcbs9Ywz3DmPGqIIkiiCJIogiSJIogiSKIIkiiCJIkiiCJIogiSKIIkiSKIIkiiCJIogiSJIogiSKIIkiiCJIkiiCJIogiSKIIkiSKIIkiiCJIogiSJIogiSKIIkiiCJIkiiCJIogiSKIIkiSKIIkiiCJIogiSJIogiSKIIkiiCJIkiiCJIogiSKIIkiSKIIkiiCJIogiSJIogiSKIIkiiCJIkiiLH7a0Htf3Tq09766XC6LUkqrtc66GP/a2xjj/NXCBwdKLebWClftAAAAAElFTkSuQmCC\"></img></td>\n",
       "      <td id=\"T_761d8_row3_col5\" class=\"data row3 col5\" >3<br>(0.1%)</td>\n",
       "    </tr>\n",
       "    <tr>\n",
       "      <td id=\"T_761d8_row4_col0\" class=\"data row4 col0\" >5</td>\n",
       "      <td id=\"T_761d8_row4_col1\" class=\"data row4 col1\" ><strong>HeadQuarter</strong><br>[object]</td>\n",
       "      <td id=\"T_761d8_row4_col2\" class=\"data row4 col2\" >1. Bengaluru<br>2. Mumbai<br>3. Delhi<br>4. Gurugram<br>5. nan<br>6. Chennai<br>7. Pune<br>8. Noida<br>9. Gurgaon<br>10. Hyderabad<br>11. other</td>\n",
       "      <td id=\"T_761d8_row4_col3\" class=\"data row4 col3\" >923 (32.3%)<br>467 (16.4%)<br>322 (11.3%)<br>239 (8.4%)<br>114 (4.0%)<br>106 (3.7%)<br>104 (3.6%)<br>86 (3.0%)<br>80 (2.8%)<br>76 (2.7%)<br>338 (11.8%)</td>\n",
       "      <td id=\"T_761d8_row4_col4\" class=\"data row4 col4\" ><img src = \"data:image/png;base64, iVBORw0KGgoAAAANSUhEUgAAAJsAAAD+CAYAAAAtWHdlAAAAOXRFWHRTb2Z0d2FyZQBNYXRwbG90bGliIHZlcnNpb24zLjUuMiwgaHR0cHM6Ly9tYXRwbG90bGliLm9yZy8qNh9FAAAACXBIWXMAAA9hAAAPYQGoP6dpAAAEFUlEQVR4nO3dTWobWQBG0adGhM5Ewhi8GC+iF9uL0G6MsQZJyEQ9aDIw+rFcrrqKyTkLCDW4PFHF+5zV4XAYUPjr1g/An0NsZMRGRmxkxEZGbGTERkZsZMRGZjXG+DrG+HLrB5nBz8Ph8P3WD8F56/v7+382m83drR/ko/b7/fNqtfpXcL+v9WazuXt8fPy+3W5/3Pphpnp5efl7t9vdPT09fRljiO03tR5jjO12++Ph4eHbrR/mg77e+gG4zAsCGbGRERsZsZERGxmxkREbGbGRERsZsZERGxmxkREbGbGRWY/x/32wWz/IR3z25/9TrPf7/fNut7sbn/w+2H6/fx5j/Lz1c3CeDQKZlT+ZRaU62Zw6NOsqyyfGCNZVlk/8Uq2rPvWbLvPwUZeM2MiIjYzYyIiNjNjIiI2M2MiIjYzYyIiNjNjIiI3M4oMXYxR+SQYvxiiM4Vo4IYMXMnOdbE4u3jTL4MWghWt8ePBi0MK15hq8GLTwJh91yYiNjNjIiI2M2MiIjYzYyIiNjNjIiI2M2MiIjYzYyHx48GLQwrVmGbwYtHAN18LJGLyQ8YJAZurPqJ9N3m3Susqaiineva6ypmKqqesqayrezQsCGbGRERsZsZERGxmxkREbGbGRERsZsZERGxmxkREbmXevq6ypmGrSusqaiilcCydjXUXm0snm9GJWZwcvRi3M7eTgxaiFJVwavBi1MCsfdcmIjYzYyIiNjNjIiI2M2MiIjYzYyIiNjNjIiI2M2MicHLwYtbCEs4MXoxbm5lo4GYMXMk42MgYvZAxeyBi8kPFRl4zYyIiNjNjIiI2M2MiIjYzYyIiNjNjIiI2M2MiIjYzYyFhXkbGuImODQMa6ioyTjYx1FRnrKjLWVWR81CUjNjJiIyM2MmIjIzYyYiMjNjJiIyM2MmIjIzYyYiNj8ELG4IWMa+FkDF7InDvZnGrM7uTgxdiFJRwNXoxdWMq5wYuxC7PzUZeM2MiIjYzYyIiNjNjIiI2M2MiIjYzYyIiNjNjIiI3M0eDF2IWlnBy8GLuwBNfCyRi8kPGCQObUz6ifUBZxtK6yrGIpr9ZVllUs6dS6yrKKRXhBICM2MmIjIzYyYiMjNjJiIyM2MmIjIzYyYiMjNjJiI/NqXWVZxZKO1lWWVSzFtXAy1lVknGxkDF7IGLyQMXgh46MuGbGRERsZsZERGxmxkREbGbGRERsZsZERGxmxkREbGYMXMgYvZFwLJ2PwQubcf5Q2hRORi44GL1MZyvCWV4OXqf+IoQzXODV4mcpQhot81CUjNjJiIyM2MmIjIzYyYiMjNjJiIyM2MmIjIzYyYiPzavAylaEM1zgavExlKMNbXAsnY/BCxgsCGbGRERsZsZERGxmxkREbGbGRERuZ/wA8vU7ipcyDiwAAAABJRU5ErkJggg==\"></img></td>\n",
       "      <td id=\"T_761d8_row4_col5\" class=\"data row4 col5\" >114<br>(4.0%)</td>\n",
       "    </tr>\n",
       "    <tr>\n",
       "      <td id=\"T_761d8_row5_col0\" class=\"data row5 col0\" >6</td>\n",
       "      <td id=\"T_761d8_row5_col1\" class=\"data row5 col1\" ><strong>What it does</strong><br>[object]</td>\n",
       "      <td id=\"T_761d8_row5_col2\" class=\"data row5 col2\" >1. Provides online learning class<br>2. BYJU'S is an educational techn<br>3. BharatPe develops a QR code-ba<br>4. Onine learning platform<br>5. Mobile Premier League is a ski<br>6. Find automobile repair and mai<br>7. Operations and manpower outsou<br>8. DealShare is a Social Commerce<br>9. Freshtohome is an e-commerce p<br>10. Offers techno logistics soluti<br>11. other</td>\n",
       "      <td id=\"T_761d8_row5_col3\" class=\"data row5 col3\" >5 (0.2%)<br>5 (0.2%)<br>4 (0.1%)<br>4 (0.1%)<br>4 (0.1%)<br>3 (0.1%)<br>3 (0.1%)<br>3 (0.1%)<br>3 (0.1%)<br>3 (0.1%)<br>2,818 (98.7%)</td>\n",
       "      <td id=\"T_761d8_row5_col4\" class=\"data row5 col4\" ><img src = \"data:image/png;base64, iVBORw0KGgoAAAANSUhEUgAAAJsAAAD+CAYAAAAtWHdlAAAAOXRFWHRTb2Z0d2FyZQBNYXRwbG90bGliIHZlcnNpb24zLjUuMiwgaHR0cHM6Ly9tYXRwbG90bGliLm9yZy8qNh9FAAAACXBIWXMAAA9hAAAPYQGoP6dpAAADXElEQVR4nO3cwWkbYRRG0TdGOPZGQhhcQtKDi0ixKUJFpAdjPIvY8WaySBYpINwB5ZwK/sWFh2A+Ldu2DRRu9n4A/w+xkREbGbGRERsZsZERGxmxkREbGbGRuVmW5cuyLHd7P4TrdzMzn2fm094P4fo5o2TERkZsZMRGRmxkxEZGbGTERkZsZMRGRmxkxEZGbGTERkZsZMRG5mZmvs/Mz70fwvVb/IsRFWeUjNjIWFeRsa4i44ySERsZsZERGxmxkREbGbGRERsZsZERGxmxkREbGbGRERsZsZExeCFj8ELGGSUjNjIGL2QMXsg4o2TERkZsZMRGRmxkxEZGbGTERkZsZMRGRmxkxEZGbGTERkZsZAxeyBi8kHFGyYiNjNjIWFeRsa4i44ySERsZsZERGxmxkREbGbGRERsZsZERGxmxkREbGbGRERsZsZGxriJjXUXGGSUjNjIGL2QMXsg4o2TERkZsZMRGRmxkxEZGbGTERkZsZMRGRmxkxEZGbGTERkZsZAxeyBi8kHFGyYiNjMELGYMXMs4oGbGRERsZsZERGxmxkREbGbGRERsZsZERGxmxkREbGbGRERsZsZGxriJjXUXGGSUjNjLWVWSsq8g4o2TERkZsZMRGRmxkxEZGbGTERkZsZMRGRmxkxEZGbGTERkZsZAxeyBi8kHFGyYiNjMELGYMXMs4oGbGRERsZsZERGxmxkREbGbGRERsZsZERGxmxkREbGbGRERsZgxcyBi9knFEyYiMjNjLWVWSsq8g4o2TERkZsZMRGRmxkxEZGbGTERkZsZMRGRmxkxEZGbGTERkZsZKyryFhXkXFGyYiNjMELGYMXMs4oGbGRERsZsZERGxmxkREbGbGRERsZsZERGxmxkREbGbGRERsZgxcyBi9knFEyy8zcz8zt3g/hqn1s2/Z2eHh4+Ho8Hs97v4brta7ry7Is3w7H4/H89PT0djqd3vd+FNfn9fX17nK5nJ+fn28PMzOn0+n98fHxx94P42rdz/iBQEhsZMRGRmxkxEZGbGTERkZsZMRGRmxkxEZGbGTERuYw8/szkL0fwnX6u63Duq4vl8vlPH8+A4F/bV3Xl5n58Fk4hY9t296sq8j4gUBGbGTERkZsZMRGRmxkxEZGbGTERuYXwgdpOf758ysAAAAASUVORK5CYII=\"></img></td>\n",
       "      <td id=\"T_761d8_row5_col5\" class=\"data row5 col5\" >0<br>(0.0%)</td>\n",
       "    </tr>\n",
       "    <tr>\n",
       "      <td id=\"T_761d8_row6_col0\" class=\"data row6 col0\" >7</td>\n",
       "      <td id=\"T_761d8_row6_col1\" class=\"data row6 col1\" ><strong>Founded</strong><br>[object]</td>\n",
       "      <td id=\"T_761d8_row6_col2\" class=\"data row6 col2\" >1. nan<br>2. 2020<br>3. 2020.0<br>4. 2019.0<br>5. 2015<br>6. 2018.0<br>7. 2019<br>8. 2018<br>9. 2015.0<br>10. 2016.0<br>11. other</td>\n",
       "      <td id=\"T_761d8_row6_col3\" class=\"data row6 col3\" >527 (18.5%)<br>255 (8.9%)<br>229 (8.0%)<br>176 (6.2%)<br>147 (5.1%)<br>142 (5.0%)<br>137 (4.8%)<br>129 (4.5%)<br>128 (4.5%)<br>118 (4.1%)<br>867 (30.4%)</td>\n",
       "      <td id=\"T_761d8_row6_col4\" class=\"data row6 col4\" ><img src = \"data:image/png;base64, iVBORw0KGgoAAAANSUhEUgAAAJsAAAD+CAYAAAAtWHdlAAAAOXRFWHRTb2Z0d2FyZQBNYXRwbG90bGliIHZlcnNpb24zLjUuMiwgaHR0cHM6Ly9tYXRwbG90bGliLm9yZy8qNh9FAAAACXBIWXMAAA9hAAAPYQGoP6dpAAAEC0lEQVR4nO3dPW7bWABG0aeBEEwaCYYBL8aLmMXOIrQbwzCLJEijKaaNfkgxNxJ8zgbo4uIJJPiZm+PxOKDw15/+A/g8xEZGbGTERkZsZMRGRmxkxEZGbGQ2Y4yvY4wv8XV/Ho/H7/E1+cO2z8/P/+x2u6fyotM0vW82m38F97lsd7vd0+vr6/f9fv+juODHx8ffh8Ph6e3t7csYQ2yfyHaMMfb7/Y+Xl5dv4XW/htfiTrhBICM2MmIjIzYyYiMjNjJiIyM2MmIjIzYyYiMjNjJiIyM2Mtsx/n/HrLpgeS3uy3aapvfD4fA0wnfMpml6H2P8rK7HfbBBILPxL7Oo3HKyOZ2YZfG6ykKKuRatqyykWOKWdZWFFLN4qEtGbGTERkZsZMRGRmxkxEZGbGTERkZsZMRGRmxkxEZm0eDFaIUlFg9ejFaYy2vhZAxeyCw52ZxoLDJ78GLowlKzBi+GLtxiyeDF0IVFPNQlIzYyYiMjNjJiIyM2MmIjIzYyYiMjNjJiIyM2MmIjM2vwYujCLWYPXgxdWMpr4WQMXsi4QSAz52fUzyc3uXpdZVXFra5aV1lVsYY56yqrKm7iBoGM2MiIjYzYyIiNjNjIiI2M2MiIjYzYyIiNjNjIiI3MVesqqyrWcPW6yqqKW3ktnIx1FZlrTjYnGqu4OHgxdGEtZwcvhi6s6ZrBi6ELq/BQl4zYyIiNjNjIiI2M2MiIjYzYyIiNjNjIiI2M2MiIjczZwYuhC2u6OHgxdGEtXgsnY/BCxslGxuCFjMELGYMXMh7qkhEbGbGRERsZsZERGxmxkREbGbGRERsZsZERGxmxkREbGesqMtZVZGwQyFhXkbl0sjnVWM3ZdZVlFWs6ua6yrGJtl9ZVllWsxkNdMmIjIzYyYiMjNjJiIyM2MmIjIzYyYiMjNjJiIyM2MicHL8YurO3s4MXYhTV5LZyMwQsZJxsZgxcyBi9kDF7IeKhLRmxkxEZGbGTERkZsZMRGRmxkxEZGbGTERkZsZMRGxuCFjMELGa+FkzF4IeMGgYyfUTLWVWSsq8hYV5Fxg0BGbGTERkZsZMRGRmxkxEZGbGTERkZsZMRGRmxkxEbGuoqMdRUZr4WTsa4ic+5kc6qxqpODF2MX1vbLwYuxC7/DucGLsQur8lCXjNjIiI2M2MiIjYzYyIiNjNjIiI2M2MiIjYzYyIiNzC8HL8Yu/A4nBy/GLqzNa+FkDF7IXJry3Tun7wM5+4WXe2eU81hOfuHl3hnlPJ5LX3i5d0Y5D8RDXTJiIyM2MmIjIzYyYiMjNjJiIyM2MmIjIzYyYiMjNjInv/By7x7xb/7szn7h5d4Z5TwWr4WTMXgh4waBjNjIiI2M2MiIjYzYyIiNjNjIiI3Mf7DyTuIdfD7jAAAAAElFTkSuQmCC\"></img></td>\n",
       "      <td id=\"T_761d8_row6_col5\" class=\"data row6 col5\" >527<br>(18.5%)</td>\n",
       "    </tr>\n",
       "    <tr>\n",
       "      <td id=\"T_761d8_row7_col0\" class=\"data row7 col0\" >8</td>\n",
       "      <td id=\"T_761d8_row7_col1\" class=\"data row7 col1\" ><strong>Founders</strong><br>[object]</td>\n",
       "      <td id=\"T_761d8_row7_col2\" class=\"data row7 col2\" >1. nan<br>2. Ashneer Grover, Shashvat Nakra<br>3. Byju Raveendran<br>4. Byju Raveendran, Divya Gokulna<br>5. Ritesh Agarwal<br>6. Sai Srinivas Kiran G, Shubham <br>7. Falguni Nayar<br>8. Bhavish Aggarwal<br>9. Nirmit Parikh<br>10. Sahil Sheth<br>11. other</td>\n",
       "      <td id=\"T_761d8_row7_col3\" class=\"data row7 col3\" >541 (18.9%)<br>7 (0.2%)<br>6 (0.2%)<br>6 (0.2%)<br>5 (0.2%)<br>5 (0.2%)<br>5 (0.2%)<br>5 (0.2%)<br>4 (0.1%)<br>4 (0.1%)<br>2,267 (79.4%)</td>\n",
       "      <td id=\"T_761d8_row7_col4\" class=\"data row7 col4\" ><img src = \"data:image/png;base64, iVBORw0KGgoAAAANSUhEUgAAAJsAAAD+CAYAAAAtWHdlAAAAOXRFWHRTb2Z0d2FyZQBNYXRwbG90bGliIHZlcnNpb24zLjUuMiwgaHR0cHM6Ly9tYXRwbG90bGliLm9yZy8qNh9FAAAACXBIWXMAAA9hAAAPYQGoP6dpAAADzElEQVR4nO3c0WlbWRhG0f8a4YlfJITAJcz0oCJSbIpQEdODELoPsccvmofUkH1NvFYD54A3nAjul+XxeAwUnra+AF+H2MiIjYzYyIiNjNjIiI2M2MiIjcwyMy8z8xyf+/F4PN7iM9nY7nQ6fd/v98fy0HVdb8uy/BDc17Lb7/fH8/n8djgc3osD7/f7t8vlcrxer88zI7YvZDczczgc3l9fX3+G576EZ/FJ+IFARmxkxEZGbGTERkZsZMRGRmxkxEZGbGTERkZsZMRGRmxkdjO/vjGrDizP4nPZret6u1wuxwm/MVvX9TYzH9V5fA42CGQW/2UWFT8QyDwty/LPsiz+0c5v9zQzf8/MX1tfhD+fZ5SM2MiIjYzYyIiNjNjIiI2M2MiIjYzYyIiNjNjIiI2M2MiIjczTzPw7M/9tfRH+fDYIZDyjZMRGxuCFjMELGc8oGbGRERsZsZERGxmxkREbGbGRERsZsZERGxmxkREbGbGRERsZgxcyBi9kPKNkxEZGbGSsq8hYV5HxjJIRGxmxkREbGbGRERsZsZERGxmxkREbGbGRERsZsZERGxmxkbGuImNdRcYzSkZsZAxeyBi8kPGMkhEbGbGRERsZsZERGxmxkREbGbGRERsZsZERGxmxkREbGbGRMXghY/BCxjNKRmxkDF7IGLyQ8YySERsZsZERGxmxkREbGbGRERsZsZERGxmxkREbGbGRERsZsZERGxnrKjLWVWQ8o2TERsa6iox1FRnPKBmxkREbGbGRERsZsZERGxmxkREbGbGRERsZsZERGxmxkREbGYMXMgYvZDyjZMRGxuCFjMELGc8oGbGRERsZsZERGxmxkREbGbGRERsZsZERGxmxkREbGbGRERsZgxcyBi9kPKNkxEZGbGSsq8hYV5HxjJIRGxmxkREbGbGRERsZsZERGxmxkREbGbGRERsZsZERGxmxkbGuImNdRcYzSkZsZAxeyBi8kPGMkhEbGbGRERsZsZERGxmxkREbGbGRERsZsZERGxmxkREbGbGRMXghY/BCxjNKZpmZl5l53voiJD4ej8fbVofvTqfT9/1+f9zqAnTWdb0ty/Jjq+B2+/3+eD6f3w6Hw/sWF6Bxv9+/XS6X4/V6fZ6ZbWKbmTkcDu+vr68/t7gAqZctD/cDgYzYyIiNjNjIiI2M2MiIjYzYyIiNjNjIiI2M2MiIjcxu5tfnJ1tfhN/rM/yNd+u63i6Xy3E2/vyE329d19vMfGx1vs/Cv5ZNPwu3riLjBwIZsZERGxmxkREbGbGRERsZsZERG5n/ASOvnjTqrov9AAAAAElFTkSuQmCC\"></img></td>\n",
       "      <td id=\"T_761d8_row7_col5\" class=\"data row7 col5\" >541<br>(18.9%)</td>\n",
       "    </tr>\n",
       "    <tr>\n",
       "      <td id=\"T_761d8_row8_col0\" class=\"data row8 col0\" >9</td>\n",
       "      <td id=\"T_761d8_row8_col1\" class=\"data row8 col1\" ><strong>Investor</strong><br>[object]</td>\n",
       "      <td id=\"T_761d8_row8_col2\" class=\"data row8 col2\" >1. nan<br>2. Unknown<br>3. Inflection Point Ventures<br>4. Venture Catalysts<br>5. Mumbai Angels Network<br>6. Angel investors<br>7. Undisclosed<br>8. Tiger Global<br>9. Titan Capital<br>10. Unicorn India Ventures<br>11. other</td>\n",
       "      <td id=\"T_761d8_row8_col3\" class=\"data row8 col3\" >526 (18.4%)<br>102 (3.6%)<br>35 (1.2%)<br>32 (1.1%)<br>17 (0.6%)<br>15 (0.5%)<br>13 (0.5%)<br>12 (0.4%)<br>11 (0.4%)<br>10 (0.4%)<br>2,082 (72.9%)</td>\n",
       "      <td id=\"T_761d8_row8_col4\" class=\"data row8 col4\" ><img src = \"data:image/png;base64, iVBORw0KGgoAAAANSUhEUgAAAJsAAAD+CAYAAAAtWHdlAAAAOXRFWHRTb2Z0d2FyZQBNYXRwbG90bGliIHZlcnNpb24zLjUuMiwgaHR0cHM6Ly9tYXRwbG90bGliLm9yZy8qNh9FAAAACXBIWXMAAA9hAAAPYQGoP6dpAAAEIklEQVR4nO3cUWobVwCG0Ssh3OhlhBB4GVmAFuHFdhFagPdhjOchdv2iPsQJhSahDdYnyz5nAzPgj5E03N+L4/E4oLA89w3wcYiNjNjIiI2M2MiIjYzYyIiNjNjILMYY6zHGVXzd5+Px+BhfkzNb7Xa7m2matuVF53m+XywWfwruY1lN07Td7/ePm83mqbjgw8PDp8PhsL27u7saY4jtA1mNMcZms3m6vr7+El53HV6LN8IPBDJiIyM2MmIjIzYyYiMjNjJiIyM2MmIjIzYyYiMjNjJiI7Ma4+sZs+qC5bV4W1bzPN8fDoftCM+YzfN8P8Z4rq7H22CDQGbhX2ZR+dWTzdOHV/XTdZUFFK/th+sqCyhO4VfrKgsoXpWXumTERkZsZMRGRmxkxEZGbGTERkZsZMRGRmxkxEZGbGR+OHgxSuEUfjp4MUrhtTkWTsbghcw/n2yeZJzU98GLgQuntpymafv58+fxsrCqx8p8IMsxxliv13+d+0Z4/7zUJSM2MmIjIzYyYiMjNjJiIyM2MmIjIzYyYiMjNjJiI7McY4zHx8c/zn0jvH/LeZ7vb29vDVw4OcfCyRi8kPEDgYyPUTLWVWSsq8hYV5HxA4GM2MiIjYzYyIiNjNjIiI2M2MiIjYzYyIiNjNjIiI2MdRUZ6yoyjoWTsa4i8+3JNjzVOLXVbre7GWMMYxdObTlN09bYhYL3bGTERkZsZMRGRmxkxEZGbGTERkZsZMRGRmxkxEZGbGTERkZsZFYvQ5cxjF04McfCyRi8kPFkI2PwQsbghYxXH2TERkZsZMRGRmxkxEZGbGTERkZsZMRGRmxkxEZGbGTERkZsZMRGxrqKjA0CGesqMp5sZKyryFhXkfHqg4zYyIiNjNjIiI2M2MiIjYzYyIiNjNjIiI2M2MiIjYzYyIiNjMELGcfCyRi8kPFkI2PwQsbghYxXH2TERkZsZMRGRmxkxEZGbGTERkZsZMRGRmxkxEZGbGTERkZsZAxeyDgWTsbghYzvbGR8jJKxriJjXUXGdzYyYiMjNjJiIyM2MmIjIzYyYiMjNjJiIyM2MmIjIzYyYiMjNjLWVWQcCydjXUXGk42MwQsZgxcyXn2QERsZsZERGxmxkREbGbGRERsZsZERGxmxkREbGbGRERsZsZExeCHjWDgZgxcy355sjoRftudL+GRa7Xa7m5cNAhdqnuf7SxgsraZp2u73+8fNZvN07pvh/3t4ePh0OBy2d3d3V2OMtx3bGGNsNpun6+vrL+e+GX7b+tw38F94z0ZGbGTERkZsZMRGRmxkxEZGbGTERkZsZMRGRmxkxEZmNcbXYyrnvhF+zyX97VbzPN8fDoftuJBjKvzby2jpzQ+WHAt/Hy7iWLjBCxk/EMiIjYzYyIiNjNjIiI2M2MiIjYzYyPwNcCxxacfuxK8AAAAASUVORK5CYII=\"></img></td>\n",
       "      <td id=\"T_761d8_row8_col5\" class=\"data row8 col5\" >526<br>(18.4%)</td>\n",
       "    </tr>\n",
       "  </tbody>\n",
       "</table>\n"
      ],
      "text/plain": [
       "<pandas.io.formats.style.Styler at 0x7fa4d896e220>"
      ]
     },
     "execution_count": 137,
     "metadata": {},
     "output_type": "execute_result"
    }
   ],
   "source": [
    "dfSummary(combined_data, is_collapsible = False)"
   ]
  },
  {
   "cell_type": "markdown",
   "id": "463d6c26",
   "metadata": {},
   "source": [
    "This summary output revelas one duplicated entry after merging the four data sets as one. The duplicate has to be dropped.\n",
    "    Since the initial 2018 data set did not have the `Founders` and `Investor` columns, it has been filled with `nan`. The cleaned records are identified with `Unknown`"
   ]
  },
  {
   "cell_type": "markdown",
   "id": "2559bb8b",
   "metadata": {},
   "source": [
    "<p style=\"font-size:20px ; font-weight: bold ; font-family: 'Times New Roman'; color: #00008B\">Confirming checks for duplicate entries</p><br>"
   ]
  },
  {
   "cell_type": "code",
   "execution_count": 138,
   "id": "83c9208d",
   "metadata": {},
   "outputs": [
    {
     "data": {
      "text/plain": [
       "False    2854\n",
       "True        1\n",
       "dtype: int64"
      ]
     },
     "execution_count": 138,
     "metadata": {},
     "output_type": "execute_result"
    }
   ],
   "source": [
    "# Confirming checks for duplicate entries\n",
    "combined_data.duplicated().value_counts()"
   ]
  },
  {
   "cell_type": "markdown",
   "id": "1481bba6",
   "metadata": {},
   "source": [
    "<p style=\"font-size:20px ; font-weight: bold ; font-family: 'Times New Roman'; color: #00008B\">Visually Inspecting Missing Data</p><br>"
   ]
  },
  {
   "cell_type": "code",
   "execution_count": 139,
   "id": "a7a79ea0",
   "metadata": {},
   "outputs": [
    {
     "data": {
      "text/plain": [
       "<AxesSubplot:>"
      ]
     },
     "execution_count": 139,
     "metadata": {},
     "output_type": "execute_result"
    },
    {
     "data": {
      "image/png": "[encoded data removed]",
      "text/plain": [
       "<Figure size 1000x600 with 2 Axes>"
      ]
     },
     "metadata": {},
     "output_type": "display_data"
    }
   ],
   "source": [
    "plt.figure(figsize=(10,6))\n",
    "sns.heatmap(combined_data.isna(),\n",
    "            cmap=\"YlGnBu\",\n",
    "            cbar_kws={'label': 'Missing Data'})"
   ]
  },
  {
   "cell_type": "markdown",
   "id": "b80056ad",
   "metadata": {},
   "source": [
    "The heatmap indicate a clustered missing values for the founders and Investors column. This is as a result of the 2018 data set not having values for this field before the data set merge."
   ]
  },
  {
   "cell_type": "markdown",
   "id": "8486254b",
   "metadata": {},
   "source": [
    "<p style=\"font-size:20px ; font-weight: bold ; font-family: 'Times New Roman'; color: #00008B\">Univariate Analysis</p><br>"
   ]
  },
  {
   "cell_type": "markdown",
   "id": "0d078823",
   "metadata": {},
   "source": [
    "<p style=\"font-size:20px ; font-weight: bold ; font-family: 'Times New Roman'; color: #00008B\">1. Analysis on The `Amount($)` Column</p><br>"
   ]
  },
  {
   "cell_type": "code",
   "execution_count": 140,
   "id": "3fc28b8d",
   "metadata": {},
   "outputs": [
    {
     "data": {
      "text/plain": [
       "0      250000.0\n",
       "1      584000.0\n",
       "2      949000.0\n",
       "3     2000000.0\n",
       "4           0.0\n",
       "5     1600000.0\n",
       "6      233600.0\n",
       "7      730000.0\n",
       "8           0.0\n",
       "9           0.0\n",
       "10          0.0\n",
       "11          0.0\n",
       "12          0.0\n",
       "13          0.0\n",
       "14          0.0\n",
       "15    1460000.0\n",
       "16     150000.0\n",
       "17    1100000.0\n",
       "18          0.0\n",
       "19       7300.0\n",
       "Name: Amount($), dtype: float64"
      ]
     },
     "execution_count": 140,
     "metadata": {},
     "output_type": "execute_result"
    }
   ],
   "source": [
    "combined_data['Amount($)'].head(20)"
   ]
  },
  {
   "cell_type": "markdown",
   "id": "965f4eca",
   "metadata": {},
   "source": [
    "<p style=\"font-size:20px ; font-weight: bold ; font-family: 'Times New Roman'; color: #00008B\">Calculate basic statistical measures</p><br>"
   ]
  },
  {
   "cell_type": "code",
   "execution_count": 141,
   "id": "ee1e99ea",
   "metadata": {},
   "outputs": [
    {
     "data": {
      "text/plain": [
       "count    2.852000e+03\n",
       "mean     9.822346e+07\n",
       "std      3.100144e+09\n",
       "min      0.000000e+00\n",
       "25%      4.000000e+05\n",
       "50%      2.000000e+06\n",
       "75%      8.000000e+06\n",
       "max      1.500000e+11\n",
       "Name: Amount($), dtype: float64"
      ]
     },
     "execution_count": 141,
     "metadata": {},
     "output_type": "execute_result"
    }
   ],
   "source": [
    "# calculate basic statistical measures\n",
    "combined_data['Amount($)'].describe()"
   ]
  },
  {
   "cell_type": "markdown",
   "id": "744c1182",
   "metadata": {},
   "source": [
    "The above metrics are visually inspected with a box plot below"
   ]
  },
  {
   "cell_type": "code",
   "execution_count": 142,
   "id": "61788fe5",
   "metadata": {},
   "outputs": [
    {
     "data": {
      "text/plain": [
       "<AxesSubplot:xlabel='Amount($)'>"
      ]
     },
     "execution_count": 142,
     "metadata": {},
     "output_type": "execute_result"
    },
    {
     "data": {
      "image/png": "[encoded data removed]",
      "text/plain": [
       "<Figure size 640x480 with 1 Axes>"
      ]
     },
     "metadata": {},
     "output_type": "display_data"
    }
   ],
   "source": [
    "sns.boxplot(data=combined_data, x='Amount($)')"
   ]
  },
  {
   "cell_type": "markdown",
   "id": "d38e4bd9",
   "metadata": {},
   "source": [
    "There are clear outliers in the amount column after which the rest of the values are clustered together"
   ]
  },
  {
   "cell_type": "markdown",
   "id": "ea7d23eb",
   "metadata": {},
   "source": [
    "<p style=\"font-size:20px ; font-weight: bold ; font-family: 'Times New Roman'; color: #00008B\">calculate z-scores</p><br>"
   ]
  },
  {
   "cell_type": "code",
   "execution_count": 143,
   "id": "9b974430",
   "metadata": {},
   "outputs": [
    {
     "data": {
      "text/plain": [
       "0    NaN\n",
       "1    NaN\n",
       "2    NaN\n",
       "3    NaN\n",
       "4    NaN\n",
       "5    NaN\n",
       "6    NaN\n",
       "7    NaN\n",
       "8    NaN\n",
       "9    NaN\n",
       "10   NaN\n",
       "11   NaN\n",
       "12   NaN\n",
       "13   NaN\n",
       "14   NaN\n",
       "15   NaN\n",
       "16   NaN\n",
       "17   NaN\n",
       "18   NaN\n",
       "19   NaN\n",
       "Name: Amount($), dtype: float64"
      ]
     },
     "execution_count": 143,
     "metadata": {},
     "output_type": "execute_result"
    }
   ],
   "source": [
    "# calculate z-scores\n",
    "z_score=scipy.stats.zscore(combined_data['Amount($)'])\n",
    "z_score.head(20)"
   ]
  },
  {
   "cell_type": "markdown",
   "id": "d46422ba",
   "metadata": {},
   "source": [
    "The z score is a type of statistical measurement that gives an idea of how far a raw score is from the mean of a distribution"
   ]
  },
  {
   "cell_type": "markdown",
   "id": "b1b6afdf",
   "metadata": {},
   "source": [
    "<p style=\"font-size:20px ; font-weight: bold ; font-family: 'Times New Roman'; color: #00008B\">find the indices of the outliers</p><br>"
   ]
  },
  {
   "cell_type": "code",
   "execution_count": 144,
   "id": "e429df78",
   "metadata": {},
   "outputs": [
    {
     "data": {
      "text/plain": [
       "array([], dtype=int64)"
      ]
     },
     "execution_count": 144,
     "metadata": {},
     "output_type": "execute_result"
    }
   ],
   "source": [
    "# find the indices of the outliers\n",
    "outliers_index = np.where(z_score >3)[0]\n",
    "outliers_index"
   ]
  },
  {
   "cell_type": "markdown",
   "id": "804e5f47",
   "metadata": {},
   "source": [
    "<p style=\"font-size:20px ; font-weight: bold ; font-family: 'Times New Roman'; color: #00008B\">Remove the outliers</p><br>"
   ]
  },
  {
   "cell_type": "code",
   "execution_count": 145,
   "id": "129ebb76",
   "metadata": {},
   "outputs": [],
   "source": [
    "# remove the outliers\n",
    "combined_data = combined_data.drop(combined_data.index[outliers_index])"
   ]
  },
  {
   "cell_type": "code",
   "execution_count": 146,
   "id": "40205f04",
   "metadata": {},
   "outputs": [
    {
     "data": {
      "text/plain": [
       "<AxesSubplot:xlabel='Amount($)'>"
      ]
     },
     "execution_count": 146,
     "metadata": {},
     "output_type": "execute_result"
    },
    {
     "data": {
      "image/png": "[encoded data removed]",
      "text/plain": [
       "<Figure size 640x480 with 1 Axes>"
      ]
     },
     "metadata": {},
     "output_type": "display_data"
    }
   ],
   "source": [
    "sns.boxplot(data=combined_data, x='Amount($)')"
   ]
  },
  {
   "cell_type": "markdown",
   "id": "18cc6889",
   "metadata": {},
   "source": [
    "There seem to be more outliers which has the potential of distorting the mean. The median will however be less affected"
   ]
  },
  {
   "cell_type": "markdown",
   "id": "b42ff904",
   "metadata": {},
   "source": [
    "<p style=\"font-size:20px ; font-weight: bold ; font-family: 'Times New Roman'; color: #00008B\">2. Analysis of the `Stage` Column</p><br>"
   ]
  },
  {
   "cell_type": "code",
   "execution_count": 147,
   "id": "b55c671f",
   "metadata": {},
   "outputs": [
    {
     "data": {
      "text/plain": [
       "Seed                59.380562\n",
       "Series A            21.359915\n",
       "Series B             5.553578\n",
       "Series C             4.200783\n",
       "Debt                 2.135991\n",
       "Series D             1.851193\n",
       "Angel                1.459594\n",
       "Unknown              1.388394\n",
       "Series E             1.067996\n",
       "Equity               0.498398\n",
       "Series F             0.462798\n",
       "Grant                0.142399\n",
       "Series H             0.142399\n",
       "Secondary Market     0.106800\n",
       "Series G             0.106800\n",
       "NaN                  0.071200\n",
       "Seed Investment      0.035600\n",
       "Series I             0.035600\n",
       "Name: Stage, dtype: float64"
      ]
     },
     "execution_count": 147,
     "metadata": {},
     "output_type": "execute_result"
    }
   ],
   "source": [
    "(combined_data[\"Stage\"].value_counts(normalize=True)*100)"
   ]
  },
  {
   "cell_type": "markdown",
   "id": "d279f9ff",
   "metadata": {},
   "source": [
    "The high count of unnknowns is as a result of the 2018 data set. The info above is in percentage terms. This is graphically represented in the graph below"
   ]
  },
  {
   "cell_type": "code",
   "execution_count": 148,
   "id": "83a002e0",
   "metadata": {},
   "outputs": [
    {
     "data": {
      "image/png": "[encoded data removed]",
      "text/plain": [
       "<Figure size 600x400 with 1 Axes>"
      ]
     },
     "metadata": {},
     "output_type": "display_data"
    }
   ],
   "source": [
    "   fig=sns.catplot(y=\"Stage\",data=combined_data, kind=\"count\", height=4, aspect=1.5)"
   ]
  },
  {
   "cell_type": "markdown",
   "id": "cb47d3bc",
   "metadata": {},
   "source": [
    "<br><p style=\"font-size:30px ; font-weight: bold ; font-family: 'Times New Roman'; color: #00008B\">3. Analysis of the `Sector` Column</p><br>"
   ]
  },
  {
   "cell_type": "code",
   "execution_count": 149,
   "id": "fcb58bb8",
   "metadata": {},
   "outputs": [
    {
     "data": {
      "text/plain": [
       "FinTech                  9.340853\n",
       "Healthcare               6.802961\n",
       "IT                       6.520973\n",
       "E-Commerce               6.309482\n",
       "Education                5.956997\n",
       "                           ...   \n",
       "Government               0.035249\n",
       "Classifieds              0.035249\n",
       "Embedded Systems         0.035249\n",
       "Consumer Applications    0.035249\n",
       "Maritime                 0.035249\n",
       "Name: Sector, Length: 90, dtype: float64"
      ]
     },
     "execution_count": 149,
     "metadata": {},
     "output_type": "execute_result"
    }
   ],
   "source": [
    "(combined_data[\"Sector\"].value_counts(normalize=True)*100)"
   ]
  },
  {
   "cell_type": "markdown",
   "id": "a75488b2",
   "metadata": {},
   "source": [
    "The FinTech sector has the highest percentage of 9.2%, followed by Healthcare 6.8% etc. This is also represented graphically below"
   ]
  },
  {
   "cell_type": "code",
   "execution_count": 150,
   "id": "45ccc583",
   "metadata": {},
   "outputs": [
    {
     "data": {
      "text/plain": [
       "<seaborn.axisgrid.FacetGrid at 0x7fa4d89d4b80>"
      ]
     },
     "execution_count": 150,
     "metadata": {},
     "output_type": "execute_result"
    },
    {
     "data": {
      "image/png": "[encoded data removed]",
      "text/plain": [
       "<Figure size 1524x1270 with 1 Axes>"
      ]
     },
     "metadata": {},
     "output_type": "display_data"
    }
   ],
   "source": [
    "   sns.catplot(y=\"Sector\",data=combined_data, kind=\"count\", height=12.7, aspect=1.2)"
   ]
  },
  {
   "cell_type": "markdown",
   "id": "2dff9101",
   "metadata": {},
   "source": [
    "Since there are about 90 different sectors, it will not be ideal to represent them all on a graph as it will not be visually appeaing, there compromising on undesrtanding. Futher analysis will sort either the top 120 or the least 10 for analysis"
   ]
  },
  {
   "cell_type": "markdown",
   "id": "96cf81f4",
   "metadata": {},
   "source": [
    "<br><p style=\"font-size:30px ; font-weight: bold ; font-family: 'Times New Roman'; color: #00008B\">4. Analysis of the Founded Column</p><br>"
   ]
  },
  {
   "cell_type": "code",
   "execution_count": 151,
   "id": "ea2da353",
   "metadata": {},
   "outputs": [
    {
     "data": {
      "text/plain": [
       "<seaborn.axisgrid.FacetGrid at 0x7fa4d9785a00>"
      ]
     },
     "execution_count": 151,
     "metadata": {},
     "output_type": "execute_result"
    },
    {
     "data": {
      "image/png": "[encoded data removed]",
      "text/plain": [
       "<Figure size 600x600 with 1 Axes>"
      ]
     },
     "metadata": {},
     "output_type": "display_data"
    }
   ],
   "source": [
    " sns.catplot(y=\"Founded\",data=combined_data, kind=\"count\", height=6, aspect=1)"
   ]
  },
  {
   "cell_type": "markdown",
   "id": "43466380",
   "metadata": {},
   "source": [
    "<br><p style=\"font-size:30px ; font-weight: bold ; font-family: 'Times New Roman'; color: #00008B\">Multivariate Analysis</p><br>"
   ]
  },
  {
   "cell_type": "markdown",
   "id": "b00d1ed4",
   "metadata": {},
   "source": [
    "<br><p style=\"font-size:30px ; font-weight: bold ; font-family: 'Times New Roman'; color: #00008B\">1. Analysis of the `Founded` and `Amount($)` Columns</p><br>"
   ]
  },
  {
   "cell_type": "markdown",
   "id": "5d29cc76",
   "metadata": {},
   "source": [
    "<p style=\"font-size:20px ; font-weight: bold ; font-family: 'Times New Roman'; color: #00008B\">Group the DataFrame by the 'Stage' column and count the occurrences of each stage</p><br>"
   ]
  },
  {
   "cell_type": "code",
   "execution_count": 154,
   "id": "1536a257",
   "metadata": {},
   "outputs": [
    {
     "data": {
      "text/plain": [
       "Founded\n",
       "1963.0    1\n",
       "1978.0    1\n",
       "1984.0    1\n",
       "1989.0    2\n",
       "1991.0    1\n",
       "Name: Amount($), dtype: int64"
      ]
     },
     "execution_count": 154,
     "metadata": {},
     "output_type": "execute_result"
    }
   ],
   "source": [
    "# Group the DataFrame by the 'Stage' column and count the occurrences of each stage\n",
    "amt_stage_count = combined_data.groupby('Founded')['Amount($)'].count()\n",
    "amt_stage_count.head()"
   ]
  },
  {
   "cell_type": "code",
   "execution_count": 155,
   "id": "e1232cb7",
   "metadata": {},
   "outputs": [
    {
     "ename": "TypeError",
     "evalue": "'value' must be an instance of str or bytes, not a float",
     "output_type": "error",
     "traceback": [
      "\u001b[0;31m---------------------------------------------------------------------------\u001b[0m",
      "\u001b[0;31mTypeError\u001b[0m                                 Traceback (most recent call last)",
      "\u001b[0;32m/var/folders/d9/bnlf1kp95215c4604jd3mz1h0000gn/T/ipykernel_5118/4160335007.py\u001b[0m in \u001b[0;36m<module>\u001b[0;34m\u001b[0m\n\u001b[0;32m----> 1\u001b[0;31m sns.lineplot(data=combined_data,\n\u001b[0m\u001b[1;32m      2\u001b[0m             \u001b[0my\u001b[0m\u001b[0;34m=\u001b[0m\u001b[0;34m'Founded'\u001b[0m\u001b[0;34m,\u001b[0m\u001b[0;34m\u001b[0m\u001b[0;34m\u001b[0m\u001b[0m\n\u001b[1;32m      3\u001b[0m             \u001b[0mx\u001b[0m\u001b[0;34m=\u001b[0m\u001b[0;34m'Amount($)'\u001b[0m\u001b[0;34m\u001b[0m\u001b[0;34m\u001b[0m\u001b[0m\n\u001b[1;32m      4\u001b[0m             )\n",
      "\u001b[0;32m/opt/anaconda3/lib/python3.9/site-packages/seaborn/_decorators.py\u001b[0m in \u001b[0;36minner_f\u001b[0;34m(*args, **kwargs)\u001b[0m\n\u001b[1;32m     44\u001b[0m             )\n\u001b[1;32m     45\u001b[0m         \u001b[0mkwargs\u001b[0m\u001b[0;34m.\u001b[0m\u001b[0mupdate\u001b[0m\u001b[0;34m(\u001b[0m\u001b[0;34m{\u001b[0m\u001b[0mk\u001b[0m\u001b[0;34m:\u001b[0m \u001b[0marg\u001b[0m \u001b[0;32mfor\u001b[0m \u001b[0mk\u001b[0m\u001b[0;34m,\u001b[0m \u001b[0marg\u001b[0m \u001b[0;32min\u001b[0m \u001b[0mzip\u001b[0m\u001b[0;34m(\u001b[0m\u001b[0msig\u001b[0m\u001b[0;34m.\u001b[0m\u001b[0mparameters\u001b[0m\u001b[0;34m,\u001b[0m \u001b[0margs\u001b[0m\u001b[0;34m)\u001b[0m\u001b[0;34m}\u001b[0m\u001b[0;34m)\u001b[0m\u001b[0;34m\u001b[0m\u001b[0;34m\u001b[0m\u001b[0m\n\u001b[0;32m---> 46\u001b[0;31m         \u001b[0;32mreturn\u001b[0m \u001b[0mf\u001b[0m\u001b[0;34m(\u001b[0m\u001b[0;34m**\u001b[0m\u001b[0mkwargs\u001b[0m\u001b[0;34m)\u001b[0m\u001b[0;34m\u001b[0m\u001b[0;34m\u001b[0m\u001b[0m\n\u001b[0m\u001b[1;32m     47\u001b[0m     \u001b[0;32mreturn\u001b[0m \u001b[0minner_f\u001b[0m\u001b[0;34m\u001b[0m\u001b[0;34m\u001b[0m\u001b[0m\n\u001b[1;32m     48\u001b[0m \u001b[0;34m\u001b[0m\u001b[0m\n",
      "\u001b[0;32m/opt/anaconda3/lib/python3.9/site-packages/seaborn/relational.py\u001b[0m in \u001b[0;36mlineplot\u001b[0;34m(x, y, hue, size, style, data, palette, hue_order, hue_norm, sizes, size_order, size_norm, dashes, markers, style_order, units, estimator, ci, n_boot, seed, sort, err_style, err_kws, legend, ax, **kwargs)\u001b[0m\n\u001b[1;32m    706\u001b[0m         \u001b[0;32mreturn\u001b[0m \u001b[0max\u001b[0m\u001b[0;34m\u001b[0m\u001b[0;34m\u001b[0m\u001b[0m\n\u001b[1;32m    707\u001b[0m \u001b[0;34m\u001b[0m\u001b[0m\n\u001b[0;32m--> 708\u001b[0;31m     \u001b[0mp\u001b[0m\u001b[0;34m.\u001b[0m\u001b[0m_attach\u001b[0m\u001b[0;34m(\u001b[0m\u001b[0max\u001b[0m\u001b[0;34m)\u001b[0m\u001b[0;34m\u001b[0m\u001b[0;34m\u001b[0m\u001b[0m\n\u001b[0m\u001b[1;32m    709\u001b[0m \u001b[0;34m\u001b[0m\u001b[0m\n\u001b[1;32m    710\u001b[0m     \u001b[0mp\u001b[0m\u001b[0;34m.\u001b[0m\u001b[0mplot\u001b[0m\u001b[0;34m(\u001b[0m\u001b[0max\u001b[0m\u001b[0;34m,\u001b[0m \u001b[0mkwargs\u001b[0m\u001b[0;34m)\u001b[0m\u001b[0;34m\u001b[0m\u001b[0;34m\u001b[0m\u001b[0m\n",
      "\u001b[0;32m/opt/anaconda3/lib/python3.9/site-packages/seaborn/_core.py\u001b[0m in \u001b[0;36m_attach\u001b[0;34m(self, obj, allowed_types, log_scale)\u001b[0m\n\u001b[1;32m   1136\u001b[0m                 \u001b[0;32mif\u001b[0m \u001b[0mvar_type\u001b[0m \u001b[0;34m==\u001b[0m \u001b[0;34m\"categorical\"\u001b[0m\u001b[0;34m:\u001b[0m\u001b[0;34m\u001b[0m\u001b[0;34m\u001b[0m\u001b[0m\n\u001b[1;32m   1137\u001b[0m                     \u001b[0mseed_data\u001b[0m \u001b[0;34m=\u001b[0m \u001b[0mcategorical_order\u001b[0m\u001b[0;34m(\u001b[0m\u001b[0mseed_data\u001b[0m\u001b[0;34m)\u001b[0m\u001b[0;34m\u001b[0m\u001b[0;34m\u001b[0m\u001b[0m\n\u001b[0;32m-> 1138\u001b[0;31m                 \u001b[0maxis\u001b[0m\u001b[0;34m.\u001b[0m\u001b[0mupdate_units\u001b[0m\u001b[0;34m(\u001b[0m\u001b[0mseed_data\u001b[0m\u001b[0;34m)\u001b[0m\u001b[0;34m\u001b[0m\u001b[0;34m\u001b[0m\u001b[0m\n\u001b[0m\u001b[1;32m   1139\u001b[0m \u001b[0;34m\u001b[0m\u001b[0m\n\u001b[1;32m   1140\u001b[0m         \u001b[0;31m# For categorical y, we want the \"first\" level to be at the top of the axis\u001b[0m\u001b[0;34m\u001b[0m\u001b[0;34m\u001b[0m\u001b[0m\n",
      "\u001b[0;32m/opt/anaconda3/lib/python3.9/site-packages/matplotlib/axis.py\u001b[0m in \u001b[0;36mupdate_units\u001b[0;34m(self, data)\u001b[0m\n\u001b[1;32m   1447\u001b[0m         \u001b[0mneednew\u001b[0m \u001b[0;34m=\u001b[0m \u001b[0mself\u001b[0m\u001b[0;34m.\u001b[0m\u001b[0mconverter\u001b[0m \u001b[0;34m!=\u001b[0m \u001b[0mconverter\u001b[0m\u001b[0;34m\u001b[0m\u001b[0;34m\u001b[0m\u001b[0m\n\u001b[1;32m   1448\u001b[0m         \u001b[0mself\u001b[0m\u001b[0;34m.\u001b[0m\u001b[0mconverter\u001b[0m \u001b[0;34m=\u001b[0m \u001b[0mconverter\u001b[0m\u001b[0;34m\u001b[0m\u001b[0;34m\u001b[0m\u001b[0m\n\u001b[0;32m-> 1449\u001b[0;31m         \u001b[0mdefault\u001b[0m \u001b[0;34m=\u001b[0m \u001b[0mself\u001b[0m\u001b[0;34m.\u001b[0m\u001b[0mconverter\u001b[0m\u001b[0;34m.\u001b[0m\u001b[0mdefault_units\u001b[0m\u001b[0;34m(\u001b[0m\u001b[0mdata\u001b[0m\u001b[0;34m,\u001b[0m \u001b[0mself\u001b[0m\u001b[0;34m)\u001b[0m\u001b[0;34m\u001b[0m\u001b[0;34m\u001b[0m\u001b[0m\n\u001b[0m\u001b[1;32m   1450\u001b[0m         \u001b[0;32mif\u001b[0m \u001b[0mdefault\u001b[0m \u001b[0;32mis\u001b[0m \u001b[0;32mnot\u001b[0m \u001b[0;32mNone\u001b[0m \u001b[0;32mand\u001b[0m \u001b[0mself\u001b[0m\u001b[0;34m.\u001b[0m\u001b[0munits\u001b[0m \u001b[0;32mis\u001b[0m \u001b[0;32mNone\u001b[0m\u001b[0;34m:\u001b[0m\u001b[0;34m\u001b[0m\u001b[0;34m\u001b[0m\u001b[0m\n\u001b[1;32m   1451\u001b[0m             \u001b[0mself\u001b[0m\u001b[0;34m.\u001b[0m\u001b[0mset_units\u001b[0m\u001b[0;34m(\u001b[0m\u001b[0mdefault\u001b[0m\u001b[0;34m)\u001b[0m\u001b[0;34m\u001b[0m\u001b[0;34m\u001b[0m\u001b[0m\n",
      "\u001b[0;32m/opt/anaconda3/lib/python3.9/site-packages/matplotlib/category.py\u001b[0m in \u001b[0;36mdefault_units\u001b[0;34m(data, axis)\u001b[0m\n\u001b[1;32m    114\u001b[0m         \u001b[0;31m# the conversion call stack is default_units -> axis_info -> convert\u001b[0m\u001b[0;34m\u001b[0m\u001b[0;34m\u001b[0m\u001b[0m\n\u001b[1;32m    115\u001b[0m         \u001b[0;32mif\u001b[0m \u001b[0maxis\u001b[0m\u001b[0;34m.\u001b[0m\u001b[0munits\u001b[0m \u001b[0;32mis\u001b[0m \u001b[0;32mNone\u001b[0m\u001b[0;34m:\u001b[0m\u001b[0;34m\u001b[0m\u001b[0;34m\u001b[0m\u001b[0m\n\u001b[0;32m--> 116\u001b[0;31m             \u001b[0maxis\u001b[0m\u001b[0;34m.\u001b[0m\u001b[0mset_units\u001b[0m\u001b[0;34m(\u001b[0m\u001b[0mUnitData\u001b[0m\u001b[0;34m(\u001b[0m\u001b[0mdata\u001b[0m\u001b[0;34m)\u001b[0m\u001b[0;34m)\u001b[0m\u001b[0;34m\u001b[0m\u001b[0;34m\u001b[0m\u001b[0m\n\u001b[0m\u001b[1;32m    117\u001b[0m         \u001b[0;32melse\u001b[0m\u001b[0;34m:\u001b[0m\u001b[0;34m\u001b[0m\u001b[0;34m\u001b[0m\u001b[0m\n\u001b[1;32m    118\u001b[0m             \u001b[0maxis\u001b[0m\u001b[0;34m.\u001b[0m\u001b[0munits\u001b[0m\u001b[0;34m.\u001b[0m\u001b[0mupdate\u001b[0m\u001b[0;34m(\u001b[0m\u001b[0mdata\u001b[0m\u001b[0;34m)\u001b[0m\u001b[0;34m\u001b[0m\u001b[0;34m\u001b[0m\u001b[0m\n",
      "\u001b[0;32m/opt/anaconda3/lib/python3.9/site-packages/matplotlib/category.py\u001b[0m in \u001b[0;36m__init__\u001b[0;34m(self, data)\u001b[0m\n\u001b[1;32m    190\u001b[0m         \u001b[0mself\u001b[0m\u001b[0;34m.\u001b[0m\u001b[0m_counter\u001b[0m \u001b[0;34m=\u001b[0m \u001b[0mitertools\u001b[0m\u001b[0;34m.\u001b[0m\u001b[0mcount\u001b[0m\u001b[0;34m(\u001b[0m\u001b[0;34m)\u001b[0m\u001b[0;34m\u001b[0m\u001b[0;34m\u001b[0m\u001b[0m\n\u001b[1;32m    191\u001b[0m         \u001b[0;32mif\u001b[0m \u001b[0mdata\u001b[0m \u001b[0;32mis\u001b[0m \u001b[0;32mnot\u001b[0m \u001b[0;32mNone\u001b[0m\u001b[0;34m:\u001b[0m\u001b[0;34m\u001b[0m\u001b[0;34m\u001b[0m\u001b[0m\n\u001b[0;32m--> 192\u001b[0;31m             \u001b[0mself\u001b[0m\u001b[0;34m.\u001b[0m\u001b[0mupdate\u001b[0m\u001b[0;34m(\u001b[0m\u001b[0mdata\u001b[0m\u001b[0;34m)\u001b[0m\u001b[0;34m\u001b[0m\u001b[0;34m\u001b[0m\u001b[0m\n\u001b[0m\u001b[1;32m    193\u001b[0m \u001b[0;34m\u001b[0m\u001b[0m\n\u001b[1;32m    194\u001b[0m     \u001b[0;34m@\u001b[0m\u001b[0mstaticmethod\u001b[0m\u001b[0;34m\u001b[0m\u001b[0;34m\u001b[0m\u001b[0m\n",
      "\u001b[0;32m/opt/anaconda3/lib/python3.9/site-packages/matplotlib/category.py\u001b[0m in \u001b[0;36mupdate\u001b[0;34m(self, data)\u001b[0m\n\u001b[1;32m    225\u001b[0m         \u001b[0;32mfor\u001b[0m \u001b[0mval\u001b[0m \u001b[0;32min\u001b[0m \u001b[0mOrderedDict\u001b[0m\u001b[0;34m.\u001b[0m\u001b[0mfromkeys\u001b[0m\u001b[0;34m(\u001b[0m\u001b[0mdata\u001b[0m\u001b[0;34m)\u001b[0m\u001b[0;34m:\u001b[0m\u001b[0;34m\u001b[0m\u001b[0;34m\u001b[0m\u001b[0m\n\u001b[1;32m    226\u001b[0m             \u001b[0;31m# OrderedDict just iterates over unique values in data.\u001b[0m\u001b[0;34m\u001b[0m\u001b[0;34m\u001b[0m\u001b[0m\n\u001b[0;32m--> 227\u001b[0;31m             \u001b[0m_api\u001b[0m\u001b[0;34m.\u001b[0m\u001b[0mcheck_isinstance\u001b[0m\u001b[0;34m(\u001b[0m\u001b[0;34m(\u001b[0m\u001b[0mstr\u001b[0m\u001b[0;34m,\u001b[0m \u001b[0mbytes\u001b[0m\u001b[0;34m)\u001b[0m\u001b[0;34m,\u001b[0m \u001b[0mvalue\u001b[0m\u001b[0;34m=\u001b[0m\u001b[0mval\u001b[0m\u001b[0;34m)\u001b[0m\u001b[0;34m\u001b[0m\u001b[0;34m\u001b[0m\u001b[0m\n\u001b[0m\u001b[1;32m    228\u001b[0m             \u001b[0;32mif\u001b[0m \u001b[0mconvertible\u001b[0m\u001b[0;34m:\u001b[0m\u001b[0;34m\u001b[0m\u001b[0;34m\u001b[0m\u001b[0m\n\u001b[1;32m    229\u001b[0m                 \u001b[0;31m# this will only be called so long as convertible is True.\u001b[0m\u001b[0;34m\u001b[0m\u001b[0;34m\u001b[0m\u001b[0m\n",
      "\u001b[0;32m/opt/anaconda3/lib/python3.9/site-packages/matplotlib/_api/__init__.py\u001b[0m in \u001b[0;36mcheck_isinstance\u001b[0;34m(_types, **kwargs)\u001b[0m\n\u001b[1;32m     91\u001b[0m                 \u001b[0mnames\u001b[0m\u001b[0;34m.\u001b[0m\u001b[0mremove\u001b[0m\u001b[0;34m(\u001b[0m\u001b[0;34m\"None\"\u001b[0m\u001b[0;34m)\u001b[0m\u001b[0;34m\u001b[0m\u001b[0;34m\u001b[0m\u001b[0m\n\u001b[1;32m     92\u001b[0m                 \u001b[0mnames\u001b[0m\u001b[0;34m.\u001b[0m\u001b[0mappend\u001b[0m\u001b[0;34m(\u001b[0m\u001b[0;34m\"None\"\u001b[0m\u001b[0;34m)\u001b[0m\u001b[0;34m\u001b[0m\u001b[0;34m\u001b[0m\u001b[0m\n\u001b[0;32m---> 93\u001b[0;31m             raise TypeError(\n\u001b[0m\u001b[1;32m     94\u001b[0m                 \"{!r} must be an instance of {}, not a {}\".format(\n\u001b[1;32m     95\u001b[0m                     \u001b[0mk\u001b[0m\u001b[0;34m,\u001b[0m\u001b[0;34m\u001b[0m\u001b[0;34m\u001b[0m\u001b[0m\n",
      "\u001b[0;31mTypeError\u001b[0m: 'value' must be an instance of str or bytes, not a float"
     ]
    },
    {
     "data": {
      "image/png": "[encoded data removed]",
      "text/plain": [
       "<Figure size 640x480 with 1 Axes>"
      ]
     },
     "metadata": {},
     "output_type": "display_data"
    }
   ],
   "source": [
    "sns.lineplot(data=combined_data,\n",
    "            y='Founded',\n",
    "            x='Amount($)'\n",
    "            )"
   ]
  },
  {
   "cell_type": "markdown",
   "id": "57904fca",
   "metadata": {},
   "source": [
    "The graph shows that only a few start up from 2012 and beyond have received enough funding. Again the funding for start-up took a marginal increase since 2012 and has since be on a stable rise"
   ]
  },
  {
   "cell_type": "markdown",
   "id": "f39f7e7e",
   "metadata": {},
   "source": [
    "<p style=\"font-size:20px ; font-weight: bold ; font-family: 'Times New Roman'; color: #00008B\">2. Analysis of the `Amount($)` and the `Founded` Column</p><br>"
   ]
  },
  {
   "cell_type": "code",
   "execution_count": null,
   "id": "e60956b3",
   "metadata": {},
   "outputs": [],
   "source": [
    "sns.regplot(x='Amount($)', y='Founded', data=combined_data, scatter_kws={'color':'red'}, line_kws={'color':'blue'})\n"
   ]
  },
  {
   "cell_type": "markdown",
   "id": "489d7a6a",
   "metadata": {},
   "source": [
    "The regression graph indicated a weak and negative relationship between year of funding and amount of funding"
   ]
  },
  {
   "cell_type": "code",
   "execution_count": null,
   "id": "0764dbd0",
   "metadata": {},
   "outputs": [],
   "source": [
    "af_correlation = combined_data[['Amount($)', 'Founded']].corr()\n",
    "sns.heatmap(af_correlation, annot=True)"
   ]
  },
  {
   "cell_type": "markdown",
   "id": "4b6c10fb",
   "metadata": {},
   "source": [
    "<p style=\"font-size:20px ; font-weight: bold ; font-family: 'Times New Roman'; color: #00008B\">3. Analysis of Stage and Founded Column</p><br>"
   ]
  },
  {
   "cell_type": "code",
   "execution_count": null,
   "id": "22ea68df",
   "metadata": {},
   "outputs": [],
   "source": [
    "\n",
    "fig=sns.catplot(y=\"Stage\",x=\"Founded\",data=combined_data, kind=\"strip\", height=4, aspect=1.5)\n"
   ]
  },
  {
   "cell_type": "code",
   "execution_count": null,
   "id": "4feb2f1d",
   "metadata": {},
   "outputs": [],
   "source": [
    "It is observed that the seed stage has more spread across the various years as compared to the other stages. They are clustered between 2010 and 2021"
   ]
  },
  {
   "cell_type": "markdown",
   "id": "fb73d18d",
   "metadata": {},
   "source": [
    "<p style=\"font-size:20px ; font-weight: bold ; font-family: 'Times New Roman'; color: #00008B\">4. Analysis of all other  Numeric Columns</p><br>"
   ]
  },
  {
   "cell_type": "code",
   "execution_count": null,
   "id": "6bb8072b",
   "metadata": {},
   "outputs": [],
   "source": [
    "sns.pairplot(combined_data, vars=None, hue='Stage', diag_kind='auto', markers='*', plot_kws=None, diag_kws=None, grid_kws=None, height=3.5,aspect=1.5)"
   ]
  },
  {
   "cell_type": "markdown",
   "id": "503c1091",
   "metadata": {},
   "source": [
    "<p style=\"font-size:20px ; font-weight: bold ; font-family: 'Times New Roman'; color: #00008B\">Answering The Business Questions</p><br>"
   ]
  },
  {
   "cell_type": "markdown",
   "id": "6aa28837",
   "metadata": {},
   "source": [
    "<p style=\"font-size:20px ; font-weight: bold ; font-family: 'Times New Roman'; color: #00008B\">Question 1. Does the sort of industry have an impact on funding success?</p><br>"
   ]
  },
  {
   "cell_type": "markdown",
   "id": "48c4e86c",
   "metadata": {},
   "source": [
    "<p style=\"font-size:20px ; font-weight: bold ; font-family: 'Times New Roman'; color: #00008B\">Group the DataFrame by the 'sector' column and count the occurrences of each stage</p><br>"
   ]
  },
  {
   "cell_type": "code",
   "execution_count": null,
   "id": "372894bc",
   "metadata": {},
   "outputs": [],
   "source": [
    "# Group the DataFrame by the 'sector' column and count the occurrences of each stage\n",
    "sectoramt_count = combined_data.groupby('Sector')['Amount($)'].count().reset_index()\n",
    "\n",
    "# # Sort the counts in descending order and select the top 10 values\n",
    "top_count = sectoramt_count.sort_values(by='Amount($)', ascending=False).head(10)\n",
    "\n",
    "\n",
    "# # Create the vertical bar chart\n",
    "figure = plt.figure(figsize = (10, 5))\n",
    "topgraph = sns.barplot(data=top_count, x='Amount($)', y='Sector',orient='h')\n",
    "\n",
    "# Add labels and title\n",
    "plt.ylabel(\"Sector\")\n",
    "plt.xlabel(\"Amount($)\\n\\n\")\n",
    "plt.title(\"Top 10 Sectors With Most Start-up Investment\\n\")\n",
    "plt.show()\n",
    "\n",
    "# Group the DataFrame by the 'sector' column and count the occurrences of each stage\n",
    "sectoramt_count = combined_data.groupby('Sector')['Amount($)'].count().reset_index()\n",
    "\n",
    "# # Sort the counts in descending order and select the last 10 values\n",
    "bottom_count = sectoramt_count.sort_values(by='Amount($)', ascending=False).tail(10)\n",
    "\n",
    "# # Create the vertical bar chart\n",
    "figure = plt.figure(figsize = (10, 5))\n",
    "bottomgraph = sns.barplot(data=bottom_count, x='Amount($)', y='Sector',orient='h')\n",
    "\n",
    "# Add labels and title\n",
    "plt.ylabel(\"Sector\")\n",
    "plt.xlabel(\"Amount($)\")\n",
    "plt.title(\"Bottom 10 Sectors With Most Start-up Investment\\n\")\n",
    "plt.show()\n",
    "\n",
    "gp=top_count = sectoramt_count.sort_values(by='Amount($)', ascending=False)\n"
   ]
  },
  {
   "cell_type": "markdown",
   "id": "50117538",
   "metadata": {},
   "source": [
    "The two graph above confirms that the the sector or industry of the start-up can influence the funding it receives. Other varibales like the stage of the start-up might come to play. However, the sector affects the amount of funding received.\n",
    "\n",
    "The first graph which showed the top 10 indicates that most of the funding were received in technology dominated sectors.\n",
    "The second graph which show the bottom 10. indicates less difference in the sectors as most of them received similar funding"
   ]
  },
  {
   "cell_type": "code",
   "execution_count": null,
   "id": "0bb4585f",
   "metadata": {},
   "outputs": [],
   "source": [
    "sns.catplot(data=gp, y='Sector',x='Amount($)', kind='bar', height=14, aspect=1.2)"
   ]
  },
  {
   "cell_type": "markdown",
   "id": "d82f8f27",
   "metadata": {},
   "source": [
    "<br><p style=\"font-size:30px ; font-weight: bold ; font-family: 'Times New Roman'; color: #00008B\">Question 2. Can the success of obtaining finance from investors be impacted by location?</p><br>"
   ]
  },
  {
   "cell_type": "markdown",
   "id": "b5f734de",
   "metadata": {},
   "source": [
    "<br><p style=\"font-size:20px ; font-weight: bold ; font-family: 'Times New Roman'; color: #00008B\">Group the DataFrame by the 'headquater' column and count the occurrences of each stage</p><br>"
   ]
  },
  {
   "cell_type": "code",
   "execution_count": null,
   "id": "49cd5ab9",
   "metadata": {},
   "outputs": [],
   "source": [
    "# Group the DataFrame by the 'headquater' column and count the occurrences of each stage\n",
    "hqamt_grp = combined_data.groupby('HeadQuarter')['Amount($)'].sum().reset_index()\n",
    "\n",
    "# # Sort the counts in descending order and select the top 10 values\n",
    "top_grp = hqamt_grp.sort_values(by = 'Amount($)', ascending = False).head(10)\n",
    "\n",
    "# # Create the vertical bar chart\n",
    "sns.barplot(data=top_grp, x='Amount($)', y='HeadQuarter',orient='h',)\n",
    "\n",
    "plt.ylabel(\"Location\")\n",
    "plt.xlabel(\"Amount($)\")\n",
    "plt.title(\"Top 10 Location With Most Start-up Investment\\n\")\n",
    "plt.show()"
   ]
  },
  {
   "cell_type": "markdown",
   "id": "41b38d92",
   "metadata": {},
   "source": [
    "The graph supports the notion that the location of the start up can  affect its funding. "
   ]
  },
  {
   "cell_type": "markdown",
   "id": "576d3c60",
   "metadata": {},
   "source": [
    "<br><p style=\"font-size:30px ; font-weight: bold ; font-family: 'Times New Roman'; color: #00008B\">Question 3. Which stage receives more investment from investors for start-ups?</p><br>"
   ]
  },
  {
   "cell_type": "markdown",
   "id": "f4511905",
   "metadata": {},
   "source": [
    "<p style=\"font-size:30px ; font-weight: bold ; font-family: 'Times New Roman'; color: #00008B\">Group the DataFrame by the 'Stage' column and count the occurrences of each stage</p><br>"
   ]
  },
  {
   "cell_type": "code",
   "execution_count": null,
   "id": "2b2848bd",
   "metadata": {},
   "outputs": [],
   "source": [
    "# Group the DataFrame by the 'Stage' column and count the occurrences of each stage\n",
    "stageamt_grp = combined_data.groupby('Stage')['Amount($)'].sum().reset_index()\n",
    "\n",
    "# # Sort the counts in descending order and select the top 10 values\n",
    "stageamt_grp = stageamt_grp.sort_values(by = 'Amount($)', ascending = False).head(10)\n",
    "\n",
    "\n",
    "figure = plt.figure(figsize = (10, 5))\n",
    "\n",
    "# Create a bar chart using seaborn\n",
    "sns.barplot(y='Stage', x='Amount($)', data=stageamt_grp)\n",
    "\n",
    "# Add labels and title\n",
    "plt.ylabel(\"Stage\")\n",
    "plt.xlabel(\"Amount($)\")\n",
    "plt.title(\"Top 10 Stages With Most Start-up Investment\")\n",
    "\n",
    "# Rotate y-labels by 30 degrees\n",
    "#ax.set_yticklabels(ax.get_yticklabels(), rotation=30)\n",
    "\n",
    "\n",
    "# set y ticks and labels\n",
    "plt.xticks(rotation = 0)\n",
    "\n",
    "# Show the plot\n",
    "plt.show()\n"
   ]
  },
  {
   "cell_type": "markdown",
   "id": "863d4d83",
   "metadata": {},
   "source": [
    "The seed stage has the highest start-up investment"
   ]
  },
  {
   "cell_type": "markdown",
   "id": "213aae4a",
   "metadata": {},
   "source": [
    "<br><p style=\"font-size:30px ; font-weight: bold ; font-family: 'Times New Roman'; color: #00008B\">Question 4. Who makes the biggest investments among investors?</p><br>"
   ]
  },
  {
   "cell_type": "code",
   "execution_count": null,
   "id": "5213c76e",
   "metadata": {},
   "outputs": [],
   "source": [
    "# Group the DataFrame by the 'investors' column and count the occurrences of each stage\n",
    "invamt_grp = combined_data.groupby('Investor')['Amount($)'].sum().reset_index()\n",
    "\n",
    "# # Sort the counts in descending order and select the top 10 values\n",
    "invamt_grp = invamt_grp.sort_values(by = 'Amount($)', ascending = False).head(10)\n",
    "\n",
    "\n",
    "figure = plt.figure(figsize = (10, 5))\n",
    "\n",
    "# Create a bar chart using seaborn\n",
    "sns.barplot(y='Investor', x='Amount($)', data=invamt_grp)\n",
    "\n",
    "# Add labels and title\n",
    "plt.ylabel(\"Investor\")\n",
    "plt.xlabel(\"Amount($)\")\n",
    "plt.title(\"Top 10 Investors with the Most Investment\")\n",
    "\n",
    "# Rotate y-labels by 30 degrees\n",
    "#ax.set_yticklabels(ax.get_yticklabels(), rotation=30)\n",
    "\n",
    "\n",
    "# set y ticks and labels\n",
    "plt.xticks(rotation = 0)\n",
    "\n",
    "# Show the plot\n",
    "plt.show()"
   ]
  },
  {
   "cell_type": "markdown",
   "id": "1e9f88d4",
   "metadata": {},
   "source": [
    "<br><p style=\"font-size:30px ; font-weight: bold ; font-family: 'Times New Roman'; color: #00008B\">Question 5. Can the startup's Year of founding affect the Amount of funding it receives from investors?</p><br>"
   ]
  },
  {
   "cell_type": "code",
   "execution_count": null,
   "id": "61fd54e8",
   "metadata": {},
   "outputs": [],
   "source": [
    "combined_data['Founded']=combined_data['Founded'].astype(str)\n",
    "combined_data['Founded']=combined_data.Founded.str.split('.').str[0]\n",
    "\n",
    "# Group the DataFrame by the 'investors' column and count the occurrences of each stage\n",
    "famt_grp = combined_data.groupby('Founded')['Amount($)'].sum().reset_index()\n",
    "\n",
    "# # Sort the counts in descending order and select the top 10 values\n",
    "famt_grp = famt_grp.sort_values(by = 'Amount($)', ascending = False).head(10)\n",
    "\n",
    "\n",
    "figure = plt.figure(figsize = (10, 5))\n",
    "\n",
    "# Create a bar chart using seaborn\n",
    "sns.lineplot(x='Founded', y='Amount($)', data=famt_grp)\n",
    "\n",
    "# Add labels and title\n",
    "plt.xlabel(\"Founded\")\n",
    "plt.ylabel(\"Amount($)\")\n",
    "plt.title(\"Top 10 Year Founded with the Most Investment\\n\")\n",
    "\n",
    "# Rotate y-labels by 30 degrees\n",
    "#ax.set_yticklabels(ax.get_yticklabels(), rotation=30)\n",
    "\n",
    "\n",
    "# set y ticks and labels\n",
    "plt.xticks(rotation = 0)\n",
    "\n",
    "# Show the plot\n",
    "plt.show()"
   ]
  },
  {
   "cell_type": "markdown",
   "id": "08ff8c7f",
   "metadata": {},
   "source": [
    "Year founded was on a sinificant rise in 2019 after years of fluctuating runs. However it to a sharp decline in 2019 and re sparked in 2020. Again 2021 missed out on the top 10 as it was on a heavy decline"
   ]
  },
  {
   "cell_type": "markdown",
   "id": "c032917d",
   "metadata": {},
   "source": [
    "<br><p style=\"font-size:30px ; font-weight: bold ; font-family: 'Times New Roman'; color: #00008B\">Hypothesis Testing</p><br>"
   ]
  },
  {
   "cell_type": "code",
   "execution_count": null,
   "id": "15e79f79",
   "metadata": {},
   "outputs": [],
   "source": [
    "# # Create a variable to hold the columns on which hypothesis is to be tested\n",
    "# hypothesis = pd.crosstab(combined_data['Founded'], combined_data['Amount($)'])\n",
    "\n",
    "combined_data['Founded']=combined_data['Founded'].astype(int)\n",
    "\n",
    "# # Perform the t test\n",
    "t,p=stats.ttest_ind(combined_data['Founded'],combined_data['Amount($)'])\n",
    "print(\"P-value:\", p)\n",
    "print(\"T-value:\", t)"
   ]
  },
  {
   "cell_type": "markdown",
   "id": "71f08b92",
   "metadata": {},
   "source": [
    "since the p-value  is less than the the significant value of 0.05, the null hypothesis is rejected."
   ]
  },
  {
   "cell_type": "code",
   "execution_count": null,
   "id": "71ffe843",
   "metadata": {},
   "outputs": [],
   "source": []
  },
  {
   "cell_type": "markdown",
   "id": "9a688c75",
   "metadata": {},
   "source": [
    "- The 2022 average INR/USD rate will be used to convert the Indian Rupee values to US Dollars in the 2018 DataFrame.\n",
    "- First values of industry and location in the 2018 data will be selected as the primary sector and headquarters respectively.\n",
    "- Amounts without currency symbols are assumed to be in USD ($)\n",
    "- Financial analysis will be narrowed to transactions whose amounts are available in the loaded data."
   ]
  },
  {
   "cell_type": "markdown",
   "id": "eca27898",
   "metadata": {},
   "source": []
  }
 ],
 "metadata": {
  "kernelspec": {
   "display_name": "Python 3 (ipykernel)",
   "language": "python",
   "name": "python3"
  },
  "language_info": {
   "codemirror_mode": {
    "name": "ipython",
    "version": 3
   },
   "file_extension": ".py",
   "mimetype": "text/x-python",
   "name": "python",
   "nbconvert_exporter": "python",
   "pygments_lexer": "ipython3",
   "version": "3.9.13"
  }
 },
 "nbformat": 4,
 "nbformat_minor": 5
}
